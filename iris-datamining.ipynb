{
 "cells": [
  {
   "cell_type": "markdown",
   "id": "fde3dcfa",
   "metadata": {
    "papermill": {
     "duration": 0.023496,
     "end_time": "2024-11-25T23:01:46.075168",
     "exception": false,
     "start_time": "2024-11-25T23:01:46.051672",
     "status": "completed"
    },
    "tags": []
   },
   "source": [
    "# 1. Know The Data"
   ]
  },
  {
   "cell_type": "code",
   "execution_count": 1,
   "id": "06a3ffc7",
   "metadata": {
    "execution": {
     "iopub.execute_input": "2024-11-25T23:01:46.118179Z",
     "iopub.status.busy": "2024-11-25T23:01:46.117775Z",
     "iopub.status.idle": "2024-11-25T23:01:47.079409Z",
     "shell.execute_reply": "2024-11-25T23:01:47.078243Z"
    },
    "papermill": {
     "duration": 0.986219,
     "end_time": "2024-11-25T23:01:47.081737",
     "exception": false,
     "start_time": "2024-11-25T23:01:46.095518",
     "status": "completed"
    },
    "tags": []
   },
   "outputs": [
    {
     "name": "stdout",
     "output_type": "stream",
     "text": [
      "/kaggle/input/iris/Iris.csv\n",
      "/kaggle/input/iris/database.sqlite\n"
     ]
    }
   ],
   "source": [
    "\n",
    "import numpy as np # linear algebra\n",
    "import pandas as pd # data processing, CSV file I/O (e.g. pd.read_csv)\n",
    "\n",
    "# Input data files are available in the read-only \"../input/\" directory\n",
    "# For example, running this (by clicking run or pressing Shift+Enter) will list all files under the input directory\n",
    "\n",
    "import os\n",
    "for dirname, _, filenames in os.walk('/kaggle/input'):\n",
    "    for filename in filenames:\n",
    "        print(os.path.join(dirname, filename))"
   ]
  },
  {
   "cell_type": "markdown",
   "id": "b8f9d370",
   "metadata": {
    "papermill": {
     "duration": 0.019825,
     "end_time": "2024-11-25T23:01:47.121906",
     "exception": false,
     "start_time": "2024-11-25T23:01:47.102081",
     "status": "completed"
    },
    "tags": []
   },
   "source": [
    "## Import Libraries"
   ]
  },
  {
   "cell_type": "code",
   "execution_count": 2,
   "id": "66a5b7ff",
   "metadata": {
    "execution": {
     "iopub.execute_input": "2024-11-25T23:01:47.164055Z",
     "iopub.status.busy": "2024-11-25T23:01:47.163447Z",
     "iopub.status.idle": "2024-11-25T23:01:49.773377Z",
     "shell.execute_reply": "2024-11-25T23:01:49.772412Z"
    },
    "papermill": {
     "duration": 2.63378,
     "end_time": "2024-11-25T23:01:49.775873",
     "exception": false,
     "start_time": "2024-11-25T23:01:47.142093",
     "status": "completed"
    },
    "tags": []
   },
   "outputs": [],
   "source": [
    "import numpy as np\n",
    "\n",
    "import pandas as pd\n",
    "\n",
    "\n",
    "\n",
    "import matplotlib.pyplot as plt\n",
    "\n",
    "import seaborn as sns\n",
    "\n",
    "\n",
    "\n",
    "from sklearn.metrics import confusion_matrix, accuracy_score, precision_score, recall_score, f1_score, classification_report\n",
    "\n",
    "\n",
    "\n",
    "from sklearn.preprocessing import LabelEncoder\n",
    "\n",
    "\n",
    "\n",
    "# Import model selection libraries\n",
    "\n",
    "from sklearn.model_selection import train_test_split, GridSearchCV, RandomizedSearchCV, RepeatedStratifiedKFold\n",
    "\n",
    "\n",
    "\n",
    "# Library used for ML Model implementation\n",
    "\n",
    "from sklearn.linear_model import LogisticRegression\n",
    "\n",
    "from sklearn.tree import DecisionTreeClassifier\n",
    "\n",
    "from sklearn.ensemble import RandomForestClassifier\n",
    "\n",
    "from sklearn.svm import SVC\n",
    "\n",
    "from sklearn.neural_network import MLPClassifier\n",
    "\n",
    "from sklearn.naive_bayes import GaussianNB\n",
    "\n",
    "import xgboost as xgb\n",
    "\n",
    "\n",
    "\n",
    "# Library used for ignore warnings\n",
    "\n",
    "import warnings\n",
    "\n",
    "warnings.filterwarnings('ignore')\n",
    "\n",
    "%matplotlib inline"
   ]
  },
  {
   "cell_type": "markdown",
   "id": "5e6c8510",
   "metadata": {
    "papermill": {
     "duration": 0.019821,
     "end_time": "2024-11-25T23:01:49.816022",
     "exception": false,
     "start_time": "2024-11-25T23:01:49.796201",
     "status": "completed"
    },
    "tags": []
   },
   "source": [
    "## Dataset Loading"
   ]
  },
  {
   "cell_type": "code",
   "execution_count": 3,
   "id": "15e6cee0",
   "metadata": {
    "execution": {
     "iopub.execute_input": "2024-11-25T23:01:49.858542Z",
     "iopub.status.busy": "2024-11-25T23:01:49.857292Z",
     "iopub.status.idle": "2024-11-25T23:01:49.877653Z",
     "shell.execute_reply": "2024-11-25T23:01:49.876566Z"
    },
    "papermill": {
     "duration": 0.043846,
     "end_time": "2024-11-25T23:01:49.880052",
     "exception": false,
     "start_time": "2024-11-25T23:01:49.836206",
     "status": "completed"
    },
    "tags": []
   },
   "outputs": [],
   "source": [
    "df = pd.read_csv('/kaggle/input/iris/Iris.csv')"
   ]
  },
  {
   "cell_type": "markdown",
   "id": "2a3fd558",
   "metadata": {
    "papermill": {
     "duration": 0.019789,
     "end_time": "2024-11-25T23:01:49.920549",
     "exception": false,
     "start_time": "2024-11-25T23:01:49.900760",
     "status": "completed"
    },
    "tags": []
   },
   "source": [
    "## Data First View"
   ]
  },
  {
   "cell_type": "code",
   "execution_count": 4,
   "id": "b1f1db7b",
   "metadata": {
    "execution": {
     "iopub.execute_input": "2024-11-25T23:01:49.963468Z",
     "iopub.status.busy": "2024-11-25T23:01:49.963041Z",
     "iopub.status.idle": "2024-11-25T23:01:49.988230Z",
     "shell.execute_reply": "2024-11-25T23:01:49.987151Z"
    },
    "papermill": {
     "duration": 0.05017,
     "end_time": "2024-11-25T23:01:49.990621",
     "exception": false,
     "start_time": "2024-11-25T23:01:49.940451",
     "status": "completed"
    },
    "tags": []
   },
   "outputs": [
    {
     "data": {
      "text/html": [
       "<div>\n",
       "<style scoped>\n",
       "    .dataframe tbody tr th:only-of-type {\n",
       "        vertical-align: middle;\n",
       "    }\n",
       "\n",
       "    .dataframe tbody tr th {\n",
       "        vertical-align: top;\n",
       "    }\n",
       "\n",
       "    .dataframe thead th {\n",
       "        text-align: right;\n",
       "    }\n",
       "</style>\n",
       "<table border=\"1\" class=\"dataframe\">\n",
       "  <thead>\n",
       "    <tr style=\"text-align: right;\">\n",
       "      <th></th>\n",
       "      <th>Id</th>\n",
       "      <th>SepalLengthCm</th>\n",
       "      <th>SepalWidthCm</th>\n",
       "      <th>PetalLengthCm</th>\n",
       "      <th>PetalWidthCm</th>\n",
       "      <th>Species</th>\n",
       "    </tr>\n",
       "  </thead>\n",
       "  <tbody>\n",
       "    <tr>\n",
       "      <th>0</th>\n",
       "      <td>1</td>\n",
       "      <td>5.1</td>\n",
       "      <td>3.5</td>\n",
       "      <td>1.4</td>\n",
       "      <td>0.2</td>\n",
       "      <td>Iris-setosa</td>\n",
       "    </tr>\n",
       "    <tr>\n",
       "      <th>1</th>\n",
       "      <td>2</td>\n",
       "      <td>4.9</td>\n",
       "      <td>3.0</td>\n",
       "      <td>1.4</td>\n",
       "      <td>0.2</td>\n",
       "      <td>Iris-setosa</td>\n",
       "    </tr>\n",
       "    <tr>\n",
       "      <th>2</th>\n",
       "      <td>3</td>\n",
       "      <td>4.7</td>\n",
       "      <td>3.2</td>\n",
       "      <td>1.3</td>\n",
       "      <td>0.2</td>\n",
       "      <td>Iris-setosa</td>\n",
       "    </tr>\n",
       "    <tr>\n",
       "      <th>3</th>\n",
       "      <td>4</td>\n",
       "      <td>4.6</td>\n",
       "      <td>3.1</td>\n",
       "      <td>1.5</td>\n",
       "      <td>0.2</td>\n",
       "      <td>Iris-setosa</td>\n",
       "    </tr>\n",
       "    <tr>\n",
       "      <th>4</th>\n",
       "      <td>5</td>\n",
       "      <td>5.0</td>\n",
       "      <td>3.6</td>\n",
       "      <td>1.4</td>\n",
       "      <td>0.2</td>\n",
       "      <td>Iris-setosa</td>\n",
       "    </tr>\n",
       "  </tbody>\n",
       "</table>\n",
       "</div>"
      ],
      "text/plain": [
       "   Id  SepalLengthCm  SepalWidthCm  PetalLengthCm  PetalWidthCm      Species\n",
       "0   1            5.1           3.5            1.4           0.2  Iris-setosa\n",
       "1   2            4.9           3.0            1.4           0.2  Iris-setosa\n",
       "2   3            4.7           3.2            1.3           0.2  Iris-setosa\n",
       "3   4            4.6           3.1            1.5           0.2  Iris-setosa\n",
       "4   5            5.0           3.6            1.4           0.2  Iris-setosa"
      ]
     },
     "execution_count": 4,
     "metadata": {},
     "output_type": "execute_result"
    }
   ],
   "source": [
    "# Dataset First Look\n",
    "\n",
    "# View top 5 rews of the dataset\n",
    "\n",
    "df.head()"
   ]
  },
  {
   "cell_type": "markdown",
   "id": "3baedc4a",
   "metadata": {
    "papermill": {
     "duration": 0.020229,
     "end_time": "2024-11-25T23:01:50.034494",
     "exception": false,
     "start_time": "2024-11-25T23:01:50.014265",
     "status": "completed"
    },
    "tags": []
   },
   "source": [
    "## Dataset Row & Columns count"
   ]
  },
  {
   "cell_type": "code",
   "execution_count": 5,
   "id": "cf5b25e2",
   "metadata": {
    "execution": {
     "iopub.execute_input": "2024-11-25T23:01:50.077825Z",
     "iopub.status.busy": "2024-11-25T23:01:50.077466Z",
     "iopub.status.idle": "2024-11-25T23:01:50.083166Z",
     "shell.execute_reply": "2024-11-25T23:01:50.081872Z"
    },
    "papermill": {
     "duration": 0.03094,
     "end_time": "2024-11-25T23:01:50.085790",
     "exception": false,
     "start_time": "2024-11-25T23:01:50.054850",
     "status": "completed"
    },
    "tags": []
   },
   "outputs": [
    {
     "name": "stdout",
     "output_type": "stream",
     "text": [
      "Number of rows are:  150\n",
      "Number of columns are:  6\n"
     ]
    }
   ],
   "source": [
    "print(\"Number of rows are: \", df.shape[0])\n",
    "\n",
    "print(\"Number of columns are: \", df.shape[1])"
   ]
  },
  {
   "cell_type": "markdown",
   "id": "f12fd653",
   "metadata": {
    "papermill": {
     "duration": 0.020485,
     "end_time": "2024-11-25T23:01:50.127327",
     "exception": false,
     "start_time": "2024-11-25T23:01:50.106842",
     "status": "completed"
    },
    "tags": []
   },
   "source": [
    "## Dataset Infnormation"
   ]
  },
  {
   "cell_type": "code",
   "execution_count": 6,
   "id": "175fa681",
   "metadata": {
    "execution": {
     "iopub.execute_input": "2024-11-25T23:01:50.169851Z",
     "iopub.status.busy": "2024-11-25T23:01:50.169500Z",
     "iopub.status.idle": "2024-11-25T23:01:50.198506Z",
     "shell.execute_reply": "2024-11-25T23:01:50.197343Z"
    },
    "papermill": {
     "duration": 0.053479,
     "end_time": "2024-11-25T23:01:50.201247",
     "exception": false,
     "start_time": "2024-11-25T23:01:50.147768",
     "status": "completed"
    },
    "tags": []
   },
   "outputs": [
    {
     "name": "stdout",
     "output_type": "stream",
     "text": [
      "<class 'pandas.core.frame.DataFrame'>\n",
      "RangeIndex: 150 entries, 0 to 149\n",
      "Data columns (total 6 columns):\n",
      " #   Column         Non-Null Count  Dtype  \n",
      "---  ------         --------------  -----  \n",
      " 0   Id             150 non-null    int64  \n",
      " 1   SepalLengthCm  150 non-null    float64\n",
      " 2   SepalWidthCm   150 non-null    float64\n",
      " 3   PetalLengthCm  150 non-null    float64\n",
      " 4   PetalWidthCm   150 non-null    float64\n",
      " 5   Species        150 non-null    object \n",
      "dtypes: float64(4), int64(1), object(1)\n",
      "memory usage: 7.2+ KB\n"
     ]
    }
   ],
   "source": [
    "df.info()"
   ]
  },
  {
   "cell_type": "markdown",
   "id": "17cd8f95",
   "metadata": {
    "papermill": {
     "duration": 0.020361,
     "end_time": "2024-11-25T23:01:50.242294",
     "exception": false,
     "start_time": "2024-11-25T23:01:50.221933",
     "status": "completed"
    },
    "tags": []
   },
   "source": [
    "## Duplicate Values"
   ]
  },
  {
   "cell_type": "code",
   "execution_count": 7,
   "id": "627220ec",
   "metadata": {
    "execution": {
     "iopub.execute_input": "2024-11-25T23:01:50.284759Z",
     "iopub.status.busy": "2024-11-25T23:01:50.284385Z",
     "iopub.status.idle": "2024-11-25T23:01:50.291845Z",
     "shell.execute_reply": "2024-11-25T23:01:50.290547Z"
    },
    "papermill": {
     "duration": 0.03122,
     "end_time": "2024-11-25T23:01:50.293983",
     "exception": false,
     "start_time": "2024-11-25T23:01:50.262763",
     "status": "completed"
    },
    "tags": []
   },
   "outputs": [
    {
     "name": "stdout",
     "output_type": "stream",
     "text": [
      "number of duplicated rows are 0\n"
     ]
    }
   ],
   "source": [
    "dup = df.duplicated().sum()\n",
    "\n",
    "print(f'number of duplicated rows are {dup}')"
   ]
  },
  {
   "cell_type": "markdown",
   "id": "ba703576",
   "metadata": {
    "papermill": {
     "duration": 0.020127,
     "end_time": "2024-11-25T23:01:50.334711",
     "exception": false,
     "start_time": "2024-11-25T23:01:50.314584",
     "status": "completed"
    },
    "tags": []
   },
   "source": [
    "## Missing Values/Null Values"
   ]
  },
  {
   "cell_type": "code",
   "execution_count": 8,
   "id": "05b1d014",
   "metadata": {
    "execution": {
     "iopub.execute_input": "2024-11-25T23:01:50.376899Z",
     "iopub.status.busy": "2024-11-25T23:01:50.376529Z",
     "iopub.status.idle": "2024-11-25T23:01:50.385786Z",
     "shell.execute_reply": "2024-11-25T23:01:50.384391Z"
    },
    "papermill": {
     "duration": 0.033094,
     "end_time": "2024-11-25T23:01:50.388082",
     "exception": false,
     "start_time": "2024-11-25T23:01:50.354988",
     "status": "completed"
    },
    "tags": []
   },
   "outputs": [
    {
     "data": {
      "text/plain": [
       "Id               0\n",
       "SepalLengthCm    0\n",
       "SepalWidthCm     0\n",
       "PetalLengthCm    0\n",
       "PetalWidthCm     0\n",
       "Species          0\n",
       "dtype: int64"
      ]
     },
     "execution_count": 8,
     "metadata": {},
     "output_type": "execute_result"
    }
   ],
   "source": [
    "df.isnull().sum()"
   ]
  },
  {
   "cell_type": "markdown",
   "id": "2e2ee36e",
   "metadata": {
    "papermill": {
     "duration": 0.020615,
     "end_time": "2024-11-25T23:01:50.429427",
     "exception": false,
     "start_time": "2024-11-25T23:01:50.408812",
     "status": "completed"
    },
    "tags": []
   },
   "source": [
    "## What did i know about the dataset?"
   ]
  },
  {
   "cell_type": "markdown",
   "id": "9b28748b",
   "metadata": {
    "papermill": {
     "duration": 0.021141,
     "end_time": "2024-11-25T23:01:50.470962",
     "exception": false,
     "start_time": "2024-11-25T23:01:50.449821",
     "status": "completed"
    },
    "tags": []
   },
   "source": [
    "# 2. Understanding The Variables"
   ]
  },
  {
   "cell_type": "code",
   "execution_count": 9,
   "id": "059c19dc",
   "metadata": {
    "execution": {
     "iopub.execute_input": "2024-11-25T23:01:50.514544Z",
     "iopub.status.busy": "2024-11-25T23:01:50.514155Z",
     "iopub.status.idle": "2024-11-25T23:01:50.521688Z",
     "shell.execute_reply": "2024-11-25T23:01:50.520589Z"
    },
    "papermill": {
     "duration": 0.031953,
     "end_time": "2024-11-25T23:01:50.523791",
     "exception": false,
     "start_time": "2024-11-25T23:01:50.491838",
     "status": "completed"
    },
    "tags": []
   },
   "outputs": [
    {
     "data": {
      "text/plain": [
       "Index(['Id', 'SepalLengthCm', 'SepalWidthCm', 'PetalLengthCm', 'PetalWidthCm',\n",
       "       'Species'],\n",
       "      dtype='object')"
      ]
     },
     "execution_count": 9,
     "metadata": {},
     "output_type": "execute_result"
    }
   ],
   "source": [
    "df.columns"
   ]
  },
  {
   "cell_type": "code",
   "execution_count": 10,
   "id": "37c59c77",
   "metadata": {
    "execution": {
     "iopub.execute_input": "2024-11-25T23:01:50.567073Z",
     "iopub.status.busy": "2024-11-25T23:01:50.566713Z",
     "iopub.status.idle": "2024-11-25T23:01:50.599508Z",
     "shell.execute_reply": "2024-11-25T23:01:50.598269Z"
    },
    "papermill": {
     "duration": 0.057295,
     "end_time": "2024-11-25T23:01:50.601931",
     "exception": false,
     "start_time": "2024-11-25T23:01:50.544636",
     "status": "completed"
    },
    "tags": []
   },
   "outputs": [
    {
     "data": {
      "text/html": [
       "<div>\n",
       "<style scoped>\n",
       "    .dataframe tbody tr th:only-of-type {\n",
       "        vertical-align: middle;\n",
       "    }\n",
       "\n",
       "    .dataframe tbody tr th {\n",
       "        vertical-align: top;\n",
       "    }\n",
       "\n",
       "    .dataframe thead th {\n",
       "        text-align: right;\n",
       "    }\n",
       "</style>\n",
       "<table border=\"1\" class=\"dataframe\">\n",
       "  <thead>\n",
       "    <tr style=\"text-align: right;\">\n",
       "      <th></th>\n",
       "      <th>Id</th>\n",
       "      <th>SepalLengthCm</th>\n",
       "      <th>SepalWidthCm</th>\n",
       "      <th>PetalLengthCm</th>\n",
       "      <th>PetalWidthCm</th>\n",
       "      <th>Species</th>\n",
       "    </tr>\n",
       "  </thead>\n",
       "  <tbody>\n",
       "    <tr>\n",
       "      <th>count</th>\n",
       "      <td>150.00</td>\n",
       "      <td>150.00</td>\n",
       "      <td>150.00</td>\n",
       "      <td>150.00</td>\n",
       "      <td>150.00</td>\n",
       "      <td>150</td>\n",
       "    </tr>\n",
       "    <tr>\n",
       "      <th>unique</th>\n",
       "      <td>NaN</td>\n",
       "      <td>NaN</td>\n",
       "      <td>NaN</td>\n",
       "      <td>NaN</td>\n",
       "      <td>NaN</td>\n",
       "      <td>3</td>\n",
       "    </tr>\n",
       "    <tr>\n",
       "      <th>top</th>\n",
       "      <td>NaN</td>\n",
       "      <td>NaN</td>\n",
       "      <td>NaN</td>\n",
       "      <td>NaN</td>\n",
       "      <td>NaN</td>\n",
       "      <td>Iris-setosa</td>\n",
       "    </tr>\n",
       "    <tr>\n",
       "      <th>freq</th>\n",
       "      <td>NaN</td>\n",
       "      <td>NaN</td>\n",
       "      <td>NaN</td>\n",
       "      <td>NaN</td>\n",
       "      <td>NaN</td>\n",
       "      <td>50</td>\n",
       "    </tr>\n",
       "    <tr>\n",
       "      <th>mean</th>\n",
       "      <td>75.50</td>\n",
       "      <td>5.84</td>\n",
       "      <td>3.05</td>\n",
       "      <td>3.76</td>\n",
       "      <td>1.20</td>\n",
       "      <td>NaN</td>\n",
       "    </tr>\n",
       "    <tr>\n",
       "      <th>std</th>\n",
       "      <td>43.45</td>\n",
       "      <td>0.83</td>\n",
       "      <td>0.43</td>\n",
       "      <td>1.76</td>\n",
       "      <td>0.76</td>\n",
       "      <td>NaN</td>\n",
       "    </tr>\n",
       "    <tr>\n",
       "      <th>min</th>\n",
       "      <td>1.00</td>\n",
       "      <td>4.30</td>\n",
       "      <td>2.00</td>\n",
       "      <td>1.00</td>\n",
       "      <td>0.10</td>\n",
       "      <td>NaN</td>\n",
       "    </tr>\n",
       "    <tr>\n",
       "      <th>25%</th>\n",
       "      <td>38.25</td>\n",
       "      <td>5.10</td>\n",
       "      <td>2.80</td>\n",
       "      <td>1.60</td>\n",
       "      <td>0.30</td>\n",
       "      <td>NaN</td>\n",
       "    </tr>\n",
       "    <tr>\n",
       "      <th>50%</th>\n",
       "      <td>75.50</td>\n",
       "      <td>5.80</td>\n",
       "      <td>3.00</td>\n",
       "      <td>4.35</td>\n",
       "      <td>1.30</td>\n",
       "      <td>NaN</td>\n",
       "    </tr>\n",
       "    <tr>\n",
       "      <th>75%</th>\n",
       "      <td>112.75</td>\n",
       "      <td>6.40</td>\n",
       "      <td>3.30</td>\n",
       "      <td>5.10</td>\n",
       "      <td>1.80</td>\n",
       "      <td>NaN</td>\n",
       "    </tr>\n",
       "    <tr>\n",
       "      <th>max</th>\n",
       "      <td>150.00</td>\n",
       "      <td>7.90</td>\n",
       "      <td>4.40</td>\n",
       "      <td>6.90</td>\n",
       "      <td>2.50</td>\n",
       "      <td>NaN</td>\n",
       "    </tr>\n",
       "  </tbody>\n",
       "</table>\n",
       "</div>"
      ],
      "text/plain": [
       "            Id  SepalLengthCm  SepalWidthCm  PetalLengthCm  PetalWidthCm  \\\n",
       "count   150.00         150.00        150.00         150.00        150.00   \n",
       "unique     NaN            NaN           NaN            NaN           NaN   \n",
       "top        NaN            NaN           NaN            NaN           NaN   \n",
       "freq       NaN            NaN           NaN            NaN           NaN   \n",
       "mean     75.50           5.84          3.05           3.76          1.20   \n",
       "std      43.45           0.83          0.43           1.76          0.76   \n",
       "min       1.00           4.30          2.00           1.00          0.10   \n",
       "25%      38.25           5.10          2.80           1.60          0.30   \n",
       "50%      75.50           5.80          3.00           4.35          1.30   \n",
       "75%     112.75           6.40          3.30           5.10          1.80   \n",
       "max     150.00           7.90          4.40           6.90          2.50   \n",
       "\n",
       "            Species  \n",
       "count           150  \n",
       "unique            3  \n",
       "top     Iris-setosa  \n",
       "freq             50  \n",
       "mean            NaN  \n",
       "std             NaN  \n",
       "min             NaN  \n",
       "25%             NaN  \n",
       "50%             NaN  \n",
       "75%             NaN  \n",
       "max             NaN  "
      ]
     },
     "execution_count": 10,
     "metadata": {},
     "output_type": "execute_result"
    }
   ],
   "source": [
    "df.describe(include= 'all').round(2)"
   ]
  },
  {
   "cell_type": "markdown",
   "id": "584d73ac",
   "metadata": {
    "papermill": {
     "duration": 0.021635,
     "end_time": "2024-11-25T23:01:50.699074",
     "exception": false,
     "start_time": "2024-11-25T23:01:50.677439",
     "status": "completed"
    },
    "tags": []
   },
   "source": [
    "## Check Unique Values for each variable."
   ]
  },
  {
   "cell_type": "code",
   "execution_count": 11,
   "id": "61b40d1b",
   "metadata": {
    "execution": {
     "iopub.execute_input": "2024-11-25T23:01:50.743208Z",
     "iopub.status.busy": "2024-11-25T23:01:50.742808Z",
     "iopub.status.idle": "2024-11-25T23:01:50.749270Z",
     "shell.execute_reply": "2024-11-25T23:01:50.748280Z"
    },
    "papermill": {
     "duration": 0.032308,
     "end_time": "2024-11-25T23:01:50.752602",
     "exception": false,
     "start_time": "2024-11-25T23:01:50.720294",
     "status": "completed"
    },
    "tags": []
   },
   "outputs": [
    {
     "name": "stdout",
     "output_type": "stream",
     "text": [
      "No. of unique values in  Id is  150\n",
      "No. of unique values in  SepalLengthCm is  35\n",
      "No. of unique values in  SepalWidthCm is  23\n",
      "No. of unique values in  PetalLengthCm is  43\n",
      "No. of unique values in  PetalWidthCm is  22\n",
      "No. of unique values in  Species is  3\n"
     ]
    }
   ],
   "source": [
    "for i in df.columns.tolist():\n",
    "\n",
    "    print(\"No. of unique values in \", i, \"is \", df[i].nunique())"
   ]
  },
  {
   "cell_type": "markdown",
   "id": "984f29af",
   "metadata": {
    "papermill": {
     "duration": 0.021134,
     "end_time": "2024-11-25T23:01:50.796148",
     "exception": false,
     "start_time": "2024-11-25T23:01:50.775014",
     "status": "completed"
    },
    "tags": []
   },
   "source": [
    "# 3. Data Wrangling"
   ]
  },
  {
   "cell_type": "markdown",
   "id": "89184bd7",
   "metadata": {
    "papermill": {
     "duration": 0.021609,
     "end_time": "2024-11-25T23:01:50.839179",
     "exception": false,
     "start_time": "2024-11-25T23:01:50.817570",
     "status": "completed"
    },
    "tags": []
   },
   "source": [
    "## Data Wrangling Code"
   ]
  },
  {
   "cell_type": "code",
   "execution_count": 12,
   "id": "399c2f84",
   "metadata": {
    "execution": {
     "iopub.execute_input": "2024-11-25T23:01:50.884222Z",
     "iopub.status.busy": "2024-11-25T23:01:50.883825Z",
     "iopub.status.idle": "2024-11-25T23:01:50.890494Z",
     "shell.execute_reply": "2024-11-25T23:01:50.889405Z"
    },
    "papermill": {
     "duration": 0.031812,
     "end_time": "2024-11-25T23:01:50.892744",
     "exception": false,
     "start_time": "2024-11-25T23:01:50.860932",
     "status": "completed"
    },
    "tags": []
   },
   "outputs": [],
   "source": [
    "data = df.iloc[:, 1:]"
   ]
  },
  {
   "cell_type": "code",
   "execution_count": 13,
   "id": "c5392143",
   "metadata": {
    "execution": {
     "iopub.execute_input": "2024-11-25T23:01:50.937767Z",
     "iopub.status.busy": "2024-11-25T23:01:50.937398Z",
     "iopub.status.idle": "2024-11-25T23:01:50.951360Z",
     "shell.execute_reply": "2024-11-25T23:01:50.950080Z"
    },
    "papermill": {
     "duration": 0.039235,
     "end_time": "2024-11-25T23:01:50.953512",
     "exception": false,
     "start_time": "2024-11-25T23:01:50.914277",
     "status": "completed"
    },
    "tags": []
   },
   "outputs": [
    {
     "data": {
      "text/html": [
       "<div>\n",
       "<style scoped>\n",
       "    .dataframe tbody tr th:only-of-type {\n",
       "        vertical-align: middle;\n",
       "    }\n",
       "\n",
       "    .dataframe tbody tr th {\n",
       "        vertical-align: top;\n",
       "    }\n",
       "\n",
       "    .dataframe thead th {\n",
       "        text-align: right;\n",
       "    }\n",
       "</style>\n",
       "<table border=\"1\" class=\"dataframe\">\n",
       "  <thead>\n",
       "    <tr style=\"text-align: right;\">\n",
       "      <th></th>\n",
       "      <th>SepalLengthCm</th>\n",
       "      <th>SepalWidthCm</th>\n",
       "      <th>PetalLengthCm</th>\n",
       "      <th>PetalWidthCm</th>\n",
       "      <th>Species</th>\n",
       "    </tr>\n",
       "  </thead>\n",
       "  <tbody>\n",
       "    <tr>\n",
       "      <th>0</th>\n",
       "      <td>5.1</td>\n",
       "      <td>3.5</td>\n",
       "      <td>1.4</td>\n",
       "      <td>0.2</td>\n",
       "      <td>Iris-setosa</td>\n",
       "    </tr>\n",
       "    <tr>\n",
       "      <th>1</th>\n",
       "      <td>4.9</td>\n",
       "      <td>3.0</td>\n",
       "      <td>1.4</td>\n",
       "      <td>0.2</td>\n",
       "      <td>Iris-setosa</td>\n",
       "    </tr>\n",
       "    <tr>\n",
       "      <th>2</th>\n",
       "      <td>4.7</td>\n",
       "      <td>3.2</td>\n",
       "      <td>1.3</td>\n",
       "      <td>0.2</td>\n",
       "      <td>Iris-setosa</td>\n",
       "    </tr>\n",
       "    <tr>\n",
       "      <th>3</th>\n",
       "      <td>4.6</td>\n",
       "      <td>3.1</td>\n",
       "      <td>1.5</td>\n",
       "      <td>0.2</td>\n",
       "      <td>Iris-setosa</td>\n",
       "    </tr>\n",
       "    <tr>\n",
       "      <th>4</th>\n",
       "      <td>5.0</td>\n",
       "      <td>3.6</td>\n",
       "      <td>1.4</td>\n",
       "      <td>0.2</td>\n",
       "      <td>Iris-setosa</td>\n",
       "    </tr>\n",
       "  </tbody>\n",
       "</table>\n",
       "</div>"
      ],
      "text/plain": [
       "   SepalLengthCm  SepalWidthCm  PetalLengthCm  PetalWidthCm      Species\n",
       "0            5.1           3.5            1.4           0.2  Iris-setosa\n",
       "1            4.9           3.0            1.4           0.2  Iris-setosa\n",
       "2            4.7           3.2            1.3           0.2  Iris-setosa\n",
       "3            4.6           3.1            1.5           0.2  Iris-setosa\n",
       "4            5.0           3.6            1.4           0.2  Iris-setosa"
      ]
     },
     "execution_count": 13,
     "metadata": {},
     "output_type": "execute_result"
    }
   ],
   "source": [
    "data.head()"
   ]
  },
  {
   "cell_type": "markdown",
   "id": "6b43a8f7",
   "metadata": {
    "papermill": {
     "duration": 0.021528,
     "end_time": "2024-11-25T23:01:50.997057",
     "exception": false,
     "start_time": "2024-11-25T23:01:50.975529",
     "status": "completed"
    },
    "tags": []
   },
   "source": [
    "# 4. Data Vizualization, Storytelling & Experimenting with charts : Understand the relationships between variables"
   ]
  },
  {
   "cell_type": "markdown",
   "id": "82fd867c",
   "metadata": {
    "papermill": {
     "duration": 0.021096,
     "end_time": "2024-11-25T23:01:51.042179",
     "exception": false,
     "start_time": "2024-11-25T23:01:51.021083",
     "status": "completed"
    },
    "tags": []
   },
   "source": [
    "Chart - 1 : Distribution of Numerical Variables"
   ]
  },
  {
   "cell_type": "code",
   "execution_count": 14,
   "id": "171bbc32",
   "metadata": {
    "execution": {
     "iopub.execute_input": "2024-11-25T23:01:51.086228Z",
     "iopub.status.busy": "2024-11-25T23:01:51.085865Z",
     "iopub.status.idle": "2024-11-25T23:01:51.983025Z",
     "shell.execute_reply": "2024-11-25T23:01:51.981838Z"
    },
    "papermill": {
     "duration": 0.922292,
     "end_time": "2024-11-25T23:01:51.985409",
     "exception": false,
     "start_time": "2024-11-25T23:01:51.063117",
     "status": "completed"
    },
    "tags": []
   },
   "outputs": [
    {
     "data": {
      "image/png": "[encoded data removed]",
      "text/plain": [
       "<Figure size 800x600 with 4 Axes>"
      ]
     },
     "metadata": {},
     "output_type": "display_data"
    }
   ],
   "source": [
    "plt.figure(figsize=(8, 6))\n",
    "\n",
    "plt.suptitle('Distrbution of Iris Flower Measurements', fontsize = 14)\n",
    "\n",
    "\n",
    "\n",
    "plt.subplot(2,2,1)\n",
    "\n",
    "plt.hist(data['SepalLengthCm'])\n",
    "\n",
    "plt.title('Sepal length Distribution')\n",
    "\n",
    "\n",
    "\n",
    "plt.subplot(2,2,2)\n",
    "\n",
    "plt.hist(data['SepalWidthCm'])\n",
    "\n",
    "plt.title('Sepal width Distribution')\n",
    "\n",
    "\n",
    "\n",
    "plt.subplot(2,2,3)\n",
    "\n",
    "plt.hist(data['PetalLengthCm'])\n",
    "\n",
    "plt.title('Patal length Distribution')\n",
    "\n",
    "\n",
    "\n",
    "plt.subplot(2,2,4)\n",
    "\n",
    "plt.hist(data['PetalWidthCm'])\n",
    "\n",
    "plt.title('Patal width Distribution')\n",
    "\n",
    "\n",
    "\n",
    "plt.tight_layout()\n",
    "\n",
    "plt.show()"
   ]
  },
  {
   "cell_type": "markdown",
   "id": "65f9438e",
   "metadata": {
    "papermill": {
     "duration": 0.021674,
     "end_time": "2024-11-25T23:01:52.032865",
     "exception": false,
     "start_time": "2024-11-25T23:01:52.011191",
     "status": "completed"
    },
    "tags": []
   },
   "source": [
    "Chart - 2: Sepal Length vs epal Width"
   ]
  },
  {
   "cell_type": "code",
   "execution_count": 15,
   "id": "6fcfb3e6",
   "metadata": {
    "execution": {
     "iopub.execute_input": "2024-11-25T23:01:52.079504Z",
     "iopub.status.busy": "2024-11-25T23:01:52.079072Z",
     "iopub.status.idle": "2024-11-25T23:01:52.084336Z",
     "shell.execute_reply": "2024-11-25T23:01:52.083238Z"
    },
    "papermill": {
     "duration": 0.031281,
     "end_time": "2024-11-25T23:01:52.086557",
     "exception": false,
     "start_time": "2024-11-25T23:01:52.055276",
     "status": "completed"
    },
    "tags": []
   },
   "outputs": [],
   "source": [
    "colors = ['red', 'yellow', 'green']\n",
    "\n",
    "species = ['Iris-setosa', 'Iris-versicolor', 'Iris-virginica']"
   ]
  },
  {
   "cell_type": "code",
   "execution_count": 16,
   "id": "72129590",
   "metadata": {
    "execution": {
     "iopub.execute_input": "2024-11-25T23:01:52.132194Z",
     "iopub.status.busy": "2024-11-25T23:01:52.131804Z",
     "iopub.status.idle": "2024-11-25T23:01:52.398320Z",
     "shell.execute_reply": "2024-11-25T23:01:52.397204Z"
    },
    "papermill": {
     "duration": 0.29202,
     "end_time": "2024-11-25T23:01:52.400674",
     "exception": false,
     "start_time": "2024-11-25T23:01:52.108654",
     "status": "completed"
    },
    "tags": []
   },
   "outputs": [
    {
     "data": {
      "image/png": "[encoded data removed]",
      "text/plain": [
       "<Figure size 640x480 with 1 Axes>"
      ]
     },
     "metadata": {},
     "output_type": "display_data"
    }
   ],
   "source": [
    "# Chart - 2 Scatter plot visualization code for Sepal Length vs Sepal Width.\n",
    "\n",
    "# Create a scatter plot for Sepal Length vs Sepal Width for each species.\n",
    "\n",
    "for i in range(3):\n",
    "\n",
    "    # Select data for the current species.\n",
    "\n",
    "    x = data[data['Species'] == species[i]]\n",
    "\n",
    "\n",
    "\n",
    "    # Create a scatter plot with the specified color and label for the current species.\n",
    "\n",
    "    plt.scatter(x['SepalLengthCm'], x['SepalWidthCm'], c=colors[i], label=species[i])\n",
    "\n",
    "\n",
    "\n",
    "# Add labels to the x and y axes.\n",
    "\n",
    "plt.xlabel('Sepal Length')\n",
    "\n",
    "plt.ylabel('Sepal Width')\n",
    "\n",
    "\n",
    "\n",
    "# Add a legend to identify species based on colors.\n",
    "\n",
    "plt.legend()\n",
    "\n",
    "\n",
    "\n",
    "# Display the scatter plot.\n",
    "\n",
    "plt.show()"
   ]
  },
  {
   "cell_type": "markdown",
   "id": "2437fe5b",
   "metadata": {
    "papermill": {
     "duration": 0.021907,
     "end_time": "2024-11-25T23:01:52.444918",
     "exception": false,
     "start_time": "2024-11-25T23:01:52.423011",
     "status": "completed"
    },
    "tags": []
   },
   "source": [
    "Chart - 3: Petal Length vs Petal Width"
   ]
  },
  {
   "cell_type": "code",
   "execution_count": 17,
   "id": "278adb8e",
   "metadata": {
    "execution": {
     "iopub.execute_input": "2024-11-25T23:01:52.491444Z",
     "iopub.status.busy": "2024-11-25T23:01:52.491038Z",
     "iopub.status.idle": "2024-11-25T23:01:52.804376Z",
     "shell.execute_reply": "2024-11-25T23:01:52.803158Z"
    },
    "papermill": {
     "duration": 0.339035,
     "end_time": "2024-11-25T23:01:52.806774",
     "exception": false,
     "start_time": "2024-11-25T23:01:52.467739",
     "status": "completed"
    },
    "tags": []
   },
   "outputs": [
    {
     "data": {
      "image/png": "[encoded data removed]",
      "text/plain": [
       "<Figure size 640x480 with 1 Axes>"
      ]
     },
     "metadata": {},
     "output_type": "display_data"
    }
   ],
   "source": [
    "for i in range(3):\n",
    "\n",
    "    x = data[data['Species'] == species[i]]\n",
    "\n",
    "\n",
    "\n",
    "    plt.scatter(x['PetalLengthCm'], x['PetalWidthCm'], c = colors[i], label = species[i])\n",
    "\n",
    "plt.xlabel(\"Patal Length\")\n",
    "\n",
    "plt.ylabel(\"Patal Width\")\n",
    "\n",
    "\n",
    "\n",
    "plt.legend()\n",
    "\n",
    "plt.show()"
   ]
  },
  {
   "cell_type": "markdown",
   "id": "ab888f6a",
   "metadata": {
    "papermill": {
     "duration": 0.022426,
     "end_time": "2024-11-25T23:01:52.852698",
     "exception": false,
     "start_time": "2024-11-25T23:01:52.830272",
     "status": "completed"
    },
    "tags": []
   },
   "source": [
    "Chart - 4: Sepal Length vs Petal Length"
   ]
  },
  {
   "cell_type": "code",
   "execution_count": 18,
   "id": "553bcd74",
   "metadata": {
    "execution": {
     "iopub.execute_input": "2024-11-25T23:01:52.901256Z",
     "iopub.status.busy": "2024-11-25T23:01:52.900868Z",
     "iopub.status.idle": "2024-11-25T23:01:53.253565Z",
     "shell.execute_reply": "2024-11-25T23:01:53.252496Z"
    },
    "papermill": {
     "duration": 0.379763,
     "end_time": "2024-11-25T23:01:53.255838",
     "exception": false,
     "start_time": "2024-11-25T23:01:52.876075",
     "status": "completed"
    },
    "tags": []
   },
   "outputs": [
    {
     "data": {
      "image/png": "[encoded data removed]",
      "text/plain": [
       "<Figure size 640x480 with 1 Axes>"
      ]
     },
     "metadata": {},
     "output_type": "display_data"
    }
   ],
   "source": [
    "for i in range(3):\n",
    "\n",
    "\n",
    "\n",
    "    x = data[data['Species'] == species[i]]\n",
    "\n",
    "\n",
    "\n",
    "    plt.scatter(x['SepalLengthCm'], x['PetalLengthCm'], c = colors[i], label = species[i])\n",
    "\n",
    "\n",
    "\n",
    "plt.xlabel('Sepal Length')\n",
    "\n",
    "plt.ylabel('Petal Length')\n",
    "\n",
    "plt.legend()\n",
    "\n",
    "plt.show()"
   ]
  },
  {
   "cell_type": "markdown",
   "id": "679ed7be",
   "metadata": {
    "papermill": {
     "duration": 0.023168,
     "end_time": "2024-11-25T23:01:53.302205",
     "exception": false,
     "start_time": "2024-11-25T23:01:53.279037",
     "status": "completed"
    },
    "tags": []
   },
   "source": [
    "Chart - 5 : Sepal Width vs Petal Width"
   ]
  },
  {
   "cell_type": "code",
   "execution_count": 19,
   "id": "5ff4a70d",
   "metadata": {
    "execution": {
     "iopub.execute_input": "2024-11-25T23:01:53.361703Z",
     "iopub.status.busy": "2024-11-25T23:01:53.361225Z",
     "iopub.status.idle": "2024-11-25T23:01:53.715054Z",
     "shell.execute_reply": "2024-11-25T23:01:53.713742Z"
    },
    "papermill": {
     "duration": 0.384502,
     "end_time": "2024-11-25T23:01:53.717289",
     "exception": false,
     "start_time": "2024-11-25T23:01:53.332787",
     "status": "completed"
    },
    "tags": []
   },
   "outputs": [
    {
     "data": {
      "image/png": "[encoded data removed]",
      "text/plain": [
       "<Figure size 640x480 with 1 Axes>"
      ]
     },
     "metadata": {},
     "output_type": "display_data"
    }
   ],
   "source": [
    "for i in range(3):\n",
    "\n",
    "\n",
    "\n",
    "    x = data[data['Species'] == species[i]]\n",
    "\n",
    "\n",
    "\n",
    "    plt.scatter(x['SepalWidthCm'], x['PetalWidthCm'], c = colors[i], label = species[i])\n",
    "\n",
    "\n",
    "\n",
    "plt.xlabel('Sepal Width')\n",
    "\n",
    "plt.ylabel('Petal Width')\n",
    "\n",
    "plt.legend()\n",
    "\n",
    "plt.show()"
   ]
  },
  {
   "cell_type": "markdown",
   "id": "7e7d7150",
   "metadata": {
    "papermill": {
     "duration": 0.023592,
     "end_time": "2024-11-25T23:01:53.766101",
     "exception": false,
     "start_time": "2024-11-25T23:01:53.742509",
     "status": "completed"
    },
    "tags": []
   },
   "source": [
    "Chart - 6: Correlaton Heatmap"
   ]
  },
  {
   "cell_type": "code",
   "execution_count": 20,
   "id": "354d551b",
   "metadata": {
    "execution": {
     "iopub.execute_input": "2024-11-25T23:01:53.830324Z",
     "iopub.status.busy": "2024-11-25T23:01:53.829887Z",
     "iopub.status.idle": "2024-11-25T23:01:53.841058Z",
     "shell.execute_reply": "2024-11-25T23:01:53.839782Z"
    },
    "papermill": {
     "duration": 0.045621,
     "end_time": "2024-11-25T23:01:53.843324",
     "exception": false,
     "start_time": "2024-11-25T23:01:53.797703",
     "status": "completed"
    },
    "tags": []
   },
   "outputs": [
    {
     "name": "stdout",
     "output_type": "stream",
     "text": [
      "<class 'pandas.core.frame.DataFrame'>\n",
      "RangeIndex: 150 entries, 0 to 149\n",
      "Data columns (total 5 columns):\n",
      " #   Column         Non-Null Count  Dtype  \n",
      "---  ------         --------------  -----  \n",
      " 0   SepalLengthCm  150 non-null    float64\n",
      " 1   SepalWidthCm   150 non-null    float64\n",
      " 2   PetalLengthCm  150 non-null    float64\n",
      " 3   PetalWidthCm   150 non-null    float64\n",
      " 4   Species        150 non-null    object \n",
      "dtypes: float64(4), object(1)\n",
      "memory usage: 6.0+ KB\n"
     ]
    }
   ],
   "source": [
    "data.info()"
   ]
  },
  {
   "cell_type": "code",
   "execution_count": 21,
   "id": "38ea692e",
   "metadata": {
    "execution": {
     "iopub.execute_input": "2024-11-25T23:01:53.895731Z",
     "iopub.status.busy": "2024-11-25T23:01:53.894955Z",
     "iopub.status.idle": "2024-11-25T23:01:53.900748Z",
     "shell.execute_reply": "2024-11-25T23:01:53.899667Z"
    },
    "papermill": {
     "duration": 0.034019,
     "end_time": "2024-11-25T23:01:53.903096",
     "exception": false,
     "start_time": "2024-11-25T23:01:53.869077",
     "status": "completed"
    },
    "tags": []
   },
   "outputs": [],
   "source": [
    "data1 = data.drop('Species', axis= 1)"
   ]
  },
  {
   "cell_type": "code",
   "execution_count": 22,
   "id": "86652443",
   "metadata": {
    "execution": {
     "iopub.execute_input": "2024-11-25T23:01:53.953685Z",
     "iopub.status.busy": "2024-11-25T23:01:53.952711Z",
     "iopub.status.idle": "2024-11-25T23:01:54.283577Z",
     "shell.execute_reply": "2024-11-25T23:01:54.282210Z"
    },
    "papermill": {
     "duration": 0.358355,
     "end_time": "2024-11-25T23:01:54.285812",
     "exception": false,
     "start_time": "2024-11-25T23:01:53.927457",
     "status": "completed"
    },
    "tags": []
   },
   "outputs": [
    {
     "data": {
      "image/png": "[encoded data removed]",
      "text/plain": [
       "<Figure size 800x400 with 2 Axes>"
      ]
     },
     "metadata": {},
     "output_type": "display_data"
    }
   ],
   "source": [
    "# Correlation Heatmap Visualization Code\n",
    "\n",
    "corr_matrix = data1.corr()\n",
    "\n",
    "\n",
    "\n",
    "# Plot Heatmap\n",
    "\n",
    "plt.figure(figsize=(8, 4))\n",
    "\n",
    "sns.heatmap(corr_matrix, annot=True, cmap='Reds_r')\n",
    "\n",
    "\n",
    "\n",
    "# Setting Labels\n",
    "\n",
    "plt.title('Correlation Matrix heatmap')\n",
    "\n",
    "\n",
    "\n",
    "# Display Chart\n",
    "\n",
    "plt.show()"
   ]
  },
  {
   "cell_type": "markdown",
   "id": "471c7469",
   "metadata": {
    "papermill": {
     "duration": 0.024162,
     "end_time": "2024-11-25T23:01:54.334604",
     "exception": false,
     "start_time": "2024-11-25T23:01:54.310442",
     "status": "completed"
    },
    "tags": []
   },
   "source": [
    "# 5. Feature Engineering & Data Pre-processing"
   ]
  },
  {
   "cell_type": "markdown",
   "id": "bb3c0849",
   "metadata": {
    "papermill": {
     "duration": 0.02411,
     "end_time": "2024-11-25T23:01:54.383149",
     "exception": false,
     "start_time": "2024-11-25T23:01:54.359039",
     "status": "completed"
    },
    "tags": []
   },
   "source": [
    "## 1. Categorical Encoding"
   ]
  },
  {
   "cell_type": "code",
   "execution_count": 23,
   "id": "467529e9",
   "metadata": {
    "execution": {
     "iopub.execute_input": "2024-11-25T23:01:54.434123Z",
     "iopub.status.busy": "2024-11-25T23:01:54.433727Z",
     "iopub.status.idle": "2024-11-25T23:01:54.440928Z",
     "shell.execute_reply": "2024-11-25T23:01:54.439860Z"
    },
    "papermill": {
     "duration": 0.035815,
     "end_time": "2024-11-25T23:01:54.443387",
     "exception": false,
     "start_time": "2024-11-25T23:01:54.407572",
     "status": "completed"
    },
    "tags": []
   },
   "outputs": [
    {
     "name": "stdout",
     "output_type": "stream",
     "text": [
      "Encoded Species Values: \n",
      "[0 1 2]\n"
     ]
    }
   ],
   "source": [
    "le = LabelEncoder()\n",
    "\n",
    "data['Species'] = le.fit_transform(data['Species'])\n",
    "\n",
    "\n",
    "\n",
    "unique_species = data['Species'].unique()\n",
    "\n",
    "\n",
    "\n",
    "print(\"Encoded Species Values: \")\n",
    "\n",
    "print(unique_species)"
   ]
  },
  {
   "cell_type": "markdown",
   "id": "475acd4e",
   "metadata": {
    "papermill": {
     "duration": 0.024421,
     "end_time": "2024-11-25T23:01:54.492431",
     "exception": false,
     "start_time": "2024-11-25T23:01:54.468010",
     "status": "completed"
    },
    "tags": []
   },
   "source": [
    "## 2. Data Scaling"
   ]
  },
  {
   "cell_type": "code",
   "execution_count": 24,
   "id": "eb326ea8",
   "metadata": {
    "execution": {
     "iopub.execute_input": "2024-11-25T23:01:54.543377Z",
     "iopub.status.busy": "2024-11-25T23:01:54.542949Z",
     "iopub.status.idle": "2024-11-25T23:01:54.548973Z",
     "shell.execute_reply": "2024-11-25T23:01:54.547771Z"
    },
    "papermill": {
     "duration": 0.034265,
     "end_time": "2024-11-25T23:01:54.551248",
     "exception": false,
     "start_time": "2024-11-25T23:01:54.516983",
     "status": "completed"
    },
    "tags": []
   },
   "outputs": [],
   "source": [
    "x=data.drop(columns=['Species'], axis=1)\n",
    "\n",
    "y=data['Species']"
   ]
  },
  {
   "cell_type": "markdown",
   "id": "94d0bed2",
   "metadata": {
    "papermill": {
     "duration": 0.024425,
     "end_time": "2024-11-25T23:01:54.599957",
     "exception": false,
     "start_time": "2024-11-25T23:01:54.575532",
     "status": "completed"
    },
    "tags": []
   },
   "source": [
    "## 3. Data Splitting"
   ]
  },
  {
   "cell_type": "code",
   "execution_count": 25,
   "id": "34728bf4",
   "metadata": {
    "execution": {
     "iopub.execute_input": "2024-11-25T23:01:54.650377Z",
     "iopub.status.busy": "2024-11-25T23:01:54.649959Z",
     "iopub.status.idle": "2024-11-25T23:01:54.658544Z",
     "shell.execute_reply": "2024-11-25T23:01:54.657225Z"
    },
    "papermill": {
     "duration": 0.036464,
     "end_time": "2024-11-25T23:01:54.660855",
     "exception": false,
     "start_time": "2024-11-25T23:01:54.624391",
     "status": "completed"
    },
    "tags": []
   },
   "outputs": [],
   "source": [
    "\n",
    "\n",
    "# Splitting the data to train and test\n",
    "\n",
    "x_train,x_test,y_train,y_test=train_test_split(x,y, test_size=0.3)"
   ]
  },
  {
   "cell_type": "code",
   "execution_count": 26,
   "id": "574a0b7f",
   "metadata": {
    "execution": {
     "iopub.execute_input": "2024-11-25T23:01:54.713942Z",
     "iopub.status.busy": "2024-11-25T23:01:54.712325Z",
     "iopub.status.idle": "2024-11-25T23:01:54.723211Z",
     "shell.execute_reply": "2024-11-25T23:01:54.722171Z"
    },
    "papermill": {
     "duration": 0.039875,
     "end_time": "2024-11-25T23:01:54.725457",
     "exception": false,
     "start_time": "2024-11-25T23:01:54.685582",
     "status": "completed"
    },
    "tags": []
   },
   "outputs": [
    {
     "data": {
      "text/plain": [
       "Species\n",
       "2    37\n",
       "1    35\n",
       "0    33\n",
       "Name: count, dtype: int64"
      ]
     },
     "execution_count": 26,
     "metadata": {},
     "output_type": "execute_result"
    }
   ],
   "source": [
    "y_train.value_counts()"
   ]
  },
  {
   "cell_type": "markdown",
   "id": "eda5d89a",
   "metadata": {
    "papermill": {
     "duration": 0.023953,
     "end_time": "2024-11-25T23:01:54.774066",
     "exception": false,
     "start_time": "2024-11-25T23:01:54.750113",
     "status": "completed"
    },
    "tags": []
   },
   "source": [
    "# 6. ML Model Implementation"
   ]
  },
  {
   "cell_type": "code",
   "execution_count": 27,
   "id": "af3b9d49",
   "metadata": {
    "execution": {
     "iopub.execute_input": "2024-11-25T23:01:54.826141Z",
     "iopub.status.busy": "2024-11-25T23:01:54.825749Z",
     "iopub.status.idle": "2024-11-25T23:01:54.838747Z",
     "shell.execute_reply": "2024-11-25T23:01:54.837624Z"
    },
    "papermill": {
     "duration": 0.04174,
     "end_time": "2024-11-25T23:01:54.840720",
     "exception": false,
     "start_time": "2024-11-25T23:01:54.798980",
     "status": "completed"
    },
    "tags": []
   },
   "outputs": [],
   "source": [
    "def evaluate_model(model, x_train, x_test, y_train, y_test):\n",
    "\n",
    "    '''The function will take model, x train, x test, y train, y test\n",
    "\n",
    "    and then it will fit the model, then make predictions on the trained model,\n",
    "\n",
    "    it will then print roc-auc score of train and test, then plot the roc, auc curve,\n",
    "\n",
    "    print confusion matrix for train and test, then print classification report for train and test,\n",
    "\n",
    "    then plot the feature importances if the model has feature importances,\n",
    "\n",
    "    and finally it will return the following scores as a list:\n",
    "\n",
    "    recall_train, recall_test, acc_train, acc_test, F1_train, F1_test\n",
    "\n",
    "    '''\n",
    "\n",
    "\n",
    "\n",
    "    # Fit the model to the training data.\n",
    "\n",
    "    model.fit(x_train, y_train)\n",
    "\n",
    "\n",
    "\n",
    "    # make predictions on the test data\n",
    "\n",
    "    y_pred_train = model.predict(x_train)\n",
    "\n",
    "    y_pred_test = model.predict(x_test)\n",
    "\n",
    "\n",
    "\n",
    "    # calculate confusion matrix\n",
    "\n",
    "    cm_train = confusion_matrix(y_train, y_pred_train)\n",
    "\n",
    "    cm_test = confusion_matrix(y_test, y_pred_test)\n",
    "\n",
    "\n",
    "\n",
    "    fig, ax = plt.subplots(1, 2, figsize=(11,4))\n",
    "\n",
    "\n",
    "\n",
    "    print(\"\\nConfusion Matrix:\")\n",
    "\n",
    "    sns.heatmap(cm_train, annot=True, xticklabels=['Negative', 'Positive'], yticklabels=['Negative', 'Positive'], cmap=\"Oranges\", fmt='.4g', ax=ax[0])\n",
    "\n",
    "    ax[0].set_xlabel(\"Predicted Label\")\n",
    "\n",
    "    ax[0].set_ylabel(\"True Label\")\n",
    "\n",
    "    ax[0].set_title(\"Train Confusion Matrix\")\n",
    "\n",
    "\n",
    "\n",
    "    sns.heatmap(cm_test, annot=True, xticklabels=['Negative', 'Positive'], yticklabels=['Negative', 'Positive'], cmap=\"Oranges\", fmt='.4g', ax=ax[1])\n",
    "\n",
    "    ax[1].set_xlabel(\"Predicted Label\")\n",
    "\n",
    "    ax[1].set_ylabel(\"True Label\")\n",
    "\n",
    "    ax[1].set_title(\"Test Confusion Matrix\")\n",
    "\n",
    "\n",
    "\n",
    "    plt.tight_layout()\n",
    "\n",
    "    plt.show()\n",
    "\n",
    "\n",
    "\n",
    "\n",
    "\n",
    "    # calculate classification report\n",
    "\n",
    "    cr_train = classification_report(y_train, y_pred_train, output_dict=True)\n",
    "\n",
    "    cr_test = classification_report(y_test, y_pred_test, output_dict=True)\n",
    "\n",
    "    print(\"\\nTrain Classification Report:\")\n",
    "\n",
    "    crt = pd.DataFrame(cr_train).T\n",
    "\n",
    "    print(crt.to_markdown())\n",
    "\n",
    "    # sns.heatmap(pd.DataFrame(cr_train).T.iloc[:, :-1], annot=True, cmap=\"Blues\")\n",
    "\n",
    "    print(\"\\nTest Classification Report:\")\n",
    "\n",
    "    crt2 = pd.DataFrame(cr_test).T\n",
    "\n",
    "    print(crt2.to_markdown())\n",
    "\n",
    "    # sns.heatmap(pd.DataFrame(cr_test).T.iloc[:, :-1], annot=True, cmap=\"Blues\")\n",
    "\n",
    "\n",
    "\n",
    "    precision_train = cr_train['weighted avg']['precision']\n",
    "\n",
    "    precision_test = cr_test['weighted avg']['precision']\n",
    "\n",
    "\n",
    "\n",
    "    recall_train = cr_train['weighted avg']['recall']\n",
    "\n",
    "    recall_test = cr_test['weighted avg']['recall']\n",
    "\n",
    "\n",
    "\n",
    "    acc_train = accuracy_score(y_true = y_train, y_pred = y_pred_train)\n",
    "\n",
    "    acc_test = accuracy_score(y_true = y_test, y_pred = y_pred_test)\n",
    "\n",
    "\n",
    "\n",
    "    F1_train = cr_train['weighted avg']['f1-score']\n",
    "\n",
    "    F1_test = cr_test['weighted avg']['f1-score']\n",
    "\n",
    "\n",
    "\n",
    "    model_score = [precision_train, precision_test, recall_train, recall_test, acc_train, acc_test, F1_train, F1_test ]\n",
    "\n",
    "    return model_score"
   ]
  },
  {
   "cell_type": "code",
   "execution_count": 28,
   "id": "0500d2c1",
   "metadata": {
    "execution": {
     "iopub.execute_input": "2024-11-25T23:01:54.892258Z",
     "iopub.status.busy": "2024-11-25T23:01:54.891783Z",
     "iopub.status.idle": "2024-11-25T23:01:54.897865Z",
     "shell.execute_reply": "2024-11-25T23:01:54.896813Z"
    },
    "papermill": {
     "duration": 0.034396,
     "end_time": "2024-11-25T23:01:54.899977",
     "exception": false,
     "start_time": "2024-11-25T23:01:54.865581",
     "status": "completed"
    },
    "tags": []
   },
   "outputs": [],
   "source": [
    "# Create a score dataframe\n",
    "\n",
    "score = pd.DataFrame(index = ['Precision Train', 'Precision Test','Recall Train','Recall Test','Accuracy Train', 'Accuracy Test', 'F1 macro Train', 'F1 macro Test'])\n",
    "\n",
    "     "
   ]
  },
  {
   "cell_type": "markdown",
   "id": "98349380",
   "metadata": {
    "papermill": {
     "duration": 0.024808,
     "end_time": "2024-11-25T23:01:54.949477",
     "exception": false,
     "start_time": "2024-11-25T23:01:54.924669",
     "status": "completed"
    },
    "tags": []
   },
   "source": [
    "## ML Model - 1: Logisic Regression"
   ]
  },
  {
   "cell_type": "code",
   "execution_count": 29,
   "id": "8bed10b0",
   "metadata": {
    "execution": {
     "iopub.execute_input": "2024-11-25T23:01:55.000817Z",
     "iopub.status.busy": "2024-11-25T23:01:55.000428Z",
     "iopub.status.idle": "2024-11-25T23:01:55.005466Z",
     "shell.execute_reply": "2024-11-25T23:01:55.004340Z"
    },
    "papermill": {
     "duration": 0.033533,
     "end_time": "2024-11-25T23:01:55.007523",
     "exception": false,
     "start_time": "2024-11-25T23:01:54.973990",
     "status": "completed"
    },
    "tags": []
   },
   "outputs": [],
   "source": [
    "\n",
    "\n",
    "# ML Model - 1 Implementation\n",
    "\n",
    "lr_model = LogisticRegression(fit_intercept=True, max_iter=10000)"
   ]
  },
  {
   "cell_type": "markdown",
   "id": "b87d794b",
   "metadata": {
    "papermill": {
     "duration": 0.024308,
     "end_time": "2024-11-25T23:01:55.058727",
     "exception": false,
     "start_time": "2024-11-25T23:01:55.034419",
     "status": "completed"
    },
    "tags": []
   },
   "source": [
    "### 1. Explain the ML Model used and it's performance using Evaluation metric Score Chart."
   ]
  },
  {
   "cell_type": "code",
   "execution_count": 30,
   "id": "60e53ae0",
   "metadata": {
    "execution": {
     "iopub.execute_input": "2024-11-25T23:01:55.110274Z",
     "iopub.status.busy": "2024-11-25T23:01:55.109849Z",
     "iopub.status.idle": "2024-11-25T23:02:06.519699Z",
     "shell.execute_reply": "2024-11-25T23:02:06.518277Z"
    },
    "papermill": {
     "duration": 11.438261,
     "end_time": "2024-11-25T23:02:06.522322",
     "exception": false,
     "start_time": "2024-11-25T23:01:55.084061",
     "status": "completed"
    },
    "tags": []
   },
   "outputs": [
    {
     "name": "stdout",
     "output_type": "stream",
     "text": [
      "Requirement already satisfied: tabulate in /opt/conda/lib/python3.10/site-packages (0.9.0)\r\n"
     ]
    }
   ],
   "source": [
    "! pip install tabulate"
   ]
  },
  {
   "cell_type": "code",
   "execution_count": 31,
   "id": "3d4b7756",
   "metadata": {
    "execution": {
     "iopub.execute_input": "2024-11-25T23:02:06.574627Z",
     "iopub.status.busy": "2024-11-25T23:02:06.573601Z",
     "iopub.status.idle": "2024-11-25T23:02:07.311370Z",
     "shell.execute_reply": "2024-11-25T23:02:07.310005Z"
    },
    "papermill": {
     "duration": 0.766639,
     "end_time": "2024-11-25T23:02:07.313766",
     "exception": false,
     "start_time": "2024-11-25T23:02:06.547127",
     "status": "completed"
    },
    "tags": []
   },
   "outputs": [
    {
     "name": "stdout",
     "output_type": "stream",
     "text": [
      "\n",
      "Confusion Matrix:\n"
     ]
    },
    {
     "data": {
      "image/png": "[encoded data removed]",
      "text/plain": [
       "<Figure size 1100x400 with 4 Axes>"
      ]
     },
     "metadata": {},
     "output_type": "display_data"
    },
    {
     "name": "stdout",
     "output_type": "stream",
     "text": [
      "\n",
      "Train Classification Report:\n",
      "|              |   precision |   recall |   f1-score |   support |\n",
      "|:-------------|------------:|---------:|-----------:|----------:|\n",
      "| 0            |           1 |        1 |          1 |        33 |\n",
      "| 1            |           1 |        1 |          1 |        35 |\n",
      "| 2            |           1 |        1 |          1 |        37 |\n",
      "| accuracy     |           1 |        1 |          1 |         1 |\n",
      "| macro avg    |           1 |        1 |          1 |       105 |\n",
      "| weighted avg |           1 |        1 |          1 |       105 |\n",
      "\n",
      "Test Classification Report:\n",
      "|              |   precision |   recall |   f1-score |   support |\n",
      "|:-------------|------------:|---------:|-----------:|----------:|\n",
      "| 0            |    1        | 1        |   1        | 17        |\n",
      "| 1            |    1        | 0.8      |   0.888889 | 15        |\n",
      "| 2            |    0.8125   | 1        |   0.896552 | 13        |\n",
      "| accuracy     |    0.933333 | 0.933333 |   0.933333 |  0.933333 |\n",
      "| macro avg    |    0.9375   | 0.933333 |   0.92848  | 45        |\n",
      "| weighted avg |    0.945833 | 0.933333 |   0.933078 | 45        |\n"
     ]
    }
   ],
   "source": [
    "# Visualizing evaluation Metric Score chart\n",
    "\n",
    "lr_score = evaluate_model(lr_model, x_train, x_test, y_train, y_test)"
   ]
  },
  {
   "cell_type": "code",
   "execution_count": 32,
   "id": "c73fa244",
   "metadata": {
    "execution": {
     "iopub.execute_input": "2024-11-25T23:02:07.366405Z",
     "iopub.status.busy": "2024-11-25T23:02:07.365987Z",
     "iopub.status.idle": "2024-11-25T23:02:07.377917Z",
     "shell.execute_reply": "2024-11-25T23:02:07.376518Z"
    },
    "papermill": {
     "duration": 0.040584,
     "end_time": "2024-11-25T23:02:07.380113",
     "exception": false,
     "start_time": "2024-11-25T23:02:07.339529",
     "status": "completed"
    },
    "tags": []
   },
   "outputs": [
    {
     "data": {
      "text/html": [
       "<div>\n",
       "<style scoped>\n",
       "    .dataframe tbody tr th:only-of-type {\n",
       "        vertical-align: middle;\n",
       "    }\n",
       "\n",
       "    .dataframe tbody tr th {\n",
       "        vertical-align: top;\n",
       "    }\n",
       "\n",
       "    .dataframe thead th {\n",
       "        text-align: right;\n",
       "    }\n",
       "</style>\n",
       "<table border=\"1\" class=\"dataframe\">\n",
       "  <thead>\n",
       "    <tr style=\"text-align: right;\">\n",
       "      <th></th>\n",
       "      <th>Logistic regression</th>\n",
       "    </tr>\n",
       "  </thead>\n",
       "  <tbody>\n",
       "    <tr>\n",
       "      <th>Precision Train</th>\n",
       "      <td>1.000000</td>\n",
       "    </tr>\n",
       "    <tr>\n",
       "      <th>Precision Test</th>\n",
       "      <td>0.945833</td>\n",
       "    </tr>\n",
       "    <tr>\n",
       "      <th>Recall Train</th>\n",
       "      <td>1.000000</td>\n",
       "    </tr>\n",
       "    <tr>\n",
       "      <th>Recall Test</th>\n",
       "      <td>0.933333</td>\n",
       "    </tr>\n",
       "    <tr>\n",
       "      <th>Accuracy Train</th>\n",
       "      <td>1.000000</td>\n",
       "    </tr>\n",
       "    <tr>\n",
       "      <th>Accuracy Test</th>\n",
       "      <td>0.933333</td>\n",
       "    </tr>\n",
       "    <tr>\n",
       "      <th>F1 macro Train</th>\n",
       "      <td>1.000000</td>\n",
       "    </tr>\n",
       "    <tr>\n",
       "      <th>F1 macro Test</th>\n",
       "      <td>0.933078</td>\n",
       "    </tr>\n",
       "  </tbody>\n",
       "</table>\n",
       "</div>"
      ],
      "text/plain": [
       "                 Logistic regression\n",
       "Precision Train             1.000000\n",
       "Precision Test              0.945833\n",
       "Recall Train                1.000000\n",
       "Recall Test                 0.933333\n",
       "Accuracy Train              1.000000\n",
       "Accuracy Test               0.933333\n",
       "F1 macro Train              1.000000\n",
       "F1 macro Test               0.933078"
      ]
     },
     "execution_count": 32,
     "metadata": {},
     "output_type": "execute_result"
    }
   ],
   "source": [
    "# Updated Evaluation metric Score Chart\n",
    "\n",
    "score['Logistic regression'] = lr_score\n",
    "\n",
    "score"
   ]
  },
  {
   "cell_type": "markdown",
   "id": "6dd96d63",
   "metadata": {
    "papermill": {
     "duration": 0.025413,
     "end_time": "2024-11-25T23:02:07.431273",
     "exception": false,
     "start_time": "2024-11-25T23:02:07.405860",
     "status": "completed"
    },
    "tags": []
   },
   "source": [
    "### 2. Cross- Validation & Hyperparameter Tuning"
   ]
  },
  {
   "cell_type": "code",
   "execution_count": 33,
   "id": "91c0f7f4",
   "metadata": {
    "execution": {
     "iopub.execute_input": "2024-11-25T23:02:07.484415Z",
     "iopub.status.busy": "2024-11-25T23:02:07.483992Z",
     "iopub.status.idle": "2024-11-25T23:02:16.652256Z",
     "shell.execute_reply": "2024-11-25T23:02:16.651191Z"
    },
    "papermill": {
     "duration": 9.197419,
     "end_time": "2024-11-25T23:02:16.654446",
     "exception": false,
     "start_time": "2024-11-25T23:02:07.457027",
     "status": "completed"
    },
    "tags": []
   },
   "outputs": [
    {
     "name": "stdout",
     "output_type": "stream",
     "text": [
      "Best hyperparameters:  {'C': 100, 'penalty': 'l1', 'solver': 'saga'}\n"
     ]
    }
   ],
   "source": [
    "# ML Model - 1 Implementation with hyperparameter optimization techniques (i.e., GridSearch CV, RandomSearch CV, Bayesian Optimization etc.)\n",
    "\n",
    "# Define the hyperparameter grid\n",
    "\n",
    "param_grid = {'C': [100,10,1,0.1,0.01,0.001,0.0001],\n",
    "\n",
    "              'penalty': ['l1', 'l2'],\n",
    "\n",
    "              'solver':['newton-cg', 'lbfgs', 'liblinear', 'sag', 'saga']}\n",
    "\n",
    "\n",
    "\n",
    "# Initializing the logistic regression model\n",
    "\n",
    "logreg = LogisticRegression(fit_intercept=True, max_iter=10000, random_state=0)\n",
    "\n",
    "\n",
    "\n",
    "# Repeated stratified kfold\n",
    "\n",
    "rskf = RepeatedStratifiedKFold(n_splits=3, n_repeats=4, random_state=0)\n",
    "\n",
    "\n",
    "\n",
    "# Using GridSearchCV to tune the hyperparameters using cross-validation\n",
    "\n",
    "grid = GridSearchCV(logreg, param_grid, cv=rskf)\n",
    "\n",
    "grid.fit(x_train, y_train)\n",
    "\n",
    "\n",
    "\n",
    "# Select the best hyperparameters found by GridSearchCV\n",
    "\n",
    "best_params = grid.best_params_\n",
    "\n",
    "print(\"Best hyperparameters: \", best_params)"
   ]
  },
  {
   "cell_type": "code",
   "execution_count": 34,
   "id": "c636ae9b",
   "metadata": {
    "execution": {
     "iopub.execute_input": "2024-11-25T23:02:16.706914Z",
     "iopub.status.busy": "2024-11-25T23:02:16.706517Z",
     "iopub.status.idle": "2024-11-25T23:02:16.711540Z",
     "shell.execute_reply": "2024-11-25T23:02:16.710467Z"
    },
    "papermill": {
     "duration": 0.033779,
     "end_time": "2024-11-25T23:02:16.713643",
     "exception": false,
     "start_time": "2024-11-25T23:02:16.679864",
     "status": "completed"
    },
    "tags": []
   },
   "outputs": [],
   "source": [
    "# Initiate model with best parameters\n",
    "\n",
    "lr_model2 = LogisticRegression(C=best_params['C'],\n",
    "\n",
    "                                  penalty=best_params['penalty'],\n",
    "\n",
    "                                  solver=best_params['solver'],\n",
    "\n",
    "                                  max_iter=10000, random_state=0)"
   ]
  },
  {
   "cell_type": "code",
   "execution_count": 35,
   "id": "d54f12ce",
   "metadata": {
    "execution": {
     "iopub.execute_input": "2024-11-25T23:02:16.767178Z",
     "iopub.status.busy": "2024-11-25T23:02:16.766752Z",
     "iopub.status.idle": "2024-11-25T23:02:17.387557Z",
     "shell.execute_reply": "2024-11-25T23:02:17.386481Z"
    },
    "papermill": {
     "duration": 0.650824,
     "end_time": "2024-11-25T23:02:17.389962",
     "exception": false,
     "start_time": "2024-11-25T23:02:16.739138",
     "status": "completed"
    },
    "tags": []
   },
   "outputs": [
    {
     "name": "stdout",
     "output_type": "stream",
     "text": [
      "\n",
      "Confusion Matrix:\n"
     ]
    },
    {
     "data": {
      "image/png": "[encoded data removed]",
      "text/plain": [
       "<Figure size 1100x400 with 4 Axes>"
      ]
     },
     "metadata": {},
     "output_type": "display_data"
    },
    {
     "name": "stdout",
     "output_type": "stream",
     "text": [
      "\n",
      "Train Classification Report:\n",
      "|              |   precision |   recall |   f1-score |   support |\n",
      "|:-------------|------------:|---------:|-----------:|----------:|\n",
      "| 0            |           1 |        1 |          1 |        33 |\n",
      "| 1            |           1 |        1 |          1 |        35 |\n",
      "| 2            |           1 |        1 |          1 |        37 |\n",
      "| accuracy     |           1 |        1 |          1 |         1 |\n",
      "| macro avg    |           1 |        1 |          1 |       105 |\n",
      "| weighted avg |           1 |        1 |          1 |       105 |\n",
      "\n",
      "Test Classification Report:\n",
      "|              |   precision |   recall |   f1-score |   support |\n",
      "|:-------------|------------:|---------:|-----------:|----------:|\n",
      "| 0            |    1        | 1        |   1        | 17        |\n",
      "| 1            |    1        | 0.733333 |   0.846154 | 15        |\n",
      "| 2            |    0.764706 | 1        |   0.866667 | 13        |\n",
      "| accuracy     |    0.911111 | 0.911111 |   0.911111 |  0.911111 |\n",
      "| macro avg    |    0.921569 | 0.911111 |   0.904274 | 45        |\n",
      "| weighted avg |    0.932026 | 0.911111 |   0.910199 | 45        |\n"
     ]
    }
   ],
   "source": [
    "# Visualizing evaluation Metric Score chart\n",
    "\n",
    "lr_score2 = evaluate_model(lr_model2, x_train, x_test, y_train, y_test)"
   ]
  },
  {
   "cell_type": "code",
   "execution_count": 36,
   "id": "451fd826",
   "metadata": {
    "execution": {
     "iopub.execute_input": "2024-11-25T23:02:17.444522Z",
     "iopub.status.busy": "2024-11-25T23:02:17.443414Z",
     "iopub.status.idle": "2024-11-25T23:02:17.449327Z",
     "shell.execute_reply": "2024-11-25T23:02:17.448241Z"
    },
    "papermill": {
     "duration": 0.035161,
     "end_time": "2024-11-25T23:02:17.451412",
     "exception": false,
     "start_time": "2024-11-25T23:02:17.416251",
     "status": "completed"
    },
    "tags": []
   },
   "outputs": [],
   "source": [
    "\n",
    "\n",
    "score['Logistic regression tuned'] = lr_score2"
   ]
  },
  {
   "cell_type": "code",
   "execution_count": 37,
   "id": "76a734d1",
   "metadata": {
    "execution": {
     "iopub.execute_input": "2024-11-25T23:02:17.507689Z",
     "iopub.status.busy": "2024-11-25T23:02:17.506913Z",
     "iopub.status.idle": "2024-11-25T23:02:17.518037Z",
     "shell.execute_reply": "2024-11-25T23:02:17.516687Z"
    },
    "papermill": {
     "duration": 0.042117,
     "end_time": "2024-11-25T23:02:17.520790",
     "exception": false,
     "start_time": "2024-11-25T23:02:17.478673",
     "status": "completed"
    },
    "tags": []
   },
   "outputs": [
    {
     "data": {
      "text/html": [
       "<div>\n",
       "<style scoped>\n",
       "    .dataframe tbody tr th:only-of-type {\n",
       "        vertical-align: middle;\n",
       "    }\n",
       "\n",
       "    .dataframe tbody tr th {\n",
       "        vertical-align: top;\n",
       "    }\n",
       "\n",
       "    .dataframe thead th {\n",
       "        text-align: right;\n",
       "    }\n",
       "</style>\n",
       "<table border=\"1\" class=\"dataframe\">\n",
       "  <thead>\n",
       "    <tr style=\"text-align: right;\">\n",
       "      <th></th>\n",
       "      <th>Logistic regression</th>\n",
       "      <th>Logistic regression tuned</th>\n",
       "    </tr>\n",
       "  </thead>\n",
       "  <tbody>\n",
       "    <tr>\n",
       "      <th>Precision Train</th>\n",
       "      <td>1.000000</td>\n",
       "      <td>1.000000</td>\n",
       "    </tr>\n",
       "    <tr>\n",
       "      <th>Precision Test</th>\n",
       "      <td>0.945833</td>\n",
       "      <td>0.932026</td>\n",
       "    </tr>\n",
       "    <tr>\n",
       "      <th>Recall Train</th>\n",
       "      <td>1.000000</td>\n",
       "      <td>1.000000</td>\n",
       "    </tr>\n",
       "    <tr>\n",
       "      <th>Recall Test</th>\n",
       "      <td>0.933333</td>\n",
       "      <td>0.911111</td>\n",
       "    </tr>\n",
       "    <tr>\n",
       "      <th>Accuracy Train</th>\n",
       "      <td>1.000000</td>\n",
       "      <td>1.000000</td>\n",
       "    </tr>\n",
       "    <tr>\n",
       "      <th>Accuracy Test</th>\n",
       "      <td>0.933333</td>\n",
       "      <td>0.911111</td>\n",
       "    </tr>\n",
       "    <tr>\n",
       "      <th>F1 macro Train</th>\n",
       "      <td>1.000000</td>\n",
       "      <td>1.000000</td>\n",
       "    </tr>\n",
       "    <tr>\n",
       "      <th>F1 macro Test</th>\n",
       "      <td>0.933078</td>\n",
       "      <td>0.910199</td>\n",
       "    </tr>\n",
       "  </tbody>\n",
       "</table>\n",
       "</div>"
      ],
      "text/plain": [
       "                 Logistic regression  Logistic regression tuned\n",
       "Precision Train             1.000000                   1.000000\n",
       "Precision Test              0.945833                   0.932026\n",
       "Recall Train                1.000000                   1.000000\n",
       "Recall Test                 0.933333                   0.911111\n",
       "Accuracy Train              1.000000                   1.000000\n",
       "Accuracy Test               0.933333                   0.911111\n",
       "F1 macro Train              1.000000                   1.000000\n",
       "F1 macro Test               0.933078                   0.910199"
      ]
     },
     "execution_count": 37,
     "metadata": {},
     "output_type": "execute_result"
    }
   ],
   "source": [
    "# Updated Evaluation metric Score Chart\n",
    "\n",
    "score"
   ]
  },
  {
   "cell_type": "markdown",
   "id": "69ae44fb",
   "metadata": {
    "papermill": {
     "duration": 0.026288,
     "end_time": "2024-11-25T23:02:17.573831",
     "exception": false,
     "start_time": "2024-11-25T23:02:17.547543",
     "status": "completed"
    },
    "tags": []
   },
   "source": [
    "## ML Model - 2 : Decision Tree"
   ]
  },
  {
   "cell_type": "code",
   "execution_count": 38,
   "id": "4f143968",
   "metadata": {
    "execution": {
     "iopub.execute_input": "2024-11-25T23:02:17.629789Z",
     "iopub.status.busy": "2024-11-25T23:02:17.628627Z",
     "iopub.status.idle": "2024-11-25T23:02:17.633994Z",
     "shell.execute_reply": "2024-11-25T23:02:17.632915Z"
    },
    "papermill": {
     "duration": 0.035585,
     "end_time": "2024-11-25T23:02:17.636012",
     "exception": false,
     "start_time": "2024-11-25T23:02:17.600427",
     "status": "completed"
    },
    "tags": []
   },
   "outputs": [],
   "source": [
    "# ML Model - 2 Implementation\n",
    "\n",
    "dt_model = DecisionTreeClassifier(random_state=20)"
   ]
  },
  {
   "cell_type": "markdown",
   "id": "b0df3269",
   "metadata": {
    "papermill": {
     "duration": 0.025982,
     "end_time": "2024-11-25T23:02:17.688801",
     "exception": false,
     "start_time": "2024-11-25T23:02:17.662819",
     "status": "completed"
    },
    "tags": []
   },
   "source": [
    "### 1. Explain the ML Model used and it's performance using Evaluation metric Score Chart."
   ]
  },
  {
   "cell_type": "code",
   "execution_count": 39,
   "id": "994ceaaf",
   "metadata": {
    "execution": {
     "iopub.execute_input": "2024-11-25T23:02:17.742850Z",
     "iopub.status.busy": "2024-11-25T23:02:17.742438Z",
     "iopub.status.idle": "2024-11-25T23:02:18.302678Z",
     "shell.execute_reply": "2024-11-25T23:02:18.301587Z"
    },
    "papermill": {
     "duration": 0.590059,
     "end_time": "2024-11-25T23:02:18.305099",
     "exception": false,
     "start_time": "2024-11-25T23:02:17.715040",
     "status": "completed"
    },
    "tags": []
   },
   "outputs": [
    {
     "name": "stdout",
     "output_type": "stream",
     "text": [
      "\n",
      "Confusion Matrix:\n"
     ]
    },
    {
     "data": {
      "image/png": "[encoded data removed]",
      "text/plain": [
       "<Figure size 1100x400 with 4 Axes>"
      ]
     },
     "metadata": {},
     "output_type": "display_data"
    },
    {
     "name": "stdout",
     "output_type": "stream",
     "text": [
      "\n",
      "Train Classification Report:\n",
      "|              |   precision |   recall |   f1-score |   support |\n",
      "|:-------------|------------:|---------:|-----------:|----------:|\n",
      "| 0            |           1 |        1 |          1 |        33 |\n",
      "| 1            |           1 |        1 |          1 |        35 |\n",
      "| 2            |           1 |        1 |          1 |        37 |\n",
      "| accuracy     |           1 |        1 |          1 |         1 |\n",
      "| macro avg    |           1 |        1 |          1 |       105 |\n",
      "| weighted avg |           1 |        1 |          1 |       105 |\n",
      "\n",
      "Test Classification Report:\n",
      "|              |   precision |   recall |   f1-score |   support |\n",
      "|:-------------|------------:|---------:|-----------:|----------:|\n",
      "| 0            |    1        | 1        |   1        | 17        |\n",
      "| 1            |    1        | 0.8      |   0.888889 | 15        |\n",
      "| 2            |    0.8125   | 1        |   0.896552 | 13        |\n",
      "| accuracy     |    0.933333 | 0.933333 |   0.933333 |  0.933333 |\n",
      "| macro avg    |    0.9375   | 0.933333 |   0.92848  | 45        |\n",
      "| weighted avg |    0.945833 | 0.933333 |   0.933078 | 45        |\n"
     ]
    }
   ],
   "source": [
    "# Visualizing evaluation Metric Score chart\n",
    "\n",
    "dt_score = evaluate_model(dt_model, x_train, x_test, y_train, y_test)"
   ]
  },
  {
   "cell_type": "code",
   "execution_count": 40,
   "id": "b50374b0",
   "metadata": {
    "execution": {
     "iopub.execute_input": "2024-11-25T23:02:18.360738Z",
     "iopub.status.busy": "2024-11-25T23:02:18.360272Z",
     "iopub.status.idle": "2024-11-25T23:02:18.372465Z",
     "shell.execute_reply": "2024-11-25T23:02:18.371353Z"
    },
    "papermill": {
     "duration": 0.042643,
     "end_time": "2024-11-25T23:02:18.374753",
     "exception": false,
     "start_time": "2024-11-25T23:02:18.332110",
     "status": "completed"
    },
    "tags": []
   },
   "outputs": [
    {
     "data": {
      "text/html": [
       "<div>\n",
       "<style scoped>\n",
       "    .dataframe tbody tr th:only-of-type {\n",
       "        vertical-align: middle;\n",
       "    }\n",
       "\n",
       "    .dataframe tbody tr th {\n",
       "        vertical-align: top;\n",
       "    }\n",
       "\n",
       "    .dataframe thead th {\n",
       "        text-align: right;\n",
       "    }\n",
       "</style>\n",
       "<table border=\"1\" class=\"dataframe\">\n",
       "  <thead>\n",
       "    <tr style=\"text-align: right;\">\n",
       "      <th></th>\n",
       "      <th>Logistic regression</th>\n",
       "      <th>Logistic regression tuned</th>\n",
       "      <th>Decision Tree</th>\n",
       "    </tr>\n",
       "  </thead>\n",
       "  <tbody>\n",
       "    <tr>\n",
       "      <th>Precision Train</th>\n",
       "      <td>1.000000</td>\n",
       "      <td>1.000000</td>\n",
       "      <td>1.000000</td>\n",
       "    </tr>\n",
       "    <tr>\n",
       "      <th>Precision Test</th>\n",
       "      <td>0.945833</td>\n",
       "      <td>0.932026</td>\n",
       "      <td>0.945833</td>\n",
       "    </tr>\n",
       "    <tr>\n",
       "      <th>Recall Train</th>\n",
       "      <td>1.000000</td>\n",
       "      <td>1.000000</td>\n",
       "      <td>1.000000</td>\n",
       "    </tr>\n",
       "    <tr>\n",
       "      <th>Recall Test</th>\n",
       "      <td>0.933333</td>\n",
       "      <td>0.911111</td>\n",
       "      <td>0.933333</td>\n",
       "    </tr>\n",
       "    <tr>\n",
       "      <th>Accuracy Train</th>\n",
       "      <td>1.000000</td>\n",
       "      <td>1.000000</td>\n",
       "      <td>1.000000</td>\n",
       "    </tr>\n",
       "    <tr>\n",
       "      <th>Accuracy Test</th>\n",
       "      <td>0.933333</td>\n",
       "      <td>0.911111</td>\n",
       "      <td>0.933333</td>\n",
       "    </tr>\n",
       "    <tr>\n",
       "      <th>F1 macro Train</th>\n",
       "      <td>1.000000</td>\n",
       "      <td>1.000000</td>\n",
       "      <td>1.000000</td>\n",
       "    </tr>\n",
       "    <tr>\n",
       "      <th>F1 macro Test</th>\n",
       "      <td>0.933078</td>\n",
       "      <td>0.910199</td>\n",
       "      <td>0.933078</td>\n",
       "    </tr>\n",
       "  </tbody>\n",
       "</table>\n",
       "</div>"
      ],
      "text/plain": [
       "                 Logistic regression  Logistic regression tuned  Decision Tree\n",
       "Precision Train             1.000000                   1.000000       1.000000\n",
       "Precision Test              0.945833                   0.932026       0.945833\n",
       "Recall Train                1.000000                   1.000000       1.000000\n",
       "Recall Test                 0.933333                   0.911111       0.933333\n",
       "Accuracy Train              1.000000                   1.000000       1.000000\n",
       "Accuracy Test               0.933333                   0.911111       0.933333\n",
       "F1 macro Train              1.000000                   1.000000       1.000000\n",
       "F1 macro Test               0.933078                   0.910199       0.933078"
      ]
     },
     "execution_count": 40,
     "metadata": {},
     "output_type": "execute_result"
    }
   ],
   "source": [
    "# Updated Evaluation metric Score Chart\n",
    "\n",
    "score['Decision Tree'] = dt_score\n",
    "\n",
    "score"
   ]
  },
  {
   "cell_type": "markdown",
   "id": "1deb1cf5",
   "metadata": {
    "papermill": {
     "duration": 0.026527,
     "end_time": "2024-11-25T23:02:18.428415",
     "exception": false,
     "start_time": "2024-11-25T23:02:18.401888",
     "status": "completed"
    },
    "tags": []
   },
   "source": [
    "### 2. Cross- Validation & Hyperparameter Tuning"
   ]
  },
  {
   "cell_type": "code",
   "execution_count": 41,
   "id": "1926b60b",
   "metadata": {
    "execution": {
     "iopub.execute_input": "2024-11-25T23:02:18.485169Z",
     "iopub.status.busy": "2024-11-25T23:02:18.484762Z",
     "iopub.status.idle": "2024-11-25T23:02:30.481701Z",
     "shell.execute_reply": "2024-11-25T23:02:30.480362Z"
    },
    "papermill": {
     "duration": 12.028429,
     "end_time": "2024-11-25T23:02:30.484216",
     "exception": false,
     "start_time": "2024-11-25T23:02:18.455787",
     "status": "completed"
    },
    "tags": []
   },
   "outputs": [
    {
     "name": "stdout",
     "output_type": "stream",
     "text": [
      "Best hyperparameters:  {'max_depth': 3, 'min_samples_leaf': 10, 'min_samples_split': 2}\n"
     ]
    }
   ],
   "source": [
    "# ML Model - 2 Implementation with hyperparameter optimization techniques (i.e., GridSearch CV, RandomSearch CV, Bayesian Optimization etc.)\n",
    "\n",
    "# Define the hyperparameter grid\n",
    "\n",
    "grid = {'max_depth' : [3,4,5,6,7,8],\n",
    "\n",
    "        'min_samples_split' : np.arange(2,8),\n",
    "\n",
    "        'min_samples_leaf' : np.arange(10,20)}\n",
    "\n",
    "\n",
    "\n",
    "# Initialize the model\n",
    "\n",
    "model = DecisionTreeClassifier()\n",
    "\n",
    "\n",
    "\n",
    "# repeated stratified kfold\n",
    "\n",
    "rskf = RepeatedStratifiedKFold(n_splits=3, n_repeats=3, random_state=0)\n",
    "\n",
    "\n",
    "\n",
    "# Initialize GridSearchCV\n",
    "\n",
    "grid_search = GridSearchCV(model, grid, cv=rskf)\n",
    "\n",
    "\n",
    "\n",
    "# Fit the GridSearchCV to the training data\n",
    "\n",
    "grid_search.fit(x_train, y_train)\n",
    "\n",
    "\n",
    "\n",
    "# Select the best hyperparameters\n",
    "\n",
    "best_params = grid_search.best_params_\n",
    "\n",
    "print(\"Best hyperparameters: \", best_params)"
   ]
  },
  {
   "cell_type": "code",
   "execution_count": 42,
   "id": "b365f48b",
   "metadata": {
    "execution": {
     "iopub.execute_input": "2024-11-25T23:02:30.540782Z",
     "iopub.status.busy": "2024-11-25T23:02:30.540418Z",
     "iopub.status.idle": "2024-11-25T23:02:30.545669Z",
     "shell.execute_reply": "2024-11-25T23:02:30.544526Z"
    },
    "papermill": {
     "duration": 0.036428,
     "end_time": "2024-11-25T23:02:30.547961",
     "exception": false,
     "start_time": "2024-11-25T23:02:30.511533",
     "status": "completed"
    },
    "tags": []
   },
   "outputs": [],
   "source": [
    "# Train a new model with the best hyperparameters\n",
    "\n",
    "dt_model2 = DecisionTreeClassifier(max_depth=best_params['max_depth'],\n",
    "\n",
    "                                 min_samples_leaf=best_params['min_samples_leaf'],\n",
    "\n",
    "                                 min_samples_split=best_params['min_samples_split'],\n",
    "\n",
    "                                 random_state=20)"
   ]
  },
  {
   "cell_type": "code",
   "execution_count": 43,
   "id": "4f887442",
   "metadata": {
    "execution": {
     "iopub.execute_input": "2024-11-25T23:02:30.605242Z",
     "iopub.status.busy": "2024-11-25T23:02:30.604495Z",
     "iopub.status.idle": "2024-11-25T23:02:31.312195Z",
     "shell.execute_reply": "2024-11-25T23:02:31.310824Z"
    },
    "papermill": {
     "duration": 0.74001,
     "end_time": "2024-11-25T23:02:31.315466",
     "exception": false,
     "start_time": "2024-11-25T23:02:30.575456",
     "status": "completed"
    },
    "tags": []
   },
   "outputs": [
    {
     "name": "stdout",
     "output_type": "stream",
     "text": [
      "\n",
      "Confusion Matrix:\n"
     ]
    },
    {
     "data": {
      "image/png": "[encoded data removed]",
      "text/plain": [
       "<Figure size 1100x400 with 4 Axes>"
      ]
     },
     "metadata": {},
     "output_type": "display_data"
    },
    {
     "name": "stdout",
     "output_type": "stream",
     "text": [
      "\n",
      "Train Classification Report:\n",
      "|              |   precision |   recall |   f1-score |    support |\n",
      "|:-------------|------------:|---------:|-----------:|-----------:|\n",
      "| 0            |    1        | 1        |   1        |  33        |\n",
      "| 1            |    0.921053 | 1        |   0.958904 |  35        |\n",
      "| 2            |    1        | 0.918919 |   0.957746 |  37        |\n",
      "| accuracy     |    0.971429 | 0.971429 |   0.971429 |   0.971429 |\n",
      "| macro avg    |    0.973684 | 0.972973 |   0.972217 | 105        |\n",
      "| weighted avg |    0.973684 | 0.971429 |   0.971412 | 105        |\n",
      "\n",
      "Test Classification Report:\n",
      "|              |   precision |   recall |   f1-score |   support |\n",
      "|:-------------|------------:|---------:|-----------:|----------:|\n",
      "| 0            |    1        | 1        |   1        | 17        |\n",
      "| 1            |    0.928571 | 0.866667 |   0.896552 | 15        |\n",
      "| 2            |    0.857143 | 0.923077 |   0.888889 | 13        |\n",
      "| accuracy     |    0.933333 | 0.933333 |   0.933333 |  0.933333 |\n",
      "| macro avg    |    0.928571 | 0.929915 |   0.92848  | 45        |\n",
      "| weighted avg |    0.934921 | 0.933333 |   0.933418 | 45        |\n"
     ]
    }
   ],
   "source": [
    "# Visualizing evaluation Metric Score chart\n",
    "\n",
    "dt2_score = evaluate_model(dt_model2, x_train, x_test, y_train, y_test)"
   ]
  },
  {
   "cell_type": "code",
   "execution_count": 44,
   "id": "0d44dd04",
   "metadata": {
    "execution": {
     "iopub.execute_input": "2024-11-25T23:02:31.381495Z",
     "iopub.status.busy": "2024-11-25T23:02:31.380961Z",
     "iopub.status.idle": "2024-11-25T23:02:31.395567Z",
     "shell.execute_reply": "2024-11-25T23:02:31.394505Z"
    },
    "papermill": {
     "duration": 0.047158,
     "end_time": "2024-11-25T23:02:31.398181",
     "exception": false,
     "start_time": "2024-11-25T23:02:31.351023",
     "status": "completed"
    },
    "tags": []
   },
   "outputs": [
    {
     "data": {
      "text/html": [
       "<div>\n",
       "<style scoped>\n",
       "    .dataframe tbody tr th:only-of-type {\n",
       "        vertical-align: middle;\n",
       "    }\n",
       "\n",
       "    .dataframe tbody tr th {\n",
       "        vertical-align: top;\n",
       "    }\n",
       "\n",
       "    .dataframe thead th {\n",
       "        text-align: right;\n",
       "    }\n",
       "</style>\n",
       "<table border=\"1\" class=\"dataframe\">\n",
       "  <thead>\n",
       "    <tr style=\"text-align: right;\">\n",
       "      <th></th>\n",
       "      <th>Logistic regression</th>\n",
       "      <th>Logistic regression tuned</th>\n",
       "      <th>Decision Tree</th>\n",
       "    </tr>\n",
       "  </thead>\n",
       "  <tbody>\n",
       "    <tr>\n",
       "      <th>Precision Train</th>\n",
       "      <td>1.000000</td>\n",
       "      <td>1.000000</td>\n",
       "      <td>1.000000</td>\n",
       "    </tr>\n",
       "    <tr>\n",
       "      <th>Precision Test</th>\n",
       "      <td>0.945833</td>\n",
       "      <td>0.932026</td>\n",
       "      <td>0.945833</td>\n",
       "    </tr>\n",
       "    <tr>\n",
       "      <th>Recall Train</th>\n",
       "      <td>1.000000</td>\n",
       "      <td>1.000000</td>\n",
       "      <td>1.000000</td>\n",
       "    </tr>\n",
       "    <tr>\n",
       "      <th>Recall Test</th>\n",
       "      <td>0.933333</td>\n",
       "      <td>0.911111</td>\n",
       "      <td>0.933333</td>\n",
       "    </tr>\n",
       "    <tr>\n",
       "      <th>Accuracy Train</th>\n",
       "      <td>1.000000</td>\n",
       "      <td>1.000000</td>\n",
       "      <td>1.000000</td>\n",
       "    </tr>\n",
       "    <tr>\n",
       "      <th>Accuracy Test</th>\n",
       "      <td>0.933333</td>\n",
       "      <td>0.911111</td>\n",
       "      <td>0.933333</td>\n",
       "    </tr>\n",
       "    <tr>\n",
       "      <th>F1 macro Train</th>\n",
       "      <td>1.000000</td>\n",
       "      <td>1.000000</td>\n",
       "      <td>1.000000</td>\n",
       "    </tr>\n",
       "    <tr>\n",
       "      <th>F1 macro Test</th>\n",
       "      <td>0.933078</td>\n",
       "      <td>0.910199</td>\n",
       "      <td>0.933078</td>\n",
       "    </tr>\n",
       "  </tbody>\n",
       "</table>\n",
       "</div>"
      ],
      "text/plain": [
       "                 Logistic regression  Logistic regression tuned  Decision Tree\n",
       "Precision Train             1.000000                   1.000000       1.000000\n",
       "Precision Test              0.945833                   0.932026       0.945833\n",
       "Recall Train                1.000000                   1.000000       1.000000\n",
       "Recall Test                 0.933333                   0.911111       0.933333\n",
       "Accuracy Train              1.000000                   1.000000       1.000000\n",
       "Accuracy Test               0.933333                   0.911111       0.933333\n",
       "F1 macro Train              1.000000                   1.000000       1.000000\n",
       "F1 macro Test               0.933078                   0.910199       0.933078"
      ]
     },
     "execution_count": 44,
     "metadata": {},
     "output_type": "execute_result"
    }
   ],
   "source": [
    "\n",
    "\n",
    "# Updated Evaluation metric Score Chart\n",
    "\n",
    "score"
   ]
  },
  {
   "cell_type": "markdown",
   "id": "93923315",
   "metadata": {
    "papermill": {
     "duration": 0.052513,
     "end_time": "2024-11-25T23:02:31.485253",
     "exception": false,
     "start_time": "2024-11-25T23:02:31.432740",
     "status": "completed"
    },
    "tags": []
   },
   "source": [
    "## ML Model - 3 : Random Forest"
   ]
  },
  {
   "cell_type": "code",
   "execution_count": 45,
   "id": "e0f84f2b",
   "metadata": {
    "execution": {
     "iopub.execute_input": "2024-11-25T23:02:31.559666Z",
     "iopub.status.busy": "2024-11-25T23:02:31.558766Z",
     "iopub.status.idle": "2024-11-25T23:02:31.564511Z",
     "shell.execute_reply": "2024-11-25T23:02:31.563387Z"
    },
    "papermill": {
     "duration": 0.03921,
     "end_time": "2024-11-25T23:02:31.567243",
     "exception": false,
     "start_time": "2024-11-25T23:02:31.528033",
     "status": "completed"
    },
    "tags": []
   },
   "outputs": [],
   "source": [
    "# ML Model - 3 Implementation\n",
    "\n",
    "rf_model = RandomForestClassifier(random_state=0)"
   ]
  },
  {
   "cell_type": "markdown",
   "id": "17b07cfa",
   "metadata": {
    "papermill": {
     "duration": 0.049014,
     "end_time": "2024-11-25T23:02:31.653608",
     "exception": false,
     "start_time": "2024-11-25T23:02:31.604594",
     "status": "completed"
    },
    "tags": []
   },
   "source": [
    "### 1. Explain the ML Model used and it's performance using Evaluation metric Score Chart."
   ]
  },
  {
   "cell_type": "code",
   "execution_count": 46,
   "id": "4eb89576",
   "metadata": {
    "execution": {
     "iopub.execute_input": "2024-11-25T23:02:31.756234Z",
     "iopub.status.busy": "2024-11-25T23:02:31.755834Z",
     "iopub.status.idle": "2024-11-25T23:02:32.612635Z",
     "shell.execute_reply": "2024-11-25T23:02:32.611053Z"
    },
    "papermill": {
     "duration": 0.911215,
     "end_time": "2024-11-25T23:02:32.615259",
     "exception": false,
     "start_time": "2024-11-25T23:02:31.704044",
     "status": "completed"
    },
    "tags": []
   },
   "outputs": [
    {
     "name": "stdout",
     "output_type": "stream",
     "text": [
      "\n",
      "Confusion Matrix:\n"
     ]
    },
    {
     "data": {
      "image/png": "[encoded data removed]",
      "text/plain": [
       "<Figure size 1100x400 with 4 Axes>"
      ]
     },
     "metadata": {},
     "output_type": "display_data"
    },
    {
     "name": "stdout",
     "output_type": "stream",
     "text": [
      "\n",
      "Train Classification Report:\n",
      "|              |   precision |   recall |   f1-score |   support |\n",
      "|:-------------|------------:|---------:|-----------:|----------:|\n",
      "| 0            |           1 |        1 |          1 |        33 |\n",
      "| 1            |           1 |        1 |          1 |        35 |\n",
      "| 2            |           1 |        1 |          1 |        37 |\n",
      "| accuracy     |           1 |        1 |          1 |         1 |\n",
      "| macro avg    |           1 |        1 |          1 |       105 |\n",
      "| weighted avg |           1 |        1 |          1 |       105 |\n",
      "\n",
      "Test Classification Report:\n",
      "|              |   precision |   recall |   f1-score |   support |\n",
      "|:-------------|------------:|---------:|-----------:|----------:|\n",
      "| 0            |    1        | 1        |   1        | 17        |\n",
      "| 1            |    1        | 0.8      |   0.888889 | 15        |\n",
      "| 2            |    0.8125   | 1        |   0.896552 | 13        |\n",
      "| accuracy     |    0.933333 | 0.933333 |   0.933333 |  0.933333 |\n",
      "| macro avg    |    0.9375   | 0.933333 |   0.92848  | 45        |\n",
      "| weighted avg |    0.945833 | 0.933333 |   0.933078 | 45        |\n"
     ]
    }
   ],
   "source": [
    "# Visualizing evaluation Metric Score chart\n",
    "\n",
    "rf_score = evaluate_model(rf_model, x_train, x_test, y_train, y_test)"
   ]
  },
  {
   "cell_type": "code",
   "execution_count": 47,
   "id": "4d26558a",
   "metadata": {
    "execution": {
     "iopub.execute_input": "2024-11-25T23:02:32.677371Z",
     "iopub.status.busy": "2024-11-25T23:02:32.676163Z",
     "iopub.status.idle": "2024-11-25T23:02:32.688953Z",
     "shell.execute_reply": "2024-11-25T23:02:32.687919Z"
    },
    "papermill": {
     "duration": 0.046426,
     "end_time": "2024-11-25T23:02:32.691592",
     "exception": false,
     "start_time": "2024-11-25T23:02:32.645166",
     "status": "completed"
    },
    "tags": []
   },
   "outputs": [
    {
     "data": {
      "text/html": [
       "<div>\n",
       "<style scoped>\n",
       "    .dataframe tbody tr th:only-of-type {\n",
       "        vertical-align: middle;\n",
       "    }\n",
       "\n",
       "    .dataframe tbody tr th {\n",
       "        vertical-align: top;\n",
       "    }\n",
       "\n",
       "    .dataframe thead th {\n",
       "        text-align: right;\n",
       "    }\n",
       "</style>\n",
       "<table border=\"1\" class=\"dataframe\">\n",
       "  <thead>\n",
       "    <tr style=\"text-align: right;\">\n",
       "      <th></th>\n",
       "      <th>Logistic regression</th>\n",
       "      <th>Logistic regression tuned</th>\n",
       "      <th>Decision Tree</th>\n",
       "      <th>Random Forest</th>\n",
       "    </tr>\n",
       "  </thead>\n",
       "  <tbody>\n",
       "    <tr>\n",
       "      <th>Precision Train</th>\n",
       "      <td>1.000000</td>\n",
       "      <td>1.000000</td>\n",
       "      <td>1.000000</td>\n",
       "      <td>1.000000</td>\n",
       "    </tr>\n",
       "    <tr>\n",
       "      <th>Precision Test</th>\n",
       "      <td>0.945833</td>\n",
       "      <td>0.932026</td>\n",
       "      <td>0.945833</td>\n",
       "      <td>0.945833</td>\n",
       "    </tr>\n",
       "    <tr>\n",
       "      <th>Recall Train</th>\n",
       "      <td>1.000000</td>\n",
       "      <td>1.000000</td>\n",
       "      <td>1.000000</td>\n",
       "      <td>1.000000</td>\n",
       "    </tr>\n",
       "    <tr>\n",
       "      <th>Recall Test</th>\n",
       "      <td>0.933333</td>\n",
       "      <td>0.911111</td>\n",
       "      <td>0.933333</td>\n",
       "      <td>0.933333</td>\n",
       "    </tr>\n",
       "    <tr>\n",
       "      <th>Accuracy Train</th>\n",
       "      <td>1.000000</td>\n",
       "      <td>1.000000</td>\n",
       "      <td>1.000000</td>\n",
       "      <td>1.000000</td>\n",
       "    </tr>\n",
       "    <tr>\n",
       "      <th>Accuracy Test</th>\n",
       "      <td>0.933333</td>\n",
       "      <td>0.911111</td>\n",
       "      <td>0.933333</td>\n",
       "      <td>0.933333</td>\n",
       "    </tr>\n",
       "    <tr>\n",
       "      <th>F1 macro Train</th>\n",
       "      <td>1.000000</td>\n",
       "      <td>1.000000</td>\n",
       "      <td>1.000000</td>\n",
       "      <td>1.000000</td>\n",
       "    </tr>\n",
       "    <tr>\n",
       "      <th>F1 macro Test</th>\n",
       "      <td>0.933078</td>\n",
       "      <td>0.910199</td>\n",
       "      <td>0.933078</td>\n",
       "      <td>0.933078</td>\n",
       "    </tr>\n",
       "  </tbody>\n",
       "</table>\n",
       "</div>"
      ],
      "text/plain": [
       "                 Logistic regression  Logistic regression tuned  \\\n",
       "Precision Train             1.000000                   1.000000   \n",
       "Precision Test              0.945833                   0.932026   \n",
       "Recall Train                1.000000                   1.000000   \n",
       "Recall Test                 0.933333                   0.911111   \n",
       "Accuracy Train              1.000000                   1.000000   \n",
       "Accuracy Test               0.933333                   0.911111   \n",
       "F1 macro Train              1.000000                   1.000000   \n",
       "F1 macro Test               0.933078                   0.910199   \n",
       "\n",
       "                 Decision Tree  Random Forest  \n",
       "Precision Train       1.000000       1.000000  \n",
       "Precision Test        0.945833       0.945833  \n",
       "Recall Train          1.000000       1.000000  \n",
       "Recall Test           0.933333       0.933333  \n",
       "Accuracy Train        1.000000       1.000000  \n",
       "Accuracy Test         0.933333       0.933333  \n",
       "F1 macro Train        1.000000       1.000000  \n",
       "F1 macro Test         0.933078       0.933078  "
      ]
     },
     "execution_count": 47,
     "metadata": {},
     "output_type": "execute_result"
    }
   ],
   "source": [
    "# Updated Evaluation metric Score Chart\n",
    "\n",
    "score['Random Forest'] = rf_score\n",
    "\n",
    "score"
   ]
  },
  {
   "cell_type": "markdown",
   "id": "8fac80db",
   "metadata": {
    "papermill": {
     "duration": 0.029039,
     "end_time": "2024-11-25T23:02:32.756503",
     "exception": false,
     "start_time": "2024-11-25T23:02:32.727464",
     "status": "completed"
    },
    "tags": []
   },
   "source": [
    "### 2. Cross- Validation & Hyperparameter Tuning"
   ]
  },
  {
   "cell_type": "code",
   "execution_count": 48,
   "id": "4f4b089b",
   "metadata": {
    "execution": {
     "iopub.execute_input": "2024-11-25T23:02:32.819704Z",
     "iopub.status.busy": "2024-11-25T23:02:32.819180Z",
     "iopub.status.idle": "2024-11-25T23:02:37.162054Z",
     "shell.execute_reply": "2024-11-25T23:02:37.160426Z"
    },
    "papermill": {
     "duration": 4.377007,
     "end_time": "2024-11-25T23:02:37.164328",
     "exception": false,
     "start_time": "2024-11-25T23:02:32.787321",
     "status": "completed"
    },
    "tags": []
   },
   "outputs": [
    {
     "name": "stdout",
     "output_type": "stream",
     "text": [
      "Best hyperparameters:  {'n_estimators': 50, 'min_samples_split': 4, 'max_depth': 11}\n"
     ]
    }
   ],
   "source": [
    "# ML Model - 3 Implementation with hyperparameter optimization techniques (i.e., GridSearch CV, RandomSearch CV, Bayesian Optimization etc.)\n",
    "\n",
    "# Define the hyperparameter grid\n",
    "\n",
    "grid = {'n_estimators': [10, 50, 100, 200],\n",
    "\n",
    "              'max_depth': [8, 9, 10, 11, 12,13, 14, 15],\n",
    "\n",
    "              'min_samples_split': [2, 3, 4, 5]}\n",
    "\n",
    "\n",
    "\n",
    "# Initialize the model\n",
    "\n",
    "rf = RandomForestClassifier(random_state=0)\n",
    "\n",
    "\n",
    "\n",
    "# Repeated stratified kfold\n",
    "\n",
    "rskf = RepeatedStratifiedKFold(n_splits=3, n_repeats=3, random_state=0)\n",
    "\n",
    "\n",
    "\n",
    "# Initialize RandomSearchCV\n",
    "\n",
    "random_search = RandomizedSearchCV(rf, grid,cv=rskf, n_iter=10, n_jobs=-1)\n",
    "\n",
    "\n",
    "\n",
    "# Fit the RandomSearchCV to the training data\n",
    "\n",
    "random_search.fit(x_train, y_train)\n",
    "\n",
    "\n",
    "\n",
    "# Select the best hyperparameters\n",
    "\n",
    "best_params = random_search.best_params_\n",
    "\n",
    "print(\"Best hyperparameters: \", best_params)"
   ]
  },
  {
   "cell_type": "code",
   "execution_count": 49,
   "id": "082aa789",
   "metadata": {
    "execution": {
     "iopub.execute_input": "2024-11-25T23:02:37.225375Z",
     "iopub.status.busy": "2024-11-25T23:02:37.224930Z",
     "iopub.status.idle": "2024-11-25T23:02:37.230849Z",
     "shell.execute_reply": "2024-11-25T23:02:37.229586Z"
    },
    "papermill": {
     "duration": 0.038657,
     "end_time": "2024-11-25T23:02:37.232942",
     "exception": false,
     "start_time": "2024-11-25T23:02:37.194285",
     "status": "completed"
    },
    "tags": []
   },
   "outputs": [],
   "source": [
    "# Initialize model with best parameters\n",
    "\n",
    "rf_model2 = RandomForestClassifier(n_estimators = best_params['n_estimators'],\n",
    "\n",
    "                                 min_samples_leaf= best_params['min_samples_split'],\n",
    "\n",
    "                                 max_depth = best_params['max_depth'],\n",
    "\n",
    "                                 random_state=0)"
   ]
  },
  {
   "cell_type": "code",
   "execution_count": 50,
   "id": "55a360f1",
   "metadata": {
    "execution": {
     "iopub.execute_input": "2024-11-25T23:02:37.292633Z",
     "iopub.status.busy": "2024-11-25T23:02:37.292210Z",
     "iopub.status.idle": "2024-11-25T23:02:38.055245Z",
     "shell.execute_reply": "2024-11-25T23:02:38.053904Z"
    },
    "papermill": {
     "duration": 0.795699,
     "end_time": "2024-11-25T23:02:38.057572",
     "exception": false,
     "start_time": "2024-11-25T23:02:37.261873",
     "status": "completed"
    },
    "tags": []
   },
   "outputs": [
    {
     "name": "stdout",
     "output_type": "stream",
     "text": [
      "\n",
      "Confusion Matrix:\n"
     ]
    },
    {
     "data": {
      "image/png": "[encoded data removed]",
      "text/plain": [
       "<Figure size 1100x400 with 4 Axes>"
      ]
     },
     "metadata": {},
     "output_type": "display_data"
    },
    {
     "name": "stdout",
     "output_type": "stream",
     "text": [
      "\n",
      "Train Classification Report:\n",
      "|              |   precision |   recall |   f1-score |    support |\n",
      "|:-------------|------------:|---------:|-----------:|-----------:|\n",
      "| 0            |    1        | 1        |   1        |  33        |\n",
      "| 1            |    1        | 0.971429 |   0.985507 |  35        |\n",
      "| 2            |    0.973684 | 1        |   0.986667 |  37        |\n",
      "| accuracy     |    0.990476 | 0.990476 |   0.990476 |   0.990476 |\n",
      "| macro avg    |    0.991228 | 0.990476 |   0.990725 | 105        |\n",
      "| weighted avg |    0.990727 | 0.990476 |   0.990471 | 105        |\n",
      "\n",
      "Test Classification Report:\n",
      "|              |   precision |   recall |   f1-score |   support |\n",
      "|:-------------|------------:|---------:|-----------:|----------:|\n",
      "| 0            |    1        | 1        |   1        | 17        |\n",
      "| 1            |    1        | 0.733333 |   0.846154 | 15        |\n",
      "| 2            |    0.764706 | 1        |   0.866667 | 13        |\n",
      "| accuracy     |    0.911111 | 0.911111 |   0.911111 |  0.911111 |\n",
      "| macro avg    |    0.921569 | 0.911111 |   0.904274 | 45        |\n",
      "| weighted avg |    0.932026 | 0.911111 |   0.910199 | 45        |\n"
     ]
    }
   ],
   "source": [
    "# Visualizing evaluation Metric Score chart\n",
    "\n",
    "rf2_score = evaluate_model(rf_model2, x_train, x_test, y_train, y_test)"
   ]
  },
  {
   "cell_type": "code",
   "execution_count": 51,
   "id": "c5b4188a",
   "metadata": {
    "execution": {
     "iopub.execute_input": "2024-11-25T23:02:38.120064Z",
     "iopub.status.busy": "2024-11-25T23:02:38.119713Z",
     "iopub.status.idle": "2024-11-25T23:02:38.133635Z",
     "shell.execute_reply": "2024-11-25T23:02:38.132457Z"
    },
    "papermill": {
     "duration": 0.047438,
     "end_time": "2024-11-25T23:02:38.135820",
     "exception": false,
     "start_time": "2024-11-25T23:02:38.088382",
     "status": "completed"
    },
    "tags": []
   },
   "outputs": [
    {
     "data": {
      "text/html": [
       "<div>\n",
       "<style scoped>\n",
       "    .dataframe tbody tr th:only-of-type {\n",
       "        vertical-align: middle;\n",
       "    }\n",
       "\n",
       "    .dataframe tbody tr th {\n",
       "        vertical-align: top;\n",
       "    }\n",
       "\n",
       "    .dataframe thead th {\n",
       "        text-align: right;\n",
       "    }\n",
       "</style>\n",
       "<table border=\"1\" class=\"dataframe\">\n",
       "  <thead>\n",
       "    <tr style=\"text-align: right;\">\n",
       "      <th></th>\n",
       "      <th>Logistic regression</th>\n",
       "      <th>Logistic regression tuned</th>\n",
       "      <th>Decision Tree</th>\n",
       "      <th>Random Forest</th>\n",
       "    </tr>\n",
       "  </thead>\n",
       "  <tbody>\n",
       "    <tr>\n",
       "      <th>Precision Train</th>\n",
       "      <td>1.000000</td>\n",
       "      <td>1.000000</td>\n",
       "      <td>1.000000</td>\n",
       "      <td>1.000000</td>\n",
       "    </tr>\n",
       "    <tr>\n",
       "      <th>Precision Test</th>\n",
       "      <td>0.945833</td>\n",
       "      <td>0.932026</td>\n",
       "      <td>0.945833</td>\n",
       "      <td>0.945833</td>\n",
       "    </tr>\n",
       "    <tr>\n",
       "      <th>Recall Train</th>\n",
       "      <td>1.000000</td>\n",
       "      <td>1.000000</td>\n",
       "      <td>1.000000</td>\n",
       "      <td>1.000000</td>\n",
       "    </tr>\n",
       "    <tr>\n",
       "      <th>Recall Test</th>\n",
       "      <td>0.933333</td>\n",
       "      <td>0.911111</td>\n",
       "      <td>0.933333</td>\n",
       "      <td>0.933333</td>\n",
       "    </tr>\n",
       "    <tr>\n",
       "      <th>Accuracy Train</th>\n",
       "      <td>1.000000</td>\n",
       "      <td>1.000000</td>\n",
       "      <td>1.000000</td>\n",
       "      <td>1.000000</td>\n",
       "    </tr>\n",
       "    <tr>\n",
       "      <th>Accuracy Test</th>\n",
       "      <td>0.933333</td>\n",
       "      <td>0.911111</td>\n",
       "      <td>0.933333</td>\n",
       "      <td>0.933333</td>\n",
       "    </tr>\n",
       "    <tr>\n",
       "      <th>F1 macro Train</th>\n",
       "      <td>1.000000</td>\n",
       "      <td>1.000000</td>\n",
       "      <td>1.000000</td>\n",
       "      <td>1.000000</td>\n",
       "    </tr>\n",
       "    <tr>\n",
       "      <th>F1 macro Test</th>\n",
       "      <td>0.933078</td>\n",
       "      <td>0.910199</td>\n",
       "      <td>0.933078</td>\n",
       "      <td>0.933078</td>\n",
       "    </tr>\n",
       "  </tbody>\n",
       "</table>\n",
       "</div>"
      ],
      "text/plain": [
       "                 Logistic regression  Logistic regression tuned  \\\n",
       "Precision Train             1.000000                   1.000000   \n",
       "Precision Test              0.945833                   0.932026   \n",
       "Recall Train                1.000000                   1.000000   \n",
       "Recall Test                 0.933333                   0.911111   \n",
       "Accuracy Train              1.000000                   1.000000   \n",
       "Accuracy Test               0.933333                   0.911111   \n",
       "F1 macro Train              1.000000                   1.000000   \n",
       "F1 macro Test               0.933078                   0.910199   \n",
       "\n",
       "                 Decision Tree  Random Forest  \n",
       "Precision Train       1.000000       1.000000  \n",
       "Precision Test        0.945833       0.945833  \n",
       "Recall Train          1.000000       1.000000  \n",
       "Recall Test           0.933333       0.933333  \n",
       "Accuracy Train        1.000000       1.000000  \n",
       "Accuracy Test         0.933333       0.933333  \n",
       "F1 macro Train        1.000000       1.000000  \n",
       "F1 macro Test         0.933078       0.933078  "
      ]
     },
     "execution_count": 51,
     "metadata": {},
     "output_type": "execute_result"
    }
   ],
   "source": [
    "# Updated Evaluation metric Score Chart\n",
    "\n",
    "score"
   ]
  },
  {
   "cell_type": "markdown",
   "id": "898bb169",
   "metadata": {
    "papermill": {
     "duration": 0.029787,
     "end_time": "2024-11-25T23:02:38.197606",
     "exception": false,
     "start_time": "2024-11-25T23:02:38.167819",
     "status": "completed"
    },
    "tags": []
   },
   "source": [
    "## ML Model - 4 : SVM (Support Vector Machine)"
   ]
  },
  {
   "cell_type": "code",
   "execution_count": 52,
   "id": "de20b5b8",
   "metadata": {
    "execution": {
     "iopub.execute_input": "2024-11-25T23:02:38.258773Z",
     "iopub.status.busy": "2024-11-25T23:02:38.258413Z",
     "iopub.status.idle": "2024-11-25T23:02:38.263716Z",
     "shell.execute_reply": "2024-11-25T23:02:38.262624Z"
    },
    "papermill": {
     "duration": 0.038422,
     "end_time": "2024-11-25T23:02:38.265857",
     "exception": false,
     "start_time": "2024-11-25T23:02:38.227435",
     "status": "completed"
    },
    "tags": []
   },
   "outputs": [],
   "source": [
    "# ML Model - 4 Implementation\n",
    "\n",
    "svm_model = SVC(kernel='linear', random_state=0, probability=True)"
   ]
  },
  {
   "cell_type": "markdown",
   "id": "9fcaf462",
   "metadata": {
    "papermill": {
     "duration": 0.029481,
     "end_time": "2024-11-25T23:02:38.326000",
     "exception": false,
     "start_time": "2024-11-25T23:02:38.296519",
     "status": "completed"
    },
    "tags": []
   },
   "source": [
    "### 1. Explain the ML Model used and it's performance using Evaluation metric Score Chart."
   ]
  },
  {
   "cell_type": "code",
   "execution_count": 53,
   "id": "b51fedc1",
   "metadata": {
    "execution": {
     "iopub.execute_input": "2024-11-25T23:02:38.387177Z",
     "iopub.status.busy": "2024-11-25T23:02:38.386808Z",
     "iopub.status.idle": "2024-11-25T23:02:38.930510Z",
     "shell.execute_reply": "2024-11-25T23:02:38.929359Z"
    },
    "papermill": {
     "duration": 0.577425,
     "end_time": "2024-11-25T23:02:38.932869",
     "exception": false,
     "start_time": "2024-11-25T23:02:38.355444",
     "status": "completed"
    },
    "tags": []
   },
   "outputs": [
    {
     "name": "stdout",
     "output_type": "stream",
     "text": [
      "\n",
      "Confusion Matrix:\n"
     ]
    },
    {
     "data": {
      "image/png": "[encoded data removed]",
      "text/plain": [
       "<Figure size 1100x400 with 4 Axes>"
      ]
     },
     "metadata": {},
     "output_type": "display_data"
    },
    {
     "name": "stdout",
     "output_type": "stream",
     "text": [
      "\n",
      "Train Classification Report:\n",
      "|              |   precision |   recall |   f1-score |   support |\n",
      "|:-------------|------------:|---------:|-----------:|----------:|\n",
      "| 0            |           1 |        1 |          1 |        33 |\n",
      "| 1            |           1 |        1 |          1 |        35 |\n",
      "| 2            |           1 |        1 |          1 |        37 |\n",
      "| accuracy     |           1 |        1 |          1 |         1 |\n",
      "| macro avg    |           1 |        1 |          1 |       105 |\n",
      "| weighted avg |           1 |        1 |          1 |       105 |\n",
      "\n",
      "Test Classification Report:\n",
      "|              |   precision |   recall |   f1-score |   support |\n",
      "|:-------------|------------:|---------:|-----------:|----------:|\n",
      "| 0            |    1        | 1        |   1        | 17        |\n",
      "| 1            |    1        | 0.8      |   0.888889 | 15        |\n",
      "| 2            |    0.8125   | 1        |   0.896552 | 13        |\n",
      "| accuracy     |    0.933333 | 0.933333 |   0.933333 |  0.933333 |\n",
      "| macro avg    |    0.9375   | 0.933333 |   0.92848  | 45        |\n",
      "| weighted avg |    0.945833 | 0.933333 |   0.933078 | 45        |\n"
     ]
    }
   ],
   "source": [
    "# Visualizing evaluation Metric Score chart\n",
    "\n",
    "svm_score = evaluate_model(svm_model, x_train, x_test, y_train, y_test)"
   ]
  },
  {
   "cell_type": "code",
   "execution_count": 54,
   "id": "b0c21112",
   "metadata": {
    "execution": {
     "iopub.execute_input": "2024-11-25T23:02:38.997553Z",
     "iopub.status.busy": "2024-11-25T23:02:38.996358Z",
     "iopub.status.idle": "2024-11-25T23:02:39.010966Z",
     "shell.execute_reply": "2024-11-25T23:02:39.009830Z"
    },
    "papermill": {
     "duration": 0.049634,
     "end_time": "2024-11-25T23:02:39.013293",
     "exception": false,
     "start_time": "2024-11-25T23:02:38.963659",
     "status": "completed"
    },
    "tags": []
   },
   "outputs": [
    {
     "data": {
      "text/html": [
       "<div>\n",
       "<style scoped>\n",
       "    .dataframe tbody tr th:only-of-type {\n",
       "        vertical-align: middle;\n",
       "    }\n",
       "\n",
       "    .dataframe tbody tr th {\n",
       "        vertical-align: top;\n",
       "    }\n",
       "\n",
       "    .dataframe thead th {\n",
       "        text-align: right;\n",
       "    }\n",
       "</style>\n",
       "<table border=\"1\" class=\"dataframe\">\n",
       "  <thead>\n",
       "    <tr style=\"text-align: right;\">\n",
       "      <th></th>\n",
       "      <th>Logistic regression</th>\n",
       "      <th>Logistic regression tuned</th>\n",
       "      <th>Decision Tree</th>\n",
       "      <th>Random Forest</th>\n",
       "      <th>SVM</th>\n",
       "    </tr>\n",
       "  </thead>\n",
       "  <tbody>\n",
       "    <tr>\n",
       "      <th>Precision Train</th>\n",
       "      <td>1.000000</td>\n",
       "      <td>1.000000</td>\n",
       "      <td>1.000000</td>\n",
       "      <td>1.000000</td>\n",
       "      <td>1.000000</td>\n",
       "    </tr>\n",
       "    <tr>\n",
       "      <th>Precision Test</th>\n",
       "      <td>0.945833</td>\n",
       "      <td>0.932026</td>\n",
       "      <td>0.945833</td>\n",
       "      <td>0.945833</td>\n",
       "      <td>0.945833</td>\n",
       "    </tr>\n",
       "    <tr>\n",
       "      <th>Recall Train</th>\n",
       "      <td>1.000000</td>\n",
       "      <td>1.000000</td>\n",
       "      <td>1.000000</td>\n",
       "      <td>1.000000</td>\n",
       "      <td>1.000000</td>\n",
       "    </tr>\n",
       "    <tr>\n",
       "      <th>Recall Test</th>\n",
       "      <td>0.933333</td>\n",
       "      <td>0.911111</td>\n",
       "      <td>0.933333</td>\n",
       "      <td>0.933333</td>\n",
       "      <td>0.933333</td>\n",
       "    </tr>\n",
       "    <tr>\n",
       "      <th>Accuracy Train</th>\n",
       "      <td>1.000000</td>\n",
       "      <td>1.000000</td>\n",
       "      <td>1.000000</td>\n",
       "      <td>1.000000</td>\n",
       "      <td>1.000000</td>\n",
       "    </tr>\n",
       "    <tr>\n",
       "      <th>Accuracy Test</th>\n",
       "      <td>0.933333</td>\n",
       "      <td>0.911111</td>\n",
       "      <td>0.933333</td>\n",
       "      <td>0.933333</td>\n",
       "      <td>0.933333</td>\n",
       "    </tr>\n",
       "    <tr>\n",
       "      <th>F1 macro Train</th>\n",
       "      <td>1.000000</td>\n",
       "      <td>1.000000</td>\n",
       "      <td>1.000000</td>\n",
       "      <td>1.000000</td>\n",
       "      <td>1.000000</td>\n",
       "    </tr>\n",
       "    <tr>\n",
       "      <th>F1 macro Test</th>\n",
       "      <td>0.933078</td>\n",
       "      <td>0.910199</td>\n",
       "      <td>0.933078</td>\n",
       "      <td>0.933078</td>\n",
       "      <td>0.933078</td>\n",
       "    </tr>\n",
       "  </tbody>\n",
       "</table>\n",
       "</div>"
      ],
      "text/plain": [
       "                 Logistic regression  Logistic regression tuned  \\\n",
       "Precision Train             1.000000                   1.000000   \n",
       "Precision Test              0.945833                   0.932026   \n",
       "Recall Train                1.000000                   1.000000   \n",
       "Recall Test                 0.933333                   0.911111   \n",
       "Accuracy Train              1.000000                   1.000000   \n",
       "Accuracy Test               0.933333                   0.911111   \n",
       "F1 macro Train              1.000000                   1.000000   \n",
       "F1 macro Test               0.933078                   0.910199   \n",
       "\n",
       "                 Decision Tree  Random Forest       SVM  \n",
       "Precision Train       1.000000       1.000000  1.000000  \n",
       "Precision Test        0.945833       0.945833  0.945833  \n",
       "Recall Train          1.000000       1.000000  1.000000  \n",
       "Recall Test           0.933333       0.933333  0.933333  \n",
       "Accuracy Train        1.000000       1.000000  1.000000  \n",
       "Accuracy Test         0.933333       0.933333  0.933333  \n",
       "F1 macro Train        1.000000       1.000000  1.000000  \n",
       "F1 macro Test         0.933078       0.933078  0.933078  "
      ]
     },
     "execution_count": 54,
     "metadata": {},
     "output_type": "execute_result"
    }
   ],
   "source": [
    "# Updated Evaluation metric Score Chart\n",
    "\n",
    "score['SVM'] = svm_score\n",
    "\n",
    "score"
   ]
  },
  {
   "cell_type": "markdown",
   "id": "0e6d4ad9",
   "metadata": {
    "papermill": {
     "duration": 0.030299,
     "end_time": "2024-11-25T23:02:39.075968",
     "exception": false,
     "start_time": "2024-11-25T23:02:39.045669",
     "status": "completed"
    },
    "tags": []
   },
   "source": [
    "### 2. Cross- Validation & Hyperparameter Tuning"
   ]
  },
  {
   "cell_type": "code",
   "execution_count": 55,
   "id": "3c7b7fef",
   "metadata": {
    "execution": {
     "iopub.execute_input": "2024-11-25T23:02:39.139855Z",
     "iopub.status.busy": "2024-11-25T23:02:39.139481Z",
     "iopub.status.idle": "2024-11-25T23:02:39.423979Z",
     "shell.execute_reply": "2024-11-25T23:02:39.422797Z"
    },
    "papermill": {
     "duration": 0.319444,
     "end_time": "2024-11-25T23:02:39.426391",
     "exception": false,
     "start_time": "2024-11-25T23:02:39.106947",
     "status": "completed"
    },
    "tags": []
   },
   "outputs": [
    {
     "name": "stdout",
     "output_type": "stream",
     "text": [
      "Best hyperparameters:  {'kernel': 'rbf', 'degree': 3, 'C': 8.4}\n"
     ]
    }
   ],
   "source": [
    "# ML Model - 4 Implementation with hyperparameter optimization techniques (i.e., GridSearch CV, RandomSearch CV, Bayesian Optimization etc.)\n",
    "\n",
    "# Define the hyperparameter grid\n",
    "\n",
    "param_grid = {'C': np.arange(0.1, 10, 0.1),\n",
    "\n",
    "              'kernel': ['linear', 'poly', 'rbf', 'sigmoid'],\n",
    "\n",
    "              'degree': np.arange(2, 6, 1)}\n",
    "\n",
    "\n",
    "\n",
    "# Initialize the model\n",
    "\n",
    "svm = SVC(random_state=0, probability=True)\n",
    "\n",
    "\n",
    "\n",
    "# Repeated stratified kfold\n",
    "\n",
    "rskf = RepeatedStratifiedKFold(n_splits=3, n_repeats=3, random_state=0)\n",
    "\n",
    "\n",
    "\n",
    "# Initialize RandomizedSearchCV with kfold cross-validation\n",
    "\n",
    "random_search = RandomizedSearchCV(svm, param_grid, n_iter=10, cv=rskf, n_jobs=-1)\n",
    "\n",
    "\n",
    "\n",
    "# Fit the RandomizedSearchCV to the training data\n",
    "\n",
    "random_search.fit(x_train, y_train)\n",
    "\n",
    "\n",
    "\n",
    "# Select the best hyperparameters\n",
    "\n",
    "best_params = random_search.best_params_\n",
    "\n",
    "print(\"Best hyperparameters: \", best_params)"
   ]
  },
  {
   "cell_type": "code",
   "execution_count": 56,
   "id": "cdd20c30",
   "metadata": {
    "execution": {
     "iopub.execute_input": "2024-11-25T23:02:39.492062Z",
     "iopub.status.busy": "2024-11-25T23:02:39.491634Z",
     "iopub.status.idle": "2024-11-25T23:02:39.496771Z",
     "shell.execute_reply": "2024-11-25T23:02:39.495770Z"
    },
    "papermill": {
     "duration": 0.040361,
     "end_time": "2024-11-25T23:02:39.498966",
     "exception": false,
     "start_time": "2024-11-25T23:02:39.458605",
     "status": "completed"
    },
    "tags": []
   },
   "outputs": [],
   "source": [
    "# Initialize model with best parameters\n",
    "\n",
    "svm_model2 = SVC(C = best_params['C'],\n",
    "\n",
    "           kernel = best_params['kernel'],\n",
    "\n",
    "           degree = best_params['degree'],\n",
    "\n",
    "           random_state=0, probability=True)"
   ]
  },
  {
   "cell_type": "code",
   "execution_count": 57,
   "id": "3cad5fb2",
   "metadata": {
    "execution": {
     "iopub.execute_input": "2024-11-25T23:02:39.563395Z",
     "iopub.status.busy": "2024-11-25T23:02:39.562999Z",
     "iopub.status.idle": "2024-11-25T23:02:40.119265Z",
     "shell.execute_reply": "2024-11-25T23:02:40.117667Z"
    },
    "papermill": {
     "duration": 0.591531,
     "end_time": "2024-11-25T23:02:40.121681",
     "exception": false,
     "start_time": "2024-11-25T23:02:39.530150",
     "status": "completed"
    },
    "tags": []
   },
   "outputs": [
    {
     "name": "stdout",
     "output_type": "stream",
     "text": [
      "\n",
      "Confusion Matrix:\n"
     ]
    },
    {
     "data": {
      "image/png": "[encoded data removed]",
      "text/plain": [
       "<Figure size 1100x400 with 4 Axes>"
      ]
     },
     "metadata": {},
     "output_type": "display_data"
    },
    {
     "name": "stdout",
     "output_type": "stream",
     "text": [
      "\n",
      "Train Classification Report:\n",
      "|              |   precision |   recall |   f1-score |   support |\n",
      "|:-------------|------------:|---------:|-----------:|----------:|\n",
      "| 0            |           1 |        1 |          1 |        33 |\n",
      "| 1            |           1 |        1 |          1 |        35 |\n",
      "| 2            |           1 |        1 |          1 |        37 |\n",
      "| accuracy     |           1 |        1 |          1 |         1 |\n",
      "| macro avg    |           1 |        1 |          1 |       105 |\n",
      "| weighted avg |           1 |        1 |          1 |       105 |\n",
      "\n",
      "Test Classification Report:\n",
      "|              |   precision |   recall |   f1-score |   support |\n",
      "|:-------------|------------:|---------:|-----------:|----------:|\n",
      "| 0            |    1        | 1        |   1        | 17        |\n",
      "| 1            |    1        | 0.8      |   0.888889 | 15        |\n",
      "| 2            |    0.8125   | 1        |   0.896552 | 13        |\n",
      "| accuracy     |    0.933333 | 0.933333 |   0.933333 |  0.933333 |\n",
      "| macro avg    |    0.9375   | 0.933333 |   0.92848  | 45        |\n",
      "| weighted avg |    0.945833 | 0.933333 |   0.933078 | 45        |\n"
     ]
    }
   ],
   "source": [
    "# Visualizing evaluation Metric Score chart\n",
    "\n",
    "svm2_score = evaluate_model(svm_model2, x_train, x_test, y_train, y_test)"
   ]
  },
  {
   "cell_type": "code",
   "execution_count": 58,
   "id": "1032d80f",
   "metadata": {
    "execution": {
     "iopub.execute_input": "2024-11-25T23:02:40.190035Z",
     "iopub.status.busy": "2024-11-25T23:02:40.189654Z",
     "iopub.status.idle": "2024-11-25T23:02:40.196750Z",
     "shell.execute_reply": "2024-11-25T23:02:40.195351Z"
    },
    "papermill": {
     "duration": 0.04524,
     "end_time": "2024-11-25T23:02:40.199163",
     "exception": false,
     "start_time": "2024-11-25T23:02:40.153923",
     "status": "completed"
    },
    "tags": []
   },
   "outputs": [],
   "source": [
    "score['SVM tuned'] = svm2_score"
   ]
  },
  {
   "cell_type": "code",
   "execution_count": 59,
   "id": "b608c87a",
   "metadata": {
    "execution": {
     "iopub.execute_input": "2024-11-25T23:02:40.264716Z",
     "iopub.status.busy": "2024-11-25T23:02:40.264265Z",
     "iopub.status.idle": "2024-11-25T23:02:40.279549Z",
     "shell.execute_reply": "2024-11-25T23:02:40.278389Z"
    },
    "papermill": {
     "duration": 0.05044,
     "end_time": "2024-11-25T23:02:40.281777",
     "exception": false,
     "start_time": "2024-11-25T23:02:40.231337",
     "status": "completed"
    },
    "tags": []
   },
   "outputs": [
    {
     "data": {
      "text/html": [
       "<div>\n",
       "<style scoped>\n",
       "    .dataframe tbody tr th:only-of-type {\n",
       "        vertical-align: middle;\n",
       "    }\n",
       "\n",
       "    .dataframe tbody tr th {\n",
       "        vertical-align: top;\n",
       "    }\n",
       "\n",
       "    .dataframe thead th {\n",
       "        text-align: right;\n",
       "    }\n",
       "</style>\n",
       "<table border=\"1\" class=\"dataframe\">\n",
       "  <thead>\n",
       "    <tr style=\"text-align: right;\">\n",
       "      <th></th>\n",
       "      <th>Logistic regression</th>\n",
       "      <th>Logistic regression tuned</th>\n",
       "      <th>Decision Tree</th>\n",
       "      <th>Random Forest</th>\n",
       "      <th>SVM</th>\n",
       "      <th>SVM tuned</th>\n",
       "    </tr>\n",
       "  </thead>\n",
       "  <tbody>\n",
       "    <tr>\n",
       "      <th>Precision Train</th>\n",
       "      <td>1.000000</td>\n",
       "      <td>1.000000</td>\n",
       "      <td>1.000000</td>\n",
       "      <td>1.000000</td>\n",
       "      <td>1.000000</td>\n",
       "      <td>1.000000</td>\n",
       "    </tr>\n",
       "    <tr>\n",
       "      <th>Precision Test</th>\n",
       "      <td>0.945833</td>\n",
       "      <td>0.932026</td>\n",
       "      <td>0.945833</td>\n",
       "      <td>0.945833</td>\n",
       "      <td>0.945833</td>\n",
       "      <td>0.945833</td>\n",
       "    </tr>\n",
       "    <tr>\n",
       "      <th>Recall Train</th>\n",
       "      <td>1.000000</td>\n",
       "      <td>1.000000</td>\n",
       "      <td>1.000000</td>\n",
       "      <td>1.000000</td>\n",
       "      <td>1.000000</td>\n",
       "      <td>1.000000</td>\n",
       "    </tr>\n",
       "    <tr>\n",
       "      <th>Recall Test</th>\n",
       "      <td>0.933333</td>\n",
       "      <td>0.911111</td>\n",
       "      <td>0.933333</td>\n",
       "      <td>0.933333</td>\n",
       "      <td>0.933333</td>\n",
       "      <td>0.933333</td>\n",
       "    </tr>\n",
       "    <tr>\n",
       "      <th>Accuracy Train</th>\n",
       "      <td>1.000000</td>\n",
       "      <td>1.000000</td>\n",
       "      <td>1.000000</td>\n",
       "      <td>1.000000</td>\n",
       "      <td>1.000000</td>\n",
       "      <td>1.000000</td>\n",
       "    </tr>\n",
       "    <tr>\n",
       "      <th>Accuracy Test</th>\n",
       "      <td>0.933333</td>\n",
       "      <td>0.911111</td>\n",
       "      <td>0.933333</td>\n",
       "      <td>0.933333</td>\n",
       "      <td>0.933333</td>\n",
       "      <td>0.933333</td>\n",
       "    </tr>\n",
       "    <tr>\n",
       "      <th>F1 macro Train</th>\n",
       "      <td>1.000000</td>\n",
       "      <td>1.000000</td>\n",
       "      <td>1.000000</td>\n",
       "      <td>1.000000</td>\n",
       "      <td>1.000000</td>\n",
       "      <td>1.000000</td>\n",
       "    </tr>\n",
       "    <tr>\n",
       "      <th>F1 macro Test</th>\n",
       "      <td>0.933078</td>\n",
       "      <td>0.910199</td>\n",
       "      <td>0.933078</td>\n",
       "      <td>0.933078</td>\n",
       "      <td>0.933078</td>\n",
       "      <td>0.933078</td>\n",
       "    </tr>\n",
       "  </tbody>\n",
       "</table>\n",
       "</div>"
      ],
      "text/plain": [
       "                 Logistic regression  Logistic regression tuned  \\\n",
       "Precision Train             1.000000                   1.000000   \n",
       "Precision Test              0.945833                   0.932026   \n",
       "Recall Train                1.000000                   1.000000   \n",
       "Recall Test                 0.933333                   0.911111   \n",
       "Accuracy Train              1.000000                   1.000000   \n",
       "Accuracy Test               0.933333                   0.911111   \n",
       "F1 macro Train              1.000000                   1.000000   \n",
       "F1 macro Test               0.933078                   0.910199   \n",
       "\n",
       "                 Decision Tree  Random Forest       SVM  SVM tuned  \n",
       "Precision Train       1.000000       1.000000  1.000000   1.000000  \n",
       "Precision Test        0.945833       0.945833  0.945833   0.945833  \n",
       "Recall Train          1.000000       1.000000  1.000000   1.000000  \n",
       "Recall Test           0.933333       0.933333  0.933333   0.933333  \n",
       "Accuracy Train        1.000000       1.000000  1.000000   1.000000  \n",
       "Accuracy Test         0.933333       0.933333  0.933333   0.933333  \n",
       "F1 macro Train        1.000000       1.000000  1.000000   1.000000  \n",
       "F1 macro Test         0.933078       0.933078  0.933078   0.933078  "
      ]
     },
     "execution_count": 59,
     "metadata": {},
     "output_type": "execute_result"
    }
   ],
   "source": [
    "# Updated Evaluation metric Score Chart\n",
    "\n",
    "score"
   ]
  },
  {
   "cell_type": "markdown",
   "id": "9fb80a05",
   "metadata": {
    "papermill": {
     "duration": 0.031813,
     "end_time": "2024-11-25T23:02:40.346213",
     "exception": false,
     "start_time": "2024-11-25T23:02:40.314400",
     "status": "completed"
    },
    "tags": []
   },
   "source": [
    "## ML Model - 5 : Xtreme Gradient Boosting"
   ]
  },
  {
   "cell_type": "code",
   "execution_count": 60,
   "id": "7a9a5621",
   "metadata": {
    "execution": {
     "iopub.execute_input": "2024-11-25T23:02:40.412969Z",
     "iopub.status.busy": "2024-11-25T23:02:40.412580Z",
     "iopub.status.idle": "2024-11-25T23:02:40.418002Z",
     "shell.execute_reply": "2024-11-25T23:02:40.416844Z"
    },
    "papermill": {
     "duration": 0.041968,
     "end_time": "2024-11-25T23:02:40.420141",
     "exception": false,
     "start_time": "2024-11-25T23:02:40.378173",
     "status": "completed"
    },
    "tags": []
   },
   "outputs": [],
   "source": [
    "# ML Model - 5 Implementation\n",
    "\n",
    "xgb_model = xgb.XGBClassifier()"
   ]
  },
  {
   "cell_type": "markdown",
   "id": "c536d800",
   "metadata": {
    "papermill": {
     "duration": 0.032117,
     "end_time": "2024-11-25T23:02:40.483944",
     "exception": false,
     "start_time": "2024-11-25T23:02:40.451827",
     "status": "completed"
    },
    "tags": []
   },
   "source": [
    "### 1. Explain the ML Model used and it's performance using Evaluation metric Score Chart."
   ]
  },
  {
   "cell_type": "code",
   "execution_count": 61,
   "id": "5de800a0",
   "metadata": {
    "execution": {
     "iopub.execute_input": "2024-11-25T23:02:40.551133Z",
     "iopub.status.busy": "2024-11-25T23:02:40.550734Z",
     "iopub.status.idle": "2024-11-25T23:02:41.329195Z",
     "shell.execute_reply": "2024-11-25T23:02:41.327979Z"
    },
    "papermill": {
     "duration": 0.815238,
     "end_time": "2024-11-25T23:02:41.331473",
     "exception": false,
     "start_time": "2024-11-25T23:02:40.516235",
     "status": "completed"
    },
    "tags": []
   },
   "outputs": [
    {
     "name": "stdout",
     "output_type": "stream",
     "text": [
      "\n",
      "Confusion Matrix:\n"
     ]
    },
    {
     "data": {
      "image/png": "[encoded data removed]",
      "text/plain": [
       "<Figure size 1100x400 with 4 Axes>"
      ]
     },
     "metadata": {},
     "output_type": "display_data"
    },
    {
     "name": "stdout",
     "output_type": "stream",
     "text": [
      "\n",
      "Train Classification Report:\n",
      "|              |   precision |   recall |   f1-score |   support |\n",
      "|:-------------|------------:|---------:|-----------:|----------:|\n",
      "| 0            |           1 |        1 |          1 |        33 |\n",
      "| 1            |           1 |        1 |          1 |        35 |\n",
      "| 2            |           1 |        1 |          1 |        37 |\n",
      "| accuracy     |           1 |        1 |          1 |         1 |\n",
      "| macro avg    |           1 |        1 |          1 |       105 |\n",
      "| weighted avg |           1 |        1 |          1 |       105 |\n",
      "\n",
      "Test Classification Report:\n",
      "|              |   precision |   recall |   f1-score |   support |\n",
      "|:-------------|------------:|---------:|-----------:|----------:|\n",
      "| 0            |    1        | 1        |   1        | 17        |\n",
      "| 1            |    1        | 0.8      |   0.888889 | 15        |\n",
      "| 2            |    0.8125   | 1        |   0.896552 | 13        |\n",
      "| accuracy     |    0.933333 | 0.933333 |   0.933333 |  0.933333 |\n",
      "| macro avg    |    0.9375   | 0.933333 |   0.92848  | 45        |\n",
      "| weighted avg |    0.945833 | 0.933333 |   0.933078 | 45        |\n"
     ]
    }
   ],
   "source": [
    "# Visualizing evaluation Metric Score chart\n",
    "\n",
    "xgb_score = evaluate_model(xgb_model, x_train, x_test, y_train, y_test)"
   ]
  },
  {
   "cell_type": "code",
   "execution_count": 62,
   "id": "38bc941b",
   "metadata": {
    "execution": {
     "iopub.execute_input": "2024-11-25T23:02:41.399440Z",
     "iopub.status.busy": "2024-11-25T23:02:41.399063Z",
     "iopub.status.idle": "2024-11-25T23:02:41.414006Z",
     "shell.execute_reply": "2024-11-25T23:02:41.412581Z"
    },
    "papermill": {
     "duration": 0.052265,
     "end_time": "2024-11-25T23:02:41.416212",
     "exception": false,
     "start_time": "2024-11-25T23:02:41.363947",
     "status": "completed"
    },
    "tags": []
   },
   "outputs": [
    {
     "data": {
      "text/html": [
       "<div>\n",
       "<style scoped>\n",
       "    .dataframe tbody tr th:only-of-type {\n",
       "        vertical-align: middle;\n",
       "    }\n",
       "\n",
       "    .dataframe tbody tr th {\n",
       "        vertical-align: top;\n",
       "    }\n",
       "\n",
       "    .dataframe thead th {\n",
       "        text-align: right;\n",
       "    }\n",
       "</style>\n",
       "<table border=\"1\" class=\"dataframe\">\n",
       "  <thead>\n",
       "    <tr style=\"text-align: right;\">\n",
       "      <th></th>\n",
       "      <th>Logistic regression</th>\n",
       "      <th>Logistic regression tuned</th>\n",
       "      <th>Decision Tree</th>\n",
       "      <th>Random Forest</th>\n",
       "      <th>SVM</th>\n",
       "      <th>SVM tuned</th>\n",
       "      <th>XGB</th>\n",
       "    </tr>\n",
       "  </thead>\n",
       "  <tbody>\n",
       "    <tr>\n",
       "      <th>Precision Train</th>\n",
       "      <td>1.000000</td>\n",
       "      <td>1.000000</td>\n",
       "      <td>1.000000</td>\n",
       "      <td>1.000000</td>\n",
       "      <td>1.000000</td>\n",
       "      <td>1.000000</td>\n",
       "      <td>1.000000</td>\n",
       "    </tr>\n",
       "    <tr>\n",
       "      <th>Precision Test</th>\n",
       "      <td>0.945833</td>\n",
       "      <td>0.932026</td>\n",
       "      <td>0.945833</td>\n",
       "      <td>0.945833</td>\n",
       "      <td>0.945833</td>\n",
       "      <td>0.945833</td>\n",
       "      <td>0.945833</td>\n",
       "    </tr>\n",
       "    <tr>\n",
       "      <th>Recall Train</th>\n",
       "      <td>1.000000</td>\n",
       "      <td>1.000000</td>\n",
       "      <td>1.000000</td>\n",
       "      <td>1.000000</td>\n",
       "      <td>1.000000</td>\n",
       "      <td>1.000000</td>\n",
       "      <td>1.000000</td>\n",
       "    </tr>\n",
       "    <tr>\n",
       "      <th>Recall Test</th>\n",
       "      <td>0.933333</td>\n",
       "      <td>0.911111</td>\n",
       "      <td>0.933333</td>\n",
       "      <td>0.933333</td>\n",
       "      <td>0.933333</td>\n",
       "      <td>0.933333</td>\n",
       "      <td>0.933333</td>\n",
       "    </tr>\n",
       "    <tr>\n",
       "      <th>Accuracy Train</th>\n",
       "      <td>1.000000</td>\n",
       "      <td>1.000000</td>\n",
       "      <td>1.000000</td>\n",
       "      <td>1.000000</td>\n",
       "      <td>1.000000</td>\n",
       "      <td>1.000000</td>\n",
       "      <td>1.000000</td>\n",
       "    </tr>\n",
       "    <tr>\n",
       "      <th>Accuracy Test</th>\n",
       "      <td>0.933333</td>\n",
       "      <td>0.911111</td>\n",
       "      <td>0.933333</td>\n",
       "      <td>0.933333</td>\n",
       "      <td>0.933333</td>\n",
       "      <td>0.933333</td>\n",
       "      <td>0.933333</td>\n",
       "    </tr>\n",
       "    <tr>\n",
       "      <th>F1 macro Train</th>\n",
       "      <td>1.000000</td>\n",
       "      <td>1.000000</td>\n",
       "      <td>1.000000</td>\n",
       "      <td>1.000000</td>\n",
       "      <td>1.000000</td>\n",
       "      <td>1.000000</td>\n",
       "      <td>1.000000</td>\n",
       "    </tr>\n",
       "    <tr>\n",
       "      <th>F1 macro Test</th>\n",
       "      <td>0.933078</td>\n",
       "      <td>0.910199</td>\n",
       "      <td>0.933078</td>\n",
       "      <td>0.933078</td>\n",
       "      <td>0.933078</td>\n",
       "      <td>0.933078</td>\n",
       "      <td>0.933078</td>\n",
       "    </tr>\n",
       "  </tbody>\n",
       "</table>\n",
       "</div>"
      ],
      "text/plain": [
       "                 Logistic regression  Logistic regression tuned  \\\n",
       "Precision Train             1.000000                   1.000000   \n",
       "Precision Test              0.945833                   0.932026   \n",
       "Recall Train                1.000000                   1.000000   \n",
       "Recall Test                 0.933333                   0.911111   \n",
       "Accuracy Train              1.000000                   1.000000   \n",
       "Accuracy Test               0.933333                   0.911111   \n",
       "F1 macro Train              1.000000                   1.000000   \n",
       "F1 macro Test               0.933078                   0.910199   \n",
       "\n",
       "                 Decision Tree  Random Forest       SVM  SVM tuned       XGB  \n",
       "Precision Train       1.000000       1.000000  1.000000   1.000000  1.000000  \n",
       "Precision Test        0.945833       0.945833  0.945833   0.945833  0.945833  \n",
       "Recall Train          1.000000       1.000000  1.000000   1.000000  1.000000  \n",
       "Recall Test           0.933333       0.933333  0.933333   0.933333  0.933333  \n",
       "Accuracy Train        1.000000       1.000000  1.000000   1.000000  1.000000  \n",
       "Accuracy Test         0.933333       0.933333  0.933333   0.933333  0.933333  \n",
       "F1 macro Train        1.000000       1.000000  1.000000   1.000000  1.000000  \n",
       "F1 macro Test         0.933078       0.933078  0.933078   0.933078  0.933078  "
      ]
     },
     "execution_count": 62,
     "metadata": {},
     "output_type": "execute_result"
    }
   ],
   "source": [
    "# Updated Evaluation metric Score Chart\n",
    "\n",
    "score['XGB'] = xgb_score\n",
    "\n",
    "score"
   ]
  },
  {
   "cell_type": "markdown",
   "id": "9e1fef2c",
   "metadata": {
    "papermill": {
     "duration": 0.032701,
     "end_time": "2024-11-25T23:02:41.482066",
     "exception": false,
     "start_time": "2024-11-25T23:02:41.449365",
     "status": "completed"
    },
    "tags": []
   },
   "source": [
    "### 2. Cross- Validation & Hyperparameter Tuning"
   ]
  },
  {
   "cell_type": "code",
   "execution_count": 63,
   "id": "6c134fee",
   "metadata": {
    "execution": {
     "iopub.execute_input": "2024-11-25T23:02:41.549607Z",
     "iopub.status.busy": "2024-11-25T23:02:41.549208Z",
     "iopub.status.idle": "2024-11-25T23:02:47.838226Z",
     "shell.execute_reply": "2024-11-25T23:02:47.836015Z"
    },
    "papermill": {
     "duration": 6.325868,
     "end_time": "2024-11-25T23:02:47.840745",
     "exception": false,
     "start_time": "2024-11-25T23:02:41.514877",
     "status": "completed"
    },
    "tags": []
   },
   "outputs": [
    {
     "name": "stdout",
     "output_type": "stream",
     "text": [
      "Best hyperparameters:  {'n_estimators': 100, 'max_depth': 6, 'learning_rate': 0.15000000000000002}\n"
     ]
    }
   ],
   "source": [
    "# ML Model - 5 Implementation with hyperparameter optimization techniques (i.e., GridSearch CV, RandomSearch CV, Bayesian Optimization etc.)\n",
    "\n",
    "# Define the hyperparameter grid\n",
    "\n",
    "param_grid = {'learning_rate': np.arange(0.01, 0.3, 0.01),\n",
    "\n",
    "              'max_depth': np.arange(3, 15, 1),\n",
    "\n",
    "              'n_estimators': np.arange(100, 200, 10)}\n",
    "\n",
    "\n",
    "\n",
    "# Initialize the model\n",
    "\n",
    "xgb2 = xgb.XGBClassifier(random_state=0)\n",
    "\n",
    "\n",
    "\n",
    "# Repeated stratified kfold\n",
    "\n",
    "rskf = RepeatedStratifiedKFold(n_splits=3, n_repeats=3, random_state=0)\n",
    "\n",
    "\n",
    "\n",
    "# Initialize RandomizedSearchCV\n",
    "\n",
    "random_search = RandomizedSearchCV(xgb2, param_grid, n_iter=10, cv=rskf)\n",
    "\n",
    "\n",
    "\n",
    "# Fit the RandomizedSearchCV to the training data\n",
    "\n",
    "random_search.fit(x_train, y_train)\n",
    "\n",
    "\n",
    "\n",
    "# Select the best hyperparameters\n",
    "\n",
    "best_params = random_search.best_params_\n",
    "\n",
    "print(\"Best hyperparameters: \", best_params)"
   ]
  },
  {
   "cell_type": "code",
   "execution_count": 64,
   "id": "9426f711",
   "metadata": {
    "execution": {
     "iopub.execute_input": "2024-11-25T23:02:47.910631Z",
     "iopub.status.busy": "2024-11-25T23:02:47.910202Z",
     "iopub.status.idle": "2024-11-25T23:02:47.915826Z",
     "shell.execute_reply": "2024-11-25T23:02:47.914661Z"
    },
    "papermill": {
     "duration": 0.04228,
     "end_time": "2024-11-25T23:02:47.918035",
     "exception": false,
     "start_time": "2024-11-25T23:02:47.875755",
     "status": "completed"
    },
    "tags": []
   },
   "outputs": [],
   "source": [
    "# Initialize model with best parameters\n",
    "\n",
    "xgb_model2 = xgb.XGBClassifier(learning_rate = best_params['learning_rate'],\n",
    "\n",
    "                                 max_depth = best_params['max_depth'],\n",
    "\n",
    "                               n_estimators = best_params['n_estimators'],\n",
    "\n",
    "                                 random_state=0)"
   ]
  },
  {
   "cell_type": "code",
   "execution_count": 65,
   "id": "cb95c189",
   "metadata": {
    "execution": {
     "iopub.execute_input": "2024-11-25T23:02:47.986619Z",
     "iopub.status.busy": "2024-11-25T23:02:47.986192Z",
     "iopub.status.idle": "2024-11-25T23:02:48.898467Z",
     "shell.execute_reply": "2024-11-25T23:02:48.896947Z"
    },
    "papermill": {
     "duration": 0.949534,
     "end_time": "2024-11-25T23:02:48.901226",
     "exception": false,
     "start_time": "2024-11-25T23:02:47.951692",
     "status": "completed"
    },
    "tags": []
   },
   "outputs": [
    {
     "name": "stdout",
     "output_type": "stream",
     "text": [
      "\n",
      "Confusion Matrix:\n"
     ]
    },
    {
     "data": {
      "image/png": "[encoded data removed]",
      "text/plain": [
       "<Figure size 1100x400 with 4 Axes>"
      ]
     },
     "metadata": {},
     "output_type": "display_data"
    },
    {
     "name": "stdout",
     "output_type": "stream",
     "text": [
      "\n",
      "Train Classification Report:\n",
      "|              |   precision |   recall |   f1-score |   support |\n",
      "|:-------------|------------:|---------:|-----------:|----------:|\n",
      "| 0            |           1 |        1 |          1 |        33 |\n",
      "| 1            |           1 |        1 |          1 |        35 |\n",
      "| 2            |           1 |        1 |          1 |        37 |\n",
      "| accuracy     |           1 |        1 |          1 |         1 |\n",
      "| macro avg    |           1 |        1 |          1 |       105 |\n",
      "| weighted avg |           1 |        1 |          1 |       105 |\n",
      "\n",
      "Test Classification Report:\n",
      "|              |   precision |   recall |   f1-score |   support |\n",
      "|:-------------|------------:|---------:|-----------:|----------:|\n",
      "| 0            |    1        | 1        |   1        | 17        |\n",
      "| 1            |    1        | 0.8      |   0.888889 | 15        |\n",
      "| 2            |    0.8125   | 1        |   0.896552 | 13        |\n",
      "| accuracy     |    0.933333 | 0.933333 |   0.933333 |  0.933333 |\n",
      "| macro avg    |    0.9375   | 0.933333 |   0.92848  | 45        |\n",
      "| weighted avg |    0.945833 | 0.933333 |   0.933078 | 45        |\n"
     ]
    }
   ],
   "source": [
    "# Visualizing evaluation Metric Score chart\n",
    "\n",
    "xgb2_score = evaluate_model(xgb_model2, x_train, x_test, y_train, y_test)"
   ]
  },
  {
   "cell_type": "code",
   "execution_count": 66,
   "id": "22de365c",
   "metadata": {
    "execution": {
     "iopub.execute_input": "2024-11-25T23:02:48.970482Z",
     "iopub.status.busy": "2024-11-25T23:02:48.970062Z",
     "iopub.status.idle": "2024-11-25T23:02:48.976200Z",
     "shell.execute_reply": "2024-11-25T23:02:48.974669Z"
    },
    "papermill": {
     "duration": 0.043659,
     "end_time": "2024-11-25T23:02:48.978690",
     "exception": false,
     "start_time": "2024-11-25T23:02:48.935031",
     "status": "completed"
    },
    "tags": []
   },
   "outputs": [],
   "source": [
    "score['XGB tuned'] = xgb2_score"
   ]
  },
  {
   "cell_type": "code",
   "execution_count": 67,
   "id": "69b7614a",
   "metadata": {
    "execution": {
     "iopub.execute_input": "2024-11-25T23:02:49.051371Z",
     "iopub.status.busy": "2024-11-25T23:02:49.050613Z",
     "iopub.status.idle": "2024-11-25T23:02:49.065942Z",
     "shell.execute_reply": "2024-11-25T23:02:49.064925Z"
    },
    "papermill": {
     "duration": 0.054615,
     "end_time": "2024-11-25T23:02:49.068232",
     "exception": false,
     "start_time": "2024-11-25T23:02:49.013617",
     "status": "completed"
    },
    "tags": []
   },
   "outputs": [
    {
     "data": {
      "text/html": [
       "<div>\n",
       "<style scoped>\n",
       "    .dataframe tbody tr th:only-of-type {\n",
       "        vertical-align: middle;\n",
       "    }\n",
       "\n",
       "    .dataframe tbody tr th {\n",
       "        vertical-align: top;\n",
       "    }\n",
       "\n",
       "    .dataframe thead th {\n",
       "        text-align: right;\n",
       "    }\n",
       "</style>\n",
       "<table border=\"1\" class=\"dataframe\">\n",
       "  <thead>\n",
       "    <tr style=\"text-align: right;\">\n",
       "      <th></th>\n",
       "      <th>Logistic regression</th>\n",
       "      <th>Logistic regression tuned</th>\n",
       "      <th>Decision Tree</th>\n",
       "      <th>Random Forest</th>\n",
       "      <th>SVM</th>\n",
       "      <th>SVM tuned</th>\n",
       "      <th>XGB</th>\n",
       "      <th>XGB tuned</th>\n",
       "    </tr>\n",
       "  </thead>\n",
       "  <tbody>\n",
       "    <tr>\n",
       "      <th>Precision Train</th>\n",
       "      <td>1.000000</td>\n",
       "      <td>1.000000</td>\n",
       "      <td>1.000000</td>\n",
       "      <td>1.000000</td>\n",
       "      <td>1.000000</td>\n",
       "      <td>1.000000</td>\n",
       "      <td>1.000000</td>\n",
       "      <td>1.000000</td>\n",
       "    </tr>\n",
       "    <tr>\n",
       "      <th>Precision Test</th>\n",
       "      <td>0.945833</td>\n",
       "      <td>0.932026</td>\n",
       "      <td>0.945833</td>\n",
       "      <td>0.945833</td>\n",
       "      <td>0.945833</td>\n",
       "      <td>0.945833</td>\n",
       "      <td>0.945833</td>\n",
       "      <td>0.945833</td>\n",
       "    </tr>\n",
       "    <tr>\n",
       "      <th>Recall Train</th>\n",
       "      <td>1.000000</td>\n",
       "      <td>1.000000</td>\n",
       "      <td>1.000000</td>\n",
       "      <td>1.000000</td>\n",
       "      <td>1.000000</td>\n",
       "      <td>1.000000</td>\n",
       "      <td>1.000000</td>\n",
       "      <td>1.000000</td>\n",
       "    </tr>\n",
       "    <tr>\n",
       "      <th>Recall Test</th>\n",
       "      <td>0.933333</td>\n",
       "      <td>0.911111</td>\n",
       "      <td>0.933333</td>\n",
       "      <td>0.933333</td>\n",
       "      <td>0.933333</td>\n",
       "      <td>0.933333</td>\n",
       "      <td>0.933333</td>\n",
       "      <td>0.933333</td>\n",
       "    </tr>\n",
       "    <tr>\n",
       "      <th>Accuracy Train</th>\n",
       "      <td>1.000000</td>\n",
       "      <td>1.000000</td>\n",
       "      <td>1.000000</td>\n",
       "      <td>1.000000</td>\n",
       "      <td>1.000000</td>\n",
       "      <td>1.000000</td>\n",
       "      <td>1.000000</td>\n",
       "      <td>1.000000</td>\n",
       "    </tr>\n",
       "    <tr>\n",
       "      <th>Accuracy Test</th>\n",
       "      <td>0.933333</td>\n",
       "      <td>0.911111</td>\n",
       "      <td>0.933333</td>\n",
       "      <td>0.933333</td>\n",
       "      <td>0.933333</td>\n",
       "      <td>0.933333</td>\n",
       "      <td>0.933333</td>\n",
       "      <td>0.933333</td>\n",
       "    </tr>\n",
       "    <tr>\n",
       "      <th>F1 macro Train</th>\n",
       "      <td>1.000000</td>\n",
       "      <td>1.000000</td>\n",
       "      <td>1.000000</td>\n",
       "      <td>1.000000</td>\n",
       "      <td>1.000000</td>\n",
       "      <td>1.000000</td>\n",
       "      <td>1.000000</td>\n",
       "      <td>1.000000</td>\n",
       "    </tr>\n",
       "    <tr>\n",
       "      <th>F1 macro Test</th>\n",
       "      <td>0.933078</td>\n",
       "      <td>0.910199</td>\n",
       "      <td>0.933078</td>\n",
       "      <td>0.933078</td>\n",
       "      <td>0.933078</td>\n",
       "      <td>0.933078</td>\n",
       "      <td>0.933078</td>\n",
       "      <td>0.933078</td>\n",
       "    </tr>\n",
       "  </tbody>\n",
       "</table>\n",
       "</div>"
      ],
      "text/plain": [
       "                 Logistic regression  Logistic regression tuned  \\\n",
       "Precision Train             1.000000                   1.000000   \n",
       "Precision Test              0.945833                   0.932026   \n",
       "Recall Train                1.000000                   1.000000   \n",
       "Recall Test                 0.933333                   0.911111   \n",
       "Accuracy Train              1.000000                   1.000000   \n",
       "Accuracy Test               0.933333                   0.911111   \n",
       "F1 macro Train              1.000000                   1.000000   \n",
       "F1 macro Test               0.933078                   0.910199   \n",
       "\n",
       "                 Decision Tree  Random Forest       SVM  SVM tuned       XGB  \\\n",
       "Precision Train       1.000000       1.000000  1.000000   1.000000  1.000000   \n",
       "Precision Test        0.945833       0.945833  0.945833   0.945833  0.945833   \n",
       "Recall Train          1.000000       1.000000  1.000000   1.000000  1.000000   \n",
       "Recall Test           0.933333       0.933333  0.933333   0.933333  0.933333   \n",
       "Accuracy Train        1.000000       1.000000  1.000000   1.000000  1.000000   \n",
       "Accuracy Test         0.933333       0.933333  0.933333   0.933333  0.933333   \n",
       "F1 macro Train        1.000000       1.000000  1.000000   1.000000  1.000000   \n",
       "F1 macro Test         0.933078       0.933078  0.933078   0.933078  0.933078   \n",
       "\n",
       "                 XGB tuned  \n",
       "Precision Train   1.000000  \n",
       "Precision Test    0.945833  \n",
       "Recall Train      1.000000  \n",
       "Recall Test       0.933333  \n",
       "Accuracy Train    1.000000  \n",
       "Accuracy Test     0.933333  \n",
       "F1 macro Train    1.000000  \n",
       "F1 macro Test     0.933078  "
      ]
     },
     "execution_count": 67,
     "metadata": {},
     "output_type": "execute_result"
    }
   ],
   "source": [
    "# Updated Evaluation metric Score Chart\n",
    "\n",
    "score"
   ]
  },
  {
   "cell_type": "markdown",
   "id": "e946d73f",
   "metadata": {
    "papermill": {
     "duration": 0.034642,
     "end_time": "2024-11-25T23:02:49.137481",
     "exception": false,
     "start_time": "2024-11-25T23:02:49.102839",
     "status": "completed"
    },
    "tags": []
   },
   "source": [
    "## ML Model - 6 : Naive Bayes"
   ]
  },
  {
   "cell_type": "code",
   "execution_count": 68,
   "id": "d12c6c95",
   "metadata": {
    "execution": {
     "iopub.execute_input": "2024-11-25T23:02:49.209733Z",
     "iopub.status.busy": "2024-11-25T23:02:49.209298Z",
     "iopub.status.idle": "2024-11-25T23:02:49.214241Z",
     "shell.execute_reply": "2024-11-25T23:02:49.213132Z"
    },
    "papermill": {
     "duration": 0.045042,
     "end_time": "2024-11-25T23:02:49.216739",
     "exception": false,
     "start_time": "2024-11-25T23:02:49.171697",
     "status": "completed"
    },
    "tags": []
   },
   "outputs": [],
   "source": [
    "# ML Model - 6 Implementation\n",
    "\n",
    "nb_model = GaussianNB()\n"
   ]
  },
  {
   "cell_type": "markdown",
   "id": "a008f1e7",
   "metadata": {
    "papermill": {
     "duration": 0.033101,
     "end_time": "2024-11-25T23:02:49.283809",
     "exception": false,
     "start_time": "2024-11-25T23:02:49.250708",
     "status": "completed"
    },
    "tags": []
   },
   "source": [
    "### 1. Explain the ML Model used and it's performance using Evaluation metric Score Chart."
   ]
  },
  {
   "cell_type": "code",
   "execution_count": 69,
   "id": "6da069d5",
   "metadata": {
    "execution": {
     "iopub.execute_input": "2024-11-25T23:02:49.352434Z",
     "iopub.status.busy": "2024-11-25T23:02:49.351952Z",
     "iopub.status.idle": "2024-11-25T23:02:50.023578Z",
     "shell.execute_reply": "2024-11-25T23:02:50.022270Z"
    },
    "papermill": {
     "duration": 0.70921,
     "end_time": "2024-11-25T23:02:50.026348",
     "exception": false,
     "start_time": "2024-11-25T23:02:49.317138",
     "status": "completed"
    },
    "tags": []
   },
   "outputs": [
    {
     "name": "stdout",
     "output_type": "stream",
     "text": [
      "\n",
      "Confusion Matrix:\n"
     ]
    },
    {
     "data": {
      "image/png": "[encoded data removed]",
      "text/plain": [
       "<Figure size 1100x400 with 4 Axes>"
      ]
     },
     "metadata": {},
     "output_type": "display_data"
    },
    {
     "name": "stdout",
     "output_type": "stream",
     "text": [
      "\n",
      "Train Classification Report:\n",
      "|              |   precision |   recall |   f1-score |    support |\n",
      "|:-------------|------------:|---------:|-----------:|-----------:|\n",
      "| 0            |    1        | 1        |   1        |  33        |\n",
      "| 1            |    0.916667 | 0.942857 |   0.929577 |  35        |\n",
      "| 2            |    0.944444 | 0.918919 |   0.931507 |  37        |\n",
      "| accuracy     |    0.952381 | 0.952381 |   0.952381 |   0.952381 |\n",
      "| macro avg    |    0.953704 | 0.953925 |   0.953695 | 105        |\n",
      "| weighted avg |    0.952646 | 0.952381 |   0.95239  | 105        |\n",
      "\n",
      "Test Classification Report:\n",
      "|              |   precision |   recall |   f1-score |   support |\n",
      "|:-------------|------------:|---------:|-----------:|----------:|\n",
      "| 0            |    1        | 1        |   1        | 17        |\n",
      "| 1            |    1        | 0.8      |   0.888889 | 15        |\n",
      "| 2            |    0.8125   | 1        |   0.896552 | 13        |\n",
      "| accuracy     |    0.933333 | 0.933333 |   0.933333 |  0.933333 |\n",
      "| macro avg    |    0.9375   | 0.933333 |   0.92848  | 45        |\n",
      "| weighted avg |    0.945833 | 0.933333 |   0.933078 | 45        |\n"
     ]
    }
   ],
   "source": [
    "# Visualizing evaluation Metric Score chart\n",
    "\n",
    "nb_score = evaluate_model(nb_model, x_train, x_test, y_train, y_test)"
   ]
  },
  {
   "cell_type": "code",
   "execution_count": 70,
   "id": "93f70b48",
   "metadata": {
    "execution": {
     "iopub.execute_input": "2024-11-25T23:02:50.097228Z",
     "iopub.status.busy": "2024-11-25T23:02:50.096811Z",
     "iopub.status.idle": "2024-11-25T23:02:50.114524Z",
     "shell.execute_reply": "2024-11-25T23:02:50.113231Z"
    },
    "papermill": {
     "duration": 0.056293,
     "end_time": "2024-11-25T23:02:50.117047",
     "exception": false,
     "start_time": "2024-11-25T23:02:50.060754",
     "status": "completed"
    },
    "tags": []
   },
   "outputs": [
    {
     "data": {
      "text/html": [
       "<div>\n",
       "<style scoped>\n",
       "    .dataframe tbody tr th:only-of-type {\n",
       "        vertical-align: middle;\n",
       "    }\n",
       "\n",
       "    .dataframe tbody tr th {\n",
       "        vertical-align: top;\n",
       "    }\n",
       "\n",
       "    .dataframe thead th {\n",
       "        text-align: right;\n",
       "    }\n",
       "</style>\n",
       "<table border=\"1\" class=\"dataframe\">\n",
       "  <thead>\n",
       "    <tr style=\"text-align: right;\">\n",
       "      <th></th>\n",
       "      <th>Logistic regression</th>\n",
       "      <th>Logistic regression tuned</th>\n",
       "      <th>Decision Tree</th>\n",
       "      <th>Random Forest</th>\n",
       "      <th>SVM</th>\n",
       "      <th>SVM tuned</th>\n",
       "      <th>XGB</th>\n",
       "      <th>XGB tuned</th>\n",
       "      <th>Naive Bayes</th>\n",
       "    </tr>\n",
       "  </thead>\n",
       "  <tbody>\n",
       "    <tr>\n",
       "      <th>Precision Train</th>\n",
       "      <td>1.000000</td>\n",
       "      <td>1.000000</td>\n",
       "      <td>1.000000</td>\n",
       "      <td>1.000000</td>\n",
       "      <td>1.000000</td>\n",
       "      <td>1.000000</td>\n",
       "      <td>1.000000</td>\n",
       "      <td>1.000000</td>\n",
       "      <td>0.952646</td>\n",
       "    </tr>\n",
       "    <tr>\n",
       "      <th>Precision Test</th>\n",
       "      <td>0.945833</td>\n",
       "      <td>0.932026</td>\n",
       "      <td>0.945833</td>\n",
       "      <td>0.945833</td>\n",
       "      <td>0.945833</td>\n",
       "      <td>0.945833</td>\n",
       "      <td>0.945833</td>\n",
       "      <td>0.945833</td>\n",
       "      <td>0.945833</td>\n",
       "    </tr>\n",
       "    <tr>\n",
       "      <th>Recall Train</th>\n",
       "      <td>1.000000</td>\n",
       "      <td>1.000000</td>\n",
       "      <td>1.000000</td>\n",
       "      <td>1.000000</td>\n",
       "      <td>1.000000</td>\n",
       "      <td>1.000000</td>\n",
       "      <td>1.000000</td>\n",
       "      <td>1.000000</td>\n",
       "      <td>0.952381</td>\n",
       "    </tr>\n",
       "    <tr>\n",
       "      <th>Recall Test</th>\n",
       "      <td>0.933333</td>\n",
       "      <td>0.911111</td>\n",
       "      <td>0.933333</td>\n",
       "      <td>0.933333</td>\n",
       "      <td>0.933333</td>\n",
       "      <td>0.933333</td>\n",
       "      <td>0.933333</td>\n",
       "      <td>0.933333</td>\n",
       "      <td>0.933333</td>\n",
       "    </tr>\n",
       "    <tr>\n",
       "      <th>Accuracy Train</th>\n",
       "      <td>1.000000</td>\n",
       "      <td>1.000000</td>\n",
       "      <td>1.000000</td>\n",
       "      <td>1.000000</td>\n",
       "      <td>1.000000</td>\n",
       "      <td>1.000000</td>\n",
       "      <td>1.000000</td>\n",
       "      <td>1.000000</td>\n",
       "      <td>0.952381</td>\n",
       "    </tr>\n",
       "    <tr>\n",
       "      <th>Accuracy Test</th>\n",
       "      <td>0.933333</td>\n",
       "      <td>0.911111</td>\n",
       "      <td>0.933333</td>\n",
       "      <td>0.933333</td>\n",
       "      <td>0.933333</td>\n",
       "      <td>0.933333</td>\n",
       "      <td>0.933333</td>\n",
       "      <td>0.933333</td>\n",
       "      <td>0.933333</td>\n",
       "    </tr>\n",
       "    <tr>\n",
       "      <th>F1 macro Train</th>\n",
       "      <td>1.000000</td>\n",
       "      <td>1.000000</td>\n",
       "      <td>1.000000</td>\n",
       "      <td>1.000000</td>\n",
       "      <td>1.000000</td>\n",
       "      <td>1.000000</td>\n",
       "      <td>1.000000</td>\n",
       "      <td>1.000000</td>\n",
       "      <td>0.952390</td>\n",
       "    </tr>\n",
       "    <tr>\n",
       "      <th>F1 macro Test</th>\n",
       "      <td>0.933078</td>\n",
       "      <td>0.910199</td>\n",
       "      <td>0.933078</td>\n",
       "      <td>0.933078</td>\n",
       "      <td>0.933078</td>\n",
       "      <td>0.933078</td>\n",
       "      <td>0.933078</td>\n",
       "      <td>0.933078</td>\n",
       "      <td>0.933078</td>\n",
       "    </tr>\n",
       "  </tbody>\n",
       "</table>\n",
       "</div>"
      ],
      "text/plain": [
       "                 Logistic regression  Logistic regression tuned  \\\n",
       "Precision Train             1.000000                   1.000000   \n",
       "Precision Test              0.945833                   0.932026   \n",
       "Recall Train                1.000000                   1.000000   \n",
       "Recall Test                 0.933333                   0.911111   \n",
       "Accuracy Train              1.000000                   1.000000   \n",
       "Accuracy Test               0.933333                   0.911111   \n",
       "F1 macro Train              1.000000                   1.000000   \n",
       "F1 macro Test               0.933078                   0.910199   \n",
       "\n",
       "                 Decision Tree  Random Forest       SVM  SVM tuned       XGB  \\\n",
       "Precision Train       1.000000       1.000000  1.000000   1.000000  1.000000   \n",
       "Precision Test        0.945833       0.945833  0.945833   0.945833  0.945833   \n",
       "Recall Train          1.000000       1.000000  1.000000   1.000000  1.000000   \n",
       "Recall Test           0.933333       0.933333  0.933333   0.933333  0.933333   \n",
       "Accuracy Train        1.000000       1.000000  1.000000   1.000000  1.000000   \n",
       "Accuracy Test         0.933333       0.933333  0.933333   0.933333  0.933333   \n",
       "F1 macro Train        1.000000       1.000000  1.000000   1.000000  1.000000   \n",
       "F1 macro Test         0.933078       0.933078  0.933078   0.933078  0.933078   \n",
       "\n",
       "                 XGB tuned  Naive Bayes  \n",
       "Precision Train   1.000000     0.952646  \n",
       "Precision Test    0.945833     0.945833  \n",
       "Recall Train      1.000000     0.952381  \n",
       "Recall Test       0.933333     0.933333  \n",
       "Accuracy Train    1.000000     0.952381  \n",
       "Accuracy Test     0.933333     0.933333  \n",
       "F1 macro Train    1.000000     0.952390  \n",
       "F1 macro Test     0.933078     0.933078  "
      ]
     },
     "execution_count": 70,
     "metadata": {},
     "output_type": "execute_result"
    }
   ],
   "source": [
    "# Updated Evaluation metric Score Chart\n",
    "\n",
    "score['Naive Bayes'] = nb_score\n",
    "\n",
    "score"
   ]
  },
  {
   "cell_type": "markdown",
   "id": "5f1878c6",
   "metadata": {
    "papermill": {
     "duration": 0.034129,
     "end_time": "2024-11-25T23:02:50.186070",
     "exception": false,
     "start_time": "2024-11-25T23:02:50.151941",
     "status": "completed"
    },
    "tags": []
   },
   "source": [
    "### 2. Cross- Validation & Hyperparameter Tuning"
   ]
  },
  {
   "cell_type": "code",
   "execution_count": 71,
   "id": "f482dcbf",
   "metadata": {
    "execution": {
     "iopub.execute_input": "2024-11-25T23:02:50.259086Z",
     "iopub.status.busy": "2024-11-25T23:02:50.258643Z",
     "iopub.status.idle": "2024-11-25T23:02:53.096604Z",
     "shell.execute_reply": "2024-11-25T23:02:53.095015Z"
    },
    "papermill": {
     "duration": 2.877202,
     "end_time": "2024-11-25T23:02:53.099791",
     "exception": false,
     "start_time": "2024-11-25T23:02:50.222589",
     "status": "completed"
    },
    "tags": []
   },
   "outputs": [
    {
     "name": "stdout",
     "output_type": "stream",
     "text": [
      "Best hyperparameters:  {'var_smoothing': 0.03511191734215131}\n"
     ]
    }
   ],
   "source": [
    "# ML Model - 6 Implementation with hyperparameter optimization techniques (i.e., GridSearch CV, RandomSearch CV, Bayesian Optimization etc.)\n",
    "\n",
    "# Define the hyperparameter grid\n",
    "\n",
    "param_grid = {'var_smoothing': np.logspace(0,-9, num=100)}\n",
    "\n",
    "\n",
    "\n",
    "# Initialize the model\n",
    "\n",
    "naive = GaussianNB()\n",
    "\n",
    "\n",
    "\n",
    "# repeated stratified kfold\n",
    "\n",
    "rskf = RepeatedStratifiedKFold(n_splits=4, n_repeats=4, random_state=0)\n",
    "\n",
    "\n",
    "\n",
    "# Initialize GridSearchCV\n",
    "\n",
    "GridSearch = GridSearchCV(naive, param_grid, cv=rskf, n_jobs=-1)\n",
    "\n",
    "\n",
    "\n",
    "# Fit the GridSearchCV to the training data\n",
    "\n",
    "GridSearch.fit(x_train, y_train)\n",
    "\n",
    "\n",
    "\n",
    "# Select the best hyperparameters\n",
    "\n",
    "best_params = GridSearch.best_params_\n",
    "\n",
    "print(\"Best hyperparameters: \", best_params)"
   ]
  },
  {
   "cell_type": "code",
   "execution_count": 72,
   "id": "1356ff7e",
   "metadata": {
    "execution": {
     "iopub.execute_input": "2024-11-25T23:02:53.200519Z",
     "iopub.status.busy": "2024-11-25T23:02:53.200064Z",
     "iopub.status.idle": "2024-11-25T23:02:53.205916Z",
     "shell.execute_reply": "2024-11-25T23:02:53.204276Z"
    },
    "papermill": {
     "duration": 0.053995,
     "end_time": "2024-11-25T23:02:53.208190",
     "exception": false,
     "start_time": "2024-11-25T23:02:53.154195",
     "status": "completed"
    },
    "tags": []
   },
   "outputs": [],
   "source": [
    "# Initiate model with best parameters\n",
    "\n",
    "nb_model2 = GaussianNB(var_smoothing = best_params['var_smoothing'])"
   ]
  },
  {
   "cell_type": "code",
   "execution_count": 73,
   "id": "1af2aab5",
   "metadata": {
    "execution": {
     "iopub.execute_input": "2024-11-25T23:02:53.279732Z",
     "iopub.status.busy": "2024-11-25T23:02:53.279369Z",
     "iopub.status.idle": "2024-11-25T23:02:53.961093Z",
     "shell.execute_reply": "2024-11-25T23:02:53.959737Z"
    },
    "papermill": {
     "duration": 0.720249,
     "end_time": "2024-11-25T23:02:53.963468",
     "exception": false,
     "start_time": "2024-11-25T23:02:53.243219",
     "status": "completed"
    },
    "tags": []
   },
   "outputs": [
    {
     "name": "stdout",
     "output_type": "stream",
     "text": [
      "\n",
      "Confusion Matrix:\n"
     ]
    },
    {
     "data": {
      "image/png": "[encoded data removed]",
      "text/plain": [
       "<Figure size 1100x400 with 4 Axes>"
      ]
     },
     "metadata": {},
     "output_type": "display_data"
    },
    {
     "name": "stdout",
     "output_type": "stream",
     "text": [
      "\n",
      "Train Classification Report:\n",
      "|              |   precision |   recall |   f1-score |    support |\n",
      "|:-------------|------------:|---------:|-----------:|-----------:|\n",
      "| 0            |    1        | 1        |   1        |  33        |\n",
      "| 1            |    0.944444 | 0.971429 |   0.957746 |  35        |\n",
      "| 2            |    0.972222 | 0.945946 |   0.958904 |  37        |\n",
      "| accuracy     |    0.971429 | 0.971429 |   0.971429 |   0.971429 |\n",
      "| macro avg    |    0.972222 | 0.972458 |   0.972217 | 105        |\n",
      "| weighted avg |    0.971693 | 0.971429 |   0.971434 | 105        |\n",
      "\n",
      "Test Classification Report:\n",
      "|              |   precision |   recall |   f1-score |   support |\n",
      "|:-------------|------------:|---------:|-----------:|----------:|\n",
      "| 0            |    1        | 1        |   1        | 17        |\n",
      "| 1            |    1        | 0.733333 |   0.846154 | 15        |\n",
      "| 2            |    0.764706 | 1        |   0.866667 | 13        |\n",
      "| accuracy     |    0.911111 | 0.911111 |   0.911111 |  0.911111 |\n",
      "| macro avg    |    0.921569 | 0.911111 |   0.904274 | 45        |\n",
      "| weighted avg |    0.932026 | 0.911111 |   0.910199 | 45        |\n"
     ]
    }
   ],
   "source": [
    "# Visualizing evaluation Metric Score chart\n",
    "\n",
    "nb2_score = evaluate_model(nb_model2, x_train, x_test, y_train, y_test)"
   ]
  },
  {
   "cell_type": "code",
   "execution_count": 74,
   "id": "9e212e83",
   "metadata": {
    "execution": {
     "iopub.execute_input": "2024-11-25T23:02:54.037052Z",
     "iopub.status.busy": "2024-11-25T23:02:54.036648Z",
     "iopub.status.idle": "2024-11-25T23:02:54.042174Z",
     "shell.execute_reply": "2024-11-25T23:02:54.041229Z"
    },
    "papermill": {
     "duration": 0.044769,
     "end_time": "2024-11-25T23:02:54.044247",
     "exception": false,
     "start_time": "2024-11-25T23:02:53.999478",
     "status": "completed"
    },
    "tags": []
   },
   "outputs": [],
   "source": [
    "score['Naive Bayes tuned']= nb2_score"
   ]
  },
  {
   "cell_type": "code",
   "execution_count": 75,
   "id": "38c6cc29",
   "metadata": {
    "execution": {
     "iopub.execute_input": "2024-11-25T23:02:54.118380Z",
     "iopub.status.busy": "2024-11-25T23:02:54.117939Z",
     "iopub.status.idle": "2024-11-25T23:02:54.134744Z",
     "shell.execute_reply": "2024-11-25T23:02:54.133673Z"
    },
    "papermill": {
     "duration": 0.056372,
     "end_time": "2024-11-25T23:02:54.136795",
     "exception": false,
     "start_time": "2024-11-25T23:02:54.080423",
     "status": "completed"
    },
    "tags": []
   },
   "outputs": [
    {
     "data": {
      "text/html": [
       "<div>\n",
       "<style scoped>\n",
       "    .dataframe tbody tr th:only-of-type {\n",
       "        vertical-align: middle;\n",
       "    }\n",
       "\n",
       "    .dataframe tbody tr th {\n",
       "        vertical-align: top;\n",
       "    }\n",
       "\n",
       "    .dataframe thead th {\n",
       "        text-align: right;\n",
       "    }\n",
       "</style>\n",
       "<table border=\"1\" class=\"dataframe\">\n",
       "  <thead>\n",
       "    <tr style=\"text-align: right;\">\n",
       "      <th></th>\n",
       "      <th>Logistic regression</th>\n",
       "      <th>Logistic regression tuned</th>\n",
       "      <th>Decision Tree</th>\n",
       "      <th>Random Forest</th>\n",
       "      <th>SVM</th>\n",
       "      <th>SVM tuned</th>\n",
       "      <th>XGB</th>\n",
       "      <th>XGB tuned</th>\n",
       "      <th>Naive Bayes</th>\n",
       "      <th>Naive Bayes tuned</th>\n",
       "    </tr>\n",
       "  </thead>\n",
       "  <tbody>\n",
       "    <tr>\n",
       "      <th>Precision Train</th>\n",
       "      <td>1.000000</td>\n",
       "      <td>1.000000</td>\n",
       "      <td>1.000000</td>\n",
       "      <td>1.000000</td>\n",
       "      <td>1.000000</td>\n",
       "      <td>1.000000</td>\n",
       "      <td>1.000000</td>\n",
       "      <td>1.000000</td>\n",
       "      <td>0.952646</td>\n",
       "      <td>0.971693</td>\n",
       "    </tr>\n",
       "    <tr>\n",
       "      <th>Precision Test</th>\n",
       "      <td>0.945833</td>\n",
       "      <td>0.932026</td>\n",
       "      <td>0.945833</td>\n",
       "      <td>0.945833</td>\n",
       "      <td>0.945833</td>\n",
       "      <td>0.945833</td>\n",
       "      <td>0.945833</td>\n",
       "      <td>0.945833</td>\n",
       "      <td>0.945833</td>\n",
       "      <td>0.932026</td>\n",
       "    </tr>\n",
       "    <tr>\n",
       "      <th>Recall Train</th>\n",
       "      <td>1.000000</td>\n",
       "      <td>1.000000</td>\n",
       "      <td>1.000000</td>\n",
       "      <td>1.000000</td>\n",
       "      <td>1.000000</td>\n",
       "      <td>1.000000</td>\n",
       "      <td>1.000000</td>\n",
       "      <td>1.000000</td>\n",
       "      <td>0.952381</td>\n",
       "      <td>0.971429</td>\n",
       "    </tr>\n",
       "    <tr>\n",
       "      <th>Recall Test</th>\n",
       "      <td>0.933333</td>\n",
       "      <td>0.911111</td>\n",
       "      <td>0.933333</td>\n",
       "      <td>0.933333</td>\n",
       "      <td>0.933333</td>\n",
       "      <td>0.933333</td>\n",
       "      <td>0.933333</td>\n",
       "      <td>0.933333</td>\n",
       "      <td>0.933333</td>\n",
       "      <td>0.911111</td>\n",
       "    </tr>\n",
       "    <tr>\n",
       "      <th>Accuracy Train</th>\n",
       "      <td>1.000000</td>\n",
       "      <td>1.000000</td>\n",
       "      <td>1.000000</td>\n",
       "      <td>1.000000</td>\n",
       "      <td>1.000000</td>\n",
       "      <td>1.000000</td>\n",
       "      <td>1.000000</td>\n",
       "      <td>1.000000</td>\n",
       "      <td>0.952381</td>\n",
       "      <td>0.971429</td>\n",
       "    </tr>\n",
       "    <tr>\n",
       "      <th>Accuracy Test</th>\n",
       "      <td>0.933333</td>\n",
       "      <td>0.911111</td>\n",
       "      <td>0.933333</td>\n",
       "      <td>0.933333</td>\n",
       "      <td>0.933333</td>\n",
       "      <td>0.933333</td>\n",
       "      <td>0.933333</td>\n",
       "      <td>0.933333</td>\n",
       "      <td>0.933333</td>\n",
       "      <td>0.911111</td>\n",
       "    </tr>\n",
       "    <tr>\n",
       "      <th>F1 macro Train</th>\n",
       "      <td>1.000000</td>\n",
       "      <td>1.000000</td>\n",
       "      <td>1.000000</td>\n",
       "      <td>1.000000</td>\n",
       "      <td>1.000000</td>\n",
       "      <td>1.000000</td>\n",
       "      <td>1.000000</td>\n",
       "      <td>1.000000</td>\n",
       "      <td>0.952390</td>\n",
       "      <td>0.971434</td>\n",
       "    </tr>\n",
       "    <tr>\n",
       "      <th>F1 macro Test</th>\n",
       "      <td>0.933078</td>\n",
       "      <td>0.910199</td>\n",
       "      <td>0.933078</td>\n",
       "      <td>0.933078</td>\n",
       "      <td>0.933078</td>\n",
       "      <td>0.933078</td>\n",
       "      <td>0.933078</td>\n",
       "      <td>0.933078</td>\n",
       "      <td>0.933078</td>\n",
       "      <td>0.910199</td>\n",
       "    </tr>\n",
       "  </tbody>\n",
       "</table>\n",
       "</div>"
      ],
      "text/plain": [
       "                 Logistic regression  Logistic regression tuned  \\\n",
       "Precision Train             1.000000                   1.000000   \n",
       "Precision Test              0.945833                   0.932026   \n",
       "Recall Train                1.000000                   1.000000   \n",
       "Recall Test                 0.933333                   0.911111   \n",
       "Accuracy Train              1.000000                   1.000000   \n",
       "Accuracy Test               0.933333                   0.911111   \n",
       "F1 macro Train              1.000000                   1.000000   \n",
       "F1 macro Test               0.933078                   0.910199   \n",
       "\n",
       "                 Decision Tree  Random Forest       SVM  SVM tuned       XGB  \\\n",
       "Precision Train       1.000000       1.000000  1.000000   1.000000  1.000000   \n",
       "Precision Test        0.945833       0.945833  0.945833   0.945833  0.945833   \n",
       "Recall Train          1.000000       1.000000  1.000000   1.000000  1.000000   \n",
       "Recall Test           0.933333       0.933333  0.933333   0.933333  0.933333   \n",
       "Accuracy Train        1.000000       1.000000  1.000000   1.000000  1.000000   \n",
       "Accuracy Test         0.933333       0.933333  0.933333   0.933333  0.933333   \n",
       "F1 macro Train        1.000000       1.000000  1.000000   1.000000  1.000000   \n",
       "F1 macro Test         0.933078       0.933078  0.933078   0.933078  0.933078   \n",
       "\n",
       "                 XGB tuned  Naive Bayes  Naive Bayes tuned  \n",
       "Precision Train   1.000000     0.952646           0.971693  \n",
       "Precision Test    0.945833     0.945833           0.932026  \n",
       "Recall Train      1.000000     0.952381           0.971429  \n",
       "Recall Test       0.933333     0.933333           0.911111  \n",
       "Accuracy Train    1.000000     0.952381           0.971429  \n",
       "Accuracy Test     0.933333     0.933333           0.911111  \n",
       "F1 macro Train    1.000000     0.952390           0.971434  \n",
       "F1 macro Test     0.933078     0.933078           0.910199  "
      ]
     },
     "execution_count": 75,
     "metadata": {},
     "output_type": "execute_result"
    }
   ],
   "source": [
    "# Updated Evaluation metric Score Chart\n",
    "\n",
    "score"
   ]
  },
  {
   "cell_type": "markdown",
   "id": "98e5ee97",
   "metadata": {
    "papermill": {
     "duration": 0.036395,
     "end_time": "2024-11-25T23:02:54.208753",
     "exception": false,
     "start_time": "2024-11-25T23:02:54.172358",
     "status": "completed"
    },
    "tags": []
   },
   "source": [
    "## ML Model - 7 : Neural Network"
   ]
  },
  {
   "cell_type": "code",
   "execution_count": 76,
   "id": "690e6450",
   "metadata": {
    "execution": {
     "iopub.execute_input": "2024-11-25T23:02:54.282763Z",
     "iopub.status.busy": "2024-11-25T23:02:54.282370Z",
     "iopub.status.idle": "2024-11-25T23:02:54.287545Z",
     "shell.execute_reply": "2024-11-25T23:02:54.286570Z"
    },
    "papermill": {
     "duration": 0.043721,
     "end_time": "2024-11-25T23:02:54.289553",
     "exception": false,
     "start_time": "2024-11-25T23:02:54.245832",
     "status": "completed"
    },
    "tags": []
   },
   "outputs": [],
   "source": [
    "# ML Model - 7 Implementation\n",
    "\n",
    "nn_model = MLPClassifier(random_state=0)"
   ]
  },
  {
   "cell_type": "markdown",
   "id": "3fd73f2d",
   "metadata": {
    "papermill": {
     "duration": 0.035506,
     "end_time": "2024-11-25T23:02:54.360599",
     "exception": false,
     "start_time": "2024-11-25T23:02:54.325093",
     "status": "completed"
    },
    "tags": []
   },
   "source": [
    "### 1. Explain the ML Model used and it's performance using Evaluation metric Score Chart."
   ]
  },
  {
   "cell_type": "code",
   "execution_count": 77,
   "id": "d331997f",
   "metadata": {
    "execution": {
     "iopub.execute_input": "2024-11-25T23:02:54.434130Z",
     "iopub.status.busy": "2024-11-25T23:02:54.433065Z",
     "iopub.status.idle": "2024-11-25T23:02:55.229918Z",
     "shell.execute_reply": "2024-11-25T23:02:55.228619Z"
    },
    "papermill": {
     "duration": 0.836229,
     "end_time": "2024-11-25T23:02:55.232213",
     "exception": false,
     "start_time": "2024-11-25T23:02:54.395984",
     "status": "completed"
    },
    "tags": []
   },
   "outputs": [
    {
     "name": "stdout",
     "output_type": "stream",
     "text": [
      "\n",
      "Confusion Matrix:\n"
     ]
    },
    {
     "data": {
      "image/png": "[encoded data removed]",
      "text/plain": [
       "<Figure size 1100x400 with 4 Axes>"
      ]
     },
     "metadata": {},
     "output_type": "display_data"
    },
    {
     "name": "stdout",
     "output_type": "stream",
     "text": [
      "\n",
      "Train Classification Report:\n",
      "|              |   precision |   recall |   f1-score |   support |\n",
      "|:-------------|------------:|---------:|-----------:|----------:|\n",
      "| 0            |           1 |        1 |          1 |        33 |\n",
      "| 1            |           1 |        1 |          1 |        35 |\n",
      "| 2            |           1 |        1 |          1 |        37 |\n",
      "| accuracy     |           1 |        1 |          1 |         1 |\n",
      "| macro avg    |           1 |        1 |          1 |       105 |\n",
      "| weighted avg |           1 |        1 |          1 |       105 |\n",
      "\n",
      "Test Classification Report:\n",
      "|              |   precision |   recall |   f1-score |   support |\n",
      "|:-------------|------------:|---------:|-----------:|----------:|\n",
      "| 0            |    1        | 1        |   1        | 17        |\n",
      "| 1            |    1        | 0.733333 |   0.846154 | 15        |\n",
      "| 2            |    0.764706 | 1        |   0.866667 | 13        |\n",
      "| accuracy     |    0.911111 | 0.911111 |   0.911111 |  0.911111 |\n",
      "| macro avg    |    0.921569 | 0.911111 |   0.904274 | 45        |\n",
      "| weighted avg |    0.932026 | 0.911111 |   0.910199 | 45        |\n"
     ]
    }
   ],
   "source": [
    "# Visualizing evaluation Metric Score chart\n",
    "\n",
    "neural_score = evaluate_model(nn_model, x_train, x_test, y_train, y_test)"
   ]
  },
  {
   "cell_type": "code",
   "execution_count": 78,
   "id": "f4d30cba",
   "metadata": {
    "execution": {
     "iopub.execute_input": "2024-11-25T23:02:55.308272Z",
     "iopub.status.busy": "2024-11-25T23:02:55.306878Z",
     "iopub.status.idle": "2024-11-25T23:02:55.325146Z",
     "shell.execute_reply": "2024-11-25T23:02:55.324018Z"
    },
    "papermill": {
     "duration": 0.058405,
     "end_time": "2024-11-25T23:02:55.327236",
     "exception": false,
     "start_time": "2024-11-25T23:02:55.268831",
     "status": "completed"
    },
    "tags": []
   },
   "outputs": [
    {
     "data": {
      "text/html": [
       "<div>\n",
       "<style scoped>\n",
       "    .dataframe tbody tr th:only-of-type {\n",
       "        vertical-align: middle;\n",
       "    }\n",
       "\n",
       "    .dataframe tbody tr th {\n",
       "        vertical-align: top;\n",
       "    }\n",
       "\n",
       "    .dataframe thead th {\n",
       "        text-align: right;\n",
       "    }\n",
       "</style>\n",
       "<table border=\"1\" class=\"dataframe\">\n",
       "  <thead>\n",
       "    <tr style=\"text-align: right;\">\n",
       "      <th></th>\n",
       "      <th>Logistic regression</th>\n",
       "      <th>Logistic regression tuned</th>\n",
       "      <th>Decision Tree</th>\n",
       "      <th>Random Forest</th>\n",
       "      <th>SVM</th>\n",
       "      <th>SVM tuned</th>\n",
       "      <th>XGB</th>\n",
       "      <th>XGB tuned</th>\n",
       "      <th>Naive Bayes</th>\n",
       "      <th>Naive Bayes tuned</th>\n",
       "      <th>Neural Network</th>\n",
       "    </tr>\n",
       "  </thead>\n",
       "  <tbody>\n",
       "    <tr>\n",
       "      <th>Precision Train</th>\n",
       "      <td>1.000000</td>\n",
       "      <td>1.000000</td>\n",
       "      <td>1.000000</td>\n",
       "      <td>1.000000</td>\n",
       "      <td>1.000000</td>\n",
       "      <td>1.000000</td>\n",
       "      <td>1.000000</td>\n",
       "      <td>1.000000</td>\n",
       "      <td>0.952646</td>\n",
       "      <td>0.971693</td>\n",
       "      <td>1.000000</td>\n",
       "    </tr>\n",
       "    <tr>\n",
       "      <th>Precision Test</th>\n",
       "      <td>0.945833</td>\n",
       "      <td>0.932026</td>\n",
       "      <td>0.945833</td>\n",
       "      <td>0.945833</td>\n",
       "      <td>0.945833</td>\n",
       "      <td>0.945833</td>\n",
       "      <td>0.945833</td>\n",
       "      <td>0.945833</td>\n",
       "      <td>0.945833</td>\n",
       "      <td>0.932026</td>\n",
       "      <td>0.932026</td>\n",
       "    </tr>\n",
       "    <tr>\n",
       "      <th>Recall Train</th>\n",
       "      <td>1.000000</td>\n",
       "      <td>1.000000</td>\n",
       "      <td>1.000000</td>\n",
       "      <td>1.000000</td>\n",
       "      <td>1.000000</td>\n",
       "      <td>1.000000</td>\n",
       "      <td>1.000000</td>\n",
       "      <td>1.000000</td>\n",
       "      <td>0.952381</td>\n",
       "      <td>0.971429</td>\n",
       "      <td>1.000000</td>\n",
       "    </tr>\n",
       "    <tr>\n",
       "      <th>Recall Test</th>\n",
       "      <td>0.933333</td>\n",
       "      <td>0.911111</td>\n",
       "      <td>0.933333</td>\n",
       "      <td>0.933333</td>\n",
       "      <td>0.933333</td>\n",
       "      <td>0.933333</td>\n",
       "      <td>0.933333</td>\n",
       "      <td>0.933333</td>\n",
       "      <td>0.933333</td>\n",
       "      <td>0.911111</td>\n",
       "      <td>0.911111</td>\n",
       "    </tr>\n",
       "    <tr>\n",
       "      <th>Accuracy Train</th>\n",
       "      <td>1.000000</td>\n",
       "      <td>1.000000</td>\n",
       "      <td>1.000000</td>\n",
       "      <td>1.000000</td>\n",
       "      <td>1.000000</td>\n",
       "      <td>1.000000</td>\n",
       "      <td>1.000000</td>\n",
       "      <td>1.000000</td>\n",
       "      <td>0.952381</td>\n",
       "      <td>0.971429</td>\n",
       "      <td>1.000000</td>\n",
       "    </tr>\n",
       "    <tr>\n",
       "      <th>Accuracy Test</th>\n",
       "      <td>0.933333</td>\n",
       "      <td>0.911111</td>\n",
       "      <td>0.933333</td>\n",
       "      <td>0.933333</td>\n",
       "      <td>0.933333</td>\n",
       "      <td>0.933333</td>\n",
       "      <td>0.933333</td>\n",
       "      <td>0.933333</td>\n",
       "      <td>0.933333</td>\n",
       "      <td>0.911111</td>\n",
       "      <td>0.911111</td>\n",
       "    </tr>\n",
       "    <tr>\n",
       "      <th>F1 macro Train</th>\n",
       "      <td>1.000000</td>\n",
       "      <td>1.000000</td>\n",
       "      <td>1.000000</td>\n",
       "      <td>1.000000</td>\n",
       "      <td>1.000000</td>\n",
       "      <td>1.000000</td>\n",
       "      <td>1.000000</td>\n",
       "      <td>1.000000</td>\n",
       "      <td>0.952390</td>\n",
       "      <td>0.971434</td>\n",
       "      <td>1.000000</td>\n",
       "    </tr>\n",
       "    <tr>\n",
       "      <th>F1 macro Test</th>\n",
       "      <td>0.933078</td>\n",
       "      <td>0.910199</td>\n",
       "      <td>0.933078</td>\n",
       "      <td>0.933078</td>\n",
       "      <td>0.933078</td>\n",
       "      <td>0.933078</td>\n",
       "      <td>0.933078</td>\n",
       "      <td>0.933078</td>\n",
       "      <td>0.933078</td>\n",
       "      <td>0.910199</td>\n",
       "      <td>0.910199</td>\n",
       "    </tr>\n",
       "  </tbody>\n",
       "</table>\n",
       "</div>"
      ],
      "text/plain": [
       "                 Logistic regression  Logistic regression tuned  \\\n",
       "Precision Train             1.000000                   1.000000   \n",
       "Precision Test              0.945833                   0.932026   \n",
       "Recall Train                1.000000                   1.000000   \n",
       "Recall Test                 0.933333                   0.911111   \n",
       "Accuracy Train              1.000000                   1.000000   \n",
       "Accuracy Test               0.933333                   0.911111   \n",
       "F1 macro Train              1.000000                   1.000000   \n",
       "F1 macro Test               0.933078                   0.910199   \n",
       "\n",
       "                 Decision Tree  Random Forest       SVM  SVM tuned       XGB  \\\n",
       "Precision Train       1.000000       1.000000  1.000000   1.000000  1.000000   \n",
       "Precision Test        0.945833       0.945833  0.945833   0.945833  0.945833   \n",
       "Recall Train          1.000000       1.000000  1.000000   1.000000  1.000000   \n",
       "Recall Test           0.933333       0.933333  0.933333   0.933333  0.933333   \n",
       "Accuracy Train        1.000000       1.000000  1.000000   1.000000  1.000000   \n",
       "Accuracy Test         0.933333       0.933333  0.933333   0.933333  0.933333   \n",
       "F1 macro Train        1.000000       1.000000  1.000000   1.000000  1.000000   \n",
       "F1 macro Test         0.933078       0.933078  0.933078   0.933078  0.933078   \n",
       "\n",
       "                 XGB tuned  Naive Bayes  Naive Bayes tuned  Neural Network  \n",
       "Precision Train   1.000000     0.952646           0.971693        1.000000  \n",
       "Precision Test    0.945833     0.945833           0.932026        0.932026  \n",
       "Recall Train      1.000000     0.952381           0.971429        1.000000  \n",
       "Recall Test       0.933333     0.933333           0.911111        0.911111  \n",
       "Accuracy Train    1.000000     0.952381           0.971429        1.000000  \n",
       "Accuracy Test     0.933333     0.933333           0.911111        0.911111  \n",
       "F1 macro Train    1.000000     0.952390           0.971434        1.000000  \n",
       "F1 macro Test     0.933078     0.933078           0.910199        0.910199  "
      ]
     },
     "execution_count": 78,
     "metadata": {},
     "output_type": "execute_result"
    }
   ],
   "source": [
    "# Updated Evaluation metric Score Chart\n",
    "\n",
    "score['Neural Network'] = neural_score\n",
    "\n",
    "score"
   ]
  },
  {
   "cell_type": "markdown",
   "id": "6ecad61e",
   "metadata": {
    "papermill": {
     "duration": 0.037905,
     "end_time": "2024-11-25T23:02:55.401841",
     "exception": false,
     "start_time": "2024-11-25T23:02:55.363936",
     "status": "completed"
    },
    "tags": []
   },
   "source": [
    "### 2. Cross- Validation & Hyperparameter Tuning"
   ]
  },
  {
   "cell_type": "code",
   "execution_count": 79,
   "id": "a1d5ed0c",
   "metadata": {
    "execution": {
     "iopub.execute_input": "2024-11-25T23:02:55.480561Z",
     "iopub.status.busy": "2024-11-25T23:02:55.480145Z",
     "iopub.status.idle": "2024-11-25T23:02:56.364564Z",
     "shell.execute_reply": "2024-11-25T23:02:56.363404Z"
    },
    "papermill": {
     "duration": 0.926901,
     "end_time": "2024-11-25T23:02:56.366963",
     "exception": false,
     "start_time": "2024-11-25T23:02:55.440062",
     "status": "completed"
    },
    "tags": []
   },
   "outputs": [
    {
     "name": "stdout",
     "output_type": "stream",
     "text": [
      "Best hyperparameters:  {'hidden_layer_sizes': 90, 'alpha': 0.007500000000000001}\n"
     ]
    }
   ],
   "source": [
    "# Define the hyperparameter grid\n",
    "param_grid = {'hidden_layer_sizes': np.arange(10, 100, 10),\n",
    "              'alpha': np.arange(0.0001, 0.01, 0.0001)}\n",
    "\n",
    "# Initialize the model with adjusted max_iter\n",
    "neural = MLPClassifier(random_state=0, max_iter=1000, solver='adam', tol=1e-5, early_stopping=True, n_iter_no_change=10)\n",
    "\n",
    "# Repeated stratified kfold\n",
    "rskf = RepeatedStratifiedKFold(n_splits=3, n_repeats=3, random_state=0)\n",
    "\n",
    "# Initialize RandomizedSearchCV\n",
    "random_search = RandomizedSearchCV(neural, param_grid, n_iter=10, cv=rskf, n_jobs=-1)\n",
    "\n",
    "# Fit the RandomizedSearchCV to the training data\n",
    "random_search.fit(x_train, y_train)\n",
    "\n",
    "# Select the best hyperparameters\n",
    "best_params = random_search.best_params_\n",
    "print(\"Best hyperparameters: \", best_params)"
   ]
  },
  {
   "cell_type": "code",
   "execution_count": 80,
   "id": "ea4acc99",
   "metadata": {
    "execution": {
     "iopub.execute_input": "2024-11-25T23:02:56.447286Z",
     "iopub.status.busy": "2024-11-25T23:02:56.446512Z",
     "iopub.status.idle": "2024-11-25T23:02:56.451671Z",
     "shell.execute_reply": "2024-11-25T23:02:56.450632Z"
    },
    "papermill": {
     "duration": 0.04711,
     "end_time": "2024-11-25T23:02:56.453887",
     "exception": false,
     "start_time": "2024-11-25T23:02:56.406777",
     "status": "completed"
    },
    "tags": []
   },
   "outputs": [],
   "source": [
    "# Initiate model with best parameters\n",
    "\n",
    "nn_model2 = MLPClassifier(hidden_layer_sizes = best_params['hidden_layer_sizes'],\n",
    "\n",
    "                        alpha = best_params['alpha'],\n",
    "\n",
    "                        random_state = 0)"
   ]
  },
  {
   "cell_type": "code",
   "execution_count": 81,
   "id": "e50f3504",
   "metadata": {
    "execution": {
     "iopub.execute_input": "2024-11-25T23:02:56.534560Z",
     "iopub.status.busy": "2024-11-25T23:02:56.533709Z",
     "iopub.status.idle": "2024-11-25T23:02:57.317690Z",
     "shell.execute_reply": "2024-11-25T23:02:57.315979Z"
    },
    "papermill": {
     "duration": 0.826854,
     "end_time": "2024-11-25T23:02:57.320231",
     "exception": false,
     "start_time": "2024-11-25T23:02:56.493377",
     "status": "completed"
    },
    "tags": []
   },
   "outputs": [
    {
     "name": "stdout",
     "output_type": "stream",
     "text": [
      "\n",
      "Confusion Matrix:\n"
     ]
    },
    {
     "data": {
      "image/png": "[encoded data removed]",
      "text/plain": [
       "<Figure size 1100x400 with 4 Axes>"
      ]
     },
     "metadata": {},
     "output_type": "display_data"
    },
    {
     "name": "stdout",
     "output_type": "stream",
     "text": [
      "\n",
      "Train Classification Report:\n",
      "|              |   precision |   recall |   f1-score |    support |\n",
      "|:-------------|------------:|---------:|-----------:|-----------:|\n",
      "| 0            |    1        | 1        |   1        |  33        |\n",
      "| 1            |    1        | 0.971429 |   0.985507 |  35        |\n",
      "| 2            |    0.973684 | 1        |   0.986667 |  37        |\n",
      "| accuracy     |    0.990476 | 0.990476 |   0.990476 |   0.990476 |\n",
      "| macro avg    |    0.991228 | 0.990476 |   0.990725 | 105        |\n",
      "| weighted avg |    0.990727 | 0.990476 |   0.990471 | 105        |\n",
      "\n",
      "Test Classification Report:\n",
      "|              |   precision |   recall |   f1-score |   support |\n",
      "|:-------------|------------:|---------:|-----------:|----------:|\n",
      "| 0            |    1        | 1        |   1        | 17        |\n",
      "| 1            |    1        | 0.8      |   0.888889 | 15        |\n",
      "| 2            |    0.8125   | 1        |   0.896552 | 13        |\n",
      "| accuracy     |    0.933333 | 0.933333 |   0.933333 |  0.933333 |\n",
      "| macro avg    |    0.9375   | 0.933333 |   0.92848  | 45        |\n",
      "| weighted avg |    0.945833 | 0.933333 |   0.933078 | 45        |\n"
     ]
    }
   ],
   "source": [
    "# Visualizing evaluation Metric Score chart\n",
    "\n",
    "neural2_score = evaluate_model(nn_model2, x_train, x_test, y_train, y_test)"
   ]
  },
  {
   "cell_type": "code",
   "execution_count": 82,
   "id": "ad511e4e",
   "metadata": {
    "execution": {
     "iopub.execute_input": "2024-11-25T23:02:57.398924Z",
     "iopub.status.busy": "2024-11-25T23:02:57.398522Z",
     "iopub.status.idle": "2024-11-25T23:02:57.415918Z",
     "shell.execute_reply": "2024-11-25T23:02:57.414814Z"
    },
    "papermill": {
     "duration": 0.058195,
     "end_time": "2024-11-25T23:02:57.418051",
     "exception": false,
     "start_time": "2024-11-25T23:02:57.359856",
     "status": "completed"
    },
    "tags": []
   },
   "outputs": [
    {
     "data": {
      "text/html": [
       "<div>\n",
       "<style scoped>\n",
       "    .dataframe tbody tr th:only-of-type {\n",
       "        vertical-align: middle;\n",
       "    }\n",
       "\n",
       "    .dataframe tbody tr th {\n",
       "        vertical-align: top;\n",
       "    }\n",
       "\n",
       "    .dataframe thead th {\n",
       "        text-align: right;\n",
       "    }\n",
       "</style>\n",
       "<table border=\"1\" class=\"dataframe\">\n",
       "  <thead>\n",
       "    <tr style=\"text-align: right;\">\n",
       "      <th></th>\n",
       "      <th>Logistic regression</th>\n",
       "      <th>Logistic regression tuned</th>\n",
       "      <th>Decision Tree</th>\n",
       "      <th>Random Forest</th>\n",
       "      <th>SVM</th>\n",
       "      <th>SVM tuned</th>\n",
       "      <th>XGB</th>\n",
       "      <th>XGB tuned</th>\n",
       "      <th>Naive Bayes</th>\n",
       "      <th>Naive Bayes tuned</th>\n",
       "      <th>Neural Network</th>\n",
       "    </tr>\n",
       "  </thead>\n",
       "  <tbody>\n",
       "    <tr>\n",
       "      <th>Precision Train</th>\n",
       "      <td>1.000000</td>\n",
       "      <td>1.000000</td>\n",
       "      <td>1.000000</td>\n",
       "      <td>1.000000</td>\n",
       "      <td>1.000000</td>\n",
       "      <td>1.000000</td>\n",
       "      <td>1.000000</td>\n",
       "      <td>1.000000</td>\n",
       "      <td>0.952646</td>\n",
       "      <td>0.971693</td>\n",
       "      <td>1.000000</td>\n",
       "    </tr>\n",
       "    <tr>\n",
       "      <th>Precision Test</th>\n",
       "      <td>0.945833</td>\n",
       "      <td>0.932026</td>\n",
       "      <td>0.945833</td>\n",
       "      <td>0.945833</td>\n",
       "      <td>0.945833</td>\n",
       "      <td>0.945833</td>\n",
       "      <td>0.945833</td>\n",
       "      <td>0.945833</td>\n",
       "      <td>0.945833</td>\n",
       "      <td>0.932026</td>\n",
       "      <td>0.932026</td>\n",
       "    </tr>\n",
       "    <tr>\n",
       "      <th>Recall Train</th>\n",
       "      <td>1.000000</td>\n",
       "      <td>1.000000</td>\n",
       "      <td>1.000000</td>\n",
       "      <td>1.000000</td>\n",
       "      <td>1.000000</td>\n",
       "      <td>1.000000</td>\n",
       "      <td>1.000000</td>\n",
       "      <td>1.000000</td>\n",
       "      <td>0.952381</td>\n",
       "      <td>0.971429</td>\n",
       "      <td>1.000000</td>\n",
       "    </tr>\n",
       "    <tr>\n",
       "      <th>Recall Test</th>\n",
       "      <td>0.933333</td>\n",
       "      <td>0.911111</td>\n",
       "      <td>0.933333</td>\n",
       "      <td>0.933333</td>\n",
       "      <td>0.933333</td>\n",
       "      <td>0.933333</td>\n",
       "      <td>0.933333</td>\n",
       "      <td>0.933333</td>\n",
       "      <td>0.933333</td>\n",
       "      <td>0.911111</td>\n",
       "      <td>0.911111</td>\n",
       "    </tr>\n",
       "    <tr>\n",
       "      <th>Accuracy Train</th>\n",
       "      <td>1.000000</td>\n",
       "      <td>1.000000</td>\n",
       "      <td>1.000000</td>\n",
       "      <td>1.000000</td>\n",
       "      <td>1.000000</td>\n",
       "      <td>1.000000</td>\n",
       "      <td>1.000000</td>\n",
       "      <td>1.000000</td>\n",
       "      <td>0.952381</td>\n",
       "      <td>0.971429</td>\n",
       "      <td>1.000000</td>\n",
       "    </tr>\n",
       "    <tr>\n",
       "      <th>Accuracy Test</th>\n",
       "      <td>0.933333</td>\n",
       "      <td>0.911111</td>\n",
       "      <td>0.933333</td>\n",
       "      <td>0.933333</td>\n",
       "      <td>0.933333</td>\n",
       "      <td>0.933333</td>\n",
       "      <td>0.933333</td>\n",
       "      <td>0.933333</td>\n",
       "      <td>0.933333</td>\n",
       "      <td>0.911111</td>\n",
       "      <td>0.911111</td>\n",
       "    </tr>\n",
       "    <tr>\n",
       "      <th>F1 macro Train</th>\n",
       "      <td>1.000000</td>\n",
       "      <td>1.000000</td>\n",
       "      <td>1.000000</td>\n",
       "      <td>1.000000</td>\n",
       "      <td>1.000000</td>\n",
       "      <td>1.000000</td>\n",
       "      <td>1.000000</td>\n",
       "      <td>1.000000</td>\n",
       "      <td>0.952390</td>\n",
       "      <td>0.971434</td>\n",
       "      <td>1.000000</td>\n",
       "    </tr>\n",
       "    <tr>\n",
       "      <th>F1 macro Test</th>\n",
       "      <td>0.933078</td>\n",
       "      <td>0.910199</td>\n",
       "      <td>0.933078</td>\n",
       "      <td>0.933078</td>\n",
       "      <td>0.933078</td>\n",
       "      <td>0.933078</td>\n",
       "      <td>0.933078</td>\n",
       "      <td>0.933078</td>\n",
       "      <td>0.933078</td>\n",
       "      <td>0.910199</td>\n",
       "      <td>0.910199</td>\n",
       "    </tr>\n",
       "  </tbody>\n",
       "</table>\n",
       "</div>"
      ],
      "text/plain": [
       "                 Logistic regression  Logistic regression tuned  \\\n",
       "Precision Train             1.000000                   1.000000   \n",
       "Precision Test              0.945833                   0.932026   \n",
       "Recall Train                1.000000                   1.000000   \n",
       "Recall Test                 0.933333                   0.911111   \n",
       "Accuracy Train              1.000000                   1.000000   \n",
       "Accuracy Test               0.933333                   0.911111   \n",
       "F1 macro Train              1.000000                   1.000000   \n",
       "F1 macro Test               0.933078                   0.910199   \n",
       "\n",
       "                 Decision Tree  Random Forest       SVM  SVM tuned       XGB  \\\n",
       "Precision Train       1.000000       1.000000  1.000000   1.000000  1.000000   \n",
       "Precision Test        0.945833       0.945833  0.945833   0.945833  0.945833   \n",
       "Recall Train          1.000000       1.000000  1.000000   1.000000  1.000000   \n",
       "Recall Test           0.933333       0.933333  0.933333   0.933333  0.933333   \n",
       "Accuracy Train        1.000000       1.000000  1.000000   1.000000  1.000000   \n",
       "Accuracy Test         0.933333       0.933333  0.933333   0.933333  0.933333   \n",
       "F1 macro Train        1.000000       1.000000  1.000000   1.000000  1.000000   \n",
       "F1 macro Test         0.933078       0.933078  0.933078   0.933078  0.933078   \n",
       "\n",
       "                 XGB tuned  Naive Bayes  Naive Bayes tuned  Neural Network  \n",
       "Precision Train   1.000000     0.952646           0.971693        1.000000  \n",
       "Precision Test    0.945833     0.945833           0.932026        0.932026  \n",
       "Recall Train      1.000000     0.952381           0.971429        1.000000  \n",
       "Recall Test       0.933333     0.933333           0.911111        0.911111  \n",
       "Accuracy Train    1.000000     0.952381           0.971429        1.000000  \n",
       "Accuracy Test     0.933333     0.933333           0.911111        0.911111  \n",
       "F1 macro Train    1.000000     0.952390           0.971434        1.000000  \n",
       "F1 macro Test     0.933078     0.933078           0.910199        0.910199  "
      ]
     },
     "execution_count": 82,
     "metadata": {},
     "output_type": "execute_result"
    }
   ],
   "source": [
    "# Updated Evaluation metric Score Chart\n",
    "\n",
    "score"
   ]
  },
  {
   "cell_type": "code",
   "execution_count": 83,
   "id": "bff9adfb",
   "metadata": {
    "execution": {
     "iopub.execute_input": "2024-11-25T23:02:57.495886Z",
     "iopub.status.busy": "2024-11-25T23:02:57.495511Z",
     "iopub.status.idle": "2024-11-25T23:02:57.505480Z",
     "shell.execute_reply": "2024-11-25T23:02:57.504213Z"
    },
    "papermill": {
     "duration": 0.051734,
     "end_time": "2024-11-25T23:02:57.507438",
     "exception": false,
     "start_time": "2024-11-25T23:02:57.455704",
     "status": "completed"
    },
    "tags": []
   },
   "outputs": [
    {
     "name": "stdout",
     "output_type": "stream",
     "text": [
      "|                 |   Logistic regression |   Logistic regression tuned |   Decision Tree |   Random Forest |      SVM |   SVM tuned |      XGB |   XGB tuned |   Naive Bayes |   Naive Bayes tuned |   Neural Network |\n",
      "|:----------------|----------------------:|----------------------------:|----------------:|----------------:|---------:|------------:|---------:|------------:|--------------:|--------------------:|-----------------:|\n",
      "| Precision Train |              1        |                    1        |        1        |        1        | 1        |    1        | 1        |    1        |      0.952646 |            0.971693 |         1        |\n",
      "| Precision Test  |              0.945833 |                    0.932026 |        0.945833 |        0.945833 | 0.945833 |    0.945833 | 0.945833 |    0.945833 |      0.945833 |            0.932026 |         0.932026 |\n",
      "| Recall Train    |              1        |                    1        |        1        |        1        | 1        |    1        | 1        |    1        |      0.952381 |            0.971429 |         1        |\n",
      "| Recall Test     |              0.933333 |                    0.911111 |        0.933333 |        0.933333 | 0.933333 |    0.933333 | 0.933333 |    0.933333 |      0.933333 |            0.911111 |         0.911111 |\n",
      "| Accuracy Train  |              1        |                    1        |        1        |        1        | 1        |    1        | 1        |    1        |      0.952381 |            0.971429 |         1        |\n",
      "| Accuracy Test   |              0.933333 |                    0.911111 |        0.933333 |        0.933333 | 0.933333 |    0.933333 | 0.933333 |    0.933333 |      0.933333 |            0.911111 |         0.911111 |\n",
      "| F1 macro Train  |              1        |                    1        |        1        |        1        | 1        |    1        | 1        |    1        |      0.95239  |            0.971434 |         1        |\n",
      "| F1 macro Test   |              0.933078 |                    0.910199 |        0.933078 |        0.933078 | 0.933078 |    0.933078 | 0.933078 |    0.933078 |      0.933078 |            0.910199 |         0.910199 |\n"
     ]
    }
   ],
   "source": [
    "print(score.to_markdown())"
   ]
  },
  {
   "cell_type": "markdown",
   "id": "00e43da3",
   "metadata": {
    "papermill": {
     "duration": 0.03985,
     "end_time": "2024-11-25T23:02:57.586797",
     "exception": false,
     "start_time": "2024-11-25T23:02:57.546947",
     "status": "completed"
    },
    "tags": []
   },
   "source": [
    "## Selection of best model"
   ]
  },
  {
   "cell_type": "code",
   "execution_count": 84,
   "id": "4309b0d8",
   "metadata": {
    "execution": {
     "iopub.execute_input": "2024-11-25T23:02:57.668747Z",
     "iopub.status.busy": "2024-11-25T23:02:57.668349Z",
     "iopub.status.idle": "2024-11-25T23:02:57.678233Z",
     "shell.execute_reply": "2024-11-25T23:02:57.677127Z"
    },
    "papermill": {
     "duration": 0.054018,
     "end_time": "2024-11-25T23:02:57.680562",
     "exception": false,
     "start_time": "2024-11-25T23:02:57.626544",
     "status": "completed"
    },
    "tags": []
   },
   "outputs": [
    {
     "data": {
      "text/plain": [
       "Index(['Logistic regression', 'Logistic regression tuned', 'Decision Tree',\n",
       "       'Random Forest', 'SVM', 'SVM tuned', 'XGB', 'XGB tuned',\n",
       "       'Neural Network'],\n",
       "      dtype='object')"
      ]
     },
     "execution_count": 84,
     "metadata": {},
     "output_type": "execute_result"
    }
   ],
   "source": [
    "# Removing the overfitted models which have precision, recall, f1 scores for train as 1\n",
    "\n",
    "score_t = score.transpose()            # taking transpose of the score dataframe to create new difference column\n",
    "\n",
    "remove_models = score_t[score_t['Recall Train']>=0.98].index  # creating a list of models which have 1 for train and score_t['Accuracy Train']==1.0 and score_t['Precision Train']==1.0 and score_t['F1 macro Train']==1.0\n",
    "\n",
    "remove_models"
   ]
  },
  {
   "cell_type": "code",
   "execution_count": 85,
   "id": "ad80cfb0",
   "metadata": {
    "execution": {
     "iopub.execute_input": "2024-11-25T23:02:57.762931Z",
     "iopub.status.busy": "2024-11-25T23:02:57.762114Z",
     "iopub.status.idle": "2024-11-25T23:02:57.777361Z",
     "shell.execute_reply": "2024-11-25T23:02:57.776228Z"
    },
    "papermill": {
     "duration": 0.058744,
     "end_time": "2024-11-25T23:02:57.779611",
     "exception": false,
     "start_time": "2024-11-25T23:02:57.720867",
     "status": "completed"
    },
    "tags": []
   },
   "outputs": [
    {
     "data": {
      "text/html": [
       "<div>\n",
       "<style scoped>\n",
       "    .dataframe tbody tr th:only-of-type {\n",
       "        vertical-align: middle;\n",
       "    }\n",
       "\n",
       "    .dataframe tbody tr th {\n",
       "        vertical-align: top;\n",
       "    }\n",
       "\n",
       "    .dataframe thead th {\n",
       "        text-align: right;\n",
       "    }\n",
       "</style>\n",
       "<table border=\"1\" class=\"dataframe\">\n",
       "  <thead>\n",
       "    <tr style=\"text-align: right;\">\n",
       "      <th></th>\n",
       "      <th>Precision Train</th>\n",
       "      <th>Precision Test</th>\n",
       "      <th>Recall Train</th>\n",
       "      <th>Recall Test</th>\n",
       "      <th>Accuracy Train</th>\n",
       "      <th>Accuracy Test</th>\n",
       "      <th>F1 macro Train</th>\n",
       "      <th>F1 macro Test</th>\n",
       "    </tr>\n",
       "  </thead>\n",
       "  <tbody>\n",
       "    <tr>\n",
       "      <th>Naive Bayes</th>\n",
       "      <td>0.952646</td>\n",
       "      <td>0.945833</td>\n",
       "      <td>0.952381</td>\n",
       "      <td>0.933333</td>\n",
       "      <td>0.952381</td>\n",
       "      <td>0.933333</td>\n",
       "      <td>0.952390</td>\n",
       "      <td>0.933078</td>\n",
       "    </tr>\n",
       "    <tr>\n",
       "      <th>Naive Bayes tuned</th>\n",
       "      <td>0.971693</td>\n",
       "      <td>0.932026</td>\n",
       "      <td>0.971429</td>\n",
       "      <td>0.911111</td>\n",
       "      <td>0.971429</td>\n",
       "      <td>0.911111</td>\n",
       "      <td>0.971434</td>\n",
       "      <td>0.910199</td>\n",
       "    </tr>\n",
       "  </tbody>\n",
       "</table>\n",
       "</div>"
      ],
      "text/plain": [
       "                   Precision Train  Precision Test  Recall Train  Recall Test  \\\n",
       "Naive Bayes               0.952646        0.945833      0.952381     0.933333   \n",
       "Naive Bayes tuned         0.971693        0.932026      0.971429     0.911111   \n",
       "\n",
       "                   Accuracy Train  Accuracy Test  F1 macro Train  \\\n",
       "Naive Bayes              0.952381       0.933333        0.952390   \n",
       "Naive Bayes tuned        0.971429       0.911111        0.971434   \n",
       "\n",
       "                   F1 macro Test  \n",
       "Naive Bayes             0.933078  \n",
       "Naive Bayes tuned       0.910199  "
      ]
     },
     "execution_count": 85,
     "metadata": {},
     "output_type": "execute_result"
    }
   ],
   "source": [
    "adj = score_t.drop(remove_models)                     # creating a new dataframe with required models\n",
    "\n",
    "adj"
   ]
  },
  {
   "cell_type": "code",
   "execution_count": 86,
   "id": "e44cf495",
   "metadata": {
    "execution": {
     "iopub.execute_input": "2024-11-25T23:02:57.863855Z",
     "iopub.status.busy": "2024-11-25T23:02:57.863462Z",
     "iopub.status.idle": "2024-11-25T23:02:57.869982Z",
     "shell.execute_reply": "2024-11-25T23:02:57.868985Z"
    },
    "papermill": {
     "duration": 0.051793,
     "end_time": "2024-11-25T23:02:57.872382",
     "exception": false,
     "start_time": "2024-11-25T23:02:57.820589",
     "status": "completed"
    },
    "tags": []
   },
   "outputs": [],
   "source": [
    "def select_best_model(df, metrics):\n",
    "\n",
    "\n",
    "\n",
    "    best_models = {}\n",
    "\n",
    "    for metric in metrics:\n",
    "\n",
    "        max_test = df[metric + ' Test'].max()\n",
    "\n",
    "        best_model_test = df[df[metric + ' Test'] == max_test].index[0]\n",
    "\n",
    "        best_model = best_model_test\n",
    "\n",
    "        best_models[metric] = best_model\n",
    "\n",
    "    return best_models"
   ]
  },
  {
   "cell_type": "code",
   "execution_count": 87,
   "id": "38a71da5",
   "metadata": {
    "execution": {
     "iopub.execute_input": "2024-11-25T23:02:57.956566Z",
     "iopub.status.busy": "2024-11-25T23:02:57.955649Z",
     "iopub.status.idle": "2024-11-25T23:02:57.965495Z",
     "shell.execute_reply": "2024-11-25T23:02:57.963976Z"
    },
    "papermill": {
     "duration": 0.054346,
     "end_time": "2024-11-25T23:02:57.967751",
     "exception": false,
     "start_time": "2024-11-25T23:02:57.913405",
     "status": "completed"
    },
    "tags": []
   },
   "outputs": [
    {
     "name": "stdout",
     "output_type": "stream",
     "text": [
      "The best models are:\n",
      "Precision: Naive Bayes - 0.9458\n",
      "Recall: Naive Bayes - 0.9333\n",
      "Accuracy: Naive Bayes - 0.9333\n",
      "F1 macro: Naive Bayes - 0.9331\n"
     ]
    }
   ],
   "source": [
    "metrics = ['Precision', 'Recall', 'Accuracy', 'F1 macro']\n",
    "\n",
    "\n",
    "\n",
    "best_models = select_best_model(adj, metrics)\n",
    "\n",
    "print(\"The best models are:\")\n",
    "\n",
    "for metric, best_model in best_models.items():\n",
    "\n",
    "    print(f\"{metric}: {best_model} - {adj[metric+' Test'][best_model].round(4)}\")"
   ]
  },
  {
   "cell_type": "code",
   "execution_count": 88,
   "id": "56231220",
   "metadata": {
    "execution": {
     "iopub.execute_input": "2024-11-25T23:02:58.053133Z",
     "iopub.status.busy": "2024-11-25T23:02:58.052743Z",
     "iopub.status.idle": "2024-11-25T23:02:58.063014Z",
     "shell.execute_reply": "2024-11-25T23:02:58.061595Z"
    },
    "papermill": {
     "duration": 0.056255,
     "end_time": "2024-11-25T23:02:58.065211",
     "exception": false,
     "start_time": "2024-11-25T23:02:58.008956",
     "status": "completed"
    },
    "tags": []
   },
   "outputs": [
    {
     "name": "stdout",
     "output_type": "stream",
     "text": [
      "| Classification Model   |   Recall Train |   Recall Test |\n",
      "|:-----------------------|---------------:|--------------:|\n",
      "| Naive Bayes            |       0.952381 |      0.933333 |\n",
      "| Naive Bayes tuned      |       0.971429 |      0.911111 |\n"
     ]
    }
   ],
   "source": [
    "# Take recall as the primary evaluation metric\n",
    "\n",
    "score_smpl = score.transpose()\n",
    "\n",
    "remove_overfitting_models = score_smpl[score_smpl['Recall Train']>=0.98].index\n",
    "\n",
    "remove_overfitting_models\n",
    "\n",
    "new_score = score_smpl.drop(remove_overfitting_models)\n",
    "\n",
    "new_score = new_score.drop(['Precision Train','Precision Test','Accuracy Train','Accuracy Test','F1 macro Train','F1 macro Test'], axis=1)\n",
    "\n",
    "new_score.index.name = 'Classification Model'\n",
    "\n",
    "print(new_score.to_markdown())"
   ]
  },
  {
   "cell_type": "markdown",
   "id": "0254a8c4",
   "metadata": {
    "papermill": {
     "duration": 0.040469,
     "end_time": "2024-11-25T23:02:58.146716",
     "exception": false,
     "start_time": "2024-11-25T23:02:58.106247",
     "status": "completed"
    },
    "tags": []
   },
   "source": [
    "###### 3. Explain the model which i have used for the prediction"
   ]
  },
  {
   "cell_type": "code",
   "execution_count": 89,
   "id": "21dadbf0",
   "metadata": {
    "execution": {
     "iopub.execute_input": "2024-11-25T23:02:58.241288Z",
     "iopub.status.busy": "2024-11-25T23:02:58.240886Z",
     "iopub.status.idle": "2024-11-25T23:02:58.254321Z",
     "shell.execute_reply": "2024-11-25T23:02:58.253291Z"
    },
    "papermill": {
     "duration": 0.068897,
     "end_time": "2024-11-25T23:02:58.256939",
     "exception": false,
     "start_time": "2024-11-25T23:02:58.188042",
     "status": "completed"
    },
    "tags": []
   },
   "outputs": [
    {
     "name": "stdout",
     "output_type": "stream",
     "text": [
      "Iris-Setosa\n"
     ]
    }
   ],
   "source": [
    "\n",
    "\n",
    "# Define a list of category labels for reference.\n",
    "\n",
    "Category_RF = ['Iris-Setosa', 'Iris-Versicolor', 'Iris-Virginica']\n",
    "\n",
    "     \n",
    "\n",
    "\n",
    "\n",
    "# In this example, it's a data point with Sepal Length, Sepal Width, Petal Length, and Petal Width.\n",
    "\n",
    "x_rf = np.array([[5.1, 3.5, 1.4, 0.2]])\n",
    "\n",
    "\n",
    "\n",
    "# Use the tuned random forest model (rf_model2) to make a prediction.\n",
    "\n",
    "x_rf_prediction = rf_model2.predict(x_rf)\n",
    "\n",
    "x_rf_prediction[0]\n",
    "\n",
    "\n",
    "\n",
    "# Display the predicted category label.\n",
    "\n",
    "print(Category_RF[int(x_rf_prediction[0])])"
   ]
  }
 ],
 "metadata": {
  "kaggle": {
   "accelerator": "none",
   "dataSources": [
    {
     "datasetId": 19,
     "sourceId": 420,
     "sourceType": "datasetVersion"
    }
   ],
   "dockerImageVersionId": 30786,
   "isGpuEnabled": false,
   "isInternetEnabled": true,
   "language": "python",
   "sourceType": "notebook"
  },
  "kernelspec": {
   "display_name": "Python 3 (ipykernel)",
   "language": "python",
   "name": "python3"
  },
  "language_info": {
   "codemirror_mode": {
    "name": "ipython",
    "version": 3
   },
   "file_extension": ".py",
   "mimetype": "text/x-python",
   "name": "python",
   "nbconvert_exporter": "python",
   "pygments_lexer": "ipython3",
   "version": "3.10.14"
  },
  "papermill": {
   "default_parameters": {},
   "duration": 77.630382,
   "end_time": "2024-11-25T23:03:00.921294",
   "environment_variables": {},
   "exception": null,
   "input_path": "__notebook__.ipynb",
   "output_path": "__notebook__.ipynb",
   "parameters": {},
   "start_time": "2024-11-25T23:01:43.290912",
   "version": "2.6.0"
  }
 },
 "nbformat": 4,
 "nbformat_minor": 5
}
