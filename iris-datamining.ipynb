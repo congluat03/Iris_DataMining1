{
 "cells": [
  {
   "cell_type": "markdown",
   "id": "4e9eb307",
   "metadata": {
    "papermill": {
     "duration": 0.023428,
     "end_time": "2024-11-25T08:35:56.511602",
     "exception": false,
     "start_time": "2024-11-25T08:35:56.488174",
     "status": "completed"
    },
    "tags": []
   },
   "source": [
    "# 1. Know The Data"
   ]
  },
  {
   "cell_type": "code",
   "execution_count": 1,
   "id": "18367ff4",
   "metadata": {
    "execution": {
     "iopub.execute_input": "2024-11-25T08:35:56.552915Z",
     "iopub.status.busy": "2024-11-25T08:35:56.552545Z",
     "iopub.status.idle": "2024-11-25T08:35:57.501781Z",
     "shell.execute_reply": "2024-11-25T08:35:57.500697Z"
    },
    "papermill": {
     "duration": 0.973188,
     "end_time": "2024-11-25T08:35:57.504699",
     "exception": false,
     "start_time": "2024-11-25T08:35:56.531511",
     "status": "completed"
    },
    "tags": []
   },
   "outputs": [
    {
     "name": "stdout",
     "output_type": "stream",
     "text": [
      "/kaggle/input/iris/Iris.csv\n",
      "/kaggle/input/iris/database.sqlite\n"
     ]
    }
   ],
   "source": [
    "\n",
    "import numpy as np # linear algebra\n",
    "import pandas as pd # data processing, CSV file I/O (e.g. pd.read_csv)\n",
    "\n",
    "# Input data files are available in the read-only \"../input/\" directory\n",
    "# For example, running this (by clicking run or pressing Shift+Enter) will list all files under the input directory\n",
    "\n",
    "import os\n",
    "for dirname, _, filenames in os.walk('/kaggle/input'):\n",
    "    for filename in filenames:\n",
    "        print(os.path.join(dirname, filename))"
   ]
  },
  {
   "cell_type": "markdown",
   "id": "b95fd8c2",
   "metadata": {
    "papermill": {
     "duration": 0.020069,
     "end_time": "2024-11-25T08:35:57.545680",
     "exception": false,
     "start_time": "2024-11-25T08:35:57.525611",
     "status": "completed"
    },
    "tags": []
   },
   "source": [
    "## Import Libraries"
   ]
  },
  {
   "cell_type": "code",
   "execution_count": 2,
   "id": "9e202119",
   "metadata": {
    "execution": {
     "iopub.execute_input": "2024-11-25T08:35:57.587560Z",
     "iopub.status.busy": "2024-11-25T08:35:57.587050Z",
     "iopub.status.idle": "2024-11-25T08:36:00.008627Z",
     "shell.execute_reply": "2024-11-25T08:36:00.007580Z"
    },
    "papermill": {
     "duration": 2.445264,
     "end_time": "2024-11-25T08:36:00.011252",
     "exception": false,
     "start_time": "2024-11-25T08:35:57.565988",
     "status": "completed"
    },
    "tags": []
   },
   "outputs": [],
   "source": [
    "import numpy as np\n",
    "\n",
    "import pandas as pd\n",
    "\n",
    "\n",
    "\n",
    "import matplotlib.pyplot as plt\n",
    "\n",
    "import seaborn as sns\n",
    "\n",
    "\n",
    "\n",
    "from sklearn.metrics import confusion_matrix, accuracy_score, precision_score, recall_score, f1_score, classification_report\n",
    "\n",
    "\n",
    "\n",
    "from sklearn.preprocessing import LabelEncoder\n",
    "\n",
    "\n",
    "\n",
    "# Import model selection libraries\n",
    "\n",
    "from sklearn.model_selection import train_test_split, GridSearchCV, RandomizedSearchCV, RepeatedStratifiedKFold\n",
    "\n",
    "\n",
    "\n",
    "# Library used for ML Model implementation\n",
    "\n",
    "from sklearn.linear_model import LogisticRegression\n",
    "\n",
    "from sklearn.tree import DecisionTreeClassifier\n",
    "\n",
    "from sklearn.ensemble import RandomForestClassifier\n",
    "\n",
    "from sklearn.svm import SVC\n",
    "\n",
    "from sklearn.neural_network import MLPClassifier\n",
    "\n",
    "from sklearn.naive_bayes import GaussianNB\n",
    "\n",
    "import xgboost as xgb\n",
    "\n",
    "\n",
    "\n",
    "# Library used for ignore warnings\n",
    "\n",
    "import warnings\n",
    "\n",
    "warnings.filterwarnings('ignore')\n",
    "\n",
    "%matplotlib inline"
   ]
  },
  {
   "cell_type": "markdown",
   "id": "a0549b95",
   "metadata": {
    "papermill": {
     "duration": 0.020153,
     "end_time": "2024-11-25T08:36:00.052121",
     "exception": false,
     "start_time": "2024-11-25T08:36:00.031968",
     "status": "completed"
    },
    "tags": []
   },
   "source": [
    "## Dataset Loading"
   ]
  },
  {
   "cell_type": "code",
   "execution_count": 3,
   "id": "4f2b95ca",
   "metadata": {
    "execution": {
     "iopub.execute_input": "2024-11-25T08:36:00.094028Z",
     "iopub.status.busy": "2024-11-25T08:36:00.093471Z",
     "iopub.status.idle": "2024-11-25T08:36:00.111590Z",
     "shell.execute_reply": "2024-11-25T08:36:00.110620Z"
    },
    "papermill": {
     "duration": 0.041341,
     "end_time": "2024-11-25T08:36:00.113998",
     "exception": false,
     "start_time": "2024-11-25T08:36:00.072657",
     "status": "completed"
    },
    "tags": []
   },
   "outputs": [],
   "source": [
    "df = pd.read_csv('/kaggle/input/iris/Iris.csv')"
   ]
  },
  {
   "cell_type": "markdown",
   "id": "4e42bda6",
   "metadata": {
    "papermill": {
     "duration": 0.019386,
     "end_time": "2024-11-25T08:36:00.153195",
     "exception": false,
     "start_time": "2024-11-25T08:36:00.133809",
     "status": "completed"
    },
    "tags": []
   },
   "source": [
    "## Data First View"
   ]
  },
  {
   "cell_type": "code",
   "execution_count": 4,
   "id": "93dfd2ad",
   "metadata": {
    "execution": {
     "iopub.execute_input": "2024-11-25T08:36:00.193962Z",
     "iopub.status.busy": "2024-11-25T08:36:00.193500Z",
     "iopub.status.idle": "2024-11-25T08:36:00.217737Z",
     "shell.execute_reply": "2024-11-25T08:36:00.216633Z"
    },
    "papermill": {
     "duration": 0.047313,
     "end_time": "2024-11-25T08:36:00.219908",
     "exception": false,
     "start_time": "2024-11-25T08:36:00.172595",
     "status": "completed"
    },
    "tags": []
   },
   "outputs": [
    {
     "data": {
      "text/html": [
       "<div>\n",
       "<style scoped>\n",
       "    .dataframe tbody tr th:only-of-type {\n",
       "        vertical-align: middle;\n",
       "    }\n",
       "\n",
       "    .dataframe tbody tr th {\n",
       "        vertical-align: top;\n",
       "    }\n",
       "\n",
       "    .dataframe thead th {\n",
       "        text-align: right;\n",
       "    }\n",
       "</style>\n",
       "<table border=\"1\" class=\"dataframe\">\n",
       "  <thead>\n",
       "    <tr style=\"text-align: right;\">\n",
       "      <th></th>\n",
       "      <th>Id</th>\n",
       "      <th>SepalLengthCm</th>\n",
       "      <th>SepalWidthCm</th>\n",
       "      <th>PetalLengthCm</th>\n",
       "      <th>PetalWidthCm</th>\n",
       "      <th>Species</th>\n",
       "    </tr>\n",
       "  </thead>\n",
       "  <tbody>\n",
       "    <tr>\n",
       "      <th>0</th>\n",
       "      <td>1</td>\n",
       "      <td>5.1</td>\n",
       "      <td>3.5</td>\n",
       "      <td>1.4</td>\n",
       "      <td>0.2</td>\n",
       "      <td>Iris-setosa</td>\n",
       "    </tr>\n",
       "    <tr>\n",
       "      <th>1</th>\n",
       "      <td>2</td>\n",
       "      <td>4.9</td>\n",
       "      <td>3.0</td>\n",
       "      <td>1.4</td>\n",
       "      <td>0.2</td>\n",
       "      <td>Iris-setosa</td>\n",
       "    </tr>\n",
       "    <tr>\n",
       "      <th>2</th>\n",
       "      <td>3</td>\n",
       "      <td>4.7</td>\n",
       "      <td>3.2</td>\n",
       "      <td>1.3</td>\n",
       "      <td>0.2</td>\n",
       "      <td>Iris-setosa</td>\n",
       "    </tr>\n",
       "    <tr>\n",
       "      <th>3</th>\n",
       "      <td>4</td>\n",
       "      <td>4.6</td>\n",
       "      <td>3.1</td>\n",
       "      <td>1.5</td>\n",
       "      <td>0.2</td>\n",
       "      <td>Iris-setosa</td>\n",
       "    </tr>\n",
       "    <tr>\n",
       "      <th>4</th>\n",
       "      <td>5</td>\n",
       "      <td>5.0</td>\n",
       "      <td>3.6</td>\n",
       "      <td>1.4</td>\n",
       "      <td>0.2</td>\n",
       "      <td>Iris-setosa</td>\n",
       "    </tr>\n",
       "  </tbody>\n",
       "</table>\n",
       "</div>"
      ],
      "text/plain": [
       "   Id  SepalLengthCm  SepalWidthCm  PetalLengthCm  PetalWidthCm      Species\n",
       "0   1            5.1           3.5            1.4           0.2  Iris-setosa\n",
       "1   2            4.9           3.0            1.4           0.2  Iris-setosa\n",
       "2   3            4.7           3.2            1.3           0.2  Iris-setosa\n",
       "3   4            4.6           3.1            1.5           0.2  Iris-setosa\n",
       "4   5            5.0           3.6            1.4           0.2  Iris-setosa"
      ]
     },
     "execution_count": 4,
     "metadata": {},
     "output_type": "execute_result"
    }
   ],
   "source": [
    "# Dataset First Look\n",
    "\n",
    "# View top 5 rews of the dataset\n",
    "\n",
    "df.head()"
   ]
  },
  {
   "cell_type": "markdown",
   "id": "75abd5a9",
   "metadata": {
    "papermill": {
     "duration": 0.019692,
     "end_time": "2024-11-25T08:36:00.259650",
     "exception": false,
     "start_time": "2024-11-25T08:36:00.239958",
     "status": "completed"
    },
    "tags": []
   },
   "source": [
    "## Dataset Row & Columns count"
   ]
  },
  {
   "cell_type": "code",
   "execution_count": 5,
   "id": "7f002db8",
   "metadata": {
    "execution": {
     "iopub.execute_input": "2024-11-25T08:36:00.300491Z",
     "iopub.status.busy": "2024-11-25T08:36:00.300115Z",
     "iopub.status.idle": "2024-11-25T08:36:00.305816Z",
     "shell.execute_reply": "2024-11-25T08:36:00.304614Z"
    },
    "papermill": {
     "duration": 0.028996,
     "end_time": "2024-11-25T08:36:00.308211",
     "exception": false,
     "start_time": "2024-11-25T08:36:00.279215",
     "status": "completed"
    },
    "tags": []
   },
   "outputs": [
    {
     "name": "stdout",
     "output_type": "stream",
     "text": [
      "Number of rows are:  150\n",
      "Number of columns are:  6\n"
     ]
    }
   ],
   "source": [
    "print(\"Number of rows are: \", df.shape[0])\n",
    "\n",
    "print(\"Number of columns are: \", df.shape[1])"
   ]
  },
  {
   "cell_type": "markdown",
   "id": "157e8288",
   "metadata": {
    "papermill": {
     "duration": 0.019919,
     "end_time": "2024-11-25T08:36:00.348996",
     "exception": false,
     "start_time": "2024-11-25T08:36:00.329077",
     "status": "completed"
    },
    "tags": []
   },
   "source": [
    "## Dataset Infnormation"
   ]
  },
  {
   "cell_type": "code",
   "execution_count": 6,
   "id": "f129f841",
   "metadata": {
    "execution": {
     "iopub.execute_input": "2024-11-25T08:36:00.392374Z",
     "iopub.status.busy": "2024-11-25T08:36:00.392007Z",
     "iopub.status.idle": "2024-11-25T08:36:00.421700Z",
     "shell.execute_reply": "2024-11-25T08:36:00.420471Z"
    },
    "papermill": {
     "duration": 0.054809,
     "end_time": "2024-11-25T08:36:00.423962",
     "exception": false,
     "start_time": "2024-11-25T08:36:00.369153",
     "status": "completed"
    },
    "tags": []
   },
   "outputs": [
    {
     "name": "stdout",
     "output_type": "stream",
     "text": [
      "<class 'pandas.core.frame.DataFrame'>\n",
      "RangeIndex: 150 entries, 0 to 149\n",
      "Data columns (total 6 columns):\n",
      " #   Column         Non-Null Count  Dtype  \n",
      "---  ------         --------------  -----  \n",
      " 0   Id             150 non-null    int64  \n",
      " 1   SepalLengthCm  150 non-null    float64\n",
      " 2   SepalWidthCm   150 non-null    float64\n",
      " 3   PetalLengthCm  150 non-null    float64\n",
      " 4   PetalWidthCm   150 non-null    float64\n",
      " 5   Species        150 non-null    object \n",
      "dtypes: float64(4), int64(1), object(1)\n",
      "memory usage: 7.2+ KB\n"
     ]
    }
   ],
   "source": [
    "df.info()"
   ]
  },
  {
   "cell_type": "markdown",
   "id": "9c6c945e",
   "metadata": {
    "papermill": {
     "duration": 0.020432,
     "end_time": "2024-11-25T08:36:00.465216",
     "exception": false,
     "start_time": "2024-11-25T08:36:00.444784",
     "status": "completed"
    },
    "tags": []
   },
   "source": [
    "## Duplicate Values"
   ]
  },
  {
   "cell_type": "code",
   "execution_count": 7,
   "id": "ce52ef00",
   "metadata": {
    "execution": {
     "iopub.execute_input": "2024-11-25T08:36:00.510142Z",
     "iopub.status.busy": "2024-11-25T08:36:00.508983Z",
     "iopub.status.idle": "2024-11-25T08:36:00.516717Z",
     "shell.execute_reply": "2024-11-25T08:36:00.515555Z"
    },
    "papermill": {
     "duration": 0.033053,
     "end_time": "2024-11-25T08:36:00.518724",
     "exception": false,
     "start_time": "2024-11-25T08:36:00.485671",
     "status": "completed"
    },
    "tags": []
   },
   "outputs": [
    {
     "name": "stdout",
     "output_type": "stream",
     "text": [
      "number of duplicated rows are 0\n"
     ]
    }
   ],
   "source": [
    "dup = df.duplicated().sum()\n",
    "\n",
    "print(f'number of duplicated rows are {dup}')"
   ]
  },
  {
   "cell_type": "markdown",
   "id": "4e7d7348",
   "metadata": {
    "papermill": {
     "duration": 0.019538,
     "end_time": "2024-11-25T08:36:00.558096",
     "exception": false,
     "start_time": "2024-11-25T08:36:00.538558",
     "status": "completed"
    },
    "tags": []
   },
   "source": [
    "## Missing Values/Null Values"
   ]
  },
  {
   "cell_type": "code",
   "execution_count": 8,
   "id": "df5c1b32",
   "metadata": {
    "execution": {
     "iopub.execute_input": "2024-11-25T08:36:00.600415Z",
     "iopub.status.busy": "2024-11-25T08:36:00.600039Z",
     "iopub.status.idle": "2024-11-25T08:36:00.608325Z",
     "shell.execute_reply": "2024-11-25T08:36:00.606993Z"
    },
    "papermill": {
     "duration": 0.031641,
     "end_time": "2024-11-25T08:36:00.610288",
     "exception": false,
     "start_time": "2024-11-25T08:36:00.578647",
     "status": "completed"
    },
    "tags": []
   },
   "outputs": [
    {
     "data": {
      "text/plain": [
       "Id               0\n",
       "SepalLengthCm    0\n",
       "SepalWidthCm     0\n",
       "PetalLengthCm    0\n",
       "PetalWidthCm     0\n",
       "Species          0\n",
       "dtype: int64"
      ]
     },
     "execution_count": 8,
     "metadata": {},
     "output_type": "execute_result"
    }
   ],
   "source": [
    "df.isnull().sum()"
   ]
  },
  {
   "cell_type": "markdown",
   "id": "e67486d7",
   "metadata": {
    "papermill": {
     "duration": 0.019994,
     "end_time": "2024-11-25T08:36:00.651019",
     "exception": false,
     "start_time": "2024-11-25T08:36:00.631025",
     "status": "completed"
    },
    "tags": []
   },
   "source": [
    "## What did i know about the dataset?"
   ]
  },
  {
   "cell_type": "markdown",
   "id": "fdffc741",
   "metadata": {
    "papermill": {
     "duration": 0.019907,
     "end_time": "2024-11-25T08:36:00.691088",
     "exception": false,
     "start_time": "2024-11-25T08:36:00.671181",
     "status": "completed"
    },
    "tags": []
   },
   "source": [
    "# 2. Understanding The Variables"
   ]
  },
  {
   "cell_type": "code",
   "execution_count": 9,
   "id": "b2564b01",
   "metadata": {
    "execution": {
     "iopub.execute_input": "2024-11-25T08:36:00.733627Z",
     "iopub.status.busy": "2024-11-25T08:36:00.732618Z",
     "iopub.status.idle": "2024-11-25T08:36:00.739413Z",
     "shell.execute_reply": "2024-11-25T08:36:00.738376Z"
    },
    "papermill": {
     "duration": 0.030284,
     "end_time": "2024-11-25T08:36:00.741446",
     "exception": false,
     "start_time": "2024-11-25T08:36:00.711162",
     "status": "completed"
    },
    "tags": []
   },
   "outputs": [
    {
     "data": {
      "text/plain": [
       "Index(['Id', 'SepalLengthCm', 'SepalWidthCm', 'PetalLengthCm', 'PetalWidthCm',\n",
       "       'Species'],\n",
       "      dtype='object')"
      ]
     },
     "execution_count": 9,
     "metadata": {},
     "output_type": "execute_result"
    }
   ],
   "source": [
    "df.columns"
   ]
  },
  {
   "cell_type": "code",
   "execution_count": 10,
   "id": "6c634393",
   "metadata": {
    "execution": {
     "iopub.execute_input": "2024-11-25T08:36:00.783619Z",
     "iopub.status.busy": "2024-11-25T08:36:00.783217Z",
     "iopub.status.idle": "2024-11-25T08:36:00.816441Z",
     "shell.execute_reply": "2024-11-25T08:36:00.815404Z"
    },
    "papermill": {
     "duration": 0.057159,
     "end_time": "2024-11-25T08:36:00.818817",
     "exception": false,
     "start_time": "2024-11-25T08:36:00.761658",
     "status": "completed"
    },
    "tags": []
   },
   "outputs": [
    {
     "data": {
      "text/html": [
       "<div>\n",
       "<style scoped>\n",
       "    .dataframe tbody tr th:only-of-type {\n",
       "        vertical-align: middle;\n",
       "    }\n",
       "\n",
       "    .dataframe tbody tr th {\n",
       "        vertical-align: top;\n",
       "    }\n",
       "\n",
       "    .dataframe thead th {\n",
       "        text-align: right;\n",
       "    }\n",
       "</style>\n",
       "<table border=\"1\" class=\"dataframe\">\n",
       "  <thead>\n",
       "    <tr style=\"text-align: right;\">\n",
       "      <th></th>\n",
       "      <th>Id</th>\n",
       "      <th>SepalLengthCm</th>\n",
       "      <th>SepalWidthCm</th>\n",
       "      <th>PetalLengthCm</th>\n",
       "      <th>PetalWidthCm</th>\n",
       "      <th>Species</th>\n",
       "    </tr>\n",
       "  </thead>\n",
       "  <tbody>\n",
       "    <tr>\n",
       "      <th>count</th>\n",
       "      <td>150.00</td>\n",
       "      <td>150.00</td>\n",
       "      <td>150.00</td>\n",
       "      <td>150.00</td>\n",
       "      <td>150.00</td>\n",
       "      <td>150</td>\n",
       "    </tr>\n",
       "    <tr>\n",
       "      <th>unique</th>\n",
       "      <td>NaN</td>\n",
       "      <td>NaN</td>\n",
       "      <td>NaN</td>\n",
       "      <td>NaN</td>\n",
       "      <td>NaN</td>\n",
       "      <td>3</td>\n",
       "    </tr>\n",
       "    <tr>\n",
       "      <th>top</th>\n",
       "      <td>NaN</td>\n",
       "      <td>NaN</td>\n",
       "      <td>NaN</td>\n",
       "      <td>NaN</td>\n",
       "      <td>NaN</td>\n",
       "      <td>Iris-setosa</td>\n",
       "    </tr>\n",
       "    <tr>\n",
       "      <th>freq</th>\n",
       "      <td>NaN</td>\n",
       "      <td>NaN</td>\n",
       "      <td>NaN</td>\n",
       "      <td>NaN</td>\n",
       "      <td>NaN</td>\n",
       "      <td>50</td>\n",
       "    </tr>\n",
       "    <tr>\n",
       "      <th>mean</th>\n",
       "      <td>75.50</td>\n",
       "      <td>5.84</td>\n",
       "      <td>3.05</td>\n",
       "      <td>3.76</td>\n",
       "      <td>1.20</td>\n",
       "      <td>NaN</td>\n",
       "    </tr>\n",
       "    <tr>\n",
       "      <th>std</th>\n",
       "      <td>43.45</td>\n",
       "      <td>0.83</td>\n",
       "      <td>0.43</td>\n",
       "      <td>1.76</td>\n",
       "      <td>0.76</td>\n",
       "      <td>NaN</td>\n",
       "    </tr>\n",
       "    <tr>\n",
       "      <th>min</th>\n",
       "      <td>1.00</td>\n",
       "      <td>4.30</td>\n",
       "      <td>2.00</td>\n",
       "      <td>1.00</td>\n",
       "      <td>0.10</td>\n",
       "      <td>NaN</td>\n",
       "    </tr>\n",
       "    <tr>\n",
       "      <th>25%</th>\n",
       "      <td>38.25</td>\n",
       "      <td>5.10</td>\n",
       "      <td>2.80</td>\n",
       "      <td>1.60</td>\n",
       "      <td>0.30</td>\n",
       "      <td>NaN</td>\n",
       "    </tr>\n",
       "    <tr>\n",
       "      <th>50%</th>\n",
       "      <td>75.50</td>\n",
       "      <td>5.80</td>\n",
       "      <td>3.00</td>\n",
       "      <td>4.35</td>\n",
       "      <td>1.30</td>\n",
       "      <td>NaN</td>\n",
       "    </tr>\n",
       "    <tr>\n",
       "      <th>75%</th>\n",
       "      <td>112.75</td>\n",
       "      <td>6.40</td>\n",
       "      <td>3.30</td>\n",
       "      <td>5.10</td>\n",
       "      <td>1.80</td>\n",
       "      <td>NaN</td>\n",
       "    </tr>\n",
       "    <tr>\n",
       "      <th>max</th>\n",
       "      <td>150.00</td>\n",
       "      <td>7.90</td>\n",
       "      <td>4.40</td>\n",
       "      <td>6.90</td>\n",
       "      <td>2.50</td>\n",
       "      <td>NaN</td>\n",
       "    </tr>\n",
       "  </tbody>\n",
       "</table>\n",
       "</div>"
      ],
      "text/plain": [
       "            Id  SepalLengthCm  SepalWidthCm  PetalLengthCm  PetalWidthCm  \\\n",
       "count   150.00         150.00        150.00         150.00        150.00   \n",
       "unique     NaN            NaN           NaN            NaN           NaN   \n",
       "top        NaN            NaN           NaN            NaN           NaN   \n",
       "freq       NaN            NaN           NaN            NaN           NaN   \n",
       "mean     75.50           5.84          3.05           3.76          1.20   \n",
       "std      43.45           0.83          0.43           1.76          0.76   \n",
       "min       1.00           4.30          2.00           1.00          0.10   \n",
       "25%      38.25           5.10          2.80           1.60          0.30   \n",
       "50%      75.50           5.80          3.00           4.35          1.30   \n",
       "75%     112.75           6.40          3.30           5.10          1.80   \n",
       "max     150.00           7.90          4.40           6.90          2.50   \n",
       "\n",
       "            Species  \n",
       "count           150  \n",
       "unique            3  \n",
       "top     Iris-setosa  \n",
       "freq             50  \n",
       "mean            NaN  \n",
       "std             NaN  \n",
       "min             NaN  \n",
       "25%             NaN  \n",
       "50%             NaN  \n",
       "75%             NaN  \n",
       "max             NaN  "
      ]
     },
     "execution_count": 10,
     "metadata": {},
     "output_type": "execute_result"
    }
   ],
   "source": [
    "df.describe(include= 'all').round(2)"
   ]
  },
  {
   "cell_type": "markdown",
   "id": "fa977378",
   "metadata": {
    "papermill": {
     "duration": 0.020563,
     "end_time": "2024-11-25T08:36:00.859908",
     "exception": false,
     "start_time": "2024-11-25T08:36:00.839345",
     "status": "completed"
    },
    "tags": []
   },
   "source": [
    "## Check Unique Values for each variable."
   ]
  },
  {
   "cell_type": "code",
   "execution_count": 11,
   "id": "8a9670dc",
   "metadata": {
    "execution": {
     "iopub.execute_input": "2024-11-25T08:36:00.902561Z",
     "iopub.status.busy": "2024-11-25T08:36:00.902159Z",
     "iopub.status.idle": "2024-11-25T08:36:00.909281Z",
     "shell.execute_reply": "2024-11-25T08:36:00.907995Z"
    },
    "papermill": {
     "duration": 0.031602,
     "end_time": "2024-11-25T08:36:00.911875",
     "exception": false,
     "start_time": "2024-11-25T08:36:00.880273",
     "status": "completed"
    },
    "tags": []
   },
   "outputs": [
    {
     "name": "stdout",
     "output_type": "stream",
     "text": [
      "No. of unique values in  Id is  150\n",
      "No. of unique values in  SepalLengthCm is  35\n",
      "No. of unique values in  SepalWidthCm is  23\n",
      "No. of unique values in  PetalLengthCm is  43\n",
      "No. of unique values in  PetalWidthCm is  22\n",
      "No. of unique values in  Species is  3\n"
     ]
    }
   ],
   "source": [
    "for i in df.columns.tolist():\n",
    "\n",
    "    print(\"No. of unique values in \", i, \"is \", df[i].nunique())"
   ]
  },
  {
   "cell_type": "markdown",
   "id": "36c48972",
   "metadata": {
    "papermill": {
     "duration": 0.021412,
     "end_time": "2024-11-25T08:36:00.954277",
     "exception": false,
     "start_time": "2024-11-25T08:36:00.932865",
     "status": "completed"
    },
    "tags": []
   },
   "source": [
    "# 3. Data Wrangling"
   ]
  },
  {
   "cell_type": "markdown",
   "id": "9d04b245",
   "metadata": {
    "papermill": {
     "duration": 0.072154,
     "end_time": "2024-11-25T08:36:01.048554",
     "exception": false,
     "start_time": "2024-11-25T08:36:00.976400",
     "status": "completed"
    },
    "tags": []
   },
   "source": [
    "## Data Wrangling Code"
   ]
  },
  {
   "cell_type": "code",
   "execution_count": 12,
   "id": "028b366d",
   "metadata": {
    "execution": {
     "iopub.execute_input": "2024-11-25T08:36:01.091709Z",
     "iopub.status.busy": "2024-11-25T08:36:01.091326Z",
     "iopub.status.idle": "2024-11-25T08:36:01.098022Z",
     "shell.execute_reply": "2024-11-25T08:36:01.096737Z"
    },
    "papermill": {
     "duration": 0.030885,
     "end_time": "2024-11-25T08:36:01.100125",
     "exception": false,
     "start_time": "2024-11-25T08:36:01.069240",
     "status": "completed"
    },
    "tags": []
   },
   "outputs": [],
   "source": [
    "data = df.iloc[:, 1:]"
   ]
  },
  {
   "cell_type": "code",
   "execution_count": 13,
   "id": "eb45b0cf",
   "metadata": {
    "execution": {
     "iopub.execute_input": "2024-11-25T08:36:01.143291Z",
     "iopub.status.busy": "2024-11-25T08:36:01.142925Z",
     "iopub.status.idle": "2024-11-25T08:36:01.155566Z",
     "shell.execute_reply": "2024-11-25T08:36:01.154583Z"
    },
    "papermill": {
     "duration": 0.036887,
     "end_time": "2024-11-25T08:36:01.157649",
     "exception": false,
     "start_time": "2024-11-25T08:36:01.120762",
     "status": "completed"
    },
    "tags": []
   },
   "outputs": [
    {
     "data": {
      "text/html": [
       "<div>\n",
       "<style scoped>\n",
       "    .dataframe tbody tr th:only-of-type {\n",
       "        vertical-align: middle;\n",
       "    }\n",
       "\n",
       "    .dataframe tbody tr th {\n",
       "        vertical-align: top;\n",
       "    }\n",
       "\n",
       "    .dataframe thead th {\n",
       "        text-align: right;\n",
       "    }\n",
       "</style>\n",
       "<table border=\"1\" class=\"dataframe\">\n",
       "  <thead>\n",
       "    <tr style=\"text-align: right;\">\n",
       "      <th></th>\n",
       "      <th>SepalLengthCm</th>\n",
       "      <th>SepalWidthCm</th>\n",
       "      <th>PetalLengthCm</th>\n",
       "      <th>PetalWidthCm</th>\n",
       "      <th>Species</th>\n",
       "    </tr>\n",
       "  </thead>\n",
       "  <tbody>\n",
       "    <tr>\n",
       "      <th>0</th>\n",
       "      <td>5.1</td>\n",
       "      <td>3.5</td>\n",
       "      <td>1.4</td>\n",
       "      <td>0.2</td>\n",
       "      <td>Iris-setosa</td>\n",
       "    </tr>\n",
       "    <tr>\n",
       "      <th>1</th>\n",
       "      <td>4.9</td>\n",
       "      <td>3.0</td>\n",
       "      <td>1.4</td>\n",
       "      <td>0.2</td>\n",
       "      <td>Iris-setosa</td>\n",
       "    </tr>\n",
       "    <tr>\n",
       "      <th>2</th>\n",
       "      <td>4.7</td>\n",
       "      <td>3.2</td>\n",
       "      <td>1.3</td>\n",
       "      <td>0.2</td>\n",
       "      <td>Iris-setosa</td>\n",
       "    </tr>\n",
       "    <tr>\n",
       "      <th>3</th>\n",
       "      <td>4.6</td>\n",
       "      <td>3.1</td>\n",
       "      <td>1.5</td>\n",
       "      <td>0.2</td>\n",
       "      <td>Iris-setosa</td>\n",
       "    </tr>\n",
       "    <tr>\n",
       "      <th>4</th>\n",
       "      <td>5.0</td>\n",
       "      <td>3.6</td>\n",
       "      <td>1.4</td>\n",
       "      <td>0.2</td>\n",
       "      <td>Iris-setosa</td>\n",
       "    </tr>\n",
       "  </tbody>\n",
       "</table>\n",
       "</div>"
      ],
      "text/plain": [
       "   SepalLengthCm  SepalWidthCm  PetalLengthCm  PetalWidthCm      Species\n",
       "0            5.1           3.5            1.4           0.2  Iris-setosa\n",
       "1            4.9           3.0            1.4           0.2  Iris-setosa\n",
       "2            4.7           3.2            1.3           0.2  Iris-setosa\n",
       "3            4.6           3.1            1.5           0.2  Iris-setosa\n",
       "4            5.0           3.6            1.4           0.2  Iris-setosa"
      ]
     },
     "execution_count": 13,
     "metadata": {},
     "output_type": "execute_result"
    }
   ],
   "source": [
    "data.head()"
   ]
  },
  {
   "cell_type": "markdown",
   "id": "767f9e10",
   "metadata": {
    "papermill": {
     "duration": 0.020912,
     "end_time": "2024-11-25T08:36:01.199265",
     "exception": false,
     "start_time": "2024-11-25T08:36:01.178353",
     "status": "completed"
    },
    "tags": []
   },
   "source": [
    "# 4. Data Vizualization, Storytelling & Experimenting with charts : Understand the relationships between variables"
   ]
  },
  {
   "cell_type": "markdown",
   "id": "77b64050",
   "metadata": {
    "papermill": {
     "duration": 0.02161,
     "end_time": "2024-11-25T08:36:01.241985",
     "exception": false,
     "start_time": "2024-11-25T08:36:01.220375",
     "status": "completed"
    },
    "tags": []
   },
   "source": [
    "Chart - 1 : Distribution of Numerical Variables"
   ]
  },
  {
   "cell_type": "code",
   "execution_count": 14,
   "id": "766533fb",
   "metadata": {
    "execution": {
     "iopub.execute_input": "2024-11-25T08:36:01.286347Z",
     "iopub.status.busy": "2024-11-25T08:36:01.285646Z",
     "iopub.status.idle": "2024-11-25T08:36:02.079055Z",
     "shell.execute_reply": "2024-11-25T08:36:02.078020Z"
    },
    "papermill": {
     "duration": 0.818456,
     "end_time": "2024-11-25T08:36:02.081482",
     "exception": false,
     "start_time": "2024-11-25T08:36:01.263026",
     "status": "completed"
    },
    "tags": []
   },
   "outputs": [
    {
     "data": {
      "image/png": "[encoded data removed]",
      "text/plain": [
       "<Figure size 800x600 with 4 Axes>"
      ]
     },
     "metadata": {},
     "output_type": "display_data"
    }
   ],
   "source": [
    "plt.figure(figsize=(8, 6))\n",
    "\n",
    "plt.suptitle('Distrbution of Iris Flower Measurements', fontsize = 14)\n",
    "\n",
    "\n",
    "\n",
    "plt.subplot(2,2,1)\n",
    "\n",
    "plt.hist(data['SepalLengthCm'])\n",
    "\n",
    "plt.title('Sepal length Distribution')\n",
    "\n",
    "\n",
    "\n",
    "plt.subplot(2,2,2)\n",
    "\n",
    "plt.hist(data['SepalWidthCm'])\n",
    "\n",
    "plt.title('Sepal width Distribution')\n",
    "\n",
    "\n",
    "\n",
    "plt.subplot(2,2,3)\n",
    "\n",
    "plt.hist(data['PetalLengthCm'])\n",
    "\n",
    "plt.title('Patal length Distribution')\n",
    "\n",
    "\n",
    "\n",
    "plt.subplot(2,2,4)\n",
    "\n",
    "plt.hist(data['PetalWidthCm'])\n",
    "\n",
    "plt.title('Patal width Distribution')\n",
    "\n",
    "\n",
    "\n",
    "plt.tight_layout()\n",
    "\n",
    "plt.show()"
   ]
  },
  {
   "cell_type": "markdown",
   "id": "97c5eb02",
   "metadata": {
    "papermill": {
     "duration": 0.022225,
     "end_time": "2024-11-25T08:36:02.126491",
     "exception": false,
     "start_time": "2024-11-25T08:36:02.104266",
     "status": "completed"
    },
    "tags": []
   },
   "source": [
    "Chart - 2: Sepal Length vs epal Width"
   ]
  },
  {
   "cell_type": "code",
   "execution_count": 15,
   "id": "4a41d8bb",
   "metadata": {
    "execution": {
     "iopub.execute_input": "2024-11-25T08:36:02.171417Z",
     "iopub.status.busy": "2024-11-25T08:36:02.171045Z",
     "iopub.status.idle": "2024-11-25T08:36:02.176501Z",
     "shell.execute_reply": "2024-11-25T08:36:02.175360Z"
    },
    "papermill": {
     "duration": 0.030714,
     "end_time": "2024-11-25T08:36:02.178833",
     "exception": false,
     "start_time": "2024-11-25T08:36:02.148119",
     "status": "completed"
    },
    "tags": []
   },
   "outputs": [],
   "source": [
    "colors = ['red', 'yellow', 'green']\n",
    "\n",
    "species = ['Iris-setosa', 'Iris-versicolor', 'Iris-virginica']"
   ]
  },
  {
   "cell_type": "code",
   "execution_count": 16,
   "id": "aa7c057f",
   "metadata": {
    "execution": {
     "iopub.execute_input": "2024-11-25T08:36:02.224089Z",
     "iopub.status.busy": "2024-11-25T08:36:02.223709Z",
     "iopub.status.idle": "2024-11-25T08:36:02.528280Z",
     "shell.execute_reply": "2024-11-25T08:36:02.527125Z"
    },
    "papermill": {
     "duration": 0.329828,
     "end_time": "2024-11-25T08:36:02.530844",
     "exception": false,
     "start_time": "2024-11-25T08:36:02.201016",
     "status": "completed"
    },
    "tags": []
   },
   "outputs": [
    {
     "data": {
      "image/png": "[encoded data removed]",
      "text/plain": [
       "<Figure size 640x480 with 1 Axes>"
      ]
     },
     "metadata": {},
     "output_type": "display_data"
    }
   ],
   "source": [
    "# Chart - 2 Scatter plot visualization code for Sepal Length vs Sepal Width.\n",
    "\n",
    "# Create a scatter plot for Sepal Length vs Sepal Width for each species.\n",
    "\n",
    "for i in range(3):\n",
    "\n",
    "    # Select data for the current species.\n",
    "\n",
    "    x = data[data['Species'] == species[i]]\n",
    "\n",
    "\n",
    "\n",
    "    # Create a scatter plot with the specified color and label for the current species.\n",
    "\n",
    "    plt.scatter(x['SepalLengthCm'], x['SepalWidthCm'], c=colors[i], label=species[i])\n",
    "\n",
    "\n",
    "\n",
    "# Add labels to the x and y axes.\n",
    "\n",
    "plt.xlabel('Sepal Length')\n",
    "\n",
    "plt.ylabel('Sepal Width')\n",
    "\n",
    "\n",
    "\n",
    "# Add a legend to identify species based on colors.\n",
    "\n",
    "plt.legend()\n",
    "\n",
    "\n",
    "\n",
    "# Display the scatter plot.\n",
    "\n",
    "plt.show()"
   ]
  },
  {
   "cell_type": "markdown",
   "id": "22bccb7d",
   "metadata": {
    "papermill": {
     "duration": 0.021571,
     "end_time": "2024-11-25T08:36:02.575311",
     "exception": false,
     "start_time": "2024-11-25T08:36:02.553740",
     "status": "completed"
    },
    "tags": []
   },
   "source": [
    "Chart - 3: Petal Length vs Petal Width"
   ]
  },
  {
   "cell_type": "code",
   "execution_count": 17,
   "id": "37119ba2",
   "metadata": {
    "execution": {
     "iopub.execute_input": "2024-11-25T08:36:02.620709Z",
     "iopub.status.busy": "2024-11-25T08:36:02.620321Z",
     "iopub.status.idle": "2024-11-25T08:36:02.904954Z",
     "shell.execute_reply": "2024-11-25T08:36:02.903786Z"
    },
    "papermill": {
     "duration": 0.310147,
     "end_time": "2024-11-25T08:36:02.907232",
     "exception": false,
     "start_time": "2024-11-25T08:36:02.597085",
     "status": "completed"
    },
    "tags": []
   },
   "outputs": [
    {
     "data": {
      "image/png": "[encoded data removed]",
      "text/plain": [
       "<Figure size 640x480 with 1 Axes>"
      ]
     },
     "metadata": {},
     "output_type": "display_data"
    }
   ],
   "source": [
    "for i in range(3):\n",
    "\n",
    "    x = data[data['Species'] == species[i]]\n",
    "\n",
    "\n",
    "\n",
    "    plt.scatter(x['PetalLengthCm'], x['PetalWidthCm'], c = colors[i], label = species[i])\n",
    "\n",
    "plt.xlabel(\"Patal Length\")\n",
    "\n",
    "plt.ylabel(\"Patal Width\")\n",
    "\n",
    "\n",
    "\n",
    "plt.legend()\n",
    "\n",
    "plt.show()"
   ]
  },
  {
   "cell_type": "markdown",
   "id": "b19f8fe6",
   "metadata": {
    "papermill": {
     "duration": 0.02256,
     "end_time": "2024-11-25T08:36:02.953611",
     "exception": false,
     "start_time": "2024-11-25T08:36:02.931051",
     "status": "completed"
    },
    "tags": []
   },
   "source": [
    "Chart - 4: Sepal Length vs Petal Length"
   ]
  },
  {
   "cell_type": "code",
   "execution_count": 18,
   "id": "4f453b51",
   "metadata": {
    "execution": {
     "iopub.execute_input": "2024-11-25T08:36:03.000467Z",
     "iopub.status.busy": "2024-11-25T08:36:02.999372Z",
     "iopub.status.idle": "2024-11-25T08:36:03.234954Z",
     "shell.execute_reply": "2024-11-25T08:36:03.233824Z"
    },
    "papermill": {
     "duration": 0.261495,
     "end_time": "2024-11-25T08:36:03.237289",
     "exception": false,
     "start_time": "2024-11-25T08:36:02.975794",
     "status": "completed"
    },
    "tags": []
   },
   "outputs": [
    {
     "data": {
      "image/png": "[encoded data removed]",
      "text/plain": [
       "<Figure size 640x480 with 1 Axes>"
      ]
     },
     "metadata": {},
     "output_type": "display_data"
    }
   ],
   "source": [
    "for i in range(3):\n",
    "\n",
    "\n",
    "\n",
    "    x = data[data['Species'] == species[i]]\n",
    "\n",
    "\n",
    "\n",
    "    plt.scatter(x['SepalLengthCm'], x['PetalLengthCm'], c = colors[i], label = species[i])\n",
    "\n",
    "\n",
    "\n",
    "plt.xlabel('Sepal Length')\n",
    "\n",
    "plt.ylabel('Petal Length')\n",
    "\n",
    "plt.legend()\n",
    "\n",
    "plt.show()"
   ]
  },
  {
   "cell_type": "markdown",
   "id": "f1019cde",
   "metadata": {
    "papermill": {
     "duration": 0.022431,
     "end_time": "2024-11-25T08:36:03.282603",
     "exception": false,
     "start_time": "2024-11-25T08:36:03.260172",
     "status": "completed"
    },
    "tags": []
   },
   "source": [
    "Chart - 5 : Sepal Width vs Petal Width"
   ]
  },
  {
   "cell_type": "code",
   "execution_count": 19,
   "id": "1ae7ffb0",
   "metadata": {
    "execution": {
     "iopub.execute_input": "2024-11-25T08:36:03.331845Z",
     "iopub.status.busy": "2024-11-25T08:36:03.331423Z",
     "iopub.status.idle": "2024-11-25T08:36:03.737383Z",
     "shell.execute_reply": "2024-11-25T08:36:03.736072Z"
    },
    "papermill": {
     "duration": 0.434129,
     "end_time": "2024-11-25T08:36:03.739818",
     "exception": false,
     "start_time": "2024-11-25T08:36:03.305689",
     "status": "completed"
    },
    "tags": []
   },
   "outputs": [
    {
     "data": {
      "image/png": "[encoded data removed]",
      "text/plain": [
       "<Figure size 640x480 with 1 Axes>"
      ]
     },
     "metadata": {},
     "output_type": "display_data"
    }
   ],
   "source": [
    "for i in range(3):\n",
    "\n",
    "\n",
    "\n",
    "    x = data[data['Species'] == species[i]]\n",
    "\n",
    "\n",
    "\n",
    "    plt.scatter(x['SepalWidthCm'], x['PetalWidthCm'], c = colors[i], label = species[i])\n",
    "\n",
    "\n",
    "\n",
    "plt.xlabel('Sepal Width')\n",
    "\n",
    "plt.ylabel('Petal Width')\n",
    "\n",
    "plt.legend()\n",
    "\n",
    "plt.show()"
   ]
  },
  {
   "cell_type": "markdown",
   "id": "fdf340d4",
   "metadata": {
    "papermill": {
     "duration": 0.022925,
     "end_time": "2024-11-25T08:36:03.785976",
     "exception": false,
     "start_time": "2024-11-25T08:36:03.763051",
     "status": "completed"
    },
    "tags": []
   },
   "source": [
    "Chart - 6: Correlaton Heatmap"
   ]
  },
  {
   "cell_type": "code",
   "execution_count": 20,
   "id": "a3a72983",
   "metadata": {
    "execution": {
     "iopub.execute_input": "2024-11-25T08:36:03.834450Z",
     "iopub.status.busy": "2024-11-25T08:36:03.833437Z",
     "iopub.status.idle": "2024-11-25T08:36:03.843608Z",
     "shell.execute_reply": "2024-11-25T08:36:03.842605Z"
    },
    "papermill": {
     "duration": 0.036926,
     "end_time": "2024-11-25T08:36:03.846077",
     "exception": false,
     "start_time": "2024-11-25T08:36:03.809151",
     "status": "completed"
    },
    "tags": []
   },
   "outputs": [
    {
     "name": "stdout",
     "output_type": "stream",
     "text": [
      "<class 'pandas.core.frame.DataFrame'>\n",
      "RangeIndex: 150 entries, 0 to 149\n",
      "Data columns (total 5 columns):\n",
      " #   Column         Non-Null Count  Dtype  \n",
      "---  ------         --------------  -----  \n",
      " 0   SepalLengthCm  150 non-null    float64\n",
      " 1   SepalWidthCm   150 non-null    float64\n",
      " 2   PetalLengthCm  150 non-null    float64\n",
      " 3   PetalWidthCm   150 non-null    float64\n",
      " 4   Species        150 non-null    object \n",
      "dtypes: float64(4), object(1)\n",
      "memory usage: 6.0+ KB\n"
     ]
    }
   ],
   "source": [
    "data.info()"
   ]
  },
  {
   "cell_type": "code",
   "execution_count": 21,
   "id": "5446b46d",
   "metadata": {
    "execution": {
     "iopub.execute_input": "2024-11-25T08:36:03.895973Z",
     "iopub.status.busy": "2024-11-25T08:36:03.895420Z",
     "iopub.status.idle": "2024-11-25T08:36:03.902979Z",
     "shell.execute_reply": "2024-11-25T08:36:03.901615Z"
    },
    "papermill": {
     "duration": 0.038071,
     "end_time": "2024-11-25T08:36:03.907344",
     "exception": false,
     "start_time": "2024-11-25T08:36:03.869273",
     "status": "completed"
    },
    "tags": []
   },
   "outputs": [],
   "source": [
    "data1 = data.drop('Species', axis= 1)"
   ]
  },
  {
   "cell_type": "code",
   "execution_count": 22,
   "id": "579c6880",
   "metadata": {
    "execution": {
     "iopub.execute_input": "2024-11-25T08:36:03.967446Z",
     "iopub.status.busy": "2024-11-25T08:36:03.966584Z",
     "iopub.status.idle": "2024-11-25T08:36:04.270035Z",
     "shell.execute_reply": "2024-11-25T08:36:04.269033Z"
    },
    "papermill": {
     "duration": 0.331111,
     "end_time": "2024-11-25T08:36:04.272357",
     "exception": false,
     "start_time": "2024-11-25T08:36:03.941246",
     "status": "completed"
    },
    "tags": []
   },
   "outputs": [
    {
     "data": {
      "image/png": "[encoded data removed]",
      "text/plain": [
       "<Figure size 800x400 with 2 Axes>"
      ]
     },
     "metadata": {},
     "output_type": "display_data"
    }
   ],
   "source": [
    "# Correlation Heatmap Visualization Code\n",
    "\n",
    "corr_matrix = data1.corr()\n",
    "\n",
    "\n",
    "\n",
    "# Plot Heatmap\n",
    "\n",
    "plt.figure(figsize=(8, 4))\n",
    "\n",
    "sns.heatmap(corr_matrix, annot=True, cmap='Reds_r')\n",
    "\n",
    "\n",
    "\n",
    "# Setting Labels\n",
    "\n",
    "plt.title('Correlation Matrix heatmap')\n",
    "\n",
    "\n",
    "\n",
    "# Display Chart\n",
    "\n",
    "plt.show()"
   ]
  },
  {
   "cell_type": "markdown",
   "id": "0fe1fb8e",
   "metadata": {
    "papermill": {
     "duration": 0.030844,
     "end_time": "2024-11-25T08:36:04.327048",
     "exception": false,
     "start_time": "2024-11-25T08:36:04.296204",
     "status": "completed"
    },
    "tags": []
   },
   "source": [
    "# 5. Feature Engineering & Data Pre-processing"
   ]
  },
  {
   "cell_type": "markdown",
   "id": "54ca3b60",
   "metadata": {
    "papermill": {
     "duration": 0.024043,
     "end_time": "2024-11-25T08:36:04.379092",
     "exception": false,
     "start_time": "2024-11-25T08:36:04.355049",
     "status": "completed"
    },
    "tags": []
   },
   "source": [
    "## 1. Categorical Encoding"
   ]
  },
  {
   "cell_type": "code",
   "execution_count": 23,
   "id": "f81b3d95",
   "metadata": {
    "execution": {
     "iopub.execute_input": "2024-11-25T08:36:04.431385Z",
     "iopub.status.busy": "2024-11-25T08:36:04.431011Z",
     "iopub.status.idle": "2024-11-25T08:36:04.437791Z",
     "shell.execute_reply": "2024-11-25T08:36:04.436841Z"
    },
    "papermill": {
     "duration": 0.034165,
     "end_time": "2024-11-25T08:36:04.439863",
     "exception": false,
     "start_time": "2024-11-25T08:36:04.405698",
     "status": "completed"
    },
    "tags": []
   },
   "outputs": [
    {
     "name": "stdout",
     "output_type": "stream",
     "text": [
      "Encoded Species Values: \n",
      "[0 1 2]\n"
     ]
    }
   ],
   "source": [
    "le = LabelEncoder()\n",
    "\n",
    "data['Species'] = le.fit_transform(data['Species'])\n",
    "\n",
    "\n",
    "\n",
    "unique_species = data['Species'].unique()\n",
    "\n",
    "\n",
    "\n",
    "print(\"Encoded Species Values: \")\n",
    "\n",
    "print(unique_species)"
   ]
  },
  {
   "cell_type": "markdown",
   "id": "cc275ba5",
   "metadata": {
    "papermill": {
     "duration": 0.024481,
     "end_time": "2024-11-25T08:36:04.488162",
     "exception": false,
     "start_time": "2024-11-25T08:36:04.463681",
     "status": "completed"
    },
    "tags": []
   },
   "source": [
    "## 2. Data Scaling"
   ]
  },
  {
   "cell_type": "code",
   "execution_count": 24,
   "id": "8a080435",
   "metadata": {
    "execution": {
     "iopub.execute_input": "2024-11-25T08:36:04.540100Z",
     "iopub.status.busy": "2024-11-25T08:36:04.539722Z",
     "iopub.status.idle": "2024-11-25T08:36:04.545611Z",
     "shell.execute_reply": "2024-11-25T08:36:04.544393Z"
    },
    "papermill": {
     "duration": 0.035503,
     "end_time": "2024-11-25T08:36:04.547861",
     "exception": false,
     "start_time": "2024-11-25T08:36:04.512358",
     "status": "completed"
    },
    "tags": []
   },
   "outputs": [],
   "source": [
    "x=data.drop(columns=['Species'], axis=1)\n",
    "\n",
    "y=data['Species']"
   ]
  },
  {
   "cell_type": "markdown",
   "id": "069249f6",
   "metadata": {
    "papermill": {
     "duration": 0.023736,
     "end_time": "2024-11-25T08:36:04.597125",
     "exception": false,
     "start_time": "2024-11-25T08:36:04.573389",
     "status": "completed"
    },
    "tags": []
   },
   "source": [
    "## 3. Data Splitting"
   ]
  },
  {
   "cell_type": "code",
   "execution_count": 25,
   "id": "5b792f35",
   "metadata": {
    "execution": {
     "iopub.execute_input": "2024-11-25T08:36:04.647321Z",
     "iopub.status.busy": "2024-11-25T08:36:04.646931Z",
     "iopub.status.idle": "2024-11-25T08:36:04.654423Z",
     "shell.execute_reply": "2024-11-25T08:36:04.653342Z"
    },
    "papermill": {
     "duration": 0.035542,
     "end_time": "2024-11-25T08:36:04.656501",
     "exception": false,
     "start_time": "2024-11-25T08:36:04.620959",
     "status": "completed"
    },
    "tags": []
   },
   "outputs": [],
   "source": [
    "\n",
    "\n",
    "# Splitting the data to train and test\n",
    "\n",
    "x_train,x_test,y_train,y_test=train_test_split(x,y, test_size=0.3)"
   ]
  },
  {
   "cell_type": "code",
   "execution_count": 26,
   "id": "86f44b46",
   "metadata": {
    "execution": {
     "iopub.execute_input": "2024-11-25T08:36:04.707660Z",
     "iopub.status.busy": "2024-11-25T08:36:04.707233Z",
     "iopub.status.idle": "2024-11-25T08:36:04.716029Z",
     "shell.execute_reply": "2024-11-25T08:36:04.715077Z"
    },
    "papermill": {
     "duration": 0.036475,
     "end_time": "2024-11-25T08:36:04.717983",
     "exception": false,
     "start_time": "2024-11-25T08:36:04.681508",
     "status": "completed"
    },
    "tags": []
   },
   "outputs": [
    {
     "data": {
      "text/plain": [
       "Species\n",
       "1    39\n",
       "2    35\n",
       "0    31\n",
       "Name: count, dtype: int64"
      ]
     },
     "execution_count": 26,
     "metadata": {},
     "output_type": "execute_result"
    }
   ],
   "source": [
    "y_train.value_counts()"
   ]
  },
  {
   "cell_type": "markdown",
   "id": "226e55c7",
   "metadata": {
    "papermill": {
     "duration": 0.023595,
     "end_time": "2024-11-25T08:36:04.765806",
     "exception": false,
     "start_time": "2024-11-25T08:36:04.742211",
     "status": "completed"
    },
    "tags": []
   },
   "source": [
    "# 6. ML Model Implementation"
   ]
  },
  {
   "cell_type": "code",
   "execution_count": 27,
   "id": "8d59841d",
   "metadata": {
    "execution": {
     "iopub.execute_input": "2024-11-25T08:36:04.816620Z",
     "iopub.status.busy": "2024-11-25T08:36:04.816034Z",
     "iopub.status.idle": "2024-11-25T08:36:04.828355Z",
     "shell.execute_reply": "2024-11-25T08:36:04.827112Z"
    },
    "papermill": {
     "duration": 0.040542,
     "end_time": "2024-11-25T08:36:04.830731",
     "exception": false,
     "start_time": "2024-11-25T08:36:04.790189",
     "status": "completed"
    },
    "tags": []
   },
   "outputs": [],
   "source": [
    "def evaluate_model(model, x_train, x_test, y_train, y_test):\n",
    "\n",
    "    '''The function will take model, x train, x test, y train, y test\n",
    "\n",
    "    and then it will fit the model, then make predictions on the trained model,\n",
    "\n",
    "    it will then print roc-auc score of train and test, then plot the roc, auc curve,\n",
    "\n",
    "    print confusion matrix for train and test, then print classification report for train and test,\n",
    "\n",
    "    then plot the feature importances if the model has feature importances,\n",
    "\n",
    "    and finally it will return the following scores as a list:\n",
    "\n",
    "    recall_train, recall_test, acc_train, acc_test, F1_train, F1_test\n",
    "\n",
    "    '''\n",
    "\n",
    "\n",
    "\n",
    "    # Fit the model to the training data.\n",
    "\n",
    "    model.fit(x_train, y_train)\n",
    "\n",
    "\n",
    "\n",
    "    # make predictions on the test data\n",
    "\n",
    "    y_pred_train = model.predict(x_train)\n",
    "\n",
    "    y_pred_test = model.predict(x_test)\n",
    "\n",
    "\n",
    "\n",
    "    # calculate confusion matrix\n",
    "\n",
    "    cm_train = confusion_matrix(y_train, y_pred_train)\n",
    "\n",
    "    cm_test = confusion_matrix(y_test, y_pred_test)\n",
    "\n",
    "\n",
    "\n",
    "    fig, ax = plt.subplots(1, 2, figsize=(11,4))\n",
    "\n",
    "\n",
    "\n",
    "    print(\"\\nConfusion Matrix:\")\n",
    "\n",
    "    sns.heatmap(cm_train, annot=True, xticklabels=['Negative', 'Positive'], yticklabels=['Negative', 'Positive'], cmap=\"Oranges\", fmt='.4g', ax=ax[0])\n",
    "\n",
    "    ax[0].set_xlabel(\"Predicted Label\")\n",
    "\n",
    "    ax[0].set_ylabel(\"True Label\")\n",
    "\n",
    "    ax[0].set_title(\"Train Confusion Matrix\")\n",
    "\n",
    "\n",
    "\n",
    "    sns.heatmap(cm_test, annot=True, xticklabels=['Negative', 'Positive'], yticklabels=['Negative', 'Positive'], cmap=\"Oranges\", fmt='.4g', ax=ax[1])\n",
    "\n",
    "    ax[1].set_xlabel(\"Predicted Label\")\n",
    "\n",
    "    ax[1].set_ylabel(\"True Label\")\n",
    "\n",
    "    ax[1].set_title(\"Test Confusion Matrix\")\n",
    "\n",
    "\n",
    "\n",
    "    plt.tight_layout()\n",
    "\n",
    "    plt.show()\n",
    "\n",
    "\n",
    "\n",
    "\n",
    "\n",
    "    # calculate classification report\n",
    "\n",
    "    cr_train = classification_report(y_train, y_pred_train, output_dict=True)\n",
    "\n",
    "    cr_test = classification_report(y_test, y_pred_test, output_dict=True)\n",
    "\n",
    "    print(\"\\nTrain Classification Report:\")\n",
    "\n",
    "    crt = pd.DataFrame(cr_train).T\n",
    "\n",
    "    print(crt.to_markdown())\n",
    "\n",
    "    # sns.heatmap(pd.DataFrame(cr_train).T.iloc[:, :-1], annot=True, cmap=\"Blues\")\n",
    "\n",
    "    print(\"\\nTest Classification Report:\")\n",
    "\n",
    "    crt2 = pd.DataFrame(cr_test).T\n",
    "\n",
    "    print(crt2.to_markdown())\n",
    "\n",
    "    # sns.heatmap(pd.DataFrame(cr_test).T.iloc[:, :-1], annot=True, cmap=\"Blues\")\n",
    "\n",
    "\n",
    "\n",
    "    precision_train = cr_train['weighted avg']['precision']\n",
    "\n",
    "    precision_test = cr_test['weighted avg']['precision']\n",
    "\n",
    "\n",
    "\n",
    "    recall_train = cr_train['weighted avg']['recall']\n",
    "\n",
    "    recall_test = cr_test['weighted avg']['recall']\n",
    "\n",
    "\n",
    "\n",
    "    acc_train = accuracy_score(y_true = y_train, y_pred = y_pred_train)\n",
    "\n",
    "    acc_test = accuracy_score(y_true = y_test, y_pred = y_pred_test)\n",
    "\n",
    "\n",
    "\n",
    "    F1_train = cr_train['weighted avg']['f1-score']\n",
    "\n",
    "    F1_test = cr_test['weighted avg']['f1-score']\n",
    "\n",
    "\n",
    "\n",
    "    model_score = [precision_train, precision_test, recall_train, recall_test, acc_train, acc_test, F1_train, F1_test ]\n",
    "\n",
    "    return model_score"
   ]
  },
  {
   "cell_type": "code",
   "execution_count": 28,
   "id": "01e52931",
   "metadata": {
    "execution": {
     "iopub.execute_input": "2024-11-25T08:36:04.881545Z",
     "iopub.status.busy": "2024-11-25T08:36:04.881142Z",
     "iopub.status.idle": "2024-11-25T08:36:04.887287Z",
     "shell.execute_reply": "2024-11-25T08:36:04.886034Z"
    },
    "papermill": {
     "duration": 0.03408,
     "end_time": "2024-11-25T08:36:04.889641",
     "exception": false,
     "start_time": "2024-11-25T08:36:04.855561",
     "status": "completed"
    },
    "tags": []
   },
   "outputs": [],
   "source": [
    "# Create a score dataframe\n",
    "\n",
    "score = pd.DataFrame(index = ['Precision Train', 'Precision Test','Recall Train','Recall Test','Accuracy Train', 'Accuracy Test', 'F1 macro Train', 'F1 macro Test'])\n",
    "\n",
    "     "
   ]
  },
  {
   "cell_type": "markdown",
   "id": "674b26ec",
   "metadata": {
    "papermill": {
     "duration": 0.024347,
     "end_time": "2024-11-25T08:36:04.938721",
     "exception": false,
     "start_time": "2024-11-25T08:36:04.914374",
     "status": "completed"
    },
    "tags": []
   },
   "source": [
    "## ML Model - 1: Logisic Regression"
   ]
  },
  {
   "cell_type": "code",
   "execution_count": 29,
   "id": "6535666a",
   "metadata": {
    "execution": {
     "iopub.execute_input": "2024-11-25T08:36:04.988396Z",
     "iopub.status.busy": "2024-11-25T08:36:04.988011Z",
     "iopub.status.idle": "2024-11-25T08:36:04.992727Z",
     "shell.execute_reply": "2024-11-25T08:36:04.991673Z"
    },
    "papermill": {
     "duration": 0.032195,
     "end_time": "2024-11-25T08:36:04.994941",
     "exception": false,
     "start_time": "2024-11-25T08:36:04.962746",
     "status": "completed"
    },
    "tags": []
   },
   "outputs": [],
   "source": [
    "\n",
    "\n",
    "# ML Model - 1 Implementation\n",
    "\n",
    "lr_model = LogisticRegression(fit_intercept=True, max_iter=10000)"
   ]
  },
  {
   "cell_type": "markdown",
   "id": "1af603d9",
   "metadata": {
    "papermill": {
     "duration": 0.023672,
     "end_time": "2024-11-25T08:36:05.042475",
     "exception": false,
     "start_time": "2024-11-25T08:36:05.018803",
     "status": "completed"
    },
    "tags": []
   },
   "source": [
    "### 1. Explain the ML Model used and it's performance using Evaluation metric Score Chart."
   ]
  },
  {
   "cell_type": "code",
   "execution_count": 30,
   "id": "d7a5f63c",
   "metadata": {
    "execution": {
     "iopub.execute_input": "2024-11-25T08:36:05.092125Z",
     "iopub.status.busy": "2024-11-25T08:36:05.091741Z",
     "iopub.status.idle": "2024-11-25T08:36:16.286877Z",
     "shell.execute_reply": "2024-11-25T08:36:16.285563Z"
    },
    "papermill": {
     "duration": 11.223233,
     "end_time": "2024-11-25T08:36:16.289585",
     "exception": false,
     "start_time": "2024-11-25T08:36:05.066352",
     "status": "completed"
    },
    "tags": []
   },
   "outputs": [
    {
     "name": "stdout",
     "output_type": "stream",
     "text": [
      "Requirement already satisfied: tabulate in /opt/conda/lib/python3.10/site-packages (0.9.0)\r\n"
     ]
    }
   ],
   "source": [
    "! pip install tabulate"
   ]
  },
  {
   "cell_type": "code",
   "execution_count": 31,
   "id": "70418c8f",
   "metadata": {
    "execution": {
     "iopub.execute_input": "2024-11-25T08:36:16.342485Z",
     "iopub.status.busy": "2024-11-25T08:36:16.342081Z",
     "iopub.status.idle": "2024-11-25T08:36:17.026208Z",
     "shell.execute_reply": "2024-11-25T08:36:17.024950Z"
    },
    "papermill": {
     "duration": 0.71339,
     "end_time": "2024-11-25T08:36:17.028841",
     "exception": false,
     "start_time": "2024-11-25T08:36:16.315451",
     "status": "completed"
    },
    "tags": []
   },
   "outputs": [
    {
     "name": "stdout",
     "output_type": "stream",
     "text": [
      "\n",
      "Confusion Matrix:\n"
     ]
    },
    {
     "data": {
      "image/png": "[encoded data removed]",
      "text/plain": [
       "<Figure size 1100x400 with 4 Axes>"
      ]
     },
     "metadata": {},
     "output_type": "display_data"
    },
    {
     "name": "stdout",
     "output_type": "stream",
     "text": [
      "\n",
      "Train Classification Report:\n",
      "|              |   precision |   recall |   f1-score |    support |\n",
      "|:-------------|------------:|---------:|-----------:|-----------:|\n",
      "| 0            |    1        | 1        |   1        |  31        |\n",
      "| 1            |    0.972973 | 0.923077 |   0.947368 |  39        |\n",
      "| 2            |    0.918919 | 0.971429 |   0.944444 |  35        |\n",
      "| accuracy     |    0.961905 | 0.961905 |   0.961905 |   0.961905 |\n",
      "| macro avg    |    0.963964 | 0.964835 |   0.963938 | 105        |\n",
      "| weighted avg |    0.962934 | 0.961905 |   0.961933 | 105        |\n",
      "\n",
      "Test Classification Report:\n",
      "|              |   precision |   recall |   f1-score |   support |\n",
      "|:-------------|------------:|---------:|-----------:|----------:|\n",
      "| 0            |    1        | 1        |   1        | 19        |\n",
      "| 1            |    0.916667 | 1        |   0.956522 | 11        |\n",
      "| 2            |    1        | 0.933333 |   0.965517 | 15        |\n",
      "| accuracy     |    0.977778 | 0.977778 |   0.977778 |  0.977778 |\n",
      "| macro avg    |    0.972222 | 0.977778 |   0.974013 | 45        |\n",
      "| weighted avg |    0.97963  | 0.977778 |   0.977878 | 45        |\n"
     ]
    }
   ],
   "source": [
    "# Visualizing evaluation Metric Score chart\n",
    "\n",
    "lr_score = evaluate_model(lr_model, x_train, x_test, y_train, y_test)"
   ]
  },
  {
   "cell_type": "code",
   "execution_count": 32,
   "id": "636f711f",
   "metadata": {
    "execution": {
     "iopub.execute_input": "2024-11-25T08:36:17.081254Z",
     "iopub.status.busy": "2024-11-25T08:36:17.080117Z",
     "iopub.status.idle": "2024-11-25T08:36:17.091793Z",
     "shell.execute_reply": "2024-11-25T08:36:17.090788Z"
    },
    "papermill": {
     "duration": 0.040128,
     "end_time": "2024-11-25T08:36:17.094087",
     "exception": false,
     "start_time": "2024-11-25T08:36:17.053959",
     "status": "completed"
    },
    "tags": []
   },
   "outputs": [
    {
     "data": {
      "text/html": [
       "<div>\n",
       "<style scoped>\n",
       "    .dataframe tbody tr th:only-of-type {\n",
       "        vertical-align: middle;\n",
       "    }\n",
       "\n",
       "    .dataframe tbody tr th {\n",
       "        vertical-align: top;\n",
       "    }\n",
       "\n",
       "    .dataframe thead th {\n",
       "        text-align: right;\n",
       "    }\n",
       "</style>\n",
       "<table border=\"1\" class=\"dataframe\">\n",
       "  <thead>\n",
       "    <tr style=\"text-align: right;\">\n",
       "      <th></th>\n",
       "      <th>Logistic regression</th>\n",
       "    </tr>\n",
       "  </thead>\n",
       "  <tbody>\n",
       "    <tr>\n",
       "      <th>Precision Train</th>\n",
       "      <td>0.962934</td>\n",
       "    </tr>\n",
       "    <tr>\n",
       "      <th>Precision Test</th>\n",
       "      <td>0.979630</td>\n",
       "    </tr>\n",
       "    <tr>\n",
       "      <th>Recall Train</th>\n",
       "      <td>0.961905</td>\n",
       "    </tr>\n",
       "    <tr>\n",
       "      <th>Recall Test</th>\n",
       "      <td>0.977778</td>\n",
       "    </tr>\n",
       "    <tr>\n",
       "      <th>Accuracy Train</th>\n",
       "      <td>0.961905</td>\n",
       "    </tr>\n",
       "    <tr>\n",
       "      <th>Accuracy Test</th>\n",
       "      <td>0.977778</td>\n",
       "    </tr>\n",
       "    <tr>\n",
       "      <th>F1 macro Train</th>\n",
       "      <td>0.961933</td>\n",
       "    </tr>\n",
       "    <tr>\n",
       "      <th>F1 macro Test</th>\n",
       "      <td>0.977878</td>\n",
       "    </tr>\n",
       "  </tbody>\n",
       "</table>\n",
       "</div>"
      ],
      "text/plain": [
       "                 Logistic regression\n",
       "Precision Train             0.962934\n",
       "Precision Test              0.979630\n",
       "Recall Train                0.961905\n",
       "Recall Test                 0.977778\n",
       "Accuracy Train              0.961905\n",
       "Accuracy Test               0.977778\n",
       "F1 macro Train              0.961933\n",
       "F1 macro Test               0.977878"
      ]
     },
     "execution_count": 32,
     "metadata": {},
     "output_type": "execute_result"
    }
   ],
   "source": [
    "# Updated Evaluation metric Score Chart\n",
    "\n",
    "score['Logistic regression'] = lr_score\n",
    "\n",
    "score"
   ]
  },
  {
   "cell_type": "markdown",
   "id": "33947687",
   "metadata": {
    "papermill": {
     "duration": 0.025019,
     "end_time": "2024-11-25T08:36:17.144131",
     "exception": false,
     "start_time": "2024-11-25T08:36:17.119112",
     "status": "completed"
    },
    "tags": []
   },
   "source": [
    "### 2. Cross- Validation & Hyperparameter Tuning"
   ]
  },
  {
   "cell_type": "code",
   "execution_count": 33,
   "id": "ed0512f0",
   "metadata": {
    "execution": {
     "iopub.execute_input": "2024-11-25T08:36:17.196017Z",
     "iopub.status.busy": "2024-11-25T08:36:17.195627Z",
     "iopub.status.idle": "2024-11-25T08:36:26.117077Z",
     "shell.execute_reply": "2024-11-25T08:36:26.115902Z"
    },
    "papermill": {
     "duration": 8.950273,
     "end_time": "2024-11-25T08:36:26.119595",
     "exception": false,
     "start_time": "2024-11-25T08:36:17.169322",
     "status": "completed"
    },
    "tags": []
   },
   "outputs": [
    {
     "name": "stdout",
     "output_type": "stream",
     "text": [
      "Best hyperparameters:  {'C': 10, 'penalty': 'l2', 'solver': 'saga'}\n"
     ]
    }
   ],
   "source": [
    "# ML Model - 1 Implementation with hyperparameter optimization techniques (i.e., GridSearch CV, RandomSearch CV, Bayesian Optimization etc.)\n",
    "\n",
    "# Define the hyperparameter grid\n",
    "\n",
    "param_grid = {'C': [100,10,1,0.1,0.01,0.001,0.0001],\n",
    "\n",
    "              'penalty': ['l1', 'l2'],\n",
    "\n",
    "              'solver':['newton-cg', 'lbfgs', 'liblinear', 'sag', 'saga']}\n",
    "\n",
    "\n",
    "\n",
    "# Initializing the logistic regression model\n",
    "\n",
    "logreg = LogisticRegression(fit_intercept=True, max_iter=10000, random_state=0)\n",
    "\n",
    "\n",
    "\n",
    "# Repeated stratified kfold\n",
    "\n",
    "rskf = RepeatedStratifiedKFold(n_splits=3, n_repeats=4, random_state=0)\n",
    "\n",
    "\n",
    "\n",
    "# Using GridSearchCV to tune the hyperparameters using cross-validation\n",
    "\n",
    "grid = GridSearchCV(logreg, param_grid, cv=rskf)\n",
    "\n",
    "grid.fit(x_train, y_train)\n",
    "\n",
    "\n",
    "\n",
    "# Select the best hyperparameters found by GridSearchCV\n",
    "\n",
    "best_params = grid.best_params_\n",
    "\n",
    "print(\"Best hyperparameters: \", best_params)"
   ]
  },
  {
   "cell_type": "code",
   "execution_count": 34,
   "id": "fa140f13",
   "metadata": {
    "execution": {
     "iopub.execute_input": "2024-11-25T08:36:26.173462Z",
     "iopub.status.busy": "2024-11-25T08:36:26.173074Z",
     "iopub.status.idle": "2024-11-25T08:36:26.179316Z",
     "shell.execute_reply": "2024-11-25T08:36:26.177980Z"
    },
    "papermill": {
     "duration": 0.036353,
     "end_time": "2024-11-25T08:36:26.181776",
     "exception": false,
     "start_time": "2024-11-25T08:36:26.145423",
     "status": "completed"
    },
    "tags": []
   },
   "outputs": [],
   "source": [
    "# Initiate model with best parameters\n",
    "\n",
    "lr_model2 = LogisticRegression(C=best_params['C'],\n",
    "\n",
    "                                  penalty=best_params['penalty'],\n",
    "\n",
    "                                  solver=best_params['solver'],\n",
    "\n",
    "                                  max_iter=10000, random_state=0)"
   ]
  },
  {
   "cell_type": "code",
   "execution_count": 35,
   "id": "5333752f",
   "metadata": {
    "execution": {
     "iopub.execute_input": "2024-11-25T08:36:26.233840Z",
     "iopub.status.busy": "2024-11-25T08:36:26.233359Z",
     "iopub.status.idle": "2024-11-25T08:36:26.877636Z",
     "shell.execute_reply": "2024-11-25T08:36:26.876575Z"
    },
    "papermill": {
     "duration": 0.673434,
     "end_time": "2024-11-25T08:36:26.880225",
     "exception": false,
     "start_time": "2024-11-25T08:36:26.206791",
     "status": "completed"
    },
    "tags": []
   },
   "outputs": [
    {
     "name": "stdout",
     "output_type": "stream",
     "text": [
      "\n",
      "Confusion Matrix:\n"
     ]
    },
    {
     "data": {
      "image/png": "[encoded data removed]",
      "text/plain": [
       "<Figure size 1100x400 with 4 Axes>"
      ]
     },
     "metadata": {},
     "output_type": "display_data"
    },
    {
     "name": "stdout",
     "output_type": "stream",
     "text": [
      "\n",
      "Train Classification Report:\n",
      "|              |   precision |   recall |   f1-score |    support |\n",
      "|:-------------|------------:|---------:|-----------:|-----------:|\n",
      "| 0            |    1        | 1        |   1        |  31        |\n",
      "| 1            |    0.973684 | 0.948718 |   0.961039 |  39        |\n",
      "| 2            |    0.944444 | 0.971429 |   0.957746 |  35        |\n",
      "| accuracy     |    0.971429 | 0.971429 |   0.971429 |   0.971429 |\n",
      "| macro avg    |    0.97271  | 0.973382 |   0.972928 | 105        |\n",
      "| weighted avg |    0.971707 | 0.971429 |   0.971444 | 105        |\n",
      "\n",
      "Test Classification Report:\n",
      "|              |   precision |   recall |   f1-score |   support |\n",
      "|:-------------|------------:|---------:|-----------:|----------:|\n",
      "| 0            |           1 |        1 |          1 |        19 |\n",
      "| 1            |           1 |        1 |          1 |        11 |\n",
      "| 2            |           1 |        1 |          1 |        15 |\n",
      "| accuracy     |           1 |        1 |          1 |         1 |\n",
      "| macro avg    |           1 |        1 |          1 |        45 |\n",
      "| weighted avg |           1 |        1 |          1 |        45 |\n"
     ]
    }
   ],
   "source": [
    "# Visualizing evaluation Metric Score chart\n",
    "\n",
    "lr_score2 = evaluate_model(lr_model2, x_train, x_test, y_train, y_test)"
   ]
  },
  {
   "cell_type": "code",
   "execution_count": 36,
   "id": "8684dc42",
   "metadata": {
    "execution": {
     "iopub.execute_input": "2024-11-25T08:36:26.934051Z",
     "iopub.status.busy": "2024-11-25T08:36:26.933196Z",
     "iopub.status.idle": "2024-11-25T08:36:26.938847Z",
     "shell.execute_reply": "2024-11-25T08:36:26.937779Z"
    },
    "papermill": {
     "duration": 0.034818,
     "end_time": "2024-11-25T08:36:26.940989",
     "exception": false,
     "start_time": "2024-11-25T08:36:26.906171",
     "status": "completed"
    },
    "tags": []
   },
   "outputs": [],
   "source": [
    "\n",
    "\n",
    "score['Logistic regression tuned'] = lr_score2"
   ]
  },
  {
   "cell_type": "code",
   "execution_count": 37,
   "id": "fdf3bd08",
   "metadata": {
    "execution": {
     "iopub.execute_input": "2024-11-25T08:36:26.994899Z",
     "iopub.status.busy": "2024-11-25T08:36:26.994122Z",
     "iopub.status.idle": "2024-11-25T08:36:27.005253Z",
     "shell.execute_reply": "2024-11-25T08:36:27.004125Z"
    },
    "papermill": {
     "duration": 0.040875,
     "end_time": "2024-11-25T08:36:27.007336",
     "exception": false,
     "start_time": "2024-11-25T08:36:26.966461",
     "status": "completed"
    },
    "tags": []
   },
   "outputs": [
    {
     "data": {
      "text/html": [
       "<div>\n",
       "<style scoped>\n",
       "    .dataframe tbody tr th:only-of-type {\n",
       "        vertical-align: middle;\n",
       "    }\n",
       "\n",
       "    .dataframe tbody tr th {\n",
       "        vertical-align: top;\n",
       "    }\n",
       "\n",
       "    .dataframe thead th {\n",
       "        text-align: right;\n",
       "    }\n",
       "</style>\n",
       "<table border=\"1\" class=\"dataframe\">\n",
       "  <thead>\n",
       "    <tr style=\"text-align: right;\">\n",
       "      <th></th>\n",
       "      <th>Logistic regression</th>\n",
       "      <th>Logistic regression tuned</th>\n",
       "    </tr>\n",
       "  </thead>\n",
       "  <tbody>\n",
       "    <tr>\n",
       "      <th>Precision Train</th>\n",
       "      <td>0.962934</td>\n",
       "      <td>0.971707</td>\n",
       "    </tr>\n",
       "    <tr>\n",
       "      <th>Precision Test</th>\n",
       "      <td>0.979630</td>\n",
       "      <td>1.000000</td>\n",
       "    </tr>\n",
       "    <tr>\n",
       "      <th>Recall Train</th>\n",
       "      <td>0.961905</td>\n",
       "      <td>0.971429</td>\n",
       "    </tr>\n",
       "    <tr>\n",
       "      <th>Recall Test</th>\n",
       "      <td>0.977778</td>\n",
       "      <td>1.000000</td>\n",
       "    </tr>\n",
       "    <tr>\n",
       "      <th>Accuracy Train</th>\n",
       "      <td>0.961905</td>\n",
       "      <td>0.971429</td>\n",
       "    </tr>\n",
       "    <tr>\n",
       "      <th>Accuracy Test</th>\n",
       "      <td>0.977778</td>\n",
       "      <td>1.000000</td>\n",
       "    </tr>\n",
       "    <tr>\n",
       "      <th>F1 macro Train</th>\n",
       "      <td>0.961933</td>\n",
       "      <td>0.971444</td>\n",
       "    </tr>\n",
       "    <tr>\n",
       "      <th>F1 macro Test</th>\n",
       "      <td>0.977878</td>\n",
       "      <td>1.000000</td>\n",
       "    </tr>\n",
       "  </tbody>\n",
       "</table>\n",
       "</div>"
      ],
      "text/plain": [
       "                 Logistic regression  Logistic regression tuned\n",
       "Precision Train             0.962934                   0.971707\n",
       "Precision Test              0.979630                   1.000000\n",
       "Recall Train                0.961905                   0.971429\n",
       "Recall Test                 0.977778                   1.000000\n",
       "Accuracy Train              0.961905                   0.971429\n",
       "Accuracy Test               0.977778                   1.000000\n",
       "F1 macro Train              0.961933                   0.971444\n",
       "F1 macro Test               0.977878                   1.000000"
      ]
     },
     "execution_count": 37,
     "metadata": {},
     "output_type": "execute_result"
    }
   ],
   "source": [
    "# Updated Evaluation metric Score Chart\n",
    "\n",
    "score"
   ]
  },
  {
   "cell_type": "markdown",
   "id": "1f4b963c",
   "metadata": {
    "papermill": {
     "duration": 0.02635,
     "end_time": "2024-11-25T08:36:27.061148",
     "exception": false,
     "start_time": "2024-11-25T08:36:27.034798",
     "status": "completed"
    },
    "tags": []
   },
   "source": [
    "## ML Model - 2 : Decision Tree"
   ]
  },
  {
   "cell_type": "code",
   "execution_count": 38,
   "id": "7c2c4bd5",
   "metadata": {
    "execution": {
     "iopub.execute_input": "2024-11-25T08:36:27.115285Z",
     "iopub.status.busy": "2024-11-25T08:36:27.114847Z",
     "iopub.status.idle": "2024-11-25T08:36:27.119973Z",
     "shell.execute_reply": "2024-11-25T08:36:27.118718Z"
    },
    "papermill": {
     "duration": 0.034536,
     "end_time": "2024-11-25T08:36:27.121954",
     "exception": false,
     "start_time": "2024-11-25T08:36:27.087418",
     "status": "completed"
    },
    "tags": []
   },
   "outputs": [],
   "source": [
    "# ML Model - 2 Implementation\n",
    "\n",
    "dt_model = DecisionTreeClassifier(random_state=20)"
   ]
  },
  {
   "cell_type": "markdown",
   "id": "9626c4c0",
   "metadata": {
    "papermill": {
     "duration": 0.026022,
     "end_time": "2024-11-25T08:36:27.173887",
     "exception": false,
     "start_time": "2024-11-25T08:36:27.147865",
     "status": "completed"
    },
    "tags": []
   },
   "source": [
    "### 1. Explain the ML Model used and it's performance using Evaluation metric Score Chart."
   ]
  },
  {
   "cell_type": "code",
   "execution_count": 39,
   "id": "1ebf3982",
   "metadata": {
    "execution": {
     "iopub.execute_input": "2024-11-25T08:36:27.229141Z",
     "iopub.status.busy": "2024-11-25T08:36:27.228745Z",
     "iopub.status.idle": "2024-11-25T08:36:27.850788Z",
     "shell.execute_reply": "2024-11-25T08:36:27.849668Z"
    },
    "papermill": {
     "duration": 0.652245,
     "end_time": "2024-11-25T08:36:27.853225",
     "exception": false,
     "start_time": "2024-11-25T08:36:27.200980",
     "status": "completed"
    },
    "tags": []
   },
   "outputs": [
    {
     "name": "stdout",
     "output_type": "stream",
     "text": [
      "\n",
      "Confusion Matrix:\n"
     ]
    },
    {
     "data": {
      "image/png": "[encoded data removed]",
      "text/plain": [
       "<Figure size 1100x400 with 4 Axes>"
      ]
     },
     "metadata": {},
     "output_type": "display_data"
    },
    {
     "name": "stdout",
     "output_type": "stream",
     "text": [
      "\n",
      "Train Classification Report:\n",
      "|              |   precision |   recall |   f1-score |   support |\n",
      "|:-------------|------------:|---------:|-----------:|----------:|\n",
      "| 0            |           1 |        1 |          1 |        31 |\n",
      "| 1            |           1 |        1 |          1 |        39 |\n",
      "| 2            |           1 |        1 |          1 |        35 |\n",
      "| accuracy     |           1 |        1 |          1 |         1 |\n",
      "| macro avg    |           1 |        1 |          1 |       105 |\n",
      "| weighted avg |           1 |        1 |          1 |       105 |\n",
      "\n",
      "Test Classification Report:\n",
      "|              |   precision |   recall |   f1-score |   support |\n",
      "|:-------------|------------:|---------:|-----------:|----------:|\n",
      "| 0            |    1        | 1        |   1        | 19        |\n",
      "| 1            |    0.916667 | 1        |   0.956522 | 11        |\n",
      "| 2            |    1        | 0.933333 |   0.965517 | 15        |\n",
      "| accuracy     |    0.977778 | 0.977778 |   0.977778 |  0.977778 |\n",
      "| macro avg    |    0.972222 | 0.977778 |   0.974013 | 45        |\n",
      "| weighted avg |    0.97963  | 0.977778 |   0.977878 | 45        |\n"
     ]
    }
   ],
   "source": [
    "# Visualizing evaluation Metric Score chart\n",
    "\n",
    "dt_score = evaluate_model(dt_model, x_train, x_test, y_train, y_test)"
   ]
  },
  {
   "cell_type": "code",
   "execution_count": 40,
   "id": "16603991",
   "metadata": {
    "execution": {
     "iopub.execute_input": "2024-11-25T08:36:27.908758Z",
     "iopub.status.busy": "2024-11-25T08:36:27.908272Z",
     "iopub.status.idle": "2024-11-25T08:36:27.920605Z",
     "shell.execute_reply": "2024-11-25T08:36:27.919600Z"
    },
    "papermill": {
     "duration": 0.042835,
     "end_time": "2024-11-25T08:36:27.922806",
     "exception": false,
     "start_time": "2024-11-25T08:36:27.879971",
     "status": "completed"
    },
    "tags": []
   },
   "outputs": [
    {
     "data": {
      "text/html": [
       "<div>\n",
       "<style scoped>\n",
       "    .dataframe tbody tr th:only-of-type {\n",
       "        vertical-align: middle;\n",
       "    }\n",
       "\n",
       "    .dataframe tbody tr th {\n",
       "        vertical-align: top;\n",
       "    }\n",
       "\n",
       "    .dataframe thead th {\n",
       "        text-align: right;\n",
       "    }\n",
       "</style>\n",
       "<table border=\"1\" class=\"dataframe\">\n",
       "  <thead>\n",
       "    <tr style=\"text-align: right;\">\n",
       "      <th></th>\n",
       "      <th>Logistic regression</th>\n",
       "      <th>Logistic regression tuned</th>\n",
       "      <th>Decision Tree</th>\n",
       "    </tr>\n",
       "  </thead>\n",
       "  <tbody>\n",
       "    <tr>\n",
       "      <th>Precision Train</th>\n",
       "      <td>0.962934</td>\n",
       "      <td>0.971707</td>\n",
       "      <td>1.000000</td>\n",
       "    </tr>\n",
       "    <tr>\n",
       "      <th>Precision Test</th>\n",
       "      <td>0.979630</td>\n",
       "      <td>1.000000</td>\n",
       "      <td>0.979630</td>\n",
       "    </tr>\n",
       "    <tr>\n",
       "      <th>Recall Train</th>\n",
       "      <td>0.961905</td>\n",
       "      <td>0.971429</td>\n",
       "      <td>1.000000</td>\n",
       "    </tr>\n",
       "    <tr>\n",
       "      <th>Recall Test</th>\n",
       "      <td>0.977778</td>\n",
       "      <td>1.000000</td>\n",
       "      <td>0.977778</td>\n",
       "    </tr>\n",
       "    <tr>\n",
       "      <th>Accuracy Train</th>\n",
       "      <td>0.961905</td>\n",
       "      <td>0.971429</td>\n",
       "      <td>1.000000</td>\n",
       "    </tr>\n",
       "    <tr>\n",
       "      <th>Accuracy Test</th>\n",
       "      <td>0.977778</td>\n",
       "      <td>1.000000</td>\n",
       "      <td>0.977778</td>\n",
       "    </tr>\n",
       "    <tr>\n",
       "      <th>F1 macro Train</th>\n",
       "      <td>0.961933</td>\n",
       "      <td>0.971444</td>\n",
       "      <td>1.000000</td>\n",
       "    </tr>\n",
       "    <tr>\n",
       "      <th>F1 macro Test</th>\n",
       "      <td>0.977878</td>\n",
       "      <td>1.000000</td>\n",
       "      <td>0.977878</td>\n",
       "    </tr>\n",
       "  </tbody>\n",
       "</table>\n",
       "</div>"
      ],
      "text/plain": [
       "                 Logistic regression  Logistic regression tuned  Decision Tree\n",
       "Precision Train             0.962934                   0.971707       1.000000\n",
       "Precision Test              0.979630                   1.000000       0.979630\n",
       "Recall Train                0.961905                   0.971429       1.000000\n",
       "Recall Test                 0.977778                   1.000000       0.977778\n",
       "Accuracy Train              0.961905                   0.971429       1.000000\n",
       "Accuracy Test               0.977778                   1.000000       0.977778\n",
       "F1 macro Train              0.961933                   0.971444       1.000000\n",
       "F1 macro Test               0.977878                   1.000000       0.977878"
      ]
     },
     "execution_count": 40,
     "metadata": {},
     "output_type": "execute_result"
    }
   ],
   "source": [
    "# Updated Evaluation metric Score Chart\n",
    "\n",
    "score['Decision Tree'] = dt_score\n",
    "\n",
    "score"
   ]
  },
  {
   "cell_type": "markdown",
   "id": "3191d8d3",
   "metadata": {
    "papermill": {
     "duration": 0.02795,
     "end_time": "2024-11-25T08:36:27.978257",
     "exception": false,
     "start_time": "2024-11-25T08:36:27.950307",
     "status": "completed"
    },
    "tags": []
   },
   "source": [
    "### 2. Cross- Validation & Hyperparameter Tuning"
   ]
  },
  {
   "cell_type": "code",
   "execution_count": 41,
   "id": "2ffb77ff",
   "metadata": {
    "execution": {
     "iopub.execute_input": "2024-11-25T08:36:28.035689Z",
     "iopub.status.busy": "2024-11-25T08:36:28.035261Z",
     "iopub.status.idle": "2024-11-25T08:36:39.723700Z",
     "shell.execute_reply": "2024-11-25T08:36:39.722574Z"
    },
    "papermill": {
     "duration": 11.720008,
     "end_time": "2024-11-25T08:36:39.726146",
     "exception": false,
     "start_time": "2024-11-25T08:36:28.006138",
     "status": "completed"
    },
    "tags": []
   },
   "outputs": [
    {
     "name": "stdout",
     "output_type": "stream",
     "text": [
      "Best hyperparameters:  {'max_depth': 3, 'min_samples_leaf': 10, 'min_samples_split': 2}\n"
     ]
    }
   ],
   "source": [
    "# ML Model - 2 Implementation with hyperparameter optimization techniques (i.e., GridSearch CV, RandomSearch CV, Bayesian Optimization etc.)\n",
    "\n",
    "# Define the hyperparameter grid\n",
    "\n",
    "grid = {'max_depth' : [3,4,5,6,7,8],\n",
    "\n",
    "        'min_samples_split' : np.arange(2,8),\n",
    "\n",
    "        'min_samples_leaf' : np.arange(10,20)}\n",
    "\n",
    "\n",
    "\n",
    "# Initialize the model\n",
    "\n",
    "model = DecisionTreeClassifier()\n",
    "\n",
    "\n",
    "\n",
    "# repeated stratified kfold\n",
    "\n",
    "rskf = RepeatedStratifiedKFold(n_splits=3, n_repeats=3, random_state=0)\n",
    "\n",
    "\n",
    "\n",
    "# Initialize GridSearchCV\n",
    "\n",
    "grid_search = GridSearchCV(model, grid, cv=rskf)\n",
    "\n",
    "\n",
    "\n",
    "# Fit the GridSearchCV to the training data\n",
    "\n",
    "grid_search.fit(x_train, y_train)\n",
    "\n",
    "\n",
    "\n",
    "# Select the best hyperparameters\n",
    "\n",
    "best_params = grid_search.best_params_\n",
    "\n",
    "print(\"Best hyperparameters: \", best_params)"
   ]
  },
  {
   "cell_type": "code",
   "execution_count": 42,
   "id": "ac6a6c07",
   "metadata": {
    "execution": {
     "iopub.execute_input": "2024-11-25T08:36:39.784315Z",
     "iopub.status.busy": "2024-11-25T08:36:39.783927Z",
     "iopub.status.idle": "2024-11-25T08:36:39.789051Z",
     "shell.execute_reply": "2024-11-25T08:36:39.788021Z"
    },
    "papermill": {
     "duration": 0.037093,
     "end_time": "2024-11-25T08:36:39.791311",
     "exception": false,
     "start_time": "2024-11-25T08:36:39.754218",
     "status": "completed"
    },
    "tags": []
   },
   "outputs": [],
   "source": [
    "# Train a new model with the best hyperparameters\n",
    "\n",
    "dt_model2 = DecisionTreeClassifier(max_depth=best_params['max_depth'],\n",
    "\n",
    "                                 min_samples_leaf=best_params['min_samples_leaf'],\n",
    "\n",
    "                                 min_samples_split=best_params['min_samples_split'],\n",
    "\n",
    "                                 random_state=20)"
   ]
  },
  {
   "cell_type": "code",
   "execution_count": 43,
   "id": "ecbd796f",
   "metadata": {
    "execution": {
     "iopub.execute_input": "2024-11-25T08:36:39.846369Z",
     "iopub.status.busy": "2024-11-25T08:36:39.845977Z",
     "iopub.status.idle": "2024-11-25T08:36:40.613061Z",
     "shell.execute_reply": "2024-11-25T08:36:40.611948Z"
    },
    "papermill": {
     "duration": 0.797556,
     "end_time": "2024-11-25T08:36:40.615662",
     "exception": false,
     "start_time": "2024-11-25T08:36:39.818106",
     "status": "completed"
    },
    "tags": []
   },
   "outputs": [
    {
     "name": "stdout",
     "output_type": "stream",
     "text": [
      "\n",
      "Confusion Matrix:\n"
     ]
    },
    {
     "data": {
      "image/png": "[encoded data removed]",
      "text/plain": [
       "<Figure size 1100x400 with 4 Axes>"
      ]
     },
     "metadata": {},
     "output_type": "display_data"
    },
    {
     "name": "stdout",
     "output_type": "stream",
     "text": [
      "\n",
      "Train Classification Report:\n",
      "|              |   precision |   recall |   f1-score |    support |\n",
      "|:-------------|------------:|---------:|-----------:|-----------:|\n",
      "| 0            |    1        | 1        |   1        |  31        |\n",
      "| 1            |    0.904762 | 0.974359 |   0.938272 |  39        |\n",
      "| 2            |    0.96875  | 0.885714 |   0.925373 |  35        |\n",
      "| accuracy     |    0.952381 | 0.952381 |   0.952381 |   0.952381 |\n",
      "| macro avg    |    0.957837 | 0.953358 |   0.954548 | 105        |\n",
      "| weighted avg |    0.954209 | 0.952381 |   0.952197 | 105        |\n",
      "\n",
      "Test Classification Report:\n",
      "|              |   precision |   recall |   f1-score |   support |\n",
      "|:-------------|------------:|---------:|-----------:|----------:|\n",
      "| 0            |    1        | 1        |   1        | 19        |\n",
      "| 1            |    0.916667 | 1        |   0.956522 | 11        |\n",
      "| 2            |    1        | 0.933333 |   0.965517 | 15        |\n",
      "| accuracy     |    0.977778 | 0.977778 |   0.977778 |  0.977778 |\n",
      "| macro avg    |    0.972222 | 0.977778 |   0.974013 | 45        |\n",
      "| weighted avg |    0.97963  | 0.977778 |   0.977878 | 45        |\n"
     ]
    }
   ],
   "source": [
    "# Visualizing evaluation Metric Score chart\n",
    "\n",
    "dt2_score = evaluate_model(dt_model2, x_train, x_test, y_train, y_test)"
   ]
  },
  {
   "cell_type": "code",
   "execution_count": 44,
   "id": "aea159b4",
   "metadata": {
    "execution": {
     "iopub.execute_input": "2024-11-25T08:36:40.674749Z",
     "iopub.status.busy": "2024-11-25T08:36:40.674316Z",
     "iopub.status.idle": "2024-11-25T08:36:40.685574Z",
     "shell.execute_reply": "2024-11-25T08:36:40.684377Z"
    },
    "papermill": {
     "duration": 0.042048,
     "end_time": "2024-11-25T08:36:40.687833",
     "exception": false,
     "start_time": "2024-11-25T08:36:40.645785",
     "status": "completed"
    },
    "tags": []
   },
   "outputs": [
    {
     "data": {
      "text/html": [
       "<div>\n",
       "<style scoped>\n",
       "    .dataframe tbody tr th:only-of-type {\n",
       "        vertical-align: middle;\n",
       "    }\n",
       "\n",
       "    .dataframe tbody tr th {\n",
       "        vertical-align: top;\n",
       "    }\n",
       "\n",
       "    .dataframe thead th {\n",
       "        text-align: right;\n",
       "    }\n",
       "</style>\n",
       "<table border=\"1\" class=\"dataframe\">\n",
       "  <thead>\n",
       "    <tr style=\"text-align: right;\">\n",
       "      <th></th>\n",
       "      <th>Logistic regression</th>\n",
       "      <th>Logistic regression tuned</th>\n",
       "      <th>Decision Tree</th>\n",
       "    </tr>\n",
       "  </thead>\n",
       "  <tbody>\n",
       "    <tr>\n",
       "      <th>Precision Train</th>\n",
       "      <td>0.962934</td>\n",
       "      <td>0.971707</td>\n",
       "      <td>1.000000</td>\n",
       "    </tr>\n",
       "    <tr>\n",
       "      <th>Precision Test</th>\n",
       "      <td>0.979630</td>\n",
       "      <td>1.000000</td>\n",
       "      <td>0.979630</td>\n",
       "    </tr>\n",
       "    <tr>\n",
       "      <th>Recall Train</th>\n",
       "      <td>0.961905</td>\n",
       "      <td>0.971429</td>\n",
       "      <td>1.000000</td>\n",
       "    </tr>\n",
       "    <tr>\n",
       "      <th>Recall Test</th>\n",
       "      <td>0.977778</td>\n",
       "      <td>1.000000</td>\n",
       "      <td>0.977778</td>\n",
       "    </tr>\n",
       "    <tr>\n",
       "      <th>Accuracy Train</th>\n",
       "      <td>0.961905</td>\n",
       "      <td>0.971429</td>\n",
       "      <td>1.000000</td>\n",
       "    </tr>\n",
       "    <tr>\n",
       "      <th>Accuracy Test</th>\n",
       "      <td>0.977778</td>\n",
       "      <td>1.000000</td>\n",
       "      <td>0.977778</td>\n",
       "    </tr>\n",
       "    <tr>\n",
       "      <th>F1 macro Train</th>\n",
       "      <td>0.961933</td>\n",
       "      <td>0.971444</td>\n",
       "      <td>1.000000</td>\n",
       "    </tr>\n",
       "    <tr>\n",
       "      <th>F1 macro Test</th>\n",
       "      <td>0.977878</td>\n",
       "      <td>1.000000</td>\n",
       "      <td>0.977878</td>\n",
       "    </tr>\n",
       "  </tbody>\n",
       "</table>\n",
       "</div>"
      ],
      "text/plain": [
       "                 Logistic regression  Logistic regression tuned  Decision Tree\n",
       "Precision Train             0.962934                   0.971707       1.000000\n",
       "Precision Test              0.979630                   1.000000       0.979630\n",
       "Recall Train                0.961905                   0.971429       1.000000\n",
       "Recall Test                 0.977778                   1.000000       0.977778\n",
       "Accuracy Train              0.961905                   0.971429       1.000000\n",
       "Accuracy Test               0.977778                   1.000000       0.977778\n",
       "F1 macro Train              0.961933                   0.971444       1.000000\n",
       "F1 macro Test               0.977878                   1.000000       0.977878"
      ]
     },
     "execution_count": 44,
     "metadata": {},
     "output_type": "execute_result"
    }
   ],
   "source": [
    "\n",
    "\n",
    "# Updated Evaluation metric Score Chart\n",
    "\n",
    "score"
   ]
  },
  {
   "cell_type": "markdown",
   "id": "765428c6",
   "metadata": {
    "papermill": {
     "duration": 0.027999,
     "end_time": "2024-11-25T08:36:40.744411",
     "exception": false,
     "start_time": "2024-11-25T08:36:40.716412",
     "status": "completed"
    },
    "tags": []
   },
   "source": [
    "## ML Model - 3 : Random Forest"
   ]
  },
  {
   "cell_type": "code",
   "execution_count": 45,
   "id": "6d075e2f",
   "metadata": {
    "execution": {
     "iopub.execute_input": "2024-11-25T08:36:40.801657Z",
     "iopub.status.busy": "2024-11-25T08:36:40.801199Z",
     "iopub.status.idle": "2024-11-25T08:36:40.806140Z",
     "shell.execute_reply": "2024-11-25T08:36:40.804985Z"
    },
    "papermill": {
     "duration": 0.036074,
     "end_time": "2024-11-25T08:36:40.808287",
     "exception": false,
     "start_time": "2024-11-25T08:36:40.772213",
     "status": "completed"
    },
    "tags": []
   },
   "outputs": [],
   "source": [
    "# ML Model - 3 Implementation\n",
    "\n",
    "rf_model = RandomForestClassifier(random_state=0)"
   ]
  },
  {
   "cell_type": "markdown",
   "id": "a63aa002",
   "metadata": {
    "papermill": {
     "duration": 0.027132,
     "end_time": "2024-11-25T08:36:40.863308",
     "exception": false,
     "start_time": "2024-11-25T08:36:40.836176",
     "status": "completed"
    },
    "tags": []
   },
   "source": [
    "### 1. Explain the ML Model used and it's performance using Evaluation metric Score Chart."
   ]
  },
  {
   "cell_type": "code",
   "execution_count": 46,
   "id": "2bf72034",
   "metadata": {
    "execution": {
     "iopub.execute_input": "2024-11-25T08:36:40.920587Z",
     "iopub.status.busy": "2024-11-25T08:36:40.919791Z",
     "iopub.status.idle": "2024-11-25T08:36:41.687830Z",
     "shell.execute_reply": "2024-11-25T08:36:41.686444Z"
    },
    "papermill": {
     "duration": 0.799082,
     "end_time": "2024-11-25T08:36:41.690118",
     "exception": false,
     "start_time": "2024-11-25T08:36:40.891036",
     "status": "completed"
    },
    "tags": []
   },
   "outputs": [
    {
     "name": "stdout",
     "output_type": "stream",
     "text": [
      "\n",
      "Confusion Matrix:\n"
     ]
    },
    {
     "data": {
      "image/png": "[encoded data removed]",
      "text/plain": [
       "<Figure size 1100x400 with 4 Axes>"
      ]
     },
     "metadata": {},
     "output_type": "display_data"
    },
    {
     "name": "stdout",
     "output_type": "stream",
     "text": [
      "\n",
      "Train Classification Report:\n",
      "|              |   precision |   recall |   f1-score |   support |\n",
      "|:-------------|------------:|---------:|-----------:|----------:|\n",
      "| 0            |           1 |        1 |          1 |        31 |\n",
      "| 1            |           1 |        1 |          1 |        39 |\n",
      "| 2            |           1 |        1 |          1 |        35 |\n",
      "| accuracy     |           1 |        1 |          1 |         1 |\n",
      "| macro avg    |           1 |        1 |          1 |       105 |\n",
      "| weighted avg |           1 |        1 |          1 |       105 |\n",
      "\n",
      "Test Classification Report:\n",
      "|              |   precision |   recall |   f1-score |   support |\n",
      "|:-------------|------------:|---------:|-----------:|----------:|\n",
      "| 0            |    1        | 1        |   1        | 19        |\n",
      "| 1            |    0.916667 | 1        |   0.956522 | 11        |\n",
      "| 2            |    1        | 0.933333 |   0.965517 | 15        |\n",
      "| accuracy     |    0.977778 | 0.977778 |   0.977778 |  0.977778 |\n",
      "| macro avg    |    0.972222 | 0.977778 |   0.974013 | 45        |\n",
      "| weighted avg |    0.97963  | 0.977778 |   0.977878 | 45        |\n"
     ]
    }
   ],
   "source": [
    "# Visualizing evaluation Metric Score chart\n",
    "\n",
    "rf_score = evaluate_model(rf_model, x_train, x_test, y_train, y_test)"
   ]
  },
  {
   "cell_type": "code",
   "execution_count": 47,
   "id": "74e82c31",
   "metadata": {
    "execution": {
     "iopub.execute_input": "2024-11-25T08:36:41.748668Z",
     "iopub.status.busy": "2024-11-25T08:36:41.747721Z",
     "iopub.status.idle": "2024-11-25T08:36:41.760109Z",
     "shell.execute_reply": "2024-11-25T08:36:41.759160Z"
    },
    "papermill": {
     "duration": 0.043929,
     "end_time": "2024-11-25T08:36:41.762261",
     "exception": false,
     "start_time": "2024-11-25T08:36:41.718332",
     "status": "completed"
    },
    "tags": []
   },
   "outputs": [
    {
     "data": {
      "text/html": [
       "<div>\n",
       "<style scoped>\n",
       "    .dataframe tbody tr th:only-of-type {\n",
       "        vertical-align: middle;\n",
       "    }\n",
       "\n",
       "    .dataframe tbody tr th {\n",
       "        vertical-align: top;\n",
       "    }\n",
       "\n",
       "    .dataframe thead th {\n",
       "        text-align: right;\n",
       "    }\n",
       "</style>\n",
       "<table border=\"1\" class=\"dataframe\">\n",
       "  <thead>\n",
       "    <tr style=\"text-align: right;\">\n",
       "      <th></th>\n",
       "      <th>Logistic regression</th>\n",
       "      <th>Logistic regression tuned</th>\n",
       "      <th>Decision Tree</th>\n",
       "      <th>Random Forest</th>\n",
       "    </tr>\n",
       "  </thead>\n",
       "  <tbody>\n",
       "    <tr>\n",
       "      <th>Precision Train</th>\n",
       "      <td>0.962934</td>\n",
       "      <td>0.971707</td>\n",
       "      <td>1.000000</td>\n",
       "      <td>1.000000</td>\n",
       "    </tr>\n",
       "    <tr>\n",
       "      <th>Precision Test</th>\n",
       "      <td>0.979630</td>\n",
       "      <td>1.000000</td>\n",
       "      <td>0.979630</td>\n",
       "      <td>0.979630</td>\n",
       "    </tr>\n",
       "    <tr>\n",
       "      <th>Recall Train</th>\n",
       "      <td>0.961905</td>\n",
       "      <td>0.971429</td>\n",
       "      <td>1.000000</td>\n",
       "      <td>1.000000</td>\n",
       "    </tr>\n",
       "    <tr>\n",
       "      <th>Recall Test</th>\n",
       "      <td>0.977778</td>\n",
       "      <td>1.000000</td>\n",
       "      <td>0.977778</td>\n",
       "      <td>0.977778</td>\n",
       "    </tr>\n",
       "    <tr>\n",
       "      <th>Accuracy Train</th>\n",
       "      <td>0.961905</td>\n",
       "      <td>0.971429</td>\n",
       "      <td>1.000000</td>\n",
       "      <td>1.000000</td>\n",
       "    </tr>\n",
       "    <tr>\n",
       "      <th>Accuracy Test</th>\n",
       "      <td>0.977778</td>\n",
       "      <td>1.000000</td>\n",
       "      <td>0.977778</td>\n",
       "      <td>0.977778</td>\n",
       "    </tr>\n",
       "    <tr>\n",
       "      <th>F1 macro Train</th>\n",
       "      <td>0.961933</td>\n",
       "      <td>0.971444</td>\n",
       "      <td>1.000000</td>\n",
       "      <td>1.000000</td>\n",
       "    </tr>\n",
       "    <tr>\n",
       "      <th>F1 macro Test</th>\n",
       "      <td>0.977878</td>\n",
       "      <td>1.000000</td>\n",
       "      <td>0.977878</td>\n",
       "      <td>0.977878</td>\n",
       "    </tr>\n",
       "  </tbody>\n",
       "</table>\n",
       "</div>"
      ],
      "text/plain": [
       "                 Logistic regression  Logistic regression tuned  \\\n",
       "Precision Train             0.962934                   0.971707   \n",
       "Precision Test              0.979630                   1.000000   \n",
       "Recall Train                0.961905                   0.971429   \n",
       "Recall Test                 0.977778                   1.000000   \n",
       "Accuracy Train              0.961905                   0.971429   \n",
       "Accuracy Test               0.977778                   1.000000   \n",
       "F1 macro Train              0.961933                   0.971444   \n",
       "F1 macro Test               0.977878                   1.000000   \n",
       "\n",
       "                 Decision Tree  Random Forest  \n",
       "Precision Train       1.000000       1.000000  \n",
       "Precision Test        0.979630       0.979630  \n",
       "Recall Train          1.000000       1.000000  \n",
       "Recall Test           0.977778       0.977778  \n",
       "Accuracy Train        1.000000       1.000000  \n",
       "Accuracy Test         0.977778       0.977778  \n",
       "F1 macro Train        1.000000       1.000000  \n",
       "F1 macro Test         0.977878       0.977878  "
      ]
     },
     "execution_count": 47,
     "metadata": {},
     "output_type": "execute_result"
    }
   ],
   "source": [
    "# Updated Evaluation metric Score Chart\n",
    "\n",
    "score['Random Forest'] = rf_score\n",
    "\n",
    "score"
   ]
  },
  {
   "cell_type": "markdown",
   "id": "e389d24e",
   "metadata": {
    "papermill": {
     "duration": 0.028286,
     "end_time": "2024-11-25T08:36:41.819767",
     "exception": false,
     "start_time": "2024-11-25T08:36:41.791481",
     "status": "completed"
    },
    "tags": []
   },
   "source": [
    "### 2. Cross- Validation & Hyperparameter Tuning"
   ]
  },
  {
   "cell_type": "code",
   "execution_count": 48,
   "id": "c1c31a4b",
   "metadata": {
    "execution": {
     "iopub.execute_input": "2024-11-25T08:36:41.879131Z",
     "iopub.status.busy": "2024-11-25T08:36:41.878372Z",
     "iopub.status.idle": "2024-11-25T08:36:50.404071Z",
     "shell.execute_reply": "2024-11-25T08:36:50.402753Z"
    },
    "papermill": {
     "duration": 8.55781,
     "end_time": "2024-11-25T08:36:50.406411",
     "exception": false,
     "start_time": "2024-11-25T08:36:41.848601",
     "status": "completed"
    },
    "tags": []
   },
   "outputs": [
    {
     "name": "stdout",
     "output_type": "stream",
     "text": [
      "Best hyperparameters:  {'n_estimators': 10, 'min_samples_split': 5, 'max_depth': 14}\n"
     ]
    }
   ],
   "source": [
    "# ML Model - 3 Implementation with hyperparameter optimization techniques (i.e., GridSearch CV, RandomSearch CV, Bayesian Optimization etc.)\n",
    "\n",
    "# Define the hyperparameter grid\n",
    "\n",
    "grid = {'n_estimators': [10, 50, 100, 200],\n",
    "\n",
    "              'max_depth': [8, 9, 10, 11, 12,13, 14, 15],\n",
    "\n",
    "              'min_samples_split': [2, 3, 4, 5]}\n",
    "\n",
    "\n",
    "\n",
    "# Initialize the model\n",
    "\n",
    "rf = RandomForestClassifier(random_state=0)\n",
    "\n",
    "\n",
    "\n",
    "# Repeated stratified kfold\n",
    "\n",
    "rskf = RepeatedStratifiedKFold(n_splits=3, n_repeats=3, random_state=0)\n",
    "\n",
    "\n",
    "\n",
    "# Initialize RandomSearchCV\n",
    "\n",
    "random_search = RandomizedSearchCV(rf, grid,cv=rskf, n_iter=10, n_jobs=-1)\n",
    "\n",
    "\n",
    "\n",
    "# Fit the RandomSearchCV to the training data\n",
    "\n",
    "random_search.fit(x_train, y_train)\n",
    "\n",
    "\n",
    "\n",
    "# Select the best hyperparameters\n",
    "\n",
    "best_params = random_search.best_params_\n",
    "\n",
    "print(\"Best hyperparameters: \", best_params)"
   ]
  },
  {
   "cell_type": "code",
   "execution_count": 49,
   "id": "564caace",
   "metadata": {
    "execution": {
     "iopub.execute_input": "2024-11-25T08:36:50.466048Z",
     "iopub.status.busy": "2024-11-25T08:36:50.465644Z",
     "iopub.status.idle": "2024-11-25T08:36:50.471856Z",
     "shell.execute_reply": "2024-11-25T08:36:50.470604Z"
    },
    "papermill": {
     "duration": 0.038415,
     "end_time": "2024-11-25T08:36:50.474099",
     "exception": false,
     "start_time": "2024-11-25T08:36:50.435684",
     "status": "completed"
    },
    "tags": []
   },
   "outputs": [],
   "source": [
    "# Initialize model with best parameters\n",
    "\n",
    "rf_model2 = RandomForestClassifier(n_estimators = best_params['n_estimators'],\n",
    "\n",
    "                                 min_samples_leaf= best_params['min_samples_split'],\n",
    "\n",
    "                                 max_depth = best_params['max_depth'],\n",
    "\n",
    "                                 random_state=0)"
   ]
  },
  {
   "cell_type": "code",
   "execution_count": 50,
   "id": "7c717641",
   "metadata": {
    "execution": {
     "iopub.execute_input": "2024-11-25T08:36:50.533939Z",
     "iopub.status.busy": "2024-11-25T08:36:50.533543Z",
     "iopub.status.idle": "2024-11-25T08:36:51.182512Z",
     "shell.execute_reply": "2024-11-25T08:36:51.181207Z"
    },
    "papermill": {
     "duration": 0.681143,
     "end_time": "2024-11-25T08:36:51.185063",
     "exception": false,
     "start_time": "2024-11-25T08:36:50.503920",
     "status": "completed"
    },
    "tags": []
   },
   "outputs": [
    {
     "name": "stdout",
     "output_type": "stream",
     "text": [
      "\n",
      "Confusion Matrix:\n"
     ]
    },
    {
     "data": {
      "image/png": "[encoded data removed]",
      "text/plain": [
       "<Figure size 1100x400 with 4 Axes>"
      ]
     },
     "metadata": {},
     "output_type": "display_data"
    },
    {
     "name": "stdout",
     "output_type": "stream",
     "text": [
      "\n",
      "Train Classification Report:\n",
      "|              |   precision |   recall |   f1-score |    support |\n",
      "|:-------------|------------:|---------:|-----------:|-----------:|\n",
      "| 0            |    1        | 1        |   1        |  31        |\n",
      "| 1            |    0.947368 | 0.923077 |   0.935065 |  39        |\n",
      "| 2            |    0.916667 | 0.942857 |   0.929577 |  35        |\n",
      "| accuracy     |    0.952381 | 0.952381 |   0.952381 |   0.952381 |\n",
      "| macro avg    |    0.954678 | 0.955311 |   0.954881 | 105        |\n",
      "| weighted avg |    0.952673 | 0.952381 |   0.952407 | 105        |\n",
      "\n",
      "Test Classification Report:\n",
      "|              |   precision |   recall |   f1-score |   support |\n",
      "|:-------------|------------:|---------:|-----------:|----------:|\n",
      "| 0            |    1        | 1        |   1        | 19        |\n",
      "| 1            |    0.916667 | 1        |   0.956522 | 11        |\n",
      "| 2            |    1        | 0.933333 |   0.965517 | 15        |\n",
      "| accuracy     |    0.977778 | 0.977778 |   0.977778 |  0.977778 |\n",
      "| macro avg    |    0.972222 | 0.977778 |   0.974013 | 45        |\n",
      "| weighted avg |    0.97963  | 0.977778 |   0.977878 | 45        |\n"
     ]
    }
   ],
   "source": [
    "# Visualizing evaluation Metric Score chart\n",
    "\n",
    "rf2_score = evaluate_model(rf_model2, x_train, x_test, y_train, y_test)"
   ]
  },
  {
   "cell_type": "code",
   "execution_count": 51,
   "id": "05797a07",
   "metadata": {
    "execution": {
     "iopub.execute_input": "2024-11-25T08:36:51.246074Z",
     "iopub.status.busy": "2024-11-25T08:36:51.245178Z",
     "iopub.status.idle": "2024-11-25T08:36:51.257708Z",
     "shell.execute_reply": "2024-11-25T08:36:51.256612Z"
    },
    "papermill": {
     "duration": 0.044899,
     "end_time": "2024-11-25T08:36:51.259831",
     "exception": false,
     "start_time": "2024-11-25T08:36:51.214932",
     "status": "completed"
    },
    "tags": []
   },
   "outputs": [
    {
     "data": {
      "text/html": [
       "<div>\n",
       "<style scoped>\n",
       "    .dataframe tbody tr th:only-of-type {\n",
       "        vertical-align: middle;\n",
       "    }\n",
       "\n",
       "    .dataframe tbody tr th {\n",
       "        vertical-align: top;\n",
       "    }\n",
       "\n",
       "    .dataframe thead th {\n",
       "        text-align: right;\n",
       "    }\n",
       "</style>\n",
       "<table border=\"1\" class=\"dataframe\">\n",
       "  <thead>\n",
       "    <tr style=\"text-align: right;\">\n",
       "      <th></th>\n",
       "      <th>Logistic regression</th>\n",
       "      <th>Logistic regression tuned</th>\n",
       "      <th>Decision Tree</th>\n",
       "      <th>Random Forest</th>\n",
       "    </tr>\n",
       "  </thead>\n",
       "  <tbody>\n",
       "    <tr>\n",
       "      <th>Precision Train</th>\n",
       "      <td>0.962934</td>\n",
       "      <td>0.971707</td>\n",
       "      <td>1.000000</td>\n",
       "      <td>1.000000</td>\n",
       "    </tr>\n",
       "    <tr>\n",
       "      <th>Precision Test</th>\n",
       "      <td>0.979630</td>\n",
       "      <td>1.000000</td>\n",
       "      <td>0.979630</td>\n",
       "      <td>0.979630</td>\n",
       "    </tr>\n",
       "    <tr>\n",
       "      <th>Recall Train</th>\n",
       "      <td>0.961905</td>\n",
       "      <td>0.971429</td>\n",
       "      <td>1.000000</td>\n",
       "      <td>1.000000</td>\n",
       "    </tr>\n",
       "    <tr>\n",
       "      <th>Recall Test</th>\n",
       "      <td>0.977778</td>\n",
       "      <td>1.000000</td>\n",
       "      <td>0.977778</td>\n",
       "      <td>0.977778</td>\n",
       "    </tr>\n",
       "    <tr>\n",
       "      <th>Accuracy Train</th>\n",
       "      <td>0.961905</td>\n",
       "      <td>0.971429</td>\n",
       "      <td>1.000000</td>\n",
       "      <td>1.000000</td>\n",
       "    </tr>\n",
       "    <tr>\n",
       "      <th>Accuracy Test</th>\n",
       "      <td>0.977778</td>\n",
       "      <td>1.000000</td>\n",
       "      <td>0.977778</td>\n",
       "      <td>0.977778</td>\n",
       "    </tr>\n",
       "    <tr>\n",
       "      <th>F1 macro Train</th>\n",
       "      <td>0.961933</td>\n",
       "      <td>0.971444</td>\n",
       "      <td>1.000000</td>\n",
       "      <td>1.000000</td>\n",
       "    </tr>\n",
       "    <tr>\n",
       "      <th>F1 macro Test</th>\n",
       "      <td>0.977878</td>\n",
       "      <td>1.000000</td>\n",
       "      <td>0.977878</td>\n",
       "      <td>0.977878</td>\n",
       "    </tr>\n",
       "  </tbody>\n",
       "</table>\n",
       "</div>"
      ],
      "text/plain": [
       "                 Logistic regression  Logistic regression tuned  \\\n",
       "Precision Train             0.962934                   0.971707   \n",
       "Precision Test              0.979630                   1.000000   \n",
       "Recall Train                0.961905                   0.971429   \n",
       "Recall Test                 0.977778                   1.000000   \n",
       "Accuracy Train              0.961905                   0.971429   \n",
       "Accuracy Test               0.977778                   1.000000   \n",
       "F1 macro Train              0.961933                   0.971444   \n",
       "F1 macro Test               0.977878                   1.000000   \n",
       "\n",
       "                 Decision Tree  Random Forest  \n",
       "Precision Train       1.000000       1.000000  \n",
       "Precision Test        0.979630       0.979630  \n",
       "Recall Train          1.000000       1.000000  \n",
       "Recall Test           0.977778       0.977778  \n",
       "Accuracy Train        1.000000       1.000000  \n",
       "Accuracy Test         0.977778       0.977778  \n",
       "F1 macro Train        1.000000       1.000000  \n",
       "F1 macro Test         0.977878       0.977878  "
      ]
     },
     "execution_count": 51,
     "metadata": {},
     "output_type": "execute_result"
    }
   ],
   "source": [
    "# Updated Evaluation metric Score Chart\n",
    "\n",
    "score"
   ]
  },
  {
   "cell_type": "markdown",
   "id": "4fd3ff1a",
   "metadata": {
    "papermill": {
     "duration": 0.030755,
     "end_time": "2024-11-25T08:36:51.321419",
     "exception": false,
     "start_time": "2024-11-25T08:36:51.290664",
     "status": "completed"
    },
    "tags": []
   },
   "source": [
    "## ML Model - 4 : SVM (Support Vector Machine)"
   ]
  },
  {
   "cell_type": "code",
   "execution_count": 52,
   "id": "84559a45",
   "metadata": {
    "execution": {
     "iopub.execute_input": "2024-11-25T08:36:51.385677Z",
     "iopub.status.busy": "2024-11-25T08:36:51.385265Z",
     "iopub.status.idle": "2024-11-25T08:36:51.390798Z",
     "shell.execute_reply": "2024-11-25T08:36:51.389542Z"
    },
    "papermill": {
     "duration": 0.041557,
     "end_time": "2024-11-25T08:36:51.393257",
     "exception": false,
     "start_time": "2024-11-25T08:36:51.351700",
     "status": "completed"
    },
    "tags": []
   },
   "outputs": [],
   "source": [
    "# ML Model - 4 Implementation\n",
    "\n",
    "svm_model = SVC(kernel='linear', random_state=0, probability=True)"
   ]
  },
  {
   "cell_type": "markdown",
   "id": "7107a090",
   "metadata": {
    "papermill": {
     "duration": 0.029929,
     "end_time": "2024-11-25T08:36:51.453276",
     "exception": false,
     "start_time": "2024-11-25T08:36:51.423347",
     "status": "completed"
    },
    "tags": []
   },
   "source": [
    "### 1. Explain the ML Model used and it's performance using Evaluation metric Score Chart."
   ]
  },
  {
   "cell_type": "code",
   "execution_count": 53,
   "id": "e440942c",
   "metadata": {
    "execution": {
     "iopub.execute_input": "2024-11-25T08:36:51.514652Z",
     "iopub.status.busy": "2024-11-25T08:36:51.513952Z",
     "iopub.status.idle": "2024-11-25T08:36:52.131873Z",
     "shell.execute_reply": "2024-11-25T08:36:52.130685Z"
    },
    "papermill": {
     "duration": 0.651025,
     "end_time": "2024-11-25T08:36:52.134139",
     "exception": false,
     "start_time": "2024-11-25T08:36:51.483114",
     "status": "completed"
    },
    "tags": []
   },
   "outputs": [
    {
     "name": "stdout",
     "output_type": "stream",
     "text": [
      "\n",
      "Confusion Matrix:\n"
     ]
    },
    {
     "data": {
      "image/png": "[encoded data removed]",
      "text/plain": [
       "<Figure size 1100x400 with 4 Axes>"
      ]
     },
     "metadata": {},
     "output_type": "display_data"
    },
    {
     "name": "stdout",
     "output_type": "stream",
     "text": [
      "\n",
      "Train Classification Report:\n",
      "|              |   precision |   recall |   f1-score |    support |\n",
      "|:-------------|------------:|---------:|-----------:|-----------:|\n",
      "| 0            |    1        | 1        |   1        |  31        |\n",
      "| 1            |    1        | 0.974359 |   0.987013 |  39        |\n",
      "| 2            |    0.972222 | 1        |   0.985915 |  35        |\n",
      "| accuracy     |    0.990476 | 0.990476 |   0.990476 |   0.990476 |\n",
      "| macro avg    |    0.990741 | 0.991453 |   0.990976 | 105        |\n",
      "| weighted avg |    0.990741 | 0.990476 |   0.990481 | 105        |\n",
      "\n",
      "Test Classification Report:\n",
      "|              |   precision |   recall |   f1-score |   support |\n",
      "|:-------------|------------:|---------:|-----------:|----------:|\n",
      "| 0            |           1 |        1 |          1 |        19 |\n",
      "| 1            |           1 |        1 |          1 |        11 |\n",
      "| 2            |           1 |        1 |          1 |        15 |\n",
      "| accuracy     |           1 |        1 |          1 |         1 |\n",
      "| macro avg    |           1 |        1 |          1 |        45 |\n",
      "| weighted avg |           1 |        1 |          1 |        45 |\n"
     ]
    }
   ],
   "source": [
    "# Visualizing evaluation Metric Score chart\n",
    "\n",
    "svm_score = evaluate_model(svm_model, x_train, x_test, y_train, y_test)"
   ]
  },
  {
   "cell_type": "code",
   "execution_count": 54,
   "id": "f59316bf",
   "metadata": {
    "execution": {
     "iopub.execute_input": "2024-11-25T08:36:52.198470Z",
     "iopub.status.busy": "2024-11-25T08:36:52.197540Z",
     "iopub.status.idle": "2024-11-25T08:36:52.210932Z",
     "shell.execute_reply": "2024-11-25T08:36:52.209911Z"
    },
    "papermill": {
     "duration": 0.047854,
     "end_time": "2024-11-25T08:36:52.213114",
     "exception": false,
     "start_time": "2024-11-25T08:36:52.165260",
     "status": "completed"
    },
    "tags": []
   },
   "outputs": [
    {
     "data": {
      "text/html": [
       "<div>\n",
       "<style scoped>\n",
       "    .dataframe tbody tr th:only-of-type {\n",
       "        vertical-align: middle;\n",
       "    }\n",
       "\n",
       "    .dataframe tbody tr th {\n",
       "        vertical-align: top;\n",
       "    }\n",
       "\n",
       "    .dataframe thead th {\n",
       "        text-align: right;\n",
       "    }\n",
       "</style>\n",
       "<table border=\"1\" class=\"dataframe\">\n",
       "  <thead>\n",
       "    <tr style=\"text-align: right;\">\n",
       "      <th></th>\n",
       "      <th>Logistic regression</th>\n",
       "      <th>Logistic regression tuned</th>\n",
       "      <th>Decision Tree</th>\n",
       "      <th>Random Forest</th>\n",
       "      <th>SVM</th>\n",
       "    </tr>\n",
       "  </thead>\n",
       "  <tbody>\n",
       "    <tr>\n",
       "      <th>Precision Train</th>\n",
       "      <td>0.962934</td>\n",
       "      <td>0.971707</td>\n",
       "      <td>1.000000</td>\n",
       "      <td>1.000000</td>\n",
       "      <td>0.990741</td>\n",
       "    </tr>\n",
       "    <tr>\n",
       "      <th>Precision Test</th>\n",
       "      <td>0.979630</td>\n",
       "      <td>1.000000</td>\n",
       "      <td>0.979630</td>\n",
       "      <td>0.979630</td>\n",
       "      <td>1.000000</td>\n",
       "    </tr>\n",
       "    <tr>\n",
       "      <th>Recall Train</th>\n",
       "      <td>0.961905</td>\n",
       "      <td>0.971429</td>\n",
       "      <td>1.000000</td>\n",
       "      <td>1.000000</td>\n",
       "      <td>0.990476</td>\n",
       "    </tr>\n",
       "    <tr>\n",
       "      <th>Recall Test</th>\n",
       "      <td>0.977778</td>\n",
       "      <td>1.000000</td>\n",
       "      <td>0.977778</td>\n",
       "      <td>0.977778</td>\n",
       "      <td>1.000000</td>\n",
       "    </tr>\n",
       "    <tr>\n",
       "      <th>Accuracy Train</th>\n",
       "      <td>0.961905</td>\n",
       "      <td>0.971429</td>\n",
       "      <td>1.000000</td>\n",
       "      <td>1.000000</td>\n",
       "      <td>0.990476</td>\n",
       "    </tr>\n",
       "    <tr>\n",
       "      <th>Accuracy Test</th>\n",
       "      <td>0.977778</td>\n",
       "      <td>1.000000</td>\n",
       "      <td>0.977778</td>\n",
       "      <td>0.977778</td>\n",
       "      <td>1.000000</td>\n",
       "    </tr>\n",
       "    <tr>\n",
       "      <th>F1 macro Train</th>\n",
       "      <td>0.961933</td>\n",
       "      <td>0.971444</td>\n",
       "      <td>1.000000</td>\n",
       "      <td>1.000000</td>\n",
       "      <td>0.990481</td>\n",
       "    </tr>\n",
       "    <tr>\n",
       "      <th>F1 macro Test</th>\n",
       "      <td>0.977878</td>\n",
       "      <td>1.000000</td>\n",
       "      <td>0.977878</td>\n",
       "      <td>0.977878</td>\n",
       "      <td>1.000000</td>\n",
       "    </tr>\n",
       "  </tbody>\n",
       "</table>\n",
       "</div>"
      ],
      "text/plain": [
       "                 Logistic regression  Logistic regression tuned  \\\n",
       "Precision Train             0.962934                   0.971707   \n",
       "Precision Test              0.979630                   1.000000   \n",
       "Recall Train                0.961905                   0.971429   \n",
       "Recall Test                 0.977778                   1.000000   \n",
       "Accuracy Train              0.961905                   0.971429   \n",
       "Accuracy Test               0.977778                   1.000000   \n",
       "F1 macro Train              0.961933                   0.971444   \n",
       "F1 macro Test               0.977878                   1.000000   \n",
       "\n",
       "                 Decision Tree  Random Forest       SVM  \n",
       "Precision Train       1.000000       1.000000  0.990741  \n",
       "Precision Test        0.979630       0.979630  1.000000  \n",
       "Recall Train          1.000000       1.000000  0.990476  \n",
       "Recall Test           0.977778       0.977778  1.000000  \n",
       "Accuracy Train        1.000000       1.000000  0.990476  \n",
       "Accuracy Test         0.977778       0.977778  1.000000  \n",
       "F1 macro Train        1.000000       1.000000  0.990481  \n",
       "F1 macro Test         0.977878       0.977878  1.000000  "
      ]
     },
     "execution_count": 54,
     "metadata": {},
     "output_type": "execute_result"
    }
   ],
   "source": [
    "# Updated Evaluation metric Score Chart\n",
    "\n",
    "score['SVM'] = svm_score\n",
    "\n",
    "score"
   ]
  },
  {
   "cell_type": "markdown",
   "id": "7ce0d99e",
   "metadata": {
    "papermill": {
     "duration": 0.029645,
     "end_time": "2024-11-25T08:36:52.272935",
     "exception": false,
     "start_time": "2024-11-25T08:36:52.243290",
     "status": "completed"
    },
    "tags": []
   },
   "source": [
    "### 2. Cross- Validation & Hyperparameter Tuning"
   ]
  },
  {
   "cell_type": "code",
   "execution_count": 55,
   "id": "7de0f603",
   "metadata": {
    "execution": {
     "iopub.execute_input": "2024-11-25T08:36:52.334947Z",
     "iopub.status.busy": "2024-11-25T08:36:52.334479Z",
     "iopub.status.idle": "2024-11-25T08:36:52.603139Z",
     "shell.execute_reply": "2024-11-25T08:36:52.601733Z"
    },
    "papermill": {
     "duration": 0.302186,
     "end_time": "2024-11-25T08:36:52.605335",
     "exception": false,
     "start_time": "2024-11-25T08:36:52.303149",
     "status": "completed"
    },
    "tags": []
   },
   "outputs": [
    {
     "name": "stdout",
     "output_type": "stream",
     "text": [
      "Best hyperparameters:  {'kernel': 'rbf', 'degree': 4, 'C': 8.8}\n"
     ]
    }
   ],
   "source": [
    "# ML Model - 4 Implementation with hyperparameter optimization techniques (i.e., GridSearch CV, RandomSearch CV, Bayesian Optimization etc.)\n",
    "\n",
    "# Define the hyperparameter grid\n",
    "\n",
    "param_grid = {'C': np.arange(0.1, 10, 0.1),\n",
    "\n",
    "              'kernel': ['linear', 'poly', 'rbf', 'sigmoid'],\n",
    "\n",
    "              'degree': np.arange(2, 6, 1)}\n",
    "\n",
    "\n",
    "\n",
    "# Initialize the model\n",
    "\n",
    "svm = SVC(random_state=0, probability=True)\n",
    "\n",
    "\n",
    "\n",
    "# Repeated stratified kfold\n",
    "\n",
    "rskf = RepeatedStratifiedKFold(n_splits=3, n_repeats=3, random_state=0)\n",
    "\n",
    "\n",
    "\n",
    "# Initialize RandomizedSearchCV with kfold cross-validation\n",
    "\n",
    "random_search = RandomizedSearchCV(svm, param_grid, n_iter=10, cv=rskf, n_jobs=-1)\n",
    "\n",
    "\n",
    "\n",
    "# Fit the RandomizedSearchCV to the training data\n",
    "\n",
    "random_search.fit(x_train, y_train)\n",
    "\n",
    "\n",
    "\n",
    "# Select the best hyperparameters\n",
    "\n",
    "best_params = random_search.best_params_\n",
    "\n",
    "print(\"Best hyperparameters: \", best_params)"
   ]
  },
  {
   "cell_type": "code",
   "execution_count": 56,
   "id": "361b93dd",
   "metadata": {
    "execution": {
     "iopub.execute_input": "2024-11-25T08:36:52.668290Z",
     "iopub.status.busy": "2024-11-25T08:36:52.667941Z",
     "iopub.status.idle": "2024-11-25T08:36:52.673078Z",
     "shell.execute_reply": "2024-11-25T08:36:52.672120Z"
    },
    "papermill": {
     "duration": 0.03863,
     "end_time": "2024-11-25T08:36:52.675022",
     "exception": false,
     "start_time": "2024-11-25T08:36:52.636392",
     "status": "completed"
    },
    "tags": []
   },
   "outputs": [],
   "source": [
    "# Initialize model with best parameters\n",
    "\n",
    "svm_model2 = SVC(C = best_params['C'],\n",
    "\n",
    "           kernel = best_params['kernel'],\n",
    "\n",
    "           degree = best_params['degree'],\n",
    "\n",
    "           random_state=0, probability=True)"
   ]
  },
  {
   "cell_type": "code",
   "execution_count": 57,
   "id": "4ad61a89",
   "metadata": {
    "execution": {
     "iopub.execute_input": "2024-11-25T08:36:52.738736Z",
     "iopub.status.busy": "2024-11-25T08:36:52.737938Z",
     "iopub.status.idle": "2024-11-25T08:36:53.384769Z",
     "shell.execute_reply": "2024-11-25T08:36:53.383253Z"
    },
    "papermill": {
     "duration": 0.680811,
     "end_time": "2024-11-25T08:36:53.387319",
     "exception": false,
     "start_time": "2024-11-25T08:36:52.706508",
     "status": "completed"
    },
    "tags": []
   },
   "outputs": [
    {
     "name": "stdout",
     "output_type": "stream",
     "text": [
      "\n",
      "Confusion Matrix:\n"
     ]
    },
    {
     "data": {
      "image/png": "[encoded data removed]",
      "text/plain": [
       "<Figure size 1100x400 with 4 Axes>"
      ]
     },
     "metadata": {},
     "output_type": "display_data"
    },
    {
     "name": "stdout",
     "output_type": "stream",
     "text": [
      "\n",
      "Train Classification Report:\n",
      "|              |   precision |   recall |   f1-score |    support |\n",
      "|:-------------|------------:|---------:|-----------:|-----------:|\n",
      "| 0            |    1        | 1        |   1        |  31        |\n",
      "| 1            |    1        | 0.974359 |   0.987013 |  39        |\n",
      "| 2            |    0.972222 | 1        |   0.985915 |  35        |\n",
      "| accuracy     |    0.990476 | 0.990476 |   0.990476 |   0.990476 |\n",
      "| macro avg    |    0.990741 | 0.991453 |   0.990976 | 105        |\n",
      "| weighted avg |    0.990741 | 0.990476 |   0.990481 | 105        |\n",
      "\n",
      "Test Classification Report:\n",
      "|              |   precision |   recall |   f1-score |   support |\n",
      "|:-------------|------------:|---------:|-----------:|----------:|\n",
      "| 0            |           1 |        1 |          1 |        19 |\n",
      "| 1            |           1 |        1 |          1 |        11 |\n",
      "| 2            |           1 |        1 |          1 |        15 |\n",
      "| accuracy     |           1 |        1 |          1 |         1 |\n",
      "| macro avg    |           1 |        1 |          1 |        45 |\n",
      "| weighted avg |           1 |        1 |          1 |        45 |\n"
     ]
    }
   ],
   "source": [
    "# Visualizing evaluation Metric Score chart\n",
    "\n",
    "svm2_score = evaluate_model(svm_model2, x_train, x_test, y_train, y_test)"
   ]
  },
  {
   "cell_type": "code",
   "execution_count": 58,
   "id": "ec00a9e9",
   "metadata": {
    "execution": {
     "iopub.execute_input": "2024-11-25T08:36:53.451123Z",
     "iopub.status.busy": "2024-11-25T08:36:53.450723Z",
     "iopub.status.idle": "2024-11-25T08:36:53.456790Z",
     "shell.execute_reply": "2024-11-25T08:36:53.455566Z"
    },
    "papermill": {
     "duration": 0.040337,
     "end_time": "2024-11-25T08:36:53.458974",
     "exception": false,
     "start_time": "2024-11-25T08:36:53.418637",
     "status": "completed"
    },
    "tags": []
   },
   "outputs": [],
   "source": [
    "score['SVM tuned'] = svm2_score"
   ]
  },
  {
   "cell_type": "code",
   "execution_count": 59,
   "id": "b905c0da",
   "metadata": {
    "execution": {
     "iopub.execute_input": "2024-11-25T08:36:53.529564Z",
     "iopub.status.busy": "2024-11-25T08:36:53.529164Z",
     "iopub.status.idle": "2024-11-25T08:36:53.542340Z",
     "shell.execute_reply": "2024-11-25T08:36:53.541177Z"
    },
    "papermill": {
     "duration": 0.048157,
     "end_time": "2024-11-25T08:36:53.544543",
     "exception": false,
     "start_time": "2024-11-25T08:36:53.496386",
     "status": "completed"
    },
    "tags": []
   },
   "outputs": [
    {
     "data": {
      "text/html": [
       "<div>\n",
       "<style scoped>\n",
       "    .dataframe tbody tr th:only-of-type {\n",
       "        vertical-align: middle;\n",
       "    }\n",
       "\n",
       "    .dataframe tbody tr th {\n",
       "        vertical-align: top;\n",
       "    }\n",
       "\n",
       "    .dataframe thead th {\n",
       "        text-align: right;\n",
       "    }\n",
       "</style>\n",
       "<table border=\"1\" class=\"dataframe\">\n",
       "  <thead>\n",
       "    <tr style=\"text-align: right;\">\n",
       "      <th></th>\n",
       "      <th>Logistic regression</th>\n",
       "      <th>Logistic regression tuned</th>\n",
       "      <th>Decision Tree</th>\n",
       "      <th>Random Forest</th>\n",
       "      <th>SVM</th>\n",
       "      <th>SVM tuned</th>\n",
       "    </tr>\n",
       "  </thead>\n",
       "  <tbody>\n",
       "    <tr>\n",
       "      <th>Precision Train</th>\n",
       "      <td>0.962934</td>\n",
       "      <td>0.971707</td>\n",
       "      <td>1.000000</td>\n",
       "      <td>1.000000</td>\n",
       "      <td>0.990741</td>\n",
       "      <td>0.990741</td>\n",
       "    </tr>\n",
       "    <tr>\n",
       "      <th>Precision Test</th>\n",
       "      <td>0.979630</td>\n",
       "      <td>1.000000</td>\n",
       "      <td>0.979630</td>\n",
       "      <td>0.979630</td>\n",
       "      <td>1.000000</td>\n",
       "      <td>1.000000</td>\n",
       "    </tr>\n",
       "    <tr>\n",
       "      <th>Recall Train</th>\n",
       "      <td>0.961905</td>\n",
       "      <td>0.971429</td>\n",
       "      <td>1.000000</td>\n",
       "      <td>1.000000</td>\n",
       "      <td>0.990476</td>\n",
       "      <td>0.990476</td>\n",
       "    </tr>\n",
       "    <tr>\n",
       "      <th>Recall Test</th>\n",
       "      <td>0.977778</td>\n",
       "      <td>1.000000</td>\n",
       "      <td>0.977778</td>\n",
       "      <td>0.977778</td>\n",
       "      <td>1.000000</td>\n",
       "      <td>1.000000</td>\n",
       "    </tr>\n",
       "    <tr>\n",
       "      <th>Accuracy Train</th>\n",
       "      <td>0.961905</td>\n",
       "      <td>0.971429</td>\n",
       "      <td>1.000000</td>\n",
       "      <td>1.000000</td>\n",
       "      <td>0.990476</td>\n",
       "      <td>0.990476</td>\n",
       "    </tr>\n",
       "    <tr>\n",
       "      <th>Accuracy Test</th>\n",
       "      <td>0.977778</td>\n",
       "      <td>1.000000</td>\n",
       "      <td>0.977778</td>\n",
       "      <td>0.977778</td>\n",
       "      <td>1.000000</td>\n",
       "      <td>1.000000</td>\n",
       "    </tr>\n",
       "    <tr>\n",
       "      <th>F1 macro Train</th>\n",
       "      <td>0.961933</td>\n",
       "      <td>0.971444</td>\n",
       "      <td>1.000000</td>\n",
       "      <td>1.000000</td>\n",
       "      <td>0.990481</td>\n",
       "      <td>0.990481</td>\n",
       "    </tr>\n",
       "    <tr>\n",
       "      <th>F1 macro Test</th>\n",
       "      <td>0.977878</td>\n",
       "      <td>1.000000</td>\n",
       "      <td>0.977878</td>\n",
       "      <td>0.977878</td>\n",
       "      <td>1.000000</td>\n",
       "      <td>1.000000</td>\n",
       "    </tr>\n",
       "  </tbody>\n",
       "</table>\n",
       "</div>"
      ],
      "text/plain": [
       "                 Logistic regression  Logistic regression tuned  \\\n",
       "Precision Train             0.962934                   0.971707   \n",
       "Precision Test              0.979630                   1.000000   \n",
       "Recall Train                0.961905                   0.971429   \n",
       "Recall Test                 0.977778                   1.000000   \n",
       "Accuracy Train              0.961905                   0.971429   \n",
       "Accuracy Test               0.977778                   1.000000   \n",
       "F1 macro Train              0.961933                   0.971444   \n",
       "F1 macro Test               0.977878                   1.000000   \n",
       "\n",
       "                 Decision Tree  Random Forest       SVM  SVM tuned  \n",
       "Precision Train       1.000000       1.000000  0.990741   0.990741  \n",
       "Precision Test        0.979630       0.979630  1.000000   1.000000  \n",
       "Recall Train          1.000000       1.000000  0.990476   0.990476  \n",
       "Recall Test           0.977778       0.977778  1.000000   1.000000  \n",
       "Accuracy Train        1.000000       1.000000  0.990476   0.990476  \n",
       "Accuracy Test         0.977778       0.977778  1.000000   1.000000  \n",
       "F1 macro Train        1.000000       1.000000  0.990481   0.990481  \n",
       "F1 macro Test         0.977878       0.977878  1.000000   1.000000  "
      ]
     },
     "execution_count": 59,
     "metadata": {},
     "output_type": "execute_result"
    }
   ],
   "source": [
    "# Updated Evaluation metric Score Chart\n",
    "\n",
    "score"
   ]
  },
  {
   "cell_type": "markdown",
   "id": "d8b56e05",
   "metadata": {
    "papermill": {
     "duration": 0.037859,
     "end_time": "2024-11-25T08:36:53.664034",
     "exception": false,
     "start_time": "2024-11-25T08:36:53.626175",
     "status": "completed"
    },
    "tags": []
   },
   "source": [
    "## ML Model - 5 : Xtreme Gradient Boosting"
   ]
  },
  {
   "cell_type": "code",
   "execution_count": 60,
   "id": "4b380d0b",
   "metadata": {
    "execution": {
     "iopub.execute_input": "2024-11-25T08:36:53.742752Z",
     "iopub.status.busy": "2024-11-25T08:36:53.742362Z",
     "iopub.status.idle": "2024-11-25T08:36:53.747237Z",
     "shell.execute_reply": "2024-11-25T08:36:53.746246Z"
    },
    "papermill": {
     "duration": 0.043437,
     "end_time": "2024-11-25T08:36:53.749617",
     "exception": false,
     "start_time": "2024-11-25T08:36:53.706180",
     "status": "completed"
    },
    "tags": []
   },
   "outputs": [],
   "source": [
    "# ML Model - 5 Implementation\n",
    "\n",
    "xgb_model = xgb.XGBClassifier()"
   ]
  },
  {
   "cell_type": "markdown",
   "id": "19b5487a",
   "metadata": {
    "papermill": {
     "duration": 0.030827,
     "end_time": "2024-11-25T08:36:53.811632",
     "exception": false,
     "start_time": "2024-11-25T08:36:53.780805",
     "status": "completed"
    },
    "tags": []
   },
   "source": [
    "### 1. Explain the ML Model used and it's performance using Evaluation metric Score Chart."
   ]
  },
  {
   "cell_type": "code",
   "execution_count": 61,
   "id": "36cf12f8",
   "metadata": {
    "execution": {
     "iopub.execute_input": "2024-11-25T08:36:53.875801Z",
     "iopub.status.busy": "2024-11-25T08:36:53.875403Z",
     "iopub.status.idle": "2024-11-25T08:36:54.577763Z",
     "shell.execute_reply": "2024-11-25T08:36:54.576489Z"
    },
    "papermill": {
     "duration": 0.73748,
     "end_time": "2024-11-25T08:36:54.580349",
     "exception": false,
     "start_time": "2024-11-25T08:36:53.842869",
     "status": "completed"
    },
    "tags": []
   },
   "outputs": [
    {
     "name": "stdout",
     "output_type": "stream",
     "text": [
      "\n",
      "Confusion Matrix:\n"
     ]
    },
    {
     "data": {
      "image/png": "[encoded data removed]",
      "text/plain": [
       "<Figure size 1100x400 with 4 Axes>"
      ]
     },
     "metadata": {},
     "output_type": "display_data"
    },
    {
     "name": "stdout",
     "output_type": "stream",
     "text": [
      "\n",
      "Train Classification Report:\n",
      "|              |   precision |   recall |   f1-score |   support |\n",
      "|:-------------|------------:|---------:|-----------:|----------:|\n",
      "| 0            |           1 |        1 |          1 |        31 |\n",
      "| 1            |           1 |        1 |          1 |        39 |\n",
      "| 2            |           1 |        1 |          1 |        35 |\n",
      "| accuracy     |           1 |        1 |          1 |         1 |\n",
      "| macro avg    |           1 |        1 |          1 |       105 |\n",
      "| weighted avg |           1 |        1 |          1 |       105 |\n",
      "\n",
      "Test Classification Report:\n",
      "|              |   precision |   recall |   f1-score |   support |\n",
      "|:-------------|------------:|---------:|-----------:|----------:|\n",
      "| 0            |    1        | 1        |   1        | 19        |\n",
      "| 1            |    0.916667 | 1        |   0.956522 | 11        |\n",
      "| 2            |    1        | 0.933333 |   0.965517 | 15        |\n",
      "| accuracy     |    0.977778 | 0.977778 |   0.977778 |  0.977778 |\n",
      "| macro avg    |    0.972222 | 0.977778 |   0.974013 | 45        |\n",
      "| weighted avg |    0.97963  | 0.977778 |   0.977878 | 45        |\n"
     ]
    }
   ],
   "source": [
    "# Visualizing evaluation Metric Score chart\n",
    "\n",
    "xgb_score = evaluate_model(xgb_model, x_train, x_test, y_train, y_test)"
   ]
  },
  {
   "cell_type": "code",
   "execution_count": 62,
   "id": "142db825",
   "metadata": {
    "execution": {
     "iopub.execute_input": "2024-11-25T08:36:54.646961Z",
     "iopub.status.busy": "2024-11-25T08:36:54.646578Z",
     "iopub.status.idle": "2024-11-25T08:36:54.662852Z",
     "shell.execute_reply": "2024-11-25T08:36:54.661468Z"
    },
    "papermill": {
     "duration": 0.051927,
     "end_time": "2024-11-25T08:36:54.665052",
     "exception": false,
     "start_time": "2024-11-25T08:36:54.613125",
     "status": "completed"
    },
    "tags": []
   },
   "outputs": [
    {
     "data": {
      "text/html": [
       "<div>\n",
       "<style scoped>\n",
       "    .dataframe tbody tr th:only-of-type {\n",
       "        vertical-align: middle;\n",
       "    }\n",
       "\n",
       "    .dataframe tbody tr th {\n",
       "        vertical-align: top;\n",
       "    }\n",
       "\n",
       "    .dataframe thead th {\n",
       "        text-align: right;\n",
       "    }\n",
       "</style>\n",
       "<table border=\"1\" class=\"dataframe\">\n",
       "  <thead>\n",
       "    <tr style=\"text-align: right;\">\n",
       "      <th></th>\n",
       "      <th>Logistic regression</th>\n",
       "      <th>Logistic regression tuned</th>\n",
       "      <th>Decision Tree</th>\n",
       "      <th>Random Forest</th>\n",
       "      <th>SVM</th>\n",
       "      <th>SVM tuned</th>\n",
       "      <th>XGB</th>\n",
       "    </tr>\n",
       "  </thead>\n",
       "  <tbody>\n",
       "    <tr>\n",
       "      <th>Precision Train</th>\n",
       "      <td>0.962934</td>\n",
       "      <td>0.971707</td>\n",
       "      <td>1.000000</td>\n",
       "      <td>1.000000</td>\n",
       "      <td>0.990741</td>\n",
       "      <td>0.990741</td>\n",
       "      <td>1.000000</td>\n",
       "    </tr>\n",
       "    <tr>\n",
       "      <th>Precision Test</th>\n",
       "      <td>0.979630</td>\n",
       "      <td>1.000000</td>\n",
       "      <td>0.979630</td>\n",
       "      <td>0.979630</td>\n",
       "      <td>1.000000</td>\n",
       "      <td>1.000000</td>\n",
       "      <td>0.979630</td>\n",
       "    </tr>\n",
       "    <tr>\n",
       "      <th>Recall Train</th>\n",
       "      <td>0.961905</td>\n",
       "      <td>0.971429</td>\n",
       "      <td>1.000000</td>\n",
       "      <td>1.000000</td>\n",
       "      <td>0.990476</td>\n",
       "      <td>0.990476</td>\n",
       "      <td>1.000000</td>\n",
       "    </tr>\n",
       "    <tr>\n",
       "      <th>Recall Test</th>\n",
       "      <td>0.977778</td>\n",
       "      <td>1.000000</td>\n",
       "      <td>0.977778</td>\n",
       "      <td>0.977778</td>\n",
       "      <td>1.000000</td>\n",
       "      <td>1.000000</td>\n",
       "      <td>0.977778</td>\n",
       "    </tr>\n",
       "    <tr>\n",
       "      <th>Accuracy Train</th>\n",
       "      <td>0.961905</td>\n",
       "      <td>0.971429</td>\n",
       "      <td>1.000000</td>\n",
       "      <td>1.000000</td>\n",
       "      <td>0.990476</td>\n",
       "      <td>0.990476</td>\n",
       "      <td>1.000000</td>\n",
       "    </tr>\n",
       "    <tr>\n",
       "      <th>Accuracy Test</th>\n",
       "      <td>0.977778</td>\n",
       "      <td>1.000000</td>\n",
       "      <td>0.977778</td>\n",
       "      <td>0.977778</td>\n",
       "      <td>1.000000</td>\n",
       "      <td>1.000000</td>\n",
       "      <td>0.977778</td>\n",
       "    </tr>\n",
       "    <tr>\n",
       "      <th>F1 macro Train</th>\n",
       "      <td>0.961933</td>\n",
       "      <td>0.971444</td>\n",
       "      <td>1.000000</td>\n",
       "      <td>1.000000</td>\n",
       "      <td>0.990481</td>\n",
       "      <td>0.990481</td>\n",
       "      <td>1.000000</td>\n",
       "    </tr>\n",
       "    <tr>\n",
       "      <th>F1 macro Test</th>\n",
       "      <td>0.977878</td>\n",
       "      <td>1.000000</td>\n",
       "      <td>0.977878</td>\n",
       "      <td>0.977878</td>\n",
       "      <td>1.000000</td>\n",
       "      <td>1.000000</td>\n",
       "      <td>0.977878</td>\n",
       "    </tr>\n",
       "  </tbody>\n",
       "</table>\n",
       "</div>"
      ],
      "text/plain": [
       "                 Logistic regression  Logistic regression tuned  \\\n",
       "Precision Train             0.962934                   0.971707   \n",
       "Precision Test              0.979630                   1.000000   \n",
       "Recall Train                0.961905                   0.971429   \n",
       "Recall Test                 0.977778                   1.000000   \n",
       "Accuracy Train              0.961905                   0.971429   \n",
       "Accuracy Test               0.977778                   1.000000   \n",
       "F1 macro Train              0.961933                   0.971444   \n",
       "F1 macro Test               0.977878                   1.000000   \n",
       "\n",
       "                 Decision Tree  Random Forest       SVM  SVM tuned       XGB  \n",
       "Precision Train       1.000000       1.000000  0.990741   0.990741  1.000000  \n",
       "Precision Test        0.979630       0.979630  1.000000   1.000000  0.979630  \n",
       "Recall Train          1.000000       1.000000  0.990476   0.990476  1.000000  \n",
       "Recall Test           0.977778       0.977778  1.000000   1.000000  0.977778  \n",
       "Accuracy Train        1.000000       1.000000  0.990476   0.990476  1.000000  \n",
       "Accuracy Test         0.977778       0.977778  1.000000   1.000000  0.977778  \n",
       "F1 macro Train        1.000000       1.000000  0.990481   0.990481  1.000000  \n",
       "F1 macro Test         0.977878       0.977878  1.000000   1.000000  0.977878  "
      ]
     },
     "execution_count": 62,
     "metadata": {},
     "output_type": "execute_result"
    }
   ],
   "source": [
    "# Updated Evaluation metric Score Chart\n",
    "\n",
    "score['XGB'] = xgb_score\n",
    "\n",
    "score"
   ]
  },
  {
   "cell_type": "markdown",
   "id": "e2c63089",
   "metadata": {
    "papermill": {
     "duration": 0.032348,
     "end_time": "2024-11-25T08:36:54.731536",
     "exception": false,
     "start_time": "2024-11-25T08:36:54.699188",
     "status": "completed"
    },
    "tags": []
   },
   "source": [
    "### 2. Cross- Validation & Hyperparameter Tuning"
   ]
  },
  {
   "cell_type": "code",
   "execution_count": 63,
   "id": "04a45c35",
   "metadata": {
    "execution": {
     "iopub.execute_input": "2024-11-25T08:36:54.797140Z",
     "iopub.status.busy": "2024-11-25T08:36:54.796771Z",
     "iopub.status.idle": "2024-11-25T08:37:01.144078Z",
     "shell.execute_reply": "2024-11-25T08:37:01.143221Z"
    },
    "papermill": {
     "duration": 6.383143,
     "end_time": "2024-11-25T08:37:01.146859",
     "exception": false,
     "start_time": "2024-11-25T08:36:54.763716",
     "status": "completed"
    },
    "tags": []
   },
   "outputs": [
    {
     "name": "stdout",
     "output_type": "stream",
     "text": [
      "Best hyperparameters:  {'n_estimators': 110, 'max_depth': 6, 'learning_rate': 0.21000000000000002}\n"
     ]
    }
   ],
   "source": [
    "# ML Model - 5 Implementation with hyperparameter optimization techniques (i.e., GridSearch CV, RandomSearch CV, Bayesian Optimization etc.)\n",
    "\n",
    "# Define the hyperparameter grid\n",
    "\n",
    "param_grid = {'learning_rate': np.arange(0.01, 0.3, 0.01),\n",
    "\n",
    "              'max_depth': np.arange(3, 15, 1),\n",
    "\n",
    "              'n_estimators': np.arange(100, 200, 10)}\n",
    "\n",
    "\n",
    "\n",
    "# Initialize the model\n",
    "\n",
    "xgb2 = xgb.XGBClassifier(random_state=0)\n",
    "\n",
    "\n",
    "\n",
    "# Repeated stratified kfold\n",
    "\n",
    "rskf = RepeatedStratifiedKFold(n_splits=3, n_repeats=3, random_state=0)\n",
    "\n",
    "\n",
    "\n",
    "# Initialize RandomizedSearchCV\n",
    "\n",
    "random_search = RandomizedSearchCV(xgb2, param_grid, n_iter=10, cv=rskf)\n",
    "\n",
    "\n",
    "\n",
    "# Fit the RandomizedSearchCV to the training data\n",
    "\n",
    "random_search.fit(x_train, y_train)\n",
    "\n",
    "\n",
    "\n",
    "# Select the best hyperparameters\n",
    "\n",
    "best_params = random_search.best_params_\n",
    "\n",
    "print(\"Best hyperparameters: \", best_params)"
   ]
  },
  {
   "cell_type": "code",
   "execution_count": 64,
   "id": "d86098d1",
   "metadata": {
    "execution": {
     "iopub.execute_input": "2024-11-25T08:37:01.213366Z",
     "iopub.status.busy": "2024-11-25T08:37:01.213011Z",
     "iopub.status.idle": "2024-11-25T08:37:01.218664Z",
     "shell.execute_reply": "2024-11-25T08:37:01.217638Z"
    },
    "papermill": {
     "duration": 0.0414,
     "end_time": "2024-11-25T08:37:01.220829",
     "exception": false,
     "start_time": "2024-11-25T08:37:01.179429",
     "status": "completed"
    },
    "tags": []
   },
   "outputs": [],
   "source": [
    "# Initialize model with best parameters\n",
    "\n",
    "xgb_model2 = xgb.XGBClassifier(learning_rate = best_params['learning_rate'],\n",
    "\n",
    "                                 max_depth = best_params['max_depth'],\n",
    "\n",
    "                               n_estimators = best_params['n_estimators'],\n",
    "\n",
    "                                 random_state=0)"
   ]
  },
  {
   "cell_type": "code",
   "execution_count": 65,
   "id": "e1153eb7",
   "metadata": {
    "execution": {
     "iopub.execute_input": "2024-11-25T08:37:01.288156Z",
     "iopub.status.busy": "2024-11-25T08:37:01.287800Z",
     "iopub.status.idle": "2024-11-25T08:37:02.048100Z",
     "shell.execute_reply": "2024-11-25T08:37:02.046957Z"
    },
    "papermill": {
     "duration": 0.797463,
     "end_time": "2024-11-25T08:37:02.050893",
     "exception": false,
     "start_time": "2024-11-25T08:37:01.253430",
     "status": "completed"
    },
    "tags": []
   },
   "outputs": [
    {
     "name": "stdout",
     "output_type": "stream",
     "text": [
      "\n",
      "Confusion Matrix:\n"
     ]
    },
    {
     "data": {
      "image/png": "[encoded data removed]",
      "text/plain": [
       "<Figure size 1100x400 with 4 Axes>"
      ]
     },
     "metadata": {},
     "output_type": "display_data"
    },
    {
     "name": "stdout",
     "output_type": "stream",
     "text": [
      "\n",
      "Train Classification Report:\n",
      "|              |   precision |   recall |   f1-score |   support |\n",
      "|:-------------|------------:|---------:|-----------:|----------:|\n",
      "| 0            |           1 |        1 |          1 |        31 |\n",
      "| 1            |           1 |        1 |          1 |        39 |\n",
      "| 2            |           1 |        1 |          1 |        35 |\n",
      "| accuracy     |           1 |        1 |          1 |         1 |\n",
      "| macro avg    |           1 |        1 |          1 |       105 |\n",
      "| weighted avg |           1 |        1 |          1 |       105 |\n",
      "\n",
      "Test Classification Report:\n",
      "|              |   precision |   recall |   f1-score |   support |\n",
      "|:-------------|------------:|---------:|-----------:|----------:|\n",
      "| 0            |    1        | 1        |   1        | 19        |\n",
      "| 1            |    0.916667 | 1        |   0.956522 | 11        |\n",
      "| 2            |    1        | 0.933333 |   0.965517 | 15        |\n",
      "| accuracy     |    0.977778 | 0.977778 |   0.977778 |  0.977778 |\n",
      "| macro avg    |    0.972222 | 0.977778 |   0.974013 | 45        |\n",
      "| weighted avg |    0.97963  | 0.977778 |   0.977878 | 45        |\n"
     ]
    }
   ],
   "source": [
    "# Visualizing evaluation Metric Score chart\n",
    "\n",
    "xgb2_score = evaluate_model(xgb_model2, x_train, x_test, y_train, y_test)"
   ]
  },
  {
   "cell_type": "code",
   "execution_count": 66,
   "id": "e107825a",
   "metadata": {
    "execution": {
     "iopub.execute_input": "2024-11-25T08:37:02.120636Z",
     "iopub.status.busy": "2024-11-25T08:37:02.119364Z",
     "iopub.status.idle": "2024-11-25T08:37:02.125642Z",
     "shell.execute_reply": "2024-11-25T08:37:02.124605Z"
    },
    "papermill": {
     "duration": 0.043243,
     "end_time": "2024-11-25T08:37:02.128064",
     "exception": false,
     "start_time": "2024-11-25T08:37:02.084821",
     "status": "completed"
    },
    "tags": []
   },
   "outputs": [],
   "source": [
    "score['XGB tuned'] = xgb2_score"
   ]
  },
  {
   "cell_type": "code",
   "execution_count": 67,
   "id": "546cf57b",
   "metadata": {
    "execution": {
     "iopub.execute_input": "2024-11-25T08:37:02.199658Z",
     "iopub.status.busy": "2024-11-25T08:37:02.199218Z",
     "iopub.status.idle": "2024-11-25T08:37:02.214190Z",
     "shell.execute_reply": "2024-11-25T08:37:02.213042Z"
    },
    "papermill": {
     "duration": 0.052693,
     "end_time": "2024-11-25T08:37:02.216430",
     "exception": false,
     "start_time": "2024-11-25T08:37:02.163737",
     "status": "completed"
    },
    "tags": []
   },
   "outputs": [
    {
     "data": {
      "text/html": [
       "<div>\n",
       "<style scoped>\n",
       "    .dataframe tbody tr th:only-of-type {\n",
       "        vertical-align: middle;\n",
       "    }\n",
       "\n",
       "    .dataframe tbody tr th {\n",
       "        vertical-align: top;\n",
       "    }\n",
       "\n",
       "    .dataframe thead th {\n",
       "        text-align: right;\n",
       "    }\n",
       "</style>\n",
       "<table border=\"1\" class=\"dataframe\">\n",
       "  <thead>\n",
       "    <tr style=\"text-align: right;\">\n",
       "      <th></th>\n",
       "      <th>Logistic regression</th>\n",
       "      <th>Logistic regression tuned</th>\n",
       "      <th>Decision Tree</th>\n",
       "      <th>Random Forest</th>\n",
       "      <th>SVM</th>\n",
       "      <th>SVM tuned</th>\n",
       "      <th>XGB</th>\n",
       "      <th>XGB tuned</th>\n",
       "    </tr>\n",
       "  </thead>\n",
       "  <tbody>\n",
       "    <tr>\n",
       "      <th>Precision Train</th>\n",
       "      <td>0.962934</td>\n",
       "      <td>0.971707</td>\n",
       "      <td>1.000000</td>\n",
       "      <td>1.000000</td>\n",
       "      <td>0.990741</td>\n",
       "      <td>0.990741</td>\n",
       "      <td>1.000000</td>\n",
       "      <td>1.000000</td>\n",
       "    </tr>\n",
       "    <tr>\n",
       "      <th>Precision Test</th>\n",
       "      <td>0.979630</td>\n",
       "      <td>1.000000</td>\n",
       "      <td>0.979630</td>\n",
       "      <td>0.979630</td>\n",
       "      <td>1.000000</td>\n",
       "      <td>1.000000</td>\n",
       "      <td>0.979630</td>\n",
       "      <td>0.979630</td>\n",
       "    </tr>\n",
       "    <tr>\n",
       "      <th>Recall Train</th>\n",
       "      <td>0.961905</td>\n",
       "      <td>0.971429</td>\n",
       "      <td>1.000000</td>\n",
       "      <td>1.000000</td>\n",
       "      <td>0.990476</td>\n",
       "      <td>0.990476</td>\n",
       "      <td>1.000000</td>\n",
       "      <td>1.000000</td>\n",
       "    </tr>\n",
       "    <tr>\n",
       "      <th>Recall Test</th>\n",
       "      <td>0.977778</td>\n",
       "      <td>1.000000</td>\n",
       "      <td>0.977778</td>\n",
       "      <td>0.977778</td>\n",
       "      <td>1.000000</td>\n",
       "      <td>1.000000</td>\n",
       "      <td>0.977778</td>\n",
       "      <td>0.977778</td>\n",
       "    </tr>\n",
       "    <tr>\n",
       "      <th>Accuracy Train</th>\n",
       "      <td>0.961905</td>\n",
       "      <td>0.971429</td>\n",
       "      <td>1.000000</td>\n",
       "      <td>1.000000</td>\n",
       "      <td>0.990476</td>\n",
       "      <td>0.990476</td>\n",
       "      <td>1.000000</td>\n",
       "      <td>1.000000</td>\n",
       "    </tr>\n",
       "    <tr>\n",
       "      <th>Accuracy Test</th>\n",
       "      <td>0.977778</td>\n",
       "      <td>1.000000</td>\n",
       "      <td>0.977778</td>\n",
       "      <td>0.977778</td>\n",
       "      <td>1.000000</td>\n",
       "      <td>1.000000</td>\n",
       "      <td>0.977778</td>\n",
       "      <td>0.977778</td>\n",
       "    </tr>\n",
       "    <tr>\n",
       "      <th>F1 macro Train</th>\n",
       "      <td>0.961933</td>\n",
       "      <td>0.971444</td>\n",
       "      <td>1.000000</td>\n",
       "      <td>1.000000</td>\n",
       "      <td>0.990481</td>\n",
       "      <td>0.990481</td>\n",
       "      <td>1.000000</td>\n",
       "      <td>1.000000</td>\n",
       "    </tr>\n",
       "    <tr>\n",
       "      <th>F1 macro Test</th>\n",
       "      <td>0.977878</td>\n",
       "      <td>1.000000</td>\n",
       "      <td>0.977878</td>\n",
       "      <td>0.977878</td>\n",
       "      <td>1.000000</td>\n",
       "      <td>1.000000</td>\n",
       "      <td>0.977878</td>\n",
       "      <td>0.977878</td>\n",
       "    </tr>\n",
       "  </tbody>\n",
       "</table>\n",
       "</div>"
      ],
      "text/plain": [
       "                 Logistic regression  Logistic regression tuned  \\\n",
       "Precision Train             0.962934                   0.971707   \n",
       "Precision Test              0.979630                   1.000000   \n",
       "Recall Train                0.961905                   0.971429   \n",
       "Recall Test                 0.977778                   1.000000   \n",
       "Accuracy Train              0.961905                   0.971429   \n",
       "Accuracy Test               0.977778                   1.000000   \n",
       "F1 macro Train              0.961933                   0.971444   \n",
       "F1 macro Test               0.977878                   1.000000   \n",
       "\n",
       "                 Decision Tree  Random Forest       SVM  SVM tuned       XGB  \\\n",
       "Precision Train       1.000000       1.000000  0.990741   0.990741  1.000000   \n",
       "Precision Test        0.979630       0.979630  1.000000   1.000000  0.979630   \n",
       "Recall Train          1.000000       1.000000  0.990476   0.990476  1.000000   \n",
       "Recall Test           0.977778       0.977778  1.000000   1.000000  0.977778   \n",
       "Accuracy Train        1.000000       1.000000  0.990476   0.990476  1.000000   \n",
       "Accuracy Test         0.977778       0.977778  1.000000   1.000000  0.977778   \n",
       "F1 macro Train        1.000000       1.000000  0.990481   0.990481  1.000000   \n",
       "F1 macro Test         0.977878       0.977878  1.000000   1.000000  0.977878   \n",
       "\n",
       "                 XGB tuned  \n",
       "Precision Train   1.000000  \n",
       "Precision Test    0.979630  \n",
       "Recall Train      1.000000  \n",
       "Recall Test       0.977778  \n",
       "Accuracy Train    1.000000  \n",
       "Accuracy Test     0.977778  \n",
       "F1 macro Train    1.000000  \n",
       "F1 macro Test     0.977878  "
      ]
     },
     "execution_count": 67,
     "metadata": {},
     "output_type": "execute_result"
    }
   ],
   "source": [
    "# Updated Evaluation metric Score Chart\n",
    "\n",
    "score"
   ]
  },
  {
   "cell_type": "markdown",
   "id": "c307e267",
   "metadata": {
    "papermill": {
     "duration": 0.033255,
     "end_time": "2024-11-25T08:37:02.283668",
     "exception": false,
     "start_time": "2024-11-25T08:37:02.250413",
     "status": "completed"
    },
    "tags": []
   },
   "source": [
    "## ML Model - 6 : Naive Bayes"
   ]
  },
  {
   "cell_type": "code",
   "execution_count": 68,
   "id": "2b21fa41",
   "metadata": {
    "execution": {
     "iopub.execute_input": "2024-11-25T08:37:02.352417Z",
     "iopub.status.busy": "2024-11-25T08:37:02.352005Z",
     "iopub.status.idle": "2024-11-25T08:37:02.357058Z",
     "shell.execute_reply": "2024-11-25T08:37:02.356102Z"
    },
    "papermill": {
     "duration": 0.042416,
     "end_time": "2024-11-25T08:37:02.359381",
     "exception": false,
     "start_time": "2024-11-25T08:37:02.316965",
     "status": "completed"
    },
    "tags": []
   },
   "outputs": [],
   "source": [
    "# ML Model - 6 Implementation\n",
    "\n",
    "nb_model = GaussianNB()\n"
   ]
  },
  {
   "cell_type": "markdown",
   "id": "cbebefd0",
   "metadata": {
    "papermill": {
     "duration": 0.034425,
     "end_time": "2024-11-25T08:37:02.429432",
     "exception": false,
     "start_time": "2024-11-25T08:37:02.395007",
     "status": "completed"
    },
    "tags": []
   },
   "source": [
    "### 1. Explain the ML Model used and it's performance using Evaluation metric Score Chart."
   ]
  },
  {
   "cell_type": "code",
   "execution_count": 69,
   "id": "7f5d7cdd",
   "metadata": {
    "execution": {
     "iopub.execute_input": "2024-11-25T08:37:02.499874Z",
     "iopub.status.busy": "2024-11-25T08:37:02.499407Z",
     "iopub.status.idle": "2024-11-25T08:37:03.038415Z",
     "shell.execute_reply": "2024-11-25T08:37:03.037084Z"
    },
    "papermill": {
     "duration": 0.576616,
     "end_time": "2024-11-25T08:37:03.040900",
     "exception": false,
     "start_time": "2024-11-25T08:37:02.464284",
     "status": "completed"
    },
    "tags": []
   },
   "outputs": [
    {
     "name": "stdout",
     "output_type": "stream",
     "text": [
      "\n",
      "Confusion Matrix:\n"
     ]
    },
    {
     "data": {
      "image/png": "[encoded data removed]",
      "text/plain": [
       "<Figure size 1100x400 with 4 Axes>"
      ]
     },
     "metadata": {},
     "output_type": "display_data"
    },
    {
     "name": "stdout",
     "output_type": "stream",
     "text": [
      "\n",
      "Train Classification Report:\n",
      "|              |   precision |   recall |   f1-score |    support |\n",
      "|:-------------|------------:|---------:|-----------:|-----------:|\n",
      "| 0            |    1        | 1        |   1        |  31        |\n",
      "| 1            |    0.923077 | 0.923077 |   0.923077 |  39        |\n",
      "| 2            |    0.914286 | 0.914286 |   0.914286 |  35        |\n",
      "| accuracy     |    0.942857 | 0.942857 |   0.942857 |   0.942857 |\n",
      "| macro avg    |    0.945788 | 0.945788 |   0.945788 | 105        |\n",
      "| weighted avg |    0.942857 | 0.942857 |   0.942857 | 105        |\n",
      "\n",
      "Test Classification Report:\n",
      "|              |   precision |   recall |   f1-score |   support |\n",
      "|:-------------|------------:|---------:|-----------:|----------:|\n",
      "| 0            |    1        | 1        |   1        | 19        |\n",
      "| 1            |    0.916667 | 1        |   0.956522 | 11        |\n",
      "| 2            |    1        | 0.933333 |   0.965517 | 15        |\n",
      "| accuracy     |    0.977778 | 0.977778 |   0.977778 |  0.977778 |\n",
      "| macro avg    |    0.972222 | 0.977778 |   0.974013 | 45        |\n",
      "| weighted avg |    0.97963  | 0.977778 |   0.977878 | 45        |\n"
     ]
    }
   ],
   "source": [
    "# Visualizing evaluation Metric Score chart\n",
    "\n",
    "nb_score = evaluate_model(nb_model, x_train, x_test, y_train, y_test)"
   ]
  },
  {
   "cell_type": "code",
   "execution_count": 70,
   "id": "42ae9cfd",
   "metadata": {
    "execution": {
     "iopub.execute_input": "2024-11-25T08:37:03.111647Z",
     "iopub.status.busy": "2024-11-25T08:37:03.111205Z",
     "iopub.status.idle": "2024-11-25T08:37:03.127535Z",
     "shell.execute_reply": "2024-11-25T08:37:03.126492Z"
    },
    "papermill": {
     "duration": 0.05489,
     "end_time": "2024-11-25T08:37:03.129676",
     "exception": false,
     "start_time": "2024-11-25T08:37:03.074786",
     "status": "completed"
    },
    "tags": []
   },
   "outputs": [
    {
     "data": {
      "text/html": [
       "<div>\n",
       "<style scoped>\n",
       "    .dataframe tbody tr th:only-of-type {\n",
       "        vertical-align: middle;\n",
       "    }\n",
       "\n",
       "    .dataframe tbody tr th {\n",
       "        vertical-align: top;\n",
       "    }\n",
       "\n",
       "    .dataframe thead th {\n",
       "        text-align: right;\n",
       "    }\n",
       "</style>\n",
       "<table border=\"1\" class=\"dataframe\">\n",
       "  <thead>\n",
       "    <tr style=\"text-align: right;\">\n",
       "      <th></th>\n",
       "      <th>Logistic regression</th>\n",
       "      <th>Logistic regression tuned</th>\n",
       "      <th>Decision Tree</th>\n",
       "      <th>Random Forest</th>\n",
       "      <th>SVM</th>\n",
       "      <th>SVM tuned</th>\n",
       "      <th>XGB</th>\n",
       "      <th>XGB tuned</th>\n",
       "      <th>Naive Bayes</th>\n",
       "    </tr>\n",
       "  </thead>\n",
       "  <tbody>\n",
       "    <tr>\n",
       "      <th>Precision Train</th>\n",
       "      <td>0.962934</td>\n",
       "      <td>0.971707</td>\n",
       "      <td>1.000000</td>\n",
       "      <td>1.000000</td>\n",
       "      <td>0.990741</td>\n",
       "      <td>0.990741</td>\n",
       "      <td>1.000000</td>\n",
       "      <td>1.000000</td>\n",
       "      <td>0.942857</td>\n",
       "    </tr>\n",
       "    <tr>\n",
       "      <th>Precision Test</th>\n",
       "      <td>0.979630</td>\n",
       "      <td>1.000000</td>\n",
       "      <td>0.979630</td>\n",
       "      <td>0.979630</td>\n",
       "      <td>1.000000</td>\n",
       "      <td>1.000000</td>\n",
       "      <td>0.979630</td>\n",
       "      <td>0.979630</td>\n",
       "      <td>0.979630</td>\n",
       "    </tr>\n",
       "    <tr>\n",
       "      <th>Recall Train</th>\n",
       "      <td>0.961905</td>\n",
       "      <td>0.971429</td>\n",
       "      <td>1.000000</td>\n",
       "      <td>1.000000</td>\n",
       "      <td>0.990476</td>\n",
       "      <td>0.990476</td>\n",
       "      <td>1.000000</td>\n",
       "      <td>1.000000</td>\n",
       "      <td>0.942857</td>\n",
       "    </tr>\n",
       "    <tr>\n",
       "      <th>Recall Test</th>\n",
       "      <td>0.977778</td>\n",
       "      <td>1.000000</td>\n",
       "      <td>0.977778</td>\n",
       "      <td>0.977778</td>\n",
       "      <td>1.000000</td>\n",
       "      <td>1.000000</td>\n",
       "      <td>0.977778</td>\n",
       "      <td>0.977778</td>\n",
       "      <td>0.977778</td>\n",
       "    </tr>\n",
       "    <tr>\n",
       "      <th>Accuracy Train</th>\n",
       "      <td>0.961905</td>\n",
       "      <td>0.971429</td>\n",
       "      <td>1.000000</td>\n",
       "      <td>1.000000</td>\n",
       "      <td>0.990476</td>\n",
       "      <td>0.990476</td>\n",
       "      <td>1.000000</td>\n",
       "      <td>1.000000</td>\n",
       "      <td>0.942857</td>\n",
       "    </tr>\n",
       "    <tr>\n",
       "      <th>Accuracy Test</th>\n",
       "      <td>0.977778</td>\n",
       "      <td>1.000000</td>\n",
       "      <td>0.977778</td>\n",
       "      <td>0.977778</td>\n",
       "      <td>1.000000</td>\n",
       "      <td>1.000000</td>\n",
       "      <td>0.977778</td>\n",
       "      <td>0.977778</td>\n",
       "      <td>0.977778</td>\n",
       "    </tr>\n",
       "    <tr>\n",
       "      <th>F1 macro Train</th>\n",
       "      <td>0.961933</td>\n",
       "      <td>0.971444</td>\n",
       "      <td>1.000000</td>\n",
       "      <td>1.000000</td>\n",
       "      <td>0.990481</td>\n",
       "      <td>0.990481</td>\n",
       "      <td>1.000000</td>\n",
       "      <td>1.000000</td>\n",
       "      <td>0.942857</td>\n",
       "    </tr>\n",
       "    <tr>\n",
       "      <th>F1 macro Test</th>\n",
       "      <td>0.977878</td>\n",
       "      <td>1.000000</td>\n",
       "      <td>0.977878</td>\n",
       "      <td>0.977878</td>\n",
       "      <td>1.000000</td>\n",
       "      <td>1.000000</td>\n",
       "      <td>0.977878</td>\n",
       "      <td>0.977878</td>\n",
       "      <td>0.977878</td>\n",
       "    </tr>\n",
       "  </tbody>\n",
       "</table>\n",
       "</div>"
      ],
      "text/plain": [
       "                 Logistic regression  Logistic regression tuned  \\\n",
       "Precision Train             0.962934                   0.971707   \n",
       "Precision Test              0.979630                   1.000000   \n",
       "Recall Train                0.961905                   0.971429   \n",
       "Recall Test                 0.977778                   1.000000   \n",
       "Accuracy Train              0.961905                   0.971429   \n",
       "Accuracy Test               0.977778                   1.000000   \n",
       "F1 macro Train              0.961933                   0.971444   \n",
       "F1 macro Test               0.977878                   1.000000   \n",
       "\n",
       "                 Decision Tree  Random Forest       SVM  SVM tuned       XGB  \\\n",
       "Precision Train       1.000000       1.000000  0.990741   0.990741  1.000000   \n",
       "Precision Test        0.979630       0.979630  1.000000   1.000000  0.979630   \n",
       "Recall Train          1.000000       1.000000  0.990476   0.990476  1.000000   \n",
       "Recall Test           0.977778       0.977778  1.000000   1.000000  0.977778   \n",
       "Accuracy Train        1.000000       1.000000  0.990476   0.990476  1.000000   \n",
       "Accuracy Test         0.977778       0.977778  1.000000   1.000000  0.977778   \n",
       "F1 macro Train        1.000000       1.000000  0.990481   0.990481  1.000000   \n",
       "F1 macro Test         0.977878       0.977878  1.000000   1.000000  0.977878   \n",
       "\n",
       "                 XGB tuned  Naive Bayes  \n",
       "Precision Train   1.000000     0.942857  \n",
       "Precision Test    0.979630     0.979630  \n",
       "Recall Train      1.000000     0.942857  \n",
       "Recall Test       0.977778     0.977778  \n",
       "Accuracy Train    1.000000     0.942857  \n",
       "Accuracy Test     0.977778     0.977778  \n",
       "F1 macro Train    1.000000     0.942857  \n",
       "F1 macro Test     0.977878     0.977878  "
      ]
     },
     "execution_count": 70,
     "metadata": {},
     "output_type": "execute_result"
    }
   ],
   "source": [
    "# Updated Evaluation metric Score Chart\n",
    "\n",
    "score['Naive Bayes'] = nb_score\n",
    "\n",
    "score"
   ]
  },
  {
   "cell_type": "markdown",
   "id": "0c305754",
   "metadata": {
    "papermill": {
     "duration": 0.034893,
     "end_time": "2024-11-25T08:37:03.199013",
     "exception": false,
     "start_time": "2024-11-25T08:37:03.164120",
     "status": "completed"
    },
    "tags": []
   },
   "source": [
    "### 2. Cross- Validation & Hyperparameter Tuning"
   ]
  },
  {
   "cell_type": "code",
   "execution_count": 71,
   "id": "5350310b",
   "metadata": {
    "execution": {
     "iopub.execute_input": "2024-11-25T08:37:03.269047Z",
     "iopub.status.busy": "2024-11-25T08:37:03.268666Z",
     "iopub.status.idle": "2024-11-25T08:37:06.163346Z",
     "shell.execute_reply": "2024-11-25T08:37:06.162128Z"
    },
    "papermill": {
     "duration": 2.932864,
     "end_time": "2024-11-25T08:37:06.166113",
     "exception": false,
     "start_time": "2024-11-25T08:37:03.233249",
     "status": "completed"
    },
    "tags": []
   },
   "outputs": [
    {
     "name": "stdout",
     "output_type": "stream",
     "text": [
      "Best hyperparameters:  {'var_smoothing': 0.006579332246575682}\n"
     ]
    }
   ],
   "source": [
    "# ML Model - 6 Implementation with hyperparameter optimization techniques (i.e., GridSearch CV, RandomSearch CV, Bayesian Optimization etc.)\n",
    "\n",
    "# Define the hyperparameter grid\n",
    "\n",
    "param_grid = {'var_smoothing': np.logspace(0,-9, num=100)}\n",
    "\n",
    "\n",
    "\n",
    "# Initialize the model\n",
    "\n",
    "naive = GaussianNB()\n",
    "\n",
    "\n",
    "\n",
    "# repeated stratified kfold\n",
    "\n",
    "rskf = RepeatedStratifiedKFold(n_splits=4, n_repeats=4, random_state=0)\n",
    "\n",
    "\n",
    "\n",
    "# Initialize GridSearchCV\n",
    "\n",
    "GridSearch = GridSearchCV(naive, param_grid, cv=rskf, n_jobs=-1)\n",
    "\n",
    "\n",
    "\n",
    "# Fit the GridSearchCV to the training data\n",
    "\n",
    "GridSearch.fit(x_train, y_train)\n",
    "\n",
    "\n",
    "\n",
    "# Select the best hyperparameters\n",
    "\n",
    "best_params = GridSearch.best_params_\n",
    "\n",
    "print(\"Best hyperparameters: \", best_params)"
   ]
  },
  {
   "cell_type": "code",
   "execution_count": 72,
   "id": "811881af",
   "metadata": {
    "execution": {
     "iopub.execute_input": "2024-11-25T08:37:06.239983Z",
     "iopub.status.busy": "2024-11-25T08:37:06.239588Z",
     "iopub.status.idle": "2024-11-25T08:37:06.244748Z",
     "shell.execute_reply": "2024-11-25T08:37:06.243593Z"
    },
    "papermill": {
     "duration": 0.046096,
     "end_time": "2024-11-25T08:37:06.247245",
     "exception": false,
     "start_time": "2024-11-25T08:37:06.201149",
     "status": "completed"
    },
    "tags": []
   },
   "outputs": [],
   "source": [
    "# Initiate model with best parameters\n",
    "\n",
    "nb_model2 = GaussianNB(var_smoothing = best_params['var_smoothing'])"
   ]
  },
  {
   "cell_type": "code",
   "execution_count": 73,
   "id": "e967c822",
   "metadata": {
    "execution": {
     "iopub.execute_input": "2024-11-25T08:37:06.320907Z",
     "iopub.status.busy": "2024-11-25T08:37:06.320506Z",
     "iopub.status.idle": "2024-11-25T08:37:06.945847Z",
     "shell.execute_reply": "2024-11-25T08:37:06.944382Z"
    },
    "papermill": {
     "duration": 0.666062,
     "end_time": "2024-11-25T08:37:06.948888",
     "exception": false,
     "start_time": "2024-11-25T08:37:06.282826",
     "status": "completed"
    },
    "tags": []
   },
   "outputs": [
    {
     "name": "stdout",
     "output_type": "stream",
     "text": [
      "\n",
      "Confusion Matrix:\n"
     ]
    },
    {
     "data": {
      "image/png": "[encoded data removed]",
      "text/plain": [
       "<Figure size 1100x400 with 4 Axes>"
      ]
     },
     "metadata": {},
     "output_type": "display_data"
    },
    {
     "name": "stdout",
     "output_type": "stream",
     "text": [
      "\n",
      "Train Classification Report:\n",
      "|              |   precision |   recall |   f1-score |    support |\n",
      "|:-------------|------------:|---------:|-----------:|-----------:|\n",
      "| 0            |    1        | 1        |   1        |  31        |\n",
      "| 1            |    0.947368 | 0.923077 |   0.935065 |  39        |\n",
      "| 2            |    0.916667 | 0.942857 |   0.929577 |  35        |\n",
      "| accuracy     |    0.952381 | 0.952381 |   0.952381 |   0.952381 |\n",
      "| macro avg    |    0.954678 | 0.955311 |   0.954881 | 105        |\n",
      "| weighted avg |    0.952673 | 0.952381 |   0.952407 | 105        |\n",
      "\n",
      "Test Classification Report:\n",
      "|              |   precision |   recall |   f1-score |   support |\n",
      "|:-------------|------------:|---------:|-----------:|----------:|\n",
      "| 0            |    1        | 1        |   1        | 19        |\n",
      "| 1            |    0.916667 | 1        |   0.956522 | 11        |\n",
      "| 2            |    1        | 0.933333 |   0.965517 | 15        |\n",
      "| accuracy     |    0.977778 | 0.977778 |   0.977778 |  0.977778 |\n",
      "| macro avg    |    0.972222 | 0.977778 |   0.974013 | 45        |\n",
      "| weighted avg |    0.97963  | 0.977778 |   0.977878 | 45        |\n"
     ]
    }
   ],
   "source": [
    "# Visualizing evaluation Metric Score chart\n",
    "\n",
    "nb2_score = evaluate_model(nb_model2, x_train, x_test, y_train, y_test)"
   ]
  },
  {
   "cell_type": "code",
   "execution_count": 74,
   "id": "703eb7f9",
   "metadata": {
    "execution": {
     "iopub.execute_input": "2024-11-25T08:37:07.021901Z",
     "iopub.status.busy": "2024-11-25T08:37:07.021483Z",
     "iopub.status.idle": "2024-11-25T08:37:07.027850Z",
     "shell.execute_reply": "2024-11-25T08:37:07.026507Z"
    },
    "papermill": {
     "duration": 0.045631,
     "end_time": "2024-11-25T08:37:07.030186",
     "exception": false,
     "start_time": "2024-11-25T08:37:06.984555",
     "status": "completed"
    },
    "tags": []
   },
   "outputs": [],
   "source": [
    "score['Naive Bayes tuned']= nb2_score"
   ]
  },
  {
   "cell_type": "code",
   "execution_count": 75,
   "id": "7f6b55ae",
   "metadata": {
    "execution": {
     "iopub.execute_input": "2024-11-25T08:37:07.102190Z",
     "iopub.status.busy": "2024-11-25T08:37:07.101794Z",
     "iopub.status.idle": "2024-11-25T08:37:07.118681Z",
     "shell.execute_reply": "2024-11-25T08:37:07.117583Z"
    },
    "papermill": {
     "duration": 0.055744,
     "end_time": "2024-11-25T08:37:07.121019",
     "exception": false,
     "start_time": "2024-11-25T08:37:07.065275",
     "status": "completed"
    },
    "tags": []
   },
   "outputs": [
    {
     "data": {
      "text/html": [
       "<div>\n",
       "<style scoped>\n",
       "    .dataframe tbody tr th:only-of-type {\n",
       "        vertical-align: middle;\n",
       "    }\n",
       "\n",
       "    .dataframe tbody tr th {\n",
       "        vertical-align: top;\n",
       "    }\n",
       "\n",
       "    .dataframe thead th {\n",
       "        text-align: right;\n",
       "    }\n",
       "</style>\n",
       "<table border=\"1\" class=\"dataframe\">\n",
       "  <thead>\n",
       "    <tr style=\"text-align: right;\">\n",
       "      <th></th>\n",
       "      <th>Logistic regression</th>\n",
       "      <th>Logistic regression tuned</th>\n",
       "      <th>Decision Tree</th>\n",
       "      <th>Random Forest</th>\n",
       "      <th>SVM</th>\n",
       "      <th>SVM tuned</th>\n",
       "      <th>XGB</th>\n",
       "      <th>XGB tuned</th>\n",
       "      <th>Naive Bayes</th>\n",
       "      <th>Naive Bayes tuned</th>\n",
       "    </tr>\n",
       "  </thead>\n",
       "  <tbody>\n",
       "    <tr>\n",
       "      <th>Precision Train</th>\n",
       "      <td>0.962934</td>\n",
       "      <td>0.971707</td>\n",
       "      <td>1.000000</td>\n",
       "      <td>1.000000</td>\n",
       "      <td>0.990741</td>\n",
       "      <td>0.990741</td>\n",
       "      <td>1.000000</td>\n",
       "      <td>1.000000</td>\n",
       "      <td>0.942857</td>\n",
       "      <td>0.952673</td>\n",
       "    </tr>\n",
       "    <tr>\n",
       "      <th>Precision Test</th>\n",
       "      <td>0.979630</td>\n",
       "      <td>1.000000</td>\n",
       "      <td>0.979630</td>\n",
       "      <td>0.979630</td>\n",
       "      <td>1.000000</td>\n",
       "      <td>1.000000</td>\n",
       "      <td>0.979630</td>\n",
       "      <td>0.979630</td>\n",
       "      <td>0.979630</td>\n",
       "      <td>0.979630</td>\n",
       "    </tr>\n",
       "    <tr>\n",
       "      <th>Recall Train</th>\n",
       "      <td>0.961905</td>\n",
       "      <td>0.971429</td>\n",
       "      <td>1.000000</td>\n",
       "      <td>1.000000</td>\n",
       "      <td>0.990476</td>\n",
       "      <td>0.990476</td>\n",
       "      <td>1.000000</td>\n",
       "      <td>1.000000</td>\n",
       "      <td>0.942857</td>\n",
       "      <td>0.952381</td>\n",
       "    </tr>\n",
       "    <tr>\n",
       "      <th>Recall Test</th>\n",
       "      <td>0.977778</td>\n",
       "      <td>1.000000</td>\n",
       "      <td>0.977778</td>\n",
       "      <td>0.977778</td>\n",
       "      <td>1.000000</td>\n",
       "      <td>1.000000</td>\n",
       "      <td>0.977778</td>\n",
       "      <td>0.977778</td>\n",
       "      <td>0.977778</td>\n",
       "      <td>0.977778</td>\n",
       "    </tr>\n",
       "    <tr>\n",
       "      <th>Accuracy Train</th>\n",
       "      <td>0.961905</td>\n",
       "      <td>0.971429</td>\n",
       "      <td>1.000000</td>\n",
       "      <td>1.000000</td>\n",
       "      <td>0.990476</td>\n",
       "      <td>0.990476</td>\n",
       "      <td>1.000000</td>\n",
       "      <td>1.000000</td>\n",
       "      <td>0.942857</td>\n",
       "      <td>0.952381</td>\n",
       "    </tr>\n",
       "    <tr>\n",
       "      <th>Accuracy Test</th>\n",
       "      <td>0.977778</td>\n",
       "      <td>1.000000</td>\n",
       "      <td>0.977778</td>\n",
       "      <td>0.977778</td>\n",
       "      <td>1.000000</td>\n",
       "      <td>1.000000</td>\n",
       "      <td>0.977778</td>\n",
       "      <td>0.977778</td>\n",
       "      <td>0.977778</td>\n",
       "      <td>0.977778</td>\n",
       "    </tr>\n",
       "    <tr>\n",
       "      <th>F1 macro Train</th>\n",
       "      <td>0.961933</td>\n",
       "      <td>0.971444</td>\n",
       "      <td>1.000000</td>\n",
       "      <td>1.000000</td>\n",
       "      <td>0.990481</td>\n",
       "      <td>0.990481</td>\n",
       "      <td>1.000000</td>\n",
       "      <td>1.000000</td>\n",
       "      <td>0.942857</td>\n",
       "      <td>0.952407</td>\n",
       "    </tr>\n",
       "    <tr>\n",
       "      <th>F1 macro Test</th>\n",
       "      <td>0.977878</td>\n",
       "      <td>1.000000</td>\n",
       "      <td>0.977878</td>\n",
       "      <td>0.977878</td>\n",
       "      <td>1.000000</td>\n",
       "      <td>1.000000</td>\n",
       "      <td>0.977878</td>\n",
       "      <td>0.977878</td>\n",
       "      <td>0.977878</td>\n",
       "      <td>0.977878</td>\n",
       "    </tr>\n",
       "  </tbody>\n",
       "</table>\n",
       "</div>"
      ],
      "text/plain": [
       "                 Logistic regression  Logistic regression tuned  \\\n",
       "Precision Train             0.962934                   0.971707   \n",
       "Precision Test              0.979630                   1.000000   \n",
       "Recall Train                0.961905                   0.971429   \n",
       "Recall Test                 0.977778                   1.000000   \n",
       "Accuracy Train              0.961905                   0.971429   \n",
       "Accuracy Test               0.977778                   1.000000   \n",
       "F1 macro Train              0.961933                   0.971444   \n",
       "F1 macro Test               0.977878                   1.000000   \n",
       "\n",
       "                 Decision Tree  Random Forest       SVM  SVM tuned       XGB  \\\n",
       "Precision Train       1.000000       1.000000  0.990741   0.990741  1.000000   \n",
       "Precision Test        0.979630       0.979630  1.000000   1.000000  0.979630   \n",
       "Recall Train          1.000000       1.000000  0.990476   0.990476  1.000000   \n",
       "Recall Test           0.977778       0.977778  1.000000   1.000000  0.977778   \n",
       "Accuracy Train        1.000000       1.000000  0.990476   0.990476  1.000000   \n",
       "Accuracy Test         0.977778       0.977778  1.000000   1.000000  0.977778   \n",
       "F1 macro Train        1.000000       1.000000  0.990481   0.990481  1.000000   \n",
       "F1 macro Test         0.977878       0.977878  1.000000   1.000000  0.977878   \n",
       "\n",
       "                 XGB tuned  Naive Bayes  Naive Bayes tuned  \n",
       "Precision Train   1.000000     0.942857           0.952673  \n",
       "Precision Test    0.979630     0.979630           0.979630  \n",
       "Recall Train      1.000000     0.942857           0.952381  \n",
       "Recall Test       0.977778     0.977778           0.977778  \n",
       "Accuracy Train    1.000000     0.942857           0.952381  \n",
       "Accuracy Test     0.977778     0.977778           0.977778  \n",
       "F1 macro Train    1.000000     0.942857           0.952407  \n",
       "F1 macro Test     0.977878     0.977878           0.977878  "
      ]
     },
     "execution_count": 75,
     "metadata": {},
     "output_type": "execute_result"
    }
   ],
   "source": [
    "# Updated Evaluation metric Score Chart\n",
    "\n",
    "score"
   ]
  },
  {
   "cell_type": "markdown",
   "id": "dbc943ff",
   "metadata": {
    "papermill": {
     "duration": 0.034991,
     "end_time": "2024-11-25T08:37:07.192183",
     "exception": false,
     "start_time": "2024-11-25T08:37:07.157192",
     "status": "completed"
    },
    "tags": []
   },
   "source": [
    "## ML Model - 7 : Neural Network"
   ]
  },
  {
   "cell_type": "code",
   "execution_count": 76,
   "id": "3004bd8f",
   "metadata": {
    "execution": {
     "iopub.execute_input": "2024-11-25T08:37:07.266690Z",
     "iopub.status.busy": "2024-11-25T08:37:07.266287Z",
     "iopub.status.idle": "2024-11-25T08:37:07.271273Z",
     "shell.execute_reply": "2024-11-25T08:37:07.270220Z"
    },
    "papermill": {
     "duration": 0.045672,
     "end_time": "2024-11-25T08:37:07.273769",
     "exception": false,
     "start_time": "2024-11-25T08:37:07.228097",
     "status": "completed"
    },
    "tags": []
   },
   "outputs": [],
   "source": [
    "# ML Model - 7 Implementation\n",
    "\n",
    "nn_model = MLPClassifier(random_state=0)"
   ]
  },
  {
   "cell_type": "markdown",
   "id": "23c505b8",
   "metadata": {
    "papermill": {
     "duration": 0.034697,
     "end_time": "2024-11-25T08:37:07.346385",
     "exception": false,
     "start_time": "2024-11-25T08:37:07.311688",
     "status": "completed"
    },
    "tags": []
   },
   "source": [
    "### 1. Explain the ML Model used and it's performance using Evaluation metric Score Chart."
   ]
  },
  {
   "cell_type": "code",
   "execution_count": 77,
   "id": "a562f938",
   "metadata": {
    "execution": {
     "iopub.execute_input": "2024-11-25T08:37:07.418637Z",
     "iopub.status.busy": "2024-11-25T08:37:07.418238Z",
     "iopub.status.idle": "2024-11-25T08:37:08.134018Z",
     "shell.execute_reply": "2024-11-25T08:37:08.132729Z"
    },
    "papermill": {
     "duration": 0.755103,
     "end_time": "2024-11-25T08:37:08.136225",
     "exception": false,
     "start_time": "2024-11-25T08:37:07.381122",
     "status": "completed"
    },
    "tags": []
   },
   "outputs": [
    {
     "name": "stdout",
     "output_type": "stream",
     "text": [
      "\n",
      "Confusion Matrix:\n"
     ]
    },
    {
     "data": {
      "image/png": "[encoded data removed]",
      "text/plain": [
       "<Figure size 1100x400 with 4 Axes>"
      ]
     },
     "metadata": {},
     "output_type": "display_data"
    },
    {
     "name": "stdout",
     "output_type": "stream",
     "text": [
      "\n",
      "Train Classification Report:\n",
      "|              |   precision |   recall |   f1-score |    support |\n",
      "|:-------------|------------:|---------:|-----------:|-----------:|\n",
      "| 0            |    1        | 1        |   1        |  31        |\n",
      "| 1            |    1        | 0.923077 |   0.96     |  39        |\n",
      "| 2            |    0.921053 | 1        |   0.958904 |  35        |\n",
      "| accuracy     |    0.971429 | 0.971429 |   0.971429 |   0.971429 |\n",
      "| macro avg    |    0.973684 | 0.974359 |   0.972968 | 105        |\n",
      "| weighted avg |    0.973684 | 0.971429 |   0.971444 | 105        |\n",
      "\n",
      "Test Classification Report:\n",
      "|              |   precision |   recall |   f1-score |   support |\n",
      "|:-------------|------------:|---------:|-----------:|----------:|\n",
      "| 0            |    1        | 1        |   1        | 19        |\n",
      "| 1            |    1        | 0.909091 |   0.952381 | 11        |\n",
      "| 2            |    0.9375   | 1        |   0.967742 | 15        |\n",
      "| accuracy     |    0.977778 | 0.977778 |   0.977778 |  0.977778 |\n",
      "| macro avg    |    0.979167 | 0.969697 |   0.973374 | 45        |\n",
      "| weighted avg |    0.979167 | 0.977778 |   0.977607 | 45        |\n"
     ]
    }
   ],
   "source": [
    "# Visualizing evaluation Metric Score chart\n",
    "\n",
    "neural_score = evaluate_model(nn_model, x_train, x_test, y_train, y_test)"
   ]
  },
  {
   "cell_type": "code",
   "execution_count": 78,
   "id": "8e93e5c3",
   "metadata": {
    "execution": {
     "iopub.execute_input": "2024-11-25T08:37:08.209581Z",
     "iopub.status.busy": "2024-11-25T08:37:08.209151Z",
     "iopub.status.idle": "2024-11-25T08:37:08.226560Z",
     "shell.execute_reply": "2024-11-25T08:37:08.225564Z"
    },
    "papermill": {
     "duration": 0.055956,
     "end_time": "2024-11-25T08:37:08.228393",
     "exception": false,
     "start_time": "2024-11-25T08:37:08.172437",
     "status": "completed"
    },
    "tags": []
   },
   "outputs": [
    {
     "data": {
      "text/html": [
       "<div>\n",
       "<style scoped>\n",
       "    .dataframe tbody tr th:only-of-type {\n",
       "        vertical-align: middle;\n",
       "    }\n",
       "\n",
       "    .dataframe tbody tr th {\n",
       "        vertical-align: top;\n",
       "    }\n",
       "\n",
       "    .dataframe thead th {\n",
       "        text-align: right;\n",
       "    }\n",
       "</style>\n",
       "<table border=\"1\" class=\"dataframe\">\n",
       "  <thead>\n",
       "    <tr style=\"text-align: right;\">\n",
       "      <th></th>\n",
       "      <th>Logistic regression</th>\n",
       "      <th>Logistic regression tuned</th>\n",
       "      <th>Decision Tree</th>\n",
       "      <th>Random Forest</th>\n",
       "      <th>SVM</th>\n",
       "      <th>SVM tuned</th>\n",
       "      <th>XGB</th>\n",
       "      <th>XGB tuned</th>\n",
       "      <th>Naive Bayes</th>\n",
       "      <th>Naive Bayes tuned</th>\n",
       "      <th>Neural Network</th>\n",
       "    </tr>\n",
       "  </thead>\n",
       "  <tbody>\n",
       "    <tr>\n",
       "      <th>Precision Train</th>\n",
       "      <td>0.962934</td>\n",
       "      <td>0.971707</td>\n",
       "      <td>1.000000</td>\n",
       "      <td>1.000000</td>\n",
       "      <td>0.990741</td>\n",
       "      <td>0.990741</td>\n",
       "      <td>1.000000</td>\n",
       "      <td>1.000000</td>\n",
       "      <td>0.942857</td>\n",
       "      <td>0.952673</td>\n",
       "      <td>0.973684</td>\n",
       "    </tr>\n",
       "    <tr>\n",
       "      <th>Precision Test</th>\n",
       "      <td>0.979630</td>\n",
       "      <td>1.000000</td>\n",
       "      <td>0.979630</td>\n",
       "      <td>0.979630</td>\n",
       "      <td>1.000000</td>\n",
       "      <td>1.000000</td>\n",
       "      <td>0.979630</td>\n",
       "      <td>0.979630</td>\n",
       "      <td>0.979630</td>\n",
       "      <td>0.979630</td>\n",
       "      <td>0.979167</td>\n",
       "    </tr>\n",
       "    <tr>\n",
       "      <th>Recall Train</th>\n",
       "      <td>0.961905</td>\n",
       "      <td>0.971429</td>\n",
       "      <td>1.000000</td>\n",
       "      <td>1.000000</td>\n",
       "      <td>0.990476</td>\n",
       "      <td>0.990476</td>\n",
       "      <td>1.000000</td>\n",
       "      <td>1.000000</td>\n",
       "      <td>0.942857</td>\n",
       "      <td>0.952381</td>\n",
       "      <td>0.971429</td>\n",
       "    </tr>\n",
       "    <tr>\n",
       "      <th>Recall Test</th>\n",
       "      <td>0.977778</td>\n",
       "      <td>1.000000</td>\n",
       "      <td>0.977778</td>\n",
       "      <td>0.977778</td>\n",
       "      <td>1.000000</td>\n",
       "      <td>1.000000</td>\n",
       "      <td>0.977778</td>\n",
       "      <td>0.977778</td>\n",
       "      <td>0.977778</td>\n",
       "      <td>0.977778</td>\n",
       "      <td>0.977778</td>\n",
       "    </tr>\n",
       "    <tr>\n",
       "      <th>Accuracy Train</th>\n",
       "      <td>0.961905</td>\n",
       "      <td>0.971429</td>\n",
       "      <td>1.000000</td>\n",
       "      <td>1.000000</td>\n",
       "      <td>0.990476</td>\n",
       "      <td>0.990476</td>\n",
       "      <td>1.000000</td>\n",
       "      <td>1.000000</td>\n",
       "      <td>0.942857</td>\n",
       "      <td>0.952381</td>\n",
       "      <td>0.971429</td>\n",
       "    </tr>\n",
       "    <tr>\n",
       "      <th>Accuracy Test</th>\n",
       "      <td>0.977778</td>\n",
       "      <td>1.000000</td>\n",
       "      <td>0.977778</td>\n",
       "      <td>0.977778</td>\n",
       "      <td>1.000000</td>\n",
       "      <td>1.000000</td>\n",
       "      <td>0.977778</td>\n",
       "      <td>0.977778</td>\n",
       "      <td>0.977778</td>\n",
       "      <td>0.977778</td>\n",
       "      <td>0.977778</td>\n",
       "    </tr>\n",
       "    <tr>\n",
       "      <th>F1 macro Train</th>\n",
       "      <td>0.961933</td>\n",
       "      <td>0.971444</td>\n",
       "      <td>1.000000</td>\n",
       "      <td>1.000000</td>\n",
       "      <td>0.990481</td>\n",
       "      <td>0.990481</td>\n",
       "      <td>1.000000</td>\n",
       "      <td>1.000000</td>\n",
       "      <td>0.942857</td>\n",
       "      <td>0.952407</td>\n",
       "      <td>0.971444</td>\n",
       "    </tr>\n",
       "    <tr>\n",
       "      <th>F1 macro Test</th>\n",
       "      <td>0.977878</td>\n",
       "      <td>1.000000</td>\n",
       "      <td>0.977878</td>\n",
       "      <td>0.977878</td>\n",
       "      <td>1.000000</td>\n",
       "      <td>1.000000</td>\n",
       "      <td>0.977878</td>\n",
       "      <td>0.977878</td>\n",
       "      <td>0.977878</td>\n",
       "      <td>0.977878</td>\n",
       "      <td>0.977607</td>\n",
       "    </tr>\n",
       "  </tbody>\n",
       "</table>\n",
       "</div>"
      ],
      "text/plain": [
       "                 Logistic regression  Logistic regression tuned  \\\n",
       "Precision Train             0.962934                   0.971707   \n",
       "Precision Test              0.979630                   1.000000   \n",
       "Recall Train                0.961905                   0.971429   \n",
       "Recall Test                 0.977778                   1.000000   \n",
       "Accuracy Train              0.961905                   0.971429   \n",
       "Accuracy Test               0.977778                   1.000000   \n",
       "F1 macro Train              0.961933                   0.971444   \n",
       "F1 macro Test               0.977878                   1.000000   \n",
       "\n",
       "                 Decision Tree  Random Forest       SVM  SVM tuned       XGB  \\\n",
       "Precision Train       1.000000       1.000000  0.990741   0.990741  1.000000   \n",
       "Precision Test        0.979630       0.979630  1.000000   1.000000  0.979630   \n",
       "Recall Train          1.000000       1.000000  0.990476   0.990476  1.000000   \n",
       "Recall Test           0.977778       0.977778  1.000000   1.000000  0.977778   \n",
       "Accuracy Train        1.000000       1.000000  0.990476   0.990476  1.000000   \n",
       "Accuracy Test         0.977778       0.977778  1.000000   1.000000  0.977778   \n",
       "F1 macro Train        1.000000       1.000000  0.990481   0.990481  1.000000   \n",
       "F1 macro Test         0.977878       0.977878  1.000000   1.000000  0.977878   \n",
       "\n",
       "                 XGB tuned  Naive Bayes  Naive Bayes tuned  Neural Network  \n",
       "Precision Train   1.000000     0.942857           0.952673        0.973684  \n",
       "Precision Test    0.979630     0.979630           0.979630        0.979167  \n",
       "Recall Train      1.000000     0.942857           0.952381        0.971429  \n",
       "Recall Test       0.977778     0.977778           0.977778        0.977778  \n",
       "Accuracy Train    1.000000     0.942857           0.952381        0.971429  \n",
       "Accuracy Test     0.977778     0.977778           0.977778        0.977778  \n",
       "F1 macro Train    1.000000     0.942857           0.952407        0.971444  \n",
       "F1 macro Test     0.977878     0.977878           0.977878        0.977607  "
      ]
     },
     "execution_count": 78,
     "metadata": {},
     "output_type": "execute_result"
    }
   ],
   "source": [
    "# Updated Evaluation metric Score Chart\n",
    "\n",
    "score['Neural Network'] = neural_score\n",
    "\n",
    "score"
   ]
  },
  {
   "cell_type": "markdown",
   "id": "81ef3d31",
   "metadata": {
    "papermill": {
     "duration": 0.035911,
     "end_time": "2024-11-25T08:37:08.300017",
     "exception": false,
     "start_time": "2024-11-25T08:37:08.264106",
     "status": "completed"
    },
    "tags": []
   },
   "source": [
    "### 2. Cross- Validation & Hyperparameter Tuning"
   ]
  },
  {
   "cell_type": "code",
   "execution_count": 79,
   "id": "784debfc",
   "metadata": {
    "execution": {
     "iopub.execute_input": "2024-11-25T08:37:08.373478Z",
     "iopub.status.busy": "2024-11-25T08:37:08.372426Z",
     "iopub.status.idle": "2024-11-25T08:37:09.202275Z",
     "shell.execute_reply": "2024-11-25T08:37:09.200994Z"
    },
    "papermill": {
     "duration": 0.869151,
     "end_time": "2024-11-25T08:37:09.204748",
     "exception": false,
     "start_time": "2024-11-25T08:37:08.335597",
     "status": "completed"
    },
    "tags": []
   },
   "outputs": [
    {
     "name": "stdout",
     "output_type": "stream",
     "text": [
      "Best hyperparameters:  {'hidden_layer_sizes': 90, 'alpha': 0.0028}\n"
     ]
    }
   ],
   "source": [
    "# Define the hyperparameter grid\n",
    "param_grid = {'hidden_layer_sizes': np.arange(10, 100, 10),\n",
    "              'alpha': np.arange(0.0001, 0.01, 0.0001)}\n",
    "\n",
    "# Initialize the model with adjusted max_iter\n",
    "neural = MLPClassifier(random_state=0, max_iter=1000, solver='adam', tol=1e-5, early_stopping=True, n_iter_no_change=10)\n",
    "\n",
    "# Repeated stratified kfold\n",
    "rskf = RepeatedStratifiedKFold(n_splits=3, n_repeats=3, random_state=0)\n",
    "\n",
    "# Initialize RandomizedSearchCV\n",
    "random_search = RandomizedSearchCV(neural, param_grid, n_iter=10, cv=rskf, n_jobs=-1)\n",
    "\n",
    "# Fit the RandomizedSearchCV to the training data\n",
    "random_search.fit(x_train, y_train)\n",
    "\n",
    "# Select the best hyperparameters\n",
    "best_params = random_search.best_params_\n",
    "print(\"Best hyperparameters: \", best_params)"
   ]
  },
  {
   "cell_type": "code",
   "execution_count": 80,
   "id": "45cc0fee",
   "metadata": {
    "execution": {
     "iopub.execute_input": "2024-11-25T08:37:09.277877Z",
     "iopub.status.busy": "2024-11-25T08:37:09.277467Z",
     "iopub.status.idle": "2024-11-25T08:37:09.282544Z",
     "shell.execute_reply": "2024-11-25T08:37:09.281444Z"
    },
    "papermill": {
     "duration": 0.044016,
     "end_time": "2024-11-25T08:37:09.284597",
     "exception": false,
     "start_time": "2024-11-25T08:37:09.240581",
     "status": "completed"
    },
    "tags": []
   },
   "outputs": [],
   "source": [
    "# Initiate model with best parameters\n",
    "\n",
    "nn_model2 = MLPClassifier(hidden_layer_sizes = best_params['hidden_layer_sizes'],\n",
    "\n",
    "                        alpha = best_params['alpha'],\n",
    "\n",
    "                        random_state = 0)"
   ]
  },
  {
   "cell_type": "code",
   "execution_count": 81,
   "id": "613eeb6b",
   "metadata": {
    "execution": {
     "iopub.execute_input": "2024-11-25T08:37:09.359760Z",
     "iopub.status.busy": "2024-11-25T08:37:09.358604Z",
     "iopub.status.idle": "2024-11-25T08:37:10.077314Z",
     "shell.execute_reply": "2024-11-25T08:37:10.075978Z"
    },
    "papermill": {
     "duration": 0.758303,
     "end_time": "2024-11-25T08:37:10.079996",
     "exception": false,
     "start_time": "2024-11-25T08:37:09.321693",
     "status": "completed"
    },
    "tags": []
   },
   "outputs": [
    {
     "name": "stdout",
     "output_type": "stream",
     "text": [
      "\n",
      "Confusion Matrix:\n"
     ]
    },
    {
     "data": {
      "image/png": "[encoded data removed]",
      "text/plain": [
       "<Figure size 1100x400 with 4 Axes>"
      ]
     },
     "metadata": {},
     "output_type": "display_data"
    },
    {
     "name": "stdout",
     "output_type": "stream",
     "text": [
      "\n",
      "Train Classification Report:\n",
      "|              |   precision |   recall |   f1-score |    support |\n",
      "|:-------------|------------:|---------:|-----------:|-----------:|\n",
      "| 0            |    1        | 1        |   1        |  31        |\n",
      "| 1            |    1        | 0.948718 |   0.973684 |  39        |\n",
      "| 2            |    0.945946 | 1        |   0.972222 |  35        |\n",
      "| accuracy     |    0.980952 | 0.980952 |   0.980952 |   0.980952 |\n",
      "| macro avg    |    0.981982 | 0.982906 |   0.981969 | 105        |\n",
      "| weighted avg |    0.981982 | 0.980952 |   0.980966 | 105        |\n",
      "\n",
      "Test Classification Report:\n",
      "|              |   precision |   recall |   f1-score |   support |\n",
      "|:-------------|------------:|---------:|-----------:|----------:|\n",
      "| 0            |           1 |        1 |          1 |        19 |\n",
      "| 1            |           1 |        1 |          1 |        11 |\n",
      "| 2            |           1 |        1 |          1 |        15 |\n",
      "| accuracy     |           1 |        1 |          1 |         1 |\n",
      "| macro avg    |           1 |        1 |          1 |        45 |\n",
      "| weighted avg |           1 |        1 |          1 |        45 |\n"
     ]
    }
   ],
   "source": [
    "# Visualizing evaluation Metric Score chart\n",
    "\n",
    "neural2_score = evaluate_model(nn_model2, x_train, x_test, y_train, y_test)"
   ]
  },
  {
   "cell_type": "code",
   "execution_count": 82,
   "id": "c6a4daea",
   "metadata": {
    "execution": {
     "iopub.execute_input": "2024-11-25T08:37:10.155775Z",
     "iopub.status.busy": "2024-11-25T08:37:10.155359Z",
     "iopub.status.idle": "2024-11-25T08:37:10.171953Z",
     "shell.execute_reply": "2024-11-25T08:37:10.170978Z"
    },
    "papermill": {
     "duration": 0.057163,
     "end_time": "2024-11-25T08:37:10.174080",
     "exception": false,
     "start_time": "2024-11-25T08:37:10.116917",
     "status": "completed"
    },
    "tags": []
   },
   "outputs": [
    {
     "data": {
      "text/html": [
       "<div>\n",
       "<style scoped>\n",
       "    .dataframe tbody tr th:only-of-type {\n",
       "        vertical-align: middle;\n",
       "    }\n",
       "\n",
       "    .dataframe tbody tr th {\n",
       "        vertical-align: top;\n",
       "    }\n",
       "\n",
       "    .dataframe thead th {\n",
       "        text-align: right;\n",
       "    }\n",
       "</style>\n",
       "<table border=\"1\" class=\"dataframe\">\n",
       "  <thead>\n",
       "    <tr style=\"text-align: right;\">\n",
       "      <th></th>\n",
       "      <th>Logistic regression</th>\n",
       "      <th>Logistic regression tuned</th>\n",
       "      <th>Decision Tree</th>\n",
       "      <th>Random Forest</th>\n",
       "      <th>SVM</th>\n",
       "      <th>SVM tuned</th>\n",
       "      <th>XGB</th>\n",
       "      <th>XGB tuned</th>\n",
       "      <th>Naive Bayes</th>\n",
       "      <th>Naive Bayes tuned</th>\n",
       "      <th>Neural Network</th>\n",
       "    </tr>\n",
       "  </thead>\n",
       "  <tbody>\n",
       "    <tr>\n",
       "      <th>Precision Train</th>\n",
       "      <td>0.962934</td>\n",
       "      <td>0.971707</td>\n",
       "      <td>1.000000</td>\n",
       "      <td>1.000000</td>\n",
       "      <td>0.990741</td>\n",
       "      <td>0.990741</td>\n",
       "      <td>1.000000</td>\n",
       "      <td>1.000000</td>\n",
       "      <td>0.942857</td>\n",
       "      <td>0.952673</td>\n",
       "      <td>0.973684</td>\n",
       "    </tr>\n",
       "    <tr>\n",
       "      <th>Precision Test</th>\n",
       "      <td>0.979630</td>\n",
       "      <td>1.000000</td>\n",
       "      <td>0.979630</td>\n",
       "      <td>0.979630</td>\n",
       "      <td>1.000000</td>\n",
       "      <td>1.000000</td>\n",
       "      <td>0.979630</td>\n",
       "      <td>0.979630</td>\n",
       "      <td>0.979630</td>\n",
       "      <td>0.979630</td>\n",
       "      <td>0.979167</td>\n",
       "    </tr>\n",
       "    <tr>\n",
       "      <th>Recall Train</th>\n",
       "      <td>0.961905</td>\n",
       "      <td>0.971429</td>\n",
       "      <td>1.000000</td>\n",
       "      <td>1.000000</td>\n",
       "      <td>0.990476</td>\n",
       "      <td>0.990476</td>\n",
       "      <td>1.000000</td>\n",
       "      <td>1.000000</td>\n",
       "      <td>0.942857</td>\n",
       "      <td>0.952381</td>\n",
       "      <td>0.971429</td>\n",
       "    </tr>\n",
       "    <tr>\n",
       "      <th>Recall Test</th>\n",
       "      <td>0.977778</td>\n",
       "      <td>1.000000</td>\n",
       "      <td>0.977778</td>\n",
       "      <td>0.977778</td>\n",
       "      <td>1.000000</td>\n",
       "      <td>1.000000</td>\n",
       "      <td>0.977778</td>\n",
       "      <td>0.977778</td>\n",
       "      <td>0.977778</td>\n",
       "      <td>0.977778</td>\n",
       "      <td>0.977778</td>\n",
       "    </tr>\n",
       "    <tr>\n",
       "      <th>Accuracy Train</th>\n",
       "      <td>0.961905</td>\n",
       "      <td>0.971429</td>\n",
       "      <td>1.000000</td>\n",
       "      <td>1.000000</td>\n",
       "      <td>0.990476</td>\n",
       "      <td>0.990476</td>\n",
       "      <td>1.000000</td>\n",
       "      <td>1.000000</td>\n",
       "      <td>0.942857</td>\n",
       "      <td>0.952381</td>\n",
       "      <td>0.971429</td>\n",
       "    </tr>\n",
       "    <tr>\n",
       "      <th>Accuracy Test</th>\n",
       "      <td>0.977778</td>\n",
       "      <td>1.000000</td>\n",
       "      <td>0.977778</td>\n",
       "      <td>0.977778</td>\n",
       "      <td>1.000000</td>\n",
       "      <td>1.000000</td>\n",
       "      <td>0.977778</td>\n",
       "      <td>0.977778</td>\n",
       "      <td>0.977778</td>\n",
       "      <td>0.977778</td>\n",
       "      <td>0.977778</td>\n",
       "    </tr>\n",
       "    <tr>\n",
       "      <th>F1 macro Train</th>\n",
       "      <td>0.961933</td>\n",
       "      <td>0.971444</td>\n",
       "      <td>1.000000</td>\n",
       "      <td>1.000000</td>\n",
       "      <td>0.990481</td>\n",
       "      <td>0.990481</td>\n",
       "      <td>1.000000</td>\n",
       "      <td>1.000000</td>\n",
       "      <td>0.942857</td>\n",
       "      <td>0.952407</td>\n",
       "      <td>0.971444</td>\n",
       "    </tr>\n",
       "    <tr>\n",
       "      <th>F1 macro Test</th>\n",
       "      <td>0.977878</td>\n",
       "      <td>1.000000</td>\n",
       "      <td>0.977878</td>\n",
       "      <td>0.977878</td>\n",
       "      <td>1.000000</td>\n",
       "      <td>1.000000</td>\n",
       "      <td>0.977878</td>\n",
       "      <td>0.977878</td>\n",
       "      <td>0.977878</td>\n",
       "      <td>0.977878</td>\n",
       "      <td>0.977607</td>\n",
       "    </tr>\n",
       "  </tbody>\n",
       "</table>\n",
       "</div>"
      ],
      "text/plain": [
       "                 Logistic regression  Logistic regression tuned  \\\n",
       "Precision Train             0.962934                   0.971707   \n",
       "Precision Test              0.979630                   1.000000   \n",
       "Recall Train                0.961905                   0.971429   \n",
       "Recall Test                 0.977778                   1.000000   \n",
       "Accuracy Train              0.961905                   0.971429   \n",
       "Accuracy Test               0.977778                   1.000000   \n",
       "F1 macro Train              0.961933                   0.971444   \n",
       "F1 macro Test               0.977878                   1.000000   \n",
       "\n",
       "                 Decision Tree  Random Forest       SVM  SVM tuned       XGB  \\\n",
       "Precision Train       1.000000       1.000000  0.990741   0.990741  1.000000   \n",
       "Precision Test        0.979630       0.979630  1.000000   1.000000  0.979630   \n",
       "Recall Train          1.000000       1.000000  0.990476   0.990476  1.000000   \n",
       "Recall Test           0.977778       0.977778  1.000000   1.000000  0.977778   \n",
       "Accuracy Train        1.000000       1.000000  0.990476   0.990476  1.000000   \n",
       "Accuracy Test         0.977778       0.977778  1.000000   1.000000  0.977778   \n",
       "F1 macro Train        1.000000       1.000000  0.990481   0.990481  1.000000   \n",
       "F1 macro Test         0.977878       0.977878  1.000000   1.000000  0.977878   \n",
       "\n",
       "                 XGB tuned  Naive Bayes  Naive Bayes tuned  Neural Network  \n",
       "Precision Train   1.000000     0.942857           0.952673        0.973684  \n",
       "Precision Test    0.979630     0.979630           0.979630        0.979167  \n",
       "Recall Train      1.000000     0.942857           0.952381        0.971429  \n",
       "Recall Test       0.977778     0.977778           0.977778        0.977778  \n",
       "Accuracy Train    1.000000     0.942857           0.952381        0.971429  \n",
       "Accuracy Test     0.977778     0.977778           0.977778        0.977778  \n",
       "F1 macro Train    1.000000     0.942857           0.952407        0.971444  \n",
       "F1 macro Test     0.977878     0.977878           0.977878        0.977607  "
      ]
     },
     "execution_count": 82,
     "metadata": {},
     "output_type": "execute_result"
    }
   ],
   "source": [
    "# Updated Evaluation metric Score Chart\n",
    "\n",
    "score"
   ]
  },
  {
   "cell_type": "code",
   "execution_count": 83,
   "id": "5f8aaf12",
   "metadata": {
    "execution": {
     "iopub.execute_input": "2024-11-25T08:37:10.250396Z",
     "iopub.status.busy": "2024-11-25T08:37:10.249982Z",
     "iopub.status.idle": "2024-11-25T08:37:10.258717Z",
     "shell.execute_reply": "2024-11-25T08:37:10.257745Z"
    },
    "papermill": {
     "duration": 0.049476,
     "end_time": "2024-11-25T08:37:10.261146",
     "exception": false,
     "start_time": "2024-11-25T08:37:10.211670",
     "status": "completed"
    },
    "tags": []
   },
   "outputs": [
    {
     "name": "stdout",
     "output_type": "stream",
     "text": [
      "|                 |   Logistic regression |   Logistic regression tuned |   Decision Tree |   Random Forest |      SVM |   SVM tuned |      XGB |   XGB tuned |   Naive Bayes |   Naive Bayes tuned |   Neural Network |\n",
      "|:----------------|----------------------:|----------------------------:|----------------:|----------------:|---------:|------------:|---------:|------------:|--------------:|--------------------:|-----------------:|\n",
      "| Precision Train |              0.962934 |                    0.971707 |        1        |        1        | 0.990741 |    0.990741 | 1        |    1        |      0.942857 |            0.952673 |         0.973684 |\n",
      "| Precision Test  |              0.97963  |                    1        |        0.97963  |        0.97963  | 1        |    1        | 0.97963  |    0.97963  |      0.97963  |            0.97963  |         0.979167 |\n",
      "| Recall Train    |              0.961905 |                    0.971429 |        1        |        1        | 0.990476 |    0.990476 | 1        |    1        |      0.942857 |            0.952381 |         0.971429 |\n",
      "| Recall Test     |              0.977778 |                    1        |        0.977778 |        0.977778 | 1        |    1        | 0.977778 |    0.977778 |      0.977778 |            0.977778 |         0.977778 |\n",
      "| Accuracy Train  |              0.961905 |                    0.971429 |        1        |        1        | 0.990476 |    0.990476 | 1        |    1        |      0.942857 |            0.952381 |         0.971429 |\n",
      "| Accuracy Test   |              0.977778 |                    1        |        0.977778 |        0.977778 | 1        |    1        | 0.977778 |    0.977778 |      0.977778 |            0.977778 |         0.977778 |\n",
      "| F1 macro Train  |              0.961933 |                    0.971444 |        1        |        1        | 0.990481 |    0.990481 | 1        |    1        |      0.942857 |            0.952407 |         0.971444 |\n",
      "| F1 macro Test   |              0.977878 |                    1        |        0.977878 |        0.977878 | 1        |    1        | 0.977878 |    0.977878 |      0.977878 |            0.977878 |         0.977607 |\n"
     ]
    }
   ],
   "source": [
    "print(score.to_markdown())"
   ]
  },
  {
   "cell_type": "markdown",
   "id": "d8ce000a",
   "metadata": {
    "papermill": {
     "duration": 0.036795,
     "end_time": "2024-11-25T08:37:10.335006",
     "exception": false,
     "start_time": "2024-11-25T08:37:10.298211",
     "status": "completed"
    },
    "tags": []
   },
   "source": [
    "## Selection of best model"
   ]
  },
  {
   "cell_type": "code",
   "execution_count": 84,
   "id": "29519000",
   "metadata": {
    "execution": {
     "iopub.execute_input": "2024-11-25T08:37:10.412542Z",
     "iopub.status.busy": "2024-11-25T08:37:10.411393Z",
     "iopub.status.idle": "2024-11-25T08:37:10.420670Z",
     "shell.execute_reply": "2024-11-25T08:37:10.419675Z"
    },
    "papermill": {
     "duration": 0.051498,
     "end_time": "2024-11-25T08:37:10.422892",
     "exception": false,
     "start_time": "2024-11-25T08:37:10.371394",
     "status": "completed"
    },
    "tags": []
   },
   "outputs": [
    {
     "data": {
      "text/plain": [
       "Index(['Decision Tree', 'Random Forest', 'SVM', 'SVM tuned', 'XGB',\n",
       "       'XGB tuned'],\n",
       "      dtype='object')"
      ]
     },
     "execution_count": 84,
     "metadata": {},
     "output_type": "execute_result"
    }
   ],
   "source": [
    "# Removing the overfitted models which have precision, recall, f1 scores for train as 1\n",
    "\n",
    "score_t = score.transpose()            # taking transpose of the score dataframe to create new difference column\n",
    "\n",
    "remove_models = score_t[score_t['Recall Train']>=0.98].index  # creating a list of models which have 1 for train and score_t['Accuracy Train']==1.0 and score_t['Precision Train']==1.0 and score_t['F1 macro Train']==1.0\n",
    "\n",
    "remove_models"
   ]
  },
  {
   "cell_type": "code",
   "execution_count": 85,
   "id": "1eb2b2f4",
   "metadata": {
    "execution": {
     "iopub.execute_input": "2024-11-25T08:37:10.501426Z",
     "iopub.status.busy": "2024-11-25T08:37:10.501028Z",
     "iopub.status.idle": "2024-11-25T08:37:10.515561Z",
     "shell.execute_reply": "2024-11-25T08:37:10.514573Z"
    },
    "papermill": {
     "duration": 0.056102,
     "end_time": "2024-11-25T08:37:10.517732",
     "exception": false,
     "start_time": "2024-11-25T08:37:10.461630",
     "status": "completed"
    },
    "tags": []
   },
   "outputs": [
    {
     "data": {
      "text/html": [
       "<div>\n",
       "<style scoped>\n",
       "    .dataframe tbody tr th:only-of-type {\n",
       "        vertical-align: middle;\n",
       "    }\n",
       "\n",
       "    .dataframe tbody tr th {\n",
       "        vertical-align: top;\n",
       "    }\n",
       "\n",
       "    .dataframe thead th {\n",
       "        text-align: right;\n",
       "    }\n",
       "</style>\n",
       "<table border=\"1\" class=\"dataframe\">\n",
       "  <thead>\n",
       "    <tr style=\"text-align: right;\">\n",
       "      <th></th>\n",
       "      <th>Precision Train</th>\n",
       "      <th>Precision Test</th>\n",
       "      <th>Recall Train</th>\n",
       "      <th>Recall Test</th>\n",
       "      <th>Accuracy Train</th>\n",
       "      <th>Accuracy Test</th>\n",
       "      <th>F1 macro Train</th>\n",
       "      <th>F1 macro Test</th>\n",
       "    </tr>\n",
       "  </thead>\n",
       "  <tbody>\n",
       "    <tr>\n",
       "      <th>Logistic regression</th>\n",
       "      <td>0.962934</td>\n",
       "      <td>0.979630</td>\n",
       "      <td>0.961905</td>\n",
       "      <td>0.977778</td>\n",
       "      <td>0.961905</td>\n",
       "      <td>0.977778</td>\n",
       "      <td>0.961933</td>\n",
       "      <td>0.977878</td>\n",
       "    </tr>\n",
       "    <tr>\n",
       "      <th>Logistic regression tuned</th>\n",
       "      <td>0.971707</td>\n",
       "      <td>1.000000</td>\n",
       "      <td>0.971429</td>\n",
       "      <td>1.000000</td>\n",
       "      <td>0.971429</td>\n",
       "      <td>1.000000</td>\n",
       "      <td>0.971444</td>\n",
       "      <td>1.000000</td>\n",
       "    </tr>\n",
       "    <tr>\n",
       "      <th>Naive Bayes</th>\n",
       "      <td>0.942857</td>\n",
       "      <td>0.979630</td>\n",
       "      <td>0.942857</td>\n",
       "      <td>0.977778</td>\n",
       "      <td>0.942857</td>\n",
       "      <td>0.977778</td>\n",
       "      <td>0.942857</td>\n",
       "      <td>0.977878</td>\n",
       "    </tr>\n",
       "    <tr>\n",
       "      <th>Naive Bayes tuned</th>\n",
       "      <td>0.952673</td>\n",
       "      <td>0.979630</td>\n",
       "      <td>0.952381</td>\n",
       "      <td>0.977778</td>\n",
       "      <td>0.952381</td>\n",
       "      <td>0.977778</td>\n",
       "      <td>0.952407</td>\n",
       "      <td>0.977878</td>\n",
       "    </tr>\n",
       "    <tr>\n",
       "      <th>Neural Network</th>\n",
       "      <td>0.973684</td>\n",
       "      <td>0.979167</td>\n",
       "      <td>0.971429</td>\n",
       "      <td>0.977778</td>\n",
       "      <td>0.971429</td>\n",
       "      <td>0.977778</td>\n",
       "      <td>0.971444</td>\n",
       "      <td>0.977607</td>\n",
       "    </tr>\n",
       "  </tbody>\n",
       "</table>\n",
       "</div>"
      ],
      "text/plain": [
       "                           Precision Train  Precision Test  Recall Train  \\\n",
       "Logistic regression               0.962934        0.979630      0.961905   \n",
       "Logistic regression tuned         0.971707        1.000000      0.971429   \n",
       "Naive Bayes                       0.942857        0.979630      0.942857   \n",
       "Naive Bayes tuned                 0.952673        0.979630      0.952381   \n",
       "Neural Network                    0.973684        0.979167      0.971429   \n",
       "\n",
       "                           Recall Test  Accuracy Train  Accuracy Test  \\\n",
       "Logistic regression           0.977778        0.961905       0.977778   \n",
       "Logistic regression tuned     1.000000        0.971429       1.000000   \n",
       "Naive Bayes                   0.977778        0.942857       0.977778   \n",
       "Naive Bayes tuned             0.977778        0.952381       0.977778   \n",
       "Neural Network                0.977778        0.971429       0.977778   \n",
       "\n",
       "                           F1 macro Train  F1 macro Test  \n",
       "Logistic regression              0.961933       0.977878  \n",
       "Logistic regression tuned        0.971444       1.000000  \n",
       "Naive Bayes                      0.942857       0.977878  \n",
       "Naive Bayes tuned                0.952407       0.977878  \n",
       "Neural Network                   0.971444       0.977607  "
      ]
     },
     "execution_count": 85,
     "metadata": {},
     "output_type": "execute_result"
    }
   ],
   "source": [
    "adj = score_t.drop(remove_models)                     # creating a new dataframe with required models\n",
    "\n",
    "adj"
   ]
  },
  {
   "cell_type": "code",
   "execution_count": 86,
   "id": "adc8f622",
   "metadata": {
    "execution": {
     "iopub.execute_input": "2024-11-25T08:37:10.595383Z",
     "iopub.status.busy": "2024-11-25T08:37:10.594687Z",
     "iopub.status.idle": "2024-11-25T08:37:10.600360Z",
     "shell.execute_reply": "2024-11-25T08:37:10.599382Z"
    },
    "papermill": {
     "duration": 0.046411,
     "end_time": "2024-11-25T08:37:10.602473",
     "exception": false,
     "start_time": "2024-11-25T08:37:10.556062",
     "status": "completed"
    },
    "tags": []
   },
   "outputs": [],
   "source": [
    "def select_best_model(df, metrics):\n",
    "\n",
    "\n",
    "\n",
    "    best_models = {}\n",
    "\n",
    "    for metric in metrics:\n",
    "\n",
    "        max_test = df[metric + ' Test'].max()\n",
    "\n",
    "        best_model_test = df[df[metric + ' Test'] == max_test].index[0]\n",
    "\n",
    "        best_model = best_model_test\n",
    "\n",
    "        best_models[metric] = best_model\n",
    "\n",
    "    return best_models"
   ]
  },
  {
   "cell_type": "code",
   "execution_count": 87,
   "id": "b3597cc5",
   "metadata": {
    "execution": {
     "iopub.execute_input": "2024-11-25T08:37:10.679682Z",
     "iopub.status.busy": "2024-11-25T08:37:10.679256Z",
     "iopub.status.idle": "2024-11-25T08:37:10.688335Z",
     "shell.execute_reply": "2024-11-25T08:37:10.687245Z"
    },
    "papermill": {
     "duration": 0.05073,
     "end_time": "2024-11-25T08:37:10.690673",
     "exception": false,
     "start_time": "2024-11-25T08:37:10.639943",
     "status": "completed"
    },
    "tags": []
   },
   "outputs": [
    {
     "name": "stdout",
     "output_type": "stream",
     "text": [
      "The best models are:\n",
      "Precision: Logistic regression tuned - 1.0\n",
      "Recall: Logistic regression tuned - 1.0\n",
      "Accuracy: Logistic regression tuned - 1.0\n",
      "F1 macro: Logistic regression tuned - 1.0\n"
     ]
    }
   ],
   "source": [
    "metrics = ['Precision', 'Recall', 'Accuracy', 'F1 macro']\n",
    "\n",
    "\n",
    "\n",
    "best_models = select_best_model(adj, metrics)\n",
    "\n",
    "print(\"The best models are:\")\n",
    "\n",
    "for metric, best_model in best_models.items():\n",
    "\n",
    "    print(f\"{metric}: {best_model} - {adj[metric+' Test'][best_model].round(4)}\")"
   ]
  },
  {
   "cell_type": "code",
   "execution_count": 88,
   "id": "736b9651",
   "metadata": {
    "execution": {
     "iopub.execute_input": "2024-11-25T08:37:10.774950Z",
     "iopub.status.busy": "2024-11-25T08:37:10.774509Z",
     "iopub.status.idle": "2024-11-25T08:37:10.784731Z",
     "shell.execute_reply": "2024-11-25T08:37:10.783731Z"
    },
    "papermill": {
     "duration": 0.054939,
     "end_time": "2024-11-25T08:37:10.787000",
     "exception": false,
     "start_time": "2024-11-25T08:37:10.732061",
     "status": "completed"
    },
    "tags": []
   },
   "outputs": [
    {
     "name": "stdout",
     "output_type": "stream",
     "text": [
      "| Classification Model      |   Recall Train |   Recall Test |\n",
      "|:--------------------------|---------------:|--------------:|\n",
      "| Logistic regression       |       0.961905 |      0.977778 |\n",
      "| Logistic regression tuned |       0.971429 |      1        |\n",
      "| Naive Bayes               |       0.942857 |      0.977778 |\n",
      "| Naive Bayes tuned         |       0.952381 |      0.977778 |\n",
      "| Neural Network            |       0.971429 |      0.977778 |\n"
     ]
    }
   ],
   "source": [
    "# Take recall as the primary evaluation metric\n",
    "\n",
    "score_smpl = score.transpose()\n",
    "\n",
    "remove_overfitting_models = score_smpl[score_smpl['Recall Train']>=0.98].index\n",
    "\n",
    "remove_overfitting_models\n",
    "\n",
    "new_score = score_smpl.drop(remove_overfitting_models)\n",
    "\n",
    "new_score = new_score.drop(['Precision Train','Precision Test','Accuracy Train','Accuracy Test','F1 macro Train','F1 macro Test'], axis=1)\n",
    "\n",
    "new_score.index.name = 'Classification Model'\n",
    "\n",
    "print(new_score.to_markdown())"
   ]
  },
  {
   "cell_type": "markdown",
   "id": "2faf19b2",
   "metadata": {
    "papermill": {
     "duration": 0.037964,
     "end_time": "2024-11-25T08:37:10.864008",
     "exception": false,
     "start_time": "2024-11-25T08:37:10.826044",
     "status": "completed"
    },
    "tags": []
   },
   "source": [
    "###### 3. Explain the model which i have used for the prediction"
   ]
  },
  {
   "cell_type": "code",
   "execution_count": 89,
   "id": "4e3c840b",
   "metadata": {
    "execution": {
     "iopub.execute_input": "2024-11-25T08:37:10.941079Z",
     "iopub.status.busy": "2024-11-25T08:37:10.940415Z",
     "iopub.status.idle": "2024-11-25T08:37:10.949215Z",
     "shell.execute_reply": "2024-11-25T08:37:10.948083Z"
    },
    "papermill": {
     "duration": 0.049257,
     "end_time": "2024-11-25T08:37:10.951342",
     "exception": false,
     "start_time": "2024-11-25T08:37:10.902085",
     "status": "completed"
    },
    "tags": []
   },
   "outputs": [
    {
     "name": "stdout",
     "output_type": "stream",
     "text": [
      "Iris-Setosa\n"
     ]
    }
   ],
   "source": [
    "\n",
    "\n",
    "# Define a list of category labels for reference.\n",
    "\n",
    "Category_RF = ['Iris-Setosa', 'Iris-Versicolor', 'Iris-Virginica']\n",
    "\n",
    "     \n",
    "\n",
    "\n",
    "\n",
    "# In this example, it's a data point with Sepal Length, Sepal Width, Petal Length, and Petal Width.\n",
    "\n",
    "x_rf = np.array([[5.1, 3.5, 1.4, 0.2]])\n",
    "\n",
    "\n",
    "\n",
    "# Use the tuned random forest model (rf_model2) to make a prediction.\n",
    "\n",
    "x_rf_prediction = rf_model2.predict(x_rf)\n",
    "\n",
    "x_rf_prediction[0]\n",
    "\n",
    "\n",
    "\n",
    "# Display the predicted category label.\n",
    "\n",
    "print(Category_RF[int(x_rf_prediction[0])])"
   ]
  }
 ],
 "metadata": {
  "kaggle": {
   "accelerator": "none",
   "dataSources": [
    {
     "datasetId": 19,
     "sourceId": 420,
     "sourceType": "datasetVersion"
    }
   ],
   "dockerImageVersionId": 30786,
   "isGpuEnabled": false,
   "isInternetEnabled": true,
   "language": "python",
   "sourceType": "notebook"
  },
  "kernelspec": {
   "display_name": "Python 3 (ipykernel)",
   "language": "python",
   "name": "python3"
  },
  "language_info": {
   "codemirror_mode": {
    "name": "ipython",
    "version": 3
   },
   "file_extension": ".py",
   "mimetype": "text/x-python",
   "name": "python",
   "nbconvert_exporter": "python",
   "pygments_lexer": "ipython3",
   "version": "3.10.14"
  },
  "papermill": {
   "default_parameters": {},
   "duration": 79.757355,
   "end_time": "2024-11-25T08:37:13.609198",
   "environment_variables": {},
   "exception": null,
   "input_path": "__notebook__.ipynb",
   "output_path": "__notebook__.ipynb",
   "parameters": {},
   "start_time": "2024-11-25T08:35:53.851843",
   "version": "2.6.0"
  }
 },
 "nbformat": 4,
 "nbformat_minor": 5
}
